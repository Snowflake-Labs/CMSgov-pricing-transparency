{
 "cells": [
  {
   "cell_type": "markdown",
   "id": "e4022bce",
   "metadata": {},
   "source": [
    "# Blah"
   ]
  },
  {
   "cell_type": "code",
   "execution_count": 49,
   "id": "4f152540",
   "metadata": {},
   "outputs": [
    {
     "data": {
      "text/markdown": [
       "### Initialization"
      ],
      "text/plain": [
       "<IPython.core.display.Markdown object>"
      ]
     },
     "metadata": {},
     "output_type": "display_data"
    },
    {
     "data": {
      "text/html": [
       "<div>\n",
       "<style scoped>\n",
       "    .dataframe tbody tr th:only-of-type {\n",
       "        vertical-align: middle;\n",
       "    }\n",
       "\n",
       "    .dataframe tbody tr th {\n",
       "        vertical-align: top;\n",
       "    }\n",
       "\n",
       "    .dataframe thead th {\n",
       "        text-align: right;\n",
       "    }\n",
       "</style>\n",
       "<table border=\"1\" class=\"dataframe\">\n",
       "  <thead>\n",
       "    <tr style=\"text-align: right;\">\n",
       "      <th></th>\n",
       "      <th>CURRENT_USER()</th>\n",
       "      <th>CURRENT_ROLE()</th>\n",
       "      <th>CURRENT_DATABASE()</th>\n",
       "      <th>CURRENT_SCHEMA()</th>\n",
       "    </tr>\n",
       "  </thead>\n",
       "  <tbody>\n",
       "    <tr>\n",
       "      <th>0</th>\n",
       "      <td>VSEKAR</td>\n",
       "      <td>DEV_PCTRANSPERANCY_DEMO_RL</td>\n",
       "      <td>SFLK_PRICING_TRANSPERANCY</td>\n",
       "      <td>PUBLIC</td>\n",
       "    </tr>\n",
       "  </tbody>\n",
       "</table>\n",
       "</div>"
      ],
      "text/plain": [
       "  CURRENT_USER()              CURRENT_ROLE()         CURRENT_DATABASE() CURRENT_SCHEMA()\n",
       "0         VSEKAR  DEV_PCTRANSPERANCY_DEMO_RL  SFLK_PRICING_TRANSPERANCY           PUBLIC"
      ]
     },
     "metadata": {},
     "output_type": "display_data"
    }
   ],
   "source": [
    "from IPython.display import display, HTML, Image , Markdown\n",
    "from snowflake.snowpark.session import Session\n",
    "import snowflake.snowpark.types as T\n",
    "import snowflake.snowpark.functions as F\n",
    "import os ,configparser ,json\n",
    "\n",
    "import ipyregulartable as rt\n",
    "import pandas as pd\n",
    "import numpy as np\n",
    "\n",
    "display(Markdown(\"### Initialization\"))\n",
    "\n",
    "# Source various helper functions\n",
    "%run ../scripts/notebook_helpers.py\n",
    "\n",
    "PROJECT_HOME_DIR = '../../'\n",
    "config = get_config(PROJECT_HOME_DIR)\n",
    "sp_session = connect_to_snowflake(PROJECT_HOME_DIR)\n",
    "\n",
    "if(sp_session == None):\n",
    "    raise Exception(f'Unable to connect to snowflake. Validate connection information ')\n",
    "\n",
    "sp_session.sql(f''' use role {config['APP']['role']}; ''').collect()\n",
    "sp_session.sql(f''' use database {config['APP']['database']}; ''').collect()\n",
    "sp_session.sql(f''' use schema  {config['APP']['database']}.{config['APP']['schema']}; ''').collect()\n",
    "sp_session.sql(f''' use warehouse {config['APP']['warehouse']}; ''').collect()\n",
    "\n",
    "df = sp_session.sql('select current_user() ,current_role() ,current_database() ,current_schema();').to_pandas()\n",
    "display(df)"
   ]
  },
  {
   "cell_type": "code",
   "execution_count": 50,
   "id": "023de96b",
   "metadata": {},
   "outputs": [
    {
     "data": {
      "text/plain": [
       "'2022_07_01_priority_health_HMO_in_network_rates'"
      ]
     },
     "execution_count": 50,
     "metadata": {},
     "output_type": "execute_result"
    }
   ],
   "source": [
    "from datetime import datetime\n",
    "from datetime import timedelta\n",
    "import time\n",
    "import hashlib\n",
    "\n",
    "def get_basename_of_datafile(p_datafile:str) -> str:\n",
    "    base = os.path.basename(p_datafile)\n",
    "    base = base.replace('-','_')\n",
    "    fl_base = os.path.splitext(base)\n",
    "    \n",
    "    return fl_base[0]\n",
    "\n",
    "data_file = '2022_10_01_priority_health_HMO_in-network-rates.zip'\n",
    "stage_path = 'data_stg/price_transperancy'\n",
    "\n",
    "data_file = '2022_07_01_priority_health_HMO_in-network-rates.json'\n",
    "# data_file = '2022-11-01_cigna-health-life-insurance-company_national-oap_in-network-rates.json.gz'\n",
    "stage_path = 'ext_data_stg/data'\n",
    "\n",
    "datafl_basename = get_basename_of_datafile(data_file)\n",
    "datafl_basename"
   ]
  },
  {
   "cell_type": "code",
   "execution_count": 51,
   "id": "108bf444",
   "metadata": {},
   "outputs": [
    {
     "name": "stdout",
     "output_type": "stream",
     "text": [
      " Uploading library to stage: sflk_pricing_transperancy.public.lib_stg \n",
      "    ../python/in_network_udtf/negotiation_arrangements_dagbuilder.py => @lib_stg/scripts\n",
      "    ../python/in_network_udtf/negotiation_arrangements.py => @lib_stg/scripts\n",
      "    ../python/in_network_udtf/negotiation_arrangements_dagbuilder_tmp.py => @lib_stg/scripts\n"
     ]
    }
   ],
   "source": [
    "# Upload libraries to stage\n",
    "lib_stage = config['APP']['lib_stage']\n",
    "\n",
    "upload_locallibraries_to_p_stage(sp_session ,'../python/in_network_udtf' ,config['APP']['database'] ,'public' ,lib_stage ,'scripts')\n",
    "\n",
    "stmts = [\n",
    "    f''' \n",
    "    create or replace procedure innetwork_rates_nr_dagbuilder(\n",
    "            batch_size integer ,stage_path varchar ,staged_data_flname varchar ,target_stage_for_segment_files varchar\n",
    "            ,parallels number ,execution_warehouse varchar ,rerun boolean)\n",
    "        returns variant\n",
    "        language python\n",
    "        runtime_version = '3.8'\n",
    "        packages = ('snowflake-snowpark-python' ,'pandas', 'ijson')\n",
    "        imports = ('@sflk_pricing_transperancy.public.lib_stg/scripts/negotiation_arrangements_dagbuilder.py')\n",
    "        handler = 'negotiation_arrangements_dagbuilder.main'\n",
    "        ;\n",
    "    '''\n",
    "]\n",
    "for stmt in stmts:\n",
    "    sp_session.sql(stmt).collect()\n"
   ]
  },
  {
   "cell_type": "code",
   "execution_count": 52,
   "id": "b1dd73fa",
   "metadata": {},
   "outputs": [],
   "source": [
    "# Dag cleanup (blank)\n",
    "\n",
    "# sp_session.sql(f''' use warehouse DEMO_BUILD_WH; ''').collect()\n",
    "\n",
    "sp_session.sql(f''' SHOW TASKS IN  DATABASE {config['APP']['database']}; ''').collect()\n",
    "\n",
    "df = sp_session.sql(f''' \n",
    "   SELECT \n",
    "      concat('drop task if exists ', \"name\" ,';') as drop_stmt\n",
    "   FROM TABLE(RESULT_SCAN(LAST_QUERY_ID()))\n",
    "   --where \"state\" = 'suspended'\n",
    "   ORDER BY \"state\" asc;\n",
    "''').to_pandas()\n",
    "\n",
    "for index, row in df.iterrows():\n",
    "   sp_session.sql(row['DROP_STMT']).collect()\n",
    "\n",
    "# display(df)\n",
    "# rt.RegularTableWidget(df)"
   ]
  },
  {
   "cell_type": "code",
   "execution_count": 53,
   "id": "bc3856ad",
   "metadata": {},
   "outputs": [
    {
     "name": "stdout",
     "output_type": "stream",
     "text": [
      "Started at: 12:10:30\n",
      " alter warehouse dev_pctransperancy_demo_wh set warehouse_size = XSMALL; \n",
      "truncate table sflk_pricing_transperancy.public.segment_task_execution_status; \n",
      " call sflk_pricing_transperancy.public.innetwork_rates_nr_dagbuilder(\n",
      "        5 ,'ext_data_stg/data' ,'2022_07_01_priority_health_HMO_in-network-rates.json' ,'ext_data_stg/data_pricing_parsed'\n",
      "        ,10 ,current_warehouse() ,true\n",
      "        );\n"
     ]
    }
   ],
   "source": [
    "# Dag & task build up\n",
    "\n",
    "start_time = time.time()\n",
    "print(f'Started at: {datetime.now().strftime(\"%H:%M:%S\")}')\n",
    "\n",
    "sql_stmts = [\n",
    "    f''' alter warehouse dev_pctransperancy_demo_wh set warehouse_size = XSMALL; '''\n",
    "    ,f'''truncate table {config['APP']['database']}.public.segment_task_execution_status; '''\n",
    "    ,f''' call {config['APP']['database']}.public.innetwork_rates_nr_dagbuilder(\n",
    "        5 ,'{stage_path}' ,'{data_file}' ,'ext_data_stg/data_pricing_parsed'\n",
    "        ,10 ,current_warehouse() ,true\n",
    "        );'''\n",
    "]\n",
    "for stmt in sql_stmts:\n",
    "    print(stmt)\n",
    "    sp_session.sql(stmt).collect()\n",
    "\n",
    "end_time = time.time()\n",
    "print(f'Ended at: {datetime.now().strftime(\"%H:%M:%S\")}')\n",
    "\n",
    "elapsed_time = end_time - start_time\n",
    "elapsed = str(timedelta(seconds=elapsed_time))\n",
    "print(f'Elapsed: {elapsed}')"
   ]
  },
  {
   "cell_type": "code",
   "execution_count": null,
   "id": "6c3d6c65",
   "metadata": {},
   "outputs": [],
   "source": [
    "df = sp_session.table(f'''{config['APP']['database']}.public.task_to_segmentids''').to_pandas()\n",
    "# display(df)\n",
    "rt.RegularTableWidget(df)"
   ]
  },
  {
   "cell_type": "code",
   "execution_count": null,
   "id": "99b8f25f",
   "metadata": {},
   "outputs": [],
   "source": [
    "# segment parsing\n",
    "\n",
    "start_time = time.time()\n",
    "print(f'Started at: {datetime.now().strftime(\"%H:%M:%S\")}')\n",
    "dag_start_time = datetime.now().strftime(\"%Y-%m-%d %H:%M:%S\")\n",
    "print(f'DAG Start time: {dag_start_time} ')\n",
    "# XSMALL | SMALL | MEDIUM | LARGE | XLARGE | XXLARGE | XXXLARGE | X4LARGE | X5LARGE | X6LARGE\n",
    "sql_stmts = [\n",
    "    f''' alter warehouse dev_pctransperancy_demo_wh set max_concurrency_level = 1 '''\n",
    "    ,f''' alter warehouse dev_pctransperancy_demo_wh set warehouse_size = XXXLARGE; '''\n",
    "    ,f'''truncate table {config['APP']['database']}.public.segment_task_execution_status; '''\n",
    "    ,f''' execute task DAG_ROOT_{datafl_basename}; '''\n",
    "]\n",
    "for stmt in sql_stmts:\n",
    "    sp_session.sql(stmt).collect()\n",
    "\n",
    "end_time = time.time()\n",
    "print(f'Ended at: {datetime.now().strftime(\"%H:%M:%S\")}')\n",
    "\n",
    "elapsed_time = end_time - start_time\n",
    "elapsed = str(timedelta(seconds=elapsed_time))\n",
    "print(f'Elapsed: {elapsed}')\n",
    "\n"
   ]
  },
  {
   "cell_type": "markdown",
   "id": "b164eebe",
   "metadata": {},
   "source": [
    "---\n",
    "\n",
    "Observations"
   ]
  },
  {
   "cell_type": "code",
   "execution_count": null,
   "id": "9a1af64e",
   "metadata": {},
   "outputs": [],
   "source": [
    "import pandas as pd\n",
    "\n",
    "# Monitor task to ensure that there are no errors\n",
    "\n",
    "# dag_start_time = '2022-12-04 07:58:00'\n",
    "print(f'DAG start time: {dag_start_time}')\n",
    "\n",
    "sql_stmt = f'''\n",
    "select \n",
    "    name ,state ,error_code ,error_message\n",
    "  from table(information_schema.task_history(\n",
    "    scheduled_time_range_start=>to_timestamp_ltz('{dag_start_time} -0500')\n",
    "   -- ,ERROR_ONLY => TRUE\n",
    "  ))\n",
    " -- where state not in ('SUCCEEDED')\n",
    "  order by state asc\n",
    ";'''\n",
    "df = sp_session.sql(sql_stmt).to_pandas()\n",
    "\n",
    "#display(df)\n",
    "rt.RegularTableWidget(df)\n"
   ]
  },
  {
   "cell_type": "code",
   "execution_count": null,
   "id": "2f1015fd",
   "metadata": {},
   "outputs": [],
   "source": [
    "df = sp_session.table(f'''{config['APP']['database']}.public.segment_task_execution_status''').to_pandas()\n",
    "rt.RegularTableWidget(df)"
   ]
  },
  {
   "cell_type": "code",
   "execution_count": null,
   "id": "eb9d1f67",
   "metadata": {},
   "outputs": [],
   "source": [
    "sql_stmt = f'''\n",
    "select min(l.inserted_at) as started_at \n",
    "    ,max(l.inserted_at) as latest \n",
    "    ,TIMESTAMPDIFF(minutes, started_at ,latest) as elapsed_min_latest\n",
    "    ,TIMESTAMPDIFF(minutes, started_at ,current_timestamp()) as elapsed_min \n",
    "    ,least(elapsed_min_latest ,elapsed_min)/60 as elapsed_hr\n",
    "    ,count(l.task_name) as task_count\n",
    "    ,timediff(minutes, started_at ,latest) as elapsed_minutes \n",
    "from {config['APP']['database']}.public.segment_task_execution_status as l\n",
    " ;\n",
    "    '''\n",
    "df = sp_session.sql(sql_stmt).to_pandas()\n",
    "display(df)\n",
    "# rt.RegularTableWidget(df)"
   ]
  },
  {
   "cell_type": "code",
   "execution_count": null,
   "id": "d7485b15",
   "metadata": {},
   "outputs": [],
   "source": [
    "aSasaSasas"
   ]
  },
  {
   "cell_type": "code",
   "execution_count": null,
   "id": "dd663d83",
   "metadata": {},
   "outputs": [],
   "source": [
    "\n",
    "\n",
    "sql_stmt = f'''\n",
    "        select 'total_headers' ,sum(negotiated_rates_count)\n",
    "            from {config['APP']['database']}.public.in_network_rates_segment_header_V2\n",
    "        union\n",
    "        select 'current_records_loaded' ,count(*) as rec_count \n",
    "            from {config['APP']['database']}.public.negotiated_arrangment_segments_v2\n",
    "            group by data_file\n",
    "        ;\n",
    "    '''\n",
    "df = sp_session.sql(sql_stmt).to_pandas()\n",
    "display(df)"
   ]
  },
  {
   "cell_type": "code",
   "execution_count": null,
   "id": "227e84ac",
   "metadata": {},
   "outputs": [],
   "source": [
    "sql_stmt = f'''\n",
    "        select segment_id ,count(*) as rec_count \n",
    "        from {config['APP']['database']}.public.negotiated_arrangment_segments_v2\n",
    "        group by segment_id\n",
    "        ;\n",
    "    '''\n",
    "df = sp_session.sql(sql_stmt).to_pandas()\n",
    "display(df)\n"
   ]
  },
  {
   "cell_type": "code",
   "execution_count": null,
   "id": "3c7f4013",
   "metadata": {},
   "outputs": [],
   "source": [
    "sql_stmt = f'''\n",
    "        select *\n",
    "        from {config['APP']['database']}.public.segment_task_execution_status\n",
    "        ;\n",
    "    '''\n",
    "df = sp_session.sql(sql_stmt).to_pandas()\n",
    "display(df)"
   ]
  },
  {
   "cell_type": "code",
   "execution_count": null,
   "id": "fa89cf39",
   "metadata": {},
   "outputs": [],
   "source": [
    "# x_df = df.set_index('SEGMENT_ID')\n",
    "y_df = pd.qcut(df['NEGOTIATED_RATES_COUNT'], 10 ,labels=False)\n",
    "# q_df.columns = 'CLASS'\n",
    "# q_df\n",
    "\n",
    "q_df = pd.DataFrame({'CLASS':y_df.values})\n",
    "q_df\n",
    "# q_df.value_counts()"
   ]
  },
  {
   "cell_type": "code",
   "execution_count": null,
   "id": "2a2f48c6",
   "metadata": {},
   "outputs": [],
   "source": [
    "# df.join(q_df)\n",
    "# q_df.columns\n",
    "# df.columns\n",
    "x_df = pd.concat([df ,q_df] ,axis=1)\n",
    "x_df"
   ]
  },
  {
   "cell_type": "code",
   "execution_count": null,
   "id": "58a7d988",
   "metadata": {},
   "outputs": [],
   "source": [
    "x_df.groupby('CLASS')['NEGOTIATED_RATES_COUNT'].sum()"
   ]
  },
  {
   "cell_type": "code",
   "execution_count": null,
   "id": "1f87efb5",
   "metadata": {
    "tags": [
     "test"
    ]
   },
   "outputs": [],
   "source": [
    "# from datetime import datetime\n",
    "# now = datetime.now()\n",
    "\n",
    "# start_time = now.strftime(\"%H:%M:%S\")\n",
    "# print(f'Started at: {start_time}')\n",
    "\n",
    "# sql_stmts = [\n",
    "#     f''' alter warehouse dev_pctransperancy_demo_wh set warehouse_size = XSMALL; '''\n",
    "#     ,f'''truncate table {config['APP']['database']}.public.in_network_rates_segment_header_V2; '''\n",
    "#     ,f''' call {config['APP']['database']}.public.innetwork_rates_segheader(\n",
    "#             1000 ,'data_stg/price_transperancy' ,'2022_10_01_priority_health_HMO_in-network-rates.zip');'''\n",
    "# ]\n",
    "# for stmt in sql_stmts:\n",
    "#     sp_session.sql(stmt).collect()\n",
    "\n",
    "# now = datetime.now()\n",
    "# end_time = now.strftime(\"%H:%M:%S\")\n",
    "# print(f'Ended at: {end_time}')"
   ]
  },
  {
   "cell_type": "markdown",
   "id": "7c9c36b0",
   "metadata": {},
   "source": [
    "---\n",
    "### TBL"
   ]
  },
  {
   "cell_type": "code",
   "execution_count": null,
   "id": "d705b54f",
   "metadata": {},
   "outputs": [],
   "source": [
    "df = sp_session.table(f'''{config['APP']['database']}.public.in_network_rates_segment_header_V2''').limit(10).to_pandas()\n",
    "display(df)"
   ]
  },
  {
   "cell_type": "markdown",
   "id": "198bfcc7",
   "metadata": {},
   "source": [
    "#### TODO : Perform some model analysis \n",
    " - accuracy score\n",
    " - error rate calculation\n",
    " - confusion matrix\n",
    "  ..."
   ]
  },
  {
   "cell_type": "markdown",
   "id": "1d6ffbf6",
   "metadata": {},
   "source": [
    "--- \n",
    "### Closeout\n",
    "\n",
    "    With that we are finished this section of the demo setup"
   ]
  },
  {
   "cell_type": "code",
   "execution_count": null,
   "id": "192cf880",
   "metadata": {},
   "outputs": [],
   "source": [
    "# sp_session.close()\n",
    "print('Finished!!!')"
   ]
  },
  {
   "cell_type": "code",
   "execution_count": null,
   "id": "cad5d468",
   "metadata": {},
   "outputs": [],
   "source": [
    "employees = [('Stuti', 28, 'Varanasi', 20000),\n",
    "            ('Saumya', 32, 'Delhi', 25000),\n",
    "            ('Aaditya', 25, 'Mumbai', 40000),\n",
    "            ('Saumya', 32, 'Delhi', 35000),\n",
    "            ('Saumya', 32, 'Delhi', 30000),\n",
    "            ('Saumya', 32, 'Mumbai', 20000),\n",
    "            ('Aaditya', 40, 'Dehradun', 24000),\n",
    "            ('Seema', 32, 'Delhi', 70000)\n",
    "            ]\n",
    " \n",
    "# Create a DataFrame object from list\n",
    "df = pd.DataFrame(employees,\n",
    "                columns =['Name', 'Age',\n",
    "                        'City', 'Salary'])\n",
    "# Show the dataframe\n",
    "df"
   ]
  },
  {
   "cell_type": "code",
   "execution_count": null,
   "id": "72652b5c",
   "metadata": {},
   "outputs": [],
   "source": [
    "df.iloc[3:5,]"
   ]
  }
 ],
 "metadata": {
  "kernelspec": {
   "display_name": "Python 3.8.13 ('snowpark_100')",
   "language": "python",
   "name": "python3"
  },
  "language_info": {
   "codemirror_mode": {
    "name": "ipython",
    "version": 3
   },
   "file_extension": ".py",
   "mimetype": "text/x-python",
   "name": "python",
   "nbconvert_exporter": "python",
   "pygments_lexer": "ipython3",
   "version": "3.8.13"
  },
  "vscode": {
   "interpreter": {
    "hash": "86e53f16f7f2849030caf3156b7b9fd1966f27ea0571958c45db51737201e9c6"
   }
  }
 },
 "nbformat": 4,
 "nbformat_minor": 5
}
