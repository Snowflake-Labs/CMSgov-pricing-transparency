{
 "cells": [
  {
   "cell_type": "markdown",
   "id": "e4022bce",
   "metadata": {},
   "source": [
    "# Blah"
   ]
  },
  {
   "cell_type": "code",
   "execution_count": 45,
   "id": "4f152540",
   "metadata": {},
   "outputs": [],
   "source": [
    "from IPython.display import display, HTML, Image , Markdown\n",
    "from snowflake.snowpark.session import Session\n",
    "from snowflake.snowpark.types import * \n",
    "import snowflake.snowpark.functions as F\n",
    "import os ,configparser ,json\n",
    "\n",
    "# Source various helper functions\n",
    "%run ../scripts/notebook_helpers.py\n",
    "\n",
    "PROJECT_HOME_DIR = '../../'\n",
    "CONFIG_FL = f'{PROJECT_HOME_DIR}/config.ini'"
   ]
  },
  {
   "cell_type": "code",
   "execution_count": 46,
   "id": "38c6664f",
   "metadata": {},
   "outputs": [
    {
     "data": {
      "text/markdown": [
       "### Initialization"
      ],
      "text/plain": [
       "<IPython.core.display.Markdown object>"
      ]
     },
     "metadata": {},
     "output_type": "display_data"
    },
    {
     "name": "stdout",
     "output_type": "stream",
     "text": [
      " Initialize Snowpark session\n"
     ]
    },
    {
     "data": {
      "text/html": [
       "<div>\n",
       "<style scoped>\n",
       "    .dataframe tbody tr th:only-of-type {\n",
       "        vertical-align: middle;\n",
       "    }\n",
       "\n",
       "    .dataframe tbody tr th {\n",
       "        vertical-align: top;\n",
       "    }\n",
       "\n",
       "    .dataframe thead th {\n",
       "        text-align: right;\n",
       "    }\n",
       "</style>\n",
       "<table border=\"1\" class=\"dataframe\">\n",
       "  <thead>\n",
       "    <tr style=\"text-align: right;\">\n",
       "      <th></th>\n",
       "      <th>CURRENT_ACCOUNT()</th>\n",
       "      <th>CURRENT_USER()</th>\n",
       "      <th>CURRENT_ROLE()</th>\n",
       "    </tr>\n",
       "  </thead>\n",
       "  <tbody>\n",
       "    <tr>\n",
       "      <th>0</th>\n",
       "      <td>ANA95816</td>\n",
       "      <td>VSEKAR</td>\n",
       "      <td>DEV_PCTRANSPERANCY_DEMO_RL</td>\n",
       "    </tr>\n",
       "  </tbody>\n",
       "</table>\n",
       "</div>"
      ],
      "text/plain": [
       "  CURRENT_ACCOUNT() CURRENT_USER()              CURRENT_ROLE()\n",
       "0          ANA95816         VSEKAR  DEV_PCTRANSPERANCY_DEMO_RL"
      ]
     },
     "metadata": {},
     "output_type": "display_data"
    }
   ],
   "source": [
    "display(Markdown(\"### Initialization\"))\n",
    "\n",
    "config = configparser.ConfigParser()\n",
    "sp_session = None\n",
    "\n",
    "print(\" Initialize Snowpark session\")\n",
    "with open(CONFIG_FL) as f:\n",
    "    config.read(CONFIG_FL)\n",
    "    snow_conn_flpath =  f\"{PROJECT_HOME_DIR}/{config['APP']['connection_fl']}\"\n",
    "    \n",
    "    # ------------\n",
    "    # Connect to snowflake\n",
    "    with open(snow_conn_flpath) as conn_f:\n",
    "        snow_conn_info = json.load(conn_f)\n",
    "        sp_session = Session.builder.configs(snow_conn_info).create()\n",
    "\n",
    "if(sp_session == None):\n",
    "    raise(f'Unable to connect to snowflake. Validate connection information in file: {CONFIG_FL} ')\n",
    "\n",
    "sp_session.sql(f''' use role {config['APP']['role']}; ''').collect()\n",
    "sp_session.sql(f''' use database {config['APP']['database']}; ''').collect()\n",
    "sp_session.sql(f''' use warehouse {config['APP']['warehouse']}; ''').collect()\n",
    "\n",
    "df = sp_session.sql('select current_account() ,current_user() ,current_role();').to_pandas()\n",
    "display(df)"
   ]
  },
  {
   "cell_type": "code",
   "execution_count": 3,
   "id": "023de96b",
   "metadata": {},
   "outputs": [
    {
     "data": {
      "text/plain": [
       "'092c884b20ce621689355dd8dec5743e'"
      ]
     },
     "execution_count": 3,
     "metadata": {},
     "output_type": "execute_result"
    }
   ],
   "source": [
    "from datetime import datetime\n",
    "from datetime import timedelta\n",
    "import time\n",
    "import hashlib\n",
    "\n",
    "data_file = '2022_10_01_priority_health_HMO_in-network-rates.zip'\n",
    "stage_path = 'data_stg/price_transperancy'\n",
    "\n",
    "# data_file = '2022_07_01_priority_health_HMO_in-network-rates.json'\n",
    "# data_file = '2022_07_01_priority_health_HMO_in-network-rates.json'\n",
    "# data_file = '2022-11-01_cigna-health-life-insurance-company_national-oap_in-network-rates.json.gz'\n",
    "# stage_path = 'ext_data_stg/data'\n",
    "\n",
    "data_file_hash = hashlib.md5(data_file.encode()).hexdigest()\n",
    "data_file_hash"
   ]
  },
  {
   "cell_type": "code",
   "execution_count": 5,
   "id": "108bf444",
   "metadata": {},
   "outputs": [
    {
     "name": "stdout",
     "output_type": "stream",
     "text": [
      " Uploading library to stage: sflk_pricing_transperancy.public.lib_stg \n",
      "    ../python/in-network-rates_v2/ingest-in-network-rates-seg-header_sp_v2.py => @lib_stg/scripts\n",
      "    ../python/in-network-rates_v2/in-network-rates-segment-dagbuilder-v2-segment-count.py => @lib_stg/scripts\n",
      "    ../python/in-network-rates_v2/ingest-in-network-rates-segment-lists_sp.py => @lib_stg/scripts\n",
      "    ../python/in-network-rates_v2/in-network-rates-segment-dagbuilder-v2.py => @lib_stg/scripts\n",
      " List stage directory !!\n",
      "@lib_stg/scripts/in-network-rates-segment-dagbuilder-v2-segment-count.py\n",
      "@lib_stg/scripts/in-network-rates-segment-dagbuilder-v2.py\n",
      "@lib_stg/scripts/ingest-in-network-rates-seg-header_sp_v2.py\n",
      "@lib_stg/scripts/ingest-in-network-rates-segment-lists_sp.py\n"
     ]
    }
   ],
   "source": [
    "# Upload libraries to stage\n",
    "lib_stage = config['APP']['lib_stage']\n",
    "\n",
    "upload_locallibraries_to_p_stage(sp_session ,'../python/in-network-rates_v2' ,config['APP']['database'] ,'public' ,lib_stage ,'scripts')\n",
    "\n",
    "print(' List stage directory !!')\n",
    "stage_spdf = sp_session.sql(f'''list @{config['APP']['database']}.public.{lib_stage}; ''').collect()\n",
    "\n",
    "for r in stage_spdf:\n",
    "    print(f'@{r[\"name\"]}')\n"
   ]
  },
  {
   "cell_type": "code",
   "execution_count": 6,
   "id": "dc86177b",
   "metadata": {},
   "outputs": [
    {
     "name": "stdout",
     "output_type": "stream",
     "text": [
      "Started at: 09:53:13\n",
      "truncate table sflk_pricing_transperancy.public.in_network_rates_segment_header_V2; \n",
      " call sflk_pricing_transperancy.public.innetwork_rates_segheader(\n",
      "            1000000 ,'data_stg/price_transperancy' ,'2022_10_01_priority_health_HMO_in-network-rates.zip');\n",
      "Ended at: 10:11:04\n",
      "Elapsed: 0:17:51.036019\n"
     ]
    }
   ],
   "source": [
    "# Negotiation header parsing\n",
    "\n",
    "start_time = time.time()\n",
    "print(f'Started at: {datetime.now().strftime(\"%H:%M:%S\")}')\n",
    "\n",
    "sql_stmts = [\n",
    "    f''' alter warehouse dev_pctransperancy_demo_wh set warehouse_size = XXLARGE; '''\n",
    "    ,f'''truncate table {config['APP']['database']}.public.in_network_rates_segment_header_V2; '''\n",
    "    ,f''' call {config['APP']['database']}.public.innetwork_rates_segheader(\n",
    "            1000000 ,'{stage_path}' ,'{data_file}');'''\n",
    "]\n",
    "for stmt in sql_stmts:\n",
    "    print(stmt)\n",
    "    sp_session.sql(stmt).collect()\n",
    "\n",
    "end_time = time.time()\n",
    "print(f'Ended at: {datetime.now().strftime(\"%H:%M:%S\")}')\n",
    "\n",
    "elapsed_time = end_time - start_time\n",
    "elapsed = str(timedelta(seconds=elapsed_time))\n",
    "print(f'Elapsed: {elapsed}')\n"
   ]
  },
  {
   "cell_type": "code",
   "execution_count": 7,
   "id": "bc3856ad",
   "metadata": {},
   "outputs": [
    {
     "name": "stdout",
     "output_type": "stream",
     "text": [
      "Started at: 10:11:05\n",
      " alter warehouse dev_pctransperancy_demo_wh set warehouse_size = XSMALL; \n",
      "truncate table sflk_pricing_transperancy.public.task_to_segmentids; \n",
      "truncate table sflk_pricing_transperancy.public.negotiated_arrangment_segments_v2; \n",
      "truncate table sflk_pricing_transperancy.public.segment_task_execution_status; \n",
      " call sflk_pricing_transperancy.public.innetwork_rates_dagbuilder_v2(\n",
      "        100000 ,'data_stg/price_transperancy' ,'2022_10_01_priority_health_HMO_in-network-rates.zip'\n",
      "        ,10 ,current_warehouse() ,true\n",
      "        );\n",
      "Ended at: 10:11:24\n",
      "Elapsed: 0:00:19.246650\n"
     ]
    }
   ],
   "source": [
    "# Dag & task build up\n",
    "\n",
    "start_time = time.time()\n",
    "print(f'Started at: {datetime.now().strftime(\"%H:%M:%S\")}')\n",
    "\n",
    "sql_stmts = [\n",
    "    f''' alter warehouse dev_pctransperancy_demo_wh set warehouse_size = XSMALL; '''\n",
    "    ,f'''truncate table {config['APP']['database']}.public.task_to_segmentids; '''\n",
    "    ,f'''truncate table {config['APP']['database']}.public.negotiated_arrangment_segments_v2; '''\n",
    "    ,f'''truncate table {config['APP']['database']}.public.segment_task_execution_status; '''\n",
    "    ,f''' call {config['APP']['database']}.public.innetwork_rates_dagbuilder_v2(\n",
    "        100000 ,'{stage_path}' ,'{data_file}'\n",
    "        ,20 ,current_warehouse() ,true\n",
    "        );'''\n",
    "]\n",
    "for stmt in sql_stmts:\n",
    "    print(stmt)\n",
    "    sp_session.sql(stmt).collect()\n",
    "\n",
    "end_time = time.time()\n",
    "print(f'Ended at: {datetime.now().strftime(\"%H:%M:%S\")}')\n",
    "\n",
    "elapsed_time = end_time - start_time\n",
    "elapsed = str(timedelta(seconds=elapsed_time))\n",
    "print(f'Elapsed: {elapsed}')\n"
   ]
  },
  {
   "cell_type": "code",
   "execution_count": 8,
   "id": "99b8f25f",
   "metadata": {},
   "outputs": [
    {
     "name": "stdout",
     "output_type": "stream",
     "text": [
      "Started at: 10:11:24\n",
      "Ended at: 10:11:25\n",
      "Elapsed: 0:00:01.545870\n"
     ]
    }
   ],
   "source": [
    "# segment parsing\n",
    "\n",
    "start_time = time.time()\n",
    "print(f'Started at: {datetime.now().strftime(\"%H:%M:%S\")}')\n",
    "dag_start_time = datetime.now().strftime(\"%Y-%m-%d %H:%M:%S\")\n",
    "\n",
    "sql_stmts = [\n",
    "    f''' alter warehouse dev_pctransperancy_demo_wh set max_concurrency_level = 3 '''\n",
    "    ,f''' alter warehouse dev_pctransperancy_demo_wh set warehouse_size = XXXLARGE; '''\n",
    "    ,f'''truncate table {config['APP']['database']}.public.negotiated_arrangment_segments_v2; '''\n",
    "    ,f'''truncate table {config['APP']['database']}.public.segment_task_execution_status; '''\n",
    "    # ,f''' call {config['APP']['database']}.public.innetwork_rates_segments_ingest_sp(\n",
    "    #     10000000 ,'{stage_path}' ,'{data_file}'\n",
    "    #     ,'negotiated_rates' \n",
    "    #     ,'TSK_092C884B20CE621689355DD8DEC5743E_16');'''\n",
    "\n",
    "    ,f''' execute task DAG_ROOT_{data_file_hash}; '''\n",
    "]\n",
    "for stmt in sql_stmts:\n",
    "    sp_session.sql(stmt).collect()\n",
    "\n",
    "end_time = time.time()\n",
    "print(f'Ended at: {datetime.now().strftime(\"%H:%M:%S\")}')\n",
    "\n",
    "elapsed_time = end_time - start_time\n",
    "elapsed = str(timedelta(seconds=elapsed_time))\n",
    "print(f'Elapsed: {elapsed}')\n",
    "\n"
   ]
  },
  {
   "cell_type": "markdown",
   "id": "b164eebe",
   "metadata": {},
   "source": [
    "---\n",
    "\n",
    "Observations"
   ]
  },
  {
   "cell_type": "code",
   "execution_count": 47,
   "id": "9a1af64e",
   "metadata": {},
   "outputs": [
    {
     "name": "stdout",
     "output_type": "stream",
     "text": [
      "DAG start time: 2022-11-25 10:11:00\n"
     ]
    },
    {
     "data": {
      "text/html": [
       "<div>\n",
       "<style scoped>\n",
       "    .dataframe tbody tr th:only-of-type {\n",
       "        vertical-align: middle;\n",
       "    }\n",
       "\n",
       "    .dataframe tbody tr th {\n",
       "        vertical-align: top;\n",
       "    }\n",
       "\n",
       "    .dataframe thead th {\n",
       "        text-align: right;\n",
       "    }\n",
       "</style>\n",
       "<table border=\"1\" class=\"dataframe\">\n",
       "  <thead>\n",
       "    <tr style=\"text-align: right;\">\n",
       "      <th></th>\n",
       "      <th>NAME</th>\n",
       "      <th>STATE</th>\n",
       "      <th>ERROR_CODE</th>\n",
       "      <th>ERROR_MESSAGE</th>\n",
       "    </tr>\n",
       "  </thead>\n",
       "  <tbody>\n",
       "  </tbody>\n",
       "</table>\n",
       "</div>"
      ],
      "text/plain": [
       "Empty DataFrame\n",
       "Columns: [NAME, STATE, ERROR_CODE, ERROR_MESSAGE]\n",
       "Index: []"
      ]
     },
     "metadata": {},
     "output_type": "display_data"
    }
   ],
   "source": [
    "# Monitor task to ensure that there are no errors\n",
    "\n",
    "dag_start_time = '2022-11-25 10:11:00'\n",
    "print(f'DAG start time: {dag_start_time}')\n",
    "\n",
    "sql_stmt = f'''\n",
    "select \n",
    "    name ,state ,error_code ,error_message\n",
    "  from table(information_schema.task_history(\n",
    "    scheduled_time_range_start=>to_timestamp_ltz('{dag_start_time} -0500')\n",
    "    ,ERROR_ONLY => TRUE\n",
    "  ))\n",
    "  where state not in ('SUCCEEDED')\n",
    "  order by state asc\n",
    ";'''\n",
    "df = sp_session.sql(sql_stmt).to_pandas()\n",
    "display(df)\n"
   ]
  },
  {
   "cell_type": "code",
   "execution_count": 48,
   "id": "eb9d1f67",
   "metadata": {},
   "outputs": [
    {
     "data": {
      "text/html": [
       "<div>\n",
       "<style scoped>\n",
       "    .dataframe tbody tr th:only-of-type {\n",
       "        vertical-align: middle;\n",
       "    }\n",
       "\n",
       "    .dataframe tbody tr th {\n",
       "        vertical-align: top;\n",
       "    }\n",
       "\n",
       "    .dataframe thead th {\n",
       "        text-align: right;\n",
       "    }\n",
       "</style>\n",
       "<table border=\"1\" class=\"dataframe\">\n",
       "  <thead>\n",
       "    <tr style=\"text-align: right;\">\n",
       "      <th></th>\n",
       "      <th>STARTED_AT</th>\n",
       "      <th>LATEST</th>\n",
       "      <th>ELAPSED_MIN_LATEST</th>\n",
       "      <th>ELAPSED_MIN</th>\n",
       "      <th>ELAPSED_HR</th>\n",
       "      <th>TASK_COUNT</th>\n",
       "    </tr>\n",
       "  </thead>\n",
       "  <tbody>\n",
       "    <tr>\n",
       "      <th>0</th>\n",
       "      <td>2022-11-25 07:11:27.695</td>\n",
       "      <td>2022-11-25 07:35:07.566</td>\n",
       "      <td>24</td>\n",
       "      <td>4310</td>\n",
       "      <td>0.400000</td>\n",
       "      <td>12</td>\n",
       "    </tr>\n",
       "  </tbody>\n",
       "</table>\n",
       "</div>"
      ],
      "text/plain": [
       "               STARTED_AT                  LATEST  ELAPSED_MIN_LATEST  \\\n",
       "0 2022-11-25 07:11:27.695 2022-11-25 07:35:07.566                  24   \n",
       "\n",
       "   ELAPSED_MIN ELAPSED_HR  TASK_COUNT  \n",
       "0         4310   0.400000          12  "
      ]
     },
     "metadata": {},
     "output_type": "display_data"
    }
   ],
   "source": [
    "sql_stmt = f'''\n",
    "select min(l.inserted_at) as started_at ,max(l.inserted_at) as latest \n",
    " ,TIMESTAMPDIFF(minutes, started_at ,latest) as elapsed_min_latest\n",
    " ,TIMESTAMPDIFF(minutes, started_at ,current_timestamp()) as elapsed_min \n",
    " ,least(elapsed_min_latest ,elapsed_min)/60 as elapsed_hr\n",
    " ,count(l.task_name) as task_count\n",
    "-- #,timediff(minutes, started_at ,latest) as elapsed_minutes \n",
    "from {config['APP']['database']}.public.segment_task_execution_status as l\n",
    " ;\n",
    "    '''\n",
    "df = sp_session.sql(sql_stmt).to_pandas()\n",
    "display(df)"
   ]
  },
  {
   "cell_type": "code",
   "execution_count": 49,
   "id": "dd663d83",
   "metadata": {},
   "outputs": [
    {
     "data": {
      "text/html": [
       "<div>\n",
       "<style scoped>\n",
       "    .dataframe tbody tr th:only-of-type {\n",
       "        vertical-align: middle;\n",
       "    }\n",
       "\n",
       "    .dataframe tbody tr th {\n",
       "        vertical-align: top;\n",
       "    }\n",
       "\n",
       "    .dataframe thead th {\n",
       "        text-align: right;\n",
       "    }\n",
       "</style>\n",
       "<table border=\"1\" class=\"dataframe\">\n",
       "  <thead>\n",
       "    <tr style=\"text-align: right;\">\n",
       "      <th></th>\n",
       "      <th>'TOTAL_HEADERS'</th>\n",
       "      <th>SUM(NEGOTIATED_RATES_COUNT)</th>\n",
       "    </tr>\n",
       "  </thead>\n",
       "  <tbody>\n",
       "    <tr>\n",
       "      <th>0</th>\n",
       "      <td>current_records_loaded</td>\n",
       "      <td>36367335</td>\n",
       "    </tr>\n",
       "    <tr>\n",
       "      <th>1</th>\n",
       "      <td>total_headers</td>\n",
       "      <td>37050783</td>\n",
       "    </tr>\n",
       "  </tbody>\n",
       "</table>\n",
       "</div>"
      ],
      "text/plain": [
       "          'TOTAL_HEADERS'  SUM(NEGOTIATED_RATES_COUNT)\n",
       "0  current_records_loaded                     36367335\n",
       "1           total_headers                     37050783"
      ]
     },
     "metadata": {},
     "output_type": "display_data"
    }
   ],
   "source": [
    "\n",
    "\n",
    "sql_stmt = f'''\n",
    "        select 'total_headers' ,sum(negotiated_rates_count)\n",
    "            from {config['APP']['database']}.public.in_network_rates_segment_header_V2\n",
    "        union\n",
    "        select 'current_records_loaded' ,count(*) as rec_count \n",
    "            from {config['APP']['database']}.public.negotiated_arrangment_segments_v2\n",
    "            group by data_file\n",
    "        ;\n",
    "    '''\n",
    "df = sp_session.sql(sql_stmt).to_pandas()\n",
    "display(df)"
   ]
  },
  {
   "cell_type": "code",
   "execution_count": 22,
   "id": "227e84ac",
   "metadata": {},
   "outputs": [
    {
     "data": {
      "text/html": [
       "<div>\n",
       "<style scoped>\n",
       "    .dataframe tbody tr th:only-of-type {\n",
       "        vertical-align: middle;\n",
       "    }\n",
       "\n",
       "    .dataframe tbody tr th {\n",
       "        vertical-align: top;\n",
       "    }\n",
       "\n",
       "    .dataframe thead th {\n",
       "        text-align: right;\n",
       "    }\n",
       "</style>\n",
       "<table border=\"1\" class=\"dataframe\">\n",
       "  <thead>\n",
       "    <tr style=\"text-align: right;\">\n",
       "      <th></th>\n",
       "      <th>SEGMENT_ID</th>\n",
       "      <th>REC_COUNT</th>\n",
       "    </tr>\n",
       "  </thead>\n",
       "  <tbody>\n",
       "    <tr>\n",
       "      <th>0</th>\n",
       "      <td>47555d80-4073-456e-a3ae-e54fd15c6445</td>\n",
       "      <td>9095</td>\n",
       "    </tr>\n",
       "    <tr>\n",
       "      <th>1</th>\n",
       "      <td>09af84d7-1019-44b9-b7ac-69967926c0bc</td>\n",
       "      <td>5140</td>\n",
       "    </tr>\n",
       "    <tr>\n",
       "      <th>2</th>\n",
       "      <td>60ab60bd-5104-4334-8787-f742ca1ca797</td>\n",
       "      <td>2184</td>\n",
       "    </tr>\n",
       "    <tr>\n",
       "      <th>3</th>\n",
       "      <td>44c484b7-4cf5-4906-88df-78e9d02f6691</td>\n",
       "      <td>3737</td>\n",
       "    </tr>\n",
       "    <tr>\n",
       "      <th>4</th>\n",
       "      <td>e7448b54-deca-4711-995a-f08c7eb9875c</td>\n",
       "      <td>388</td>\n",
       "    </tr>\n",
       "    <tr>\n",
       "      <th>...</th>\n",
       "      <td>...</td>\n",
       "      <td>...</td>\n",
       "    </tr>\n",
       "    <tr>\n",
       "      <th>1090</th>\n",
       "      <td>179c8c7d-5496-4678-b880-4f2b8ed41c71</td>\n",
       "      <td>5248</td>\n",
       "    </tr>\n",
       "    <tr>\n",
       "      <th>1091</th>\n",
       "      <td>4e3f405c-d57b-41c7-80e5-c613de87c89f</td>\n",
       "      <td>4533</td>\n",
       "    </tr>\n",
       "    <tr>\n",
       "      <th>1092</th>\n",
       "      <td>fdc0349c-d25f-4c01-8c00-28100b62b3ee</td>\n",
       "      <td>20840</td>\n",
       "    </tr>\n",
       "    <tr>\n",
       "      <th>1093</th>\n",
       "      <td>fba30164-bf92-45f8-9b22-2bad74ee432d</td>\n",
       "      <td>14489</td>\n",
       "    </tr>\n",
       "    <tr>\n",
       "      <th>1094</th>\n",
       "      <td>a5ebbd61-35dc-49c1-bd15-121fb5be4820</td>\n",
       "      <td>3156</td>\n",
       "    </tr>\n",
       "  </tbody>\n",
       "</table>\n",
       "<p>1095 rows × 2 columns</p>\n",
       "</div>"
      ],
      "text/plain": [
       "                                SEGMENT_ID  REC_COUNT\n",
       "0     47555d80-4073-456e-a3ae-e54fd15c6445       9095\n",
       "1     09af84d7-1019-44b9-b7ac-69967926c0bc       5140\n",
       "2     60ab60bd-5104-4334-8787-f742ca1ca797       2184\n",
       "3     44c484b7-4cf5-4906-88df-78e9d02f6691       3737\n",
       "4     e7448b54-deca-4711-995a-f08c7eb9875c        388\n",
       "...                                    ...        ...\n",
       "1090  179c8c7d-5496-4678-b880-4f2b8ed41c71       5248\n",
       "1091  4e3f405c-d57b-41c7-80e5-c613de87c89f       4533\n",
       "1092  fdc0349c-d25f-4c01-8c00-28100b62b3ee      20840\n",
       "1093  fba30164-bf92-45f8-9b22-2bad74ee432d      14489\n",
       "1094  a5ebbd61-35dc-49c1-bd15-121fb5be4820       3156\n",
       "\n",
       "[1095 rows x 2 columns]"
      ]
     },
     "metadata": {},
     "output_type": "display_data"
    }
   ],
   "source": [
    "sql_stmt = f'''\n",
    "        select segment_id ,count(*) as rec_count \n",
    "        from {config['APP']['database']}.public.negotiated_arrangment_segments_v2\n",
    "        group by segment_id\n",
    "        ;\n",
    "    '''\n",
    "df = sp_session.sql(sql_stmt).to_pandas()\n",
    "display(df)\n"
   ]
  },
  {
   "cell_type": "code",
   "execution_count": 13,
   "id": "3c7f4013",
   "metadata": {},
   "outputs": [
    {
     "data": {
      "text/html": [
       "<div>\n",
       "<style scoped>\n",
       "    .dataframe tbody tr th:only-of-type {\n",
       "        vertical-align: middle;\n",
       "    }\n",
       "\n",
       "    .dataframe tbody tr th {\n",
       "        vertical-align: top;\n",
       "    }\n",
       "\n",
       "    .dataframe thead th {\n",
       "        text-align: right;\n",
       "    }\n",
       "</style>\n",
       "<table border=\"1\" class=\"dataframe\">\n",
       "  <thead>\n",
       "    <tr style=\"text-align: right;\">\n",
       "      <th></th>\n",
       "      <th>DATA_FILE</th>\n",
       "      <th>TASK_NAME</th>\n",
       "      <th>ELAPSED</th>\n",
       "      <th>TASK_RET_STATUS</th>\n",
       "      <th>INSERTED_AT</th>\n",
       "    </tr>\n",
       "  </thead>\n",
       "  <tbody>\n",
       "  </tbody>\n",
       "</table>\n",
       "</div>"
      ],
      "text/plain": [
       "Empty DataFrame\n",
       "Columns: [DATA_FILE, TASK_NAME, ELAPSED, TASK_RET_STATUS, INSERTED_AT]\n",
       "Index: []"
      ]
     },
     "metadata": {},
     "output_type": "display_data"
    }
   ],
   "source": [
    "sql_stmt = f'''\n",
    "        select *\n",
    "        from {config['APP']['database']}.public.segment_task_execution_status\n",
    "        ;\n",
    "    '''\n",
    "df = sp_session.sql(sql_stmt).to_pandas()\n",
    "display(df)"
   ]
  },
  {
   "cell_type": "code",
   "execution_count": 15,
   "id": "fa89cf39",
   "metadata": {},
   "outputs": [
    {
     "ename": "NameError",
     "evalue": "name 'pd' is not defined",
     "output_type": "error",
     "traceback": [
      "\u001b[0;31m---------------------------------------------------------------------------\u001b[0m",
      "\u001b[0;31mNameError\u001b[0m                                 Traceback (most recent call last)",
      "\u001b[1;32m/Users/vsekar/Dev/GitHub/CMSgov-pricing-transparency-labs/src/notebooks/9_matrix_segments.ipynb Cell 16\u001b[0m in \u001b[0;36m<cell line: 2>\u001b[0;34m()\u001b[0m\n\u001b[1;32m      <a href='vscode-notebook-cell:/Users/vsekar/Dev/GitHub/CMSgov-pricing-transparency-labs/src/notebooks/9_matrix_segments.ipynb#X13sZmlsZQ%3D%3D?line=0'>1</a>\u001b[0m \u001b[39m# x_df = df.set_index('SEGMENT_ID')\u001b[39;00m\n\u001b[0;32m----> <a href='vscode-notebook-cell:/Users/vsekar/Dev/GitHub/CMSgov-pricing-transparency-labs/src/notebooks/9_matrix_segments.ipynb#X13sZmlsZQ%3D%3D?line=1'>2</a>\u001b[0m y_df \u001b[39m=\u001b[39m pd\u001b[39m.\u001b[39mqcut(df[\u001b[39m'\u001b[39m\u001b[39mNEGOTIATED_RATES_COUNT\u001b[39m\u001b[39m'\u001b[39m], \u001b[39m10\u001b[39m ,labels\u001b[39m=\u001b[39m\u001b[39mFalse\u001b[39;00m)\n\u001b[1;32m      <a href='vscode-notebook-cell:/Users/vsekar/Dev/GitHub/CMSgov-pricing-transparency-labs/src/notebooks/9_matrix_segments.ipynb#X13sZmlsZQ%3D%3D?line=2'>3</a>\u001b[0m \u001b[39m# q_df.columns = 'CLASS'\u001b[39;00m\n\u001b[1;32m      <a href='vscode-notebook-cell:/Users/vsekar/Dev/GitHub/CMSgov-pricing-transparency-labs/src/notebooks/9_matrix_segments.ipynb#X13sZmlsZQ%3D%3D?line=3'>4</a>\u001b[0m \u001b[39m# q_df\u001b[39;00m\n\u001b[1;32m      <a href='vscode-notebook-cell:/Users/vsekar/Dev/GitHub/CMSgov-pricing-transparency-labs/src/notebooks/9_matrix_segments.ipynb#X13sZmlsZQ%3D%3D?line=5'>6</a>\u001b[0m q_df \u001b[39m=\u001b[39m pd\u001b[39m.\u001b[39mDataFrame({\u001b[39m'\u001b[39m\u001b[39mCLASS\u001b[39m\u001b[39m'\u001b[39m:y_df\u001b[39m.\u001b[39mvalues})\n",
      "\u001b[0;31mNameError\u001b[0m: name 'pd' is not defined"
     ]
    }
   ],
   "source": [
    "# x_df = df.set_index('SEGMENT_ID')\n",
    "y_df = pd.qcut(df['NEGOTIATED_RATES_COUNT'], 10 ,labels=False)\n",
    "# q_df.columns = 'CLASS'\n",
    "# q_df\n",
    "\n",
    "q_df = pd.DataFrame({'CLASS':y_df.values})\n",
    "q_df\n",
    "# q_df.value_counts()"
   ]
  },
  {
   "cell_type": "code",
   "execution_count": null,
   "id": "2a2f48c6",
   "metadata": {},
   "outputs": [],
   "source": [
    "# df.join(q_df)\n",
    "# q_df.columns\n",
    "# df.columns\n",
    "x_df = pd.concat([df ,q_df] ,axis=1)\n",
    "x_df"
   ]
  },
  {
   "cell_type": "code",
   "execution_count": null,
   "id": "58a7d988",
   "metadata": {},
   "outputs": [],
   "source": [
    "x_df.groupby('CLASS')['NEGOTIATED_RATES_COUNT'].sum()"
   ]
  },
  {
   "cell_type": "code",
   "execution_count": null,
   "id": "1f87efb5",
   "metadata": {
    "tags": [
     "test"
    ]
   },
   "outputs": [],
   "source": [
    "# from datetime import datetime\n",
    "# now = datetime.now()\n",
    "\n",
    "# start_time = now.strftime(\"%H:%M:%S\")\n",
    "# print(f'Started at: {start_time}')\n",
    "\n",
    "# sql_stmts = [\n",
    "#     f''' alter warehouse dev_pctransperancy_demo_wh set warehouse_size = XSMALL; '''\n",
    "#     ,f'''truncate table {config['APP']['database']}.public.in_network_rates_segment_header_V2; '''\n",
    "#     ,f''' call {config['APP']['database']}.public.innetwork_rates_segheader(\n",
    "#             1000 ,'data_stg/price_transperancy' ,'2022_10_01_priority_health_HMO_in-network-rates.zip');'''\n",
    "# ]\n",
    "# for stmt in sql_stmts:\n",
    "#     sp_session.sql(stmt).collect()\n",
    "\n",
    "# now = datetime.now()\n",
    "# end_time = now.strftime(\"%H:%M:%S\")\n",
    "# print(f'Ended at: {end_time}')"
   ]
  },
  {
   "cell_type": "markdown",
   "id": "7c9c36b0",
   "metadata": {},
   "source": [
    "---\n",
    "### TBL"
   ]
  },
  {
   "cell_type": "code",
   "execution_count": null,
   "id": "d705b54f",
   "metadata": {},
   "outputs": [],
   "source": [
    "df = sp_session.table(f'''{config['APP']['database']}.public.in_network_rates_segment_header_V2''').limit(10).to_pandas()\n",
    "display(df)"
   ]
  },
  {
   "cell_type": "markdown",
   "id": "198bfcc7",
   "metadata": {},
   "source": [
    "#### TODO : Perform some model analysis \n",
    " - accuracy score\n",
    " - error rate calculation\n",
    " - confusion matrix\n",
    "  ..."
   ]
  },
  {
   "cell_type": "markdown",
   "id": "1d6ffbf6",
   "metadata": {},
   "source": [
    "--- \n",
    "### Closeout\n",
    "\n",
    "    With that we are finished this section of the demo setup"
   ]
  },
  {
   "cell_type": "code",
   "execution_count": null,
   "id": "192cf880",
   "metadata": {},
   "outputs": [],
   "source": [
    "# sp_session.close()\n",
    "print('Finished!!!')"
   ]
  },
  {
   "cell_type": "code",
   "execution_count": null,
   "id": "cad5d468",
   "metadata": {},
   "outputs": [],
   "source": [
    "employees = [('Stuti', 28, 'Varanasi', 20000),\n",
    "            ('Saumya', 32, 'Delhi', 25000),\n",
    "            ('Aaditya', 25, 'Mumbai', 40000),\n",
    "            ('Saumya', 32, 'Delhi', 35000),\n",
    "            ('Saumya', 32, 'Delhi', 30000),\n",
    "            ('Saumya', 32, 'Mumbai', 20000),\n",
    "            ('Aaditya', 40, 'Dehradun', 24000),\n",
    "            ('Seema', 32, 'Delhi', 70000)\n",
    "            ]\n",
    " \n",
    "# Create a DataFrame object from list\n",
    "df = pd.DataFrame(employees,\n",
    "                columns =['Name', 'Age',\n",
    "                        'City', 'Salary'])\n",
    "# Show the dataframe\n",
    "df"
   ]
  },
  {
   "cell_type": "code",
   "execution_count": null,
   "id": "72652b5c",
   "metadata": {},
   "outputs": [],
   "source": [
    "df.iloc[3:5,]"
   ]
  }
 ],
 "metadata": {
  "kernelspec": {
   "display_name": "Python 3.8.13 ('snowpark_100')",
   "language": "python",
   "name": "python3"
  },
  "language_info": {
   "codemirror_mode": {
    "name": "ipython",
    "version": 3
   },
   "file_extension": ".py",
   "mimetype": "text/x-python",
   "name": "python",
   "nbconvert_exporter": "python",
   "pygments_lexer": "ipython3",
   "version": "3.8.13"
  },
  "vscode": {
   "interpreter": {
    "hash": "86e53f16f7f2849030caf3156b7b9fd1966f27ea0571958c45db51737201e9c6"
   }
  }
 },
 "nbformat": 4,
 "nbformat_minor": 5
}
