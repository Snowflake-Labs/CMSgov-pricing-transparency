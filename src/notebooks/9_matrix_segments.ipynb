{
 "cells": [
  {
   "cell_type": "markdown",
   "id": "e4022bce",
   "metadata": {},
   "source": [
    "# Blah"
   ]
  },
  {
   "cell_type": "code",
   "execution_count": 245,
   "id": "4f152540",
   "metadata": {},
   "outputs": [],
   "source": [
    "from IPython.display import display, HTML, Image , Markdown\n",
    "from snowflake.snowpark.session import Session\n",
    "from snowflake.snowpark.types import * \n",
    "import snowflake.snowpark.functions as F\n",
    "import os ,configparser ,json\n",
    "\n",
    "# Source various helper functions\n",
    "%run ../scripts/notebook_helpers.py\n",
    "\n",
    "PROJECT_HOME_DIR = '../../'\n",
    "CONFIG_FL = f'{PROJECT_HOME_DIR}/config.ini'"
   ]
  },
  {
   "cell_type": "code",
   "execution_count": 246,
   "id": "38c6664f",
   "metadata": {},
   "outputs": [
    {
     "data": {
      "text/markdown": [
       "### Initialization"
      ],
      "text/plain": [
       "<IPython.core.display.Markdown object>"
      ]
     },
     "metadata": {},
     "output_type": "display_data"
    },
    {
     "name": "stdout",
     "output_type": "stream",
     "text": [
      " Initialize Snowpark session\n"
     ]
    },
    {
     "data": {
      "text/html": [
       "<div>\n",
       "<style scoped>\n",
       "    .dataframe tbody tr th:only-of-type {\n",
       "        vertical-align: middle;\n",
       "    }\n",
       "\n",
       "    .dataframe tbody tr th {\n",
       "        vertical-align: top;\n",
       "    }\n",
       "\n",
       "    .dataframe thead th {\n",
       "        text-align: right;\n",
       "    }\n",
       "</style>\n",
       "<table border=\"1\" class=\"dataframe\">\n",
       "  <thead>\n",
       "    <tr style=\"text-align: right;\">\n",
       "      <th></th>\n",
       "      <th>CURRENT_ACCOUNT()</th>\n",
       "      <th>CURRENT_USER()</th>\n",
       "      <th>CURRENT_ROLE()</th>\n",
       "    </tr>\n",
       "  </thead>\n",
       "  <tbody>\n",
       "    <tr>\n",
       "      <th>0</th>\n",
       "      <td>ANA95816</td>\n",
       "      <td>VSEKAR</td>\n",
       "      <td>DEV_PCTRANSPERANCY_DEMO_RL</td>\n",
       "    </tr>\n",
       "  </tbody>\n",
       "</table>\n",
       "</div>"
      ],
      "text/plain": [
       "  CURRENT_ACCOUNT() CURRENT_USER()              CURRENT_ROLE()\n",
       "0          ANA95816         VSEKAR  DEV_PCTRANSPERANCY_DEMO_RL"
      ]
     },
     "metadata": {},
     "output_type": "display_data"
    }
   ],
   "source": [
    "display(Markdown(\"### Initialization\"))\n",
    "\n",
    "config = configparser.ConfigParser()\n",
    "sp_session = None\n",
    "\n",
    "print(\" Initialize Snowpark session\")\n",
    "with open(CONFIG_FL) as f:\n",
    "    config.read(CONFIG_FL)\n",
    "    snow_conn_flpath =  f\"{PROJECT_HOME_DIR}/{config['APP']['connection_fl']}\"\n",
    "    \n",
    "    # ------------\n",
    "    # Connect to snowflake\n",
    "    with open(snow_conn_flpath) as conn_f:\n",
    "        snow_conn_info = json.load(conn_f)\n",
    "        sp_session = Session.builder.configs(snow_conn_info).create()\n",
    "\n",
    "if(sp_session == None):\n",
    "    raise(f'Unable to connect to snowflake. Validate connection information in file: {CONFIG_FL} ')\n",
    "\n",
    "sp_session.sql(f''' use role {config['APP']['role']}; ''').collect()\n",
    "sp_session.sql(f''' use database {config['APP']['database']}; ''').collect()\n",
    "sp_session.sql(f''' use warehouse {config['APP']['warehouse']}; ''').collect()\n",
    "\n",
    "df = sp_session.sql('select current_account() ,current_user() ,current_role();').to_pandas()\n",
    "display(df)"
   ]
  },
  {
   "cell_type": "code",
   "execution_count": 247,
   "id": "023de96b",
   "metadata": {},
   "outputs": [],
   "source": [
    "data_file = '2022_10_01_priority_health_HMO_in-network-rates.zip'\n",
    "stage_path = 'data_stg/price_transperancy'\n",
    "\n",
    "data_file = '2022_07_01_priority_health_HMO_in-network-rates.json'\n",
    "stage_path = 'ext_data_stg/data'"
   ]
  },
  {
   "cell_type": "code",
   "execution_count": 248,
   "id": "dc86177b",
   "metadata": {},
   "outputs": [
    {
     "name": "stdout",
     "output_type": "stream",
     "text": [
      "Started at: 04:26:20\n",
      "truncate table sflk_pricing_transperancy.public.in_network_rates_segment_header_V2; \n",
      " call sflk_pricing_transperancy.public.innetwork_rates_segheader(\n",
      "            1000000 ,'ext_data_stg/data' ,'2022_07_01_priority_health_HMO_in-network-rates.json');\n",
      "Ended at: 05:03:30\n",
      "Elapsed: 0:37:10.864165\n"
     ]
    }
   ],
   "source": [
    "from datetime import datetime\n",
    "from datetime import timedelta\n",
    "import time\n",
    "\n",
    "start_time = time.time()\n",
    "print(f'Started at: {datetime.now().strftime(\"%H:%M:%S\")}')\n",
    "\n",
    "sql_stmts = [\n",
    "    f'''truncate table {config['APP']['database']}.public.in_network_rates_segment_header_V2; '''\n",
    "    ,f''' call {config['APP']['database']}.public.innetwork_rates_segheader(\n",
    "            1000000 ,'{stage_path}' ,'{data_file}');'''\n",
    "]\n",
    "for stmt in sql_stmts:\n",
    "    print(stmt)\n",
    "    # sp_session.sql(stmt).collect()\n",
    "\n",
    "end_time = time.time()\n",
    "print(f'Ended at: {datetime.now().strftime(\"%H:%M:%S\")}')\n",
    "\n",
    "elapsed_time = end_time - start_time\n",
    "elapsed = str(timedelta(seconds=elapsed_time))\n",
    "print(f'Elapsed: {elapsed}')\n"
   ]
  },
  {
   "cell_type": "code",
   "execution_count": 271,
   "id": "bc3856ad",
   "metadata": {},
   "outputs": [
    {
     "name": "stdout",
     "output_type": "stream",
     "text": [
      "Started at: 11:15:12\n",
      " alter warehouse dev_pctransperancy_demo_wh set warehouse_size = XSMALL; \n",
      "truncate table sflk_pricing_transperancy.public.task_to_segmentids; \n",
      "truncate table sflk_pricing_transperancy.public.negotiated_arrangment_segments_v2; \n",
      "truncate table sflk_pricing_transperancy.public.segment_task_execution_status; \n",
      " call sflk_pricing_transperancy.public.innetwork_rates_dagbuilder_v2(\n",
      "        100000 ,'ext_data_stg/data' ,'2022_07_01_priority_health_HMO_in-network-rates.json'\n",
      "        ,100 ,current_warehouse() ,true\n",
      "        );\n",
      "Ended at: 11:15:45\n",
      "Elapsed: 0:00:33.089420\n"
     ]
    }
   ],
   "source": [
    "\n",
    "start_time = time.time()\n",
    "print(f'Started at: {datetime.now().strftime(\"%H:%M:%S\")}')\n",
    "\n",
    "sql_stmts = [\n",
    "    f''' alter warehouse dev_pctransperancy_demo_wh set warehouse_size = XSMALL; '''\n",
    "    ,f'''truncate table {config['APP']['database']}.public.task_to_segmentids; '''\n",
    "    ,f'''truncate table {config['APP']['database']}.public.negotiated_arrangment_segments_v2; '''\n",
    "    ,f'''truncate table {config['APP']['database']}.public.segment_task_execution_status; '''\n",
    "    ,f''' call {config['APP']['database']}.public.innetwork_rates_dagbuilder_v2(\n",
    "        100000 ,'{stage_path}' ,'{data_file}'\n",
    "        ,100 ,current_warehouse() ,true\n",
    "        );'''\n",
    "]\n",
    "for stmt in sql_stmts:\n",
    "    print(stmt)\n",
    "    sp_session.sql(stmt).collect()\n",
    "\n",
    "end_time = time.time()\n",
    "print(f'Ended at: {datetime.now().strftime(\"%H:%M:%S\")}')\n",
    "\n",
    "elapsed_time = end_time - start_time\n",
    "elapsed = str(timedelta(seconds=elapsed_time))\n",
    "print(f'Elapsed: {elapsed}')\n"
   ]
  },
  {
   "cell_type": "code",
   "execution_count": 272,
   "id": "99b8f25f",
   "metadata": {},
   "outputs": [
    {
     "name": "stdout",
     "output_type": "stream",
     "text": [
      "Started at: 11:15:50\n",
      "Ended at: 11:15:52\n",
      "Elapsed: 0:00:02.307115\n"
     ]
    }
   ],
   "source": [
    "from datetime import datetime\n",
    "from datetime import timedelta\n",
    "import time\n",
    "\n",
    "start_time = time.time()\n",
    "print(f'Started at: {datetime.now().strftime(\"%H:%M:%S\")}')\n",
    "\n",
    "sql_stmts = [\n",
    "    f''' alter warehouse dev_pctransperancy_demo_wh set max_concurrency_level = 2 '''\n",
    "    ,f''' alter warehouse dev_pctransperancy_demo_wh set warehouse_size = XLARGE; '''\n",
    "    ,f'''truncate table {config['APP']['database']}.public.negotiated_arrangment_segments_v2; '''\n",
    "    ,f'''truncate table {config['APP']['database']}.public.segment_task_execution_status; '''\n",
    "    # ,f''' call {config['APP']['database']}.public.innetwork_rates_segments_ingest_sp(\n",
    "    #     10000000 ,'{stage_path}' ,'{data_file}'\n",
    "    #     ,'negotiated_rates' \n",
    "    #     ,'TSK_092C884B20CE621689355DD8DEC5743E_16');'''\n",
    "\n",
    "    # ,f''' execute task DAG_ROOT_092C884B20CE621689355DD8DEC5743E; '''\n",
    "    ,f''' execute task DAG_ROOT_816631AA8E051D5A846BB82CA075A9DA; '''\n",
    "    \n",
    "]\n",
    "for stmt in sql_stmts:\n",
    "    sp_session.sql(stmt).collect()\n",
    "\n",
    "end_time = time.time()\n",
    "print(f'Ended at: {datetime.now().strftime(\"%H:%M:%S\")}')\n",
    "\n",
    "elapsed_time = end_time - start_time\n",
    "elapsed = str(timedelta(seconds=elapsed_time))\n",
    "print(f'Elapsed: {elapsed}')"
   ]
  },
  {
   "cell_type": "code",
   "execution_count": 258,
   "id": "eb9d1f67",
   "metadata": {},
   "outputs": [
    {
     "data": {
      "text/html": [
       "<div>\n",
       "<style scoped>\n",
       "    .dataframe tbody tr th:only-of-type {\n",
       "        vertical-align: middle;\n",
       "    }\n",
       "\n",
       "    .dataframe tbody tr th {\n",
       "        vertical-align: top;\n",
       "    }\n",
       "\n",
       "    .dataframe thead th {\n",
       "        text-align: right;\n",
       "    }\n",
       "</style>\n",
       "<table border=\"1\" class=\"dataframe\">\n",
       "  <thead>\n",
       "    <tr style=\"text-align: right;\">\n",
       "      <th></th>\n",
       "      <th>STARTED_AT</th>\n",
       "      <th>LATEST</th>\n",
       "      <th>ELAPSED_MIN_LATEST</th>\n",
       "      <th>ELAPSED_MIN</th>\n",
       "      <th>ELAPSED_HR</th>\n",
       "      <th>TASK_COUNT</th>\n",
       "    </tr>\n",
       "  </thead>\n",
       "  <tbody>\n",
       "    <tr>\n",
       "      <th>0</th>\n",
       "      <td>2022-11-23 02:22:31.907</td>\n",
       "      <td>2022-11-23 02:22:31.907</td>\n",
       "      <td>0</td>\n",
       "      <td>0</td>\n",
       "      <td>0.000000</td>\n",
       "      <td>1</td>\n",
       "    </tr>\n",
       "  </tbody>\n",
       "</table>\n",
       "</div>"
      ],
      "text/plain": [
       "               STARTED_AT                  LATEST  ELAPSED_MIN_LATEST  \\\n",
       "0 2022-11-23 02:22:31.907 2022-11-23 02:22:31.907                   0   \n",
       "\n",
       "   ELAPSED_MIN ELAPSED_HR  TASK_COUNT  \n",
       "0            0   0.000000           1  "
      ]
     },
     "metadata": {},
     "output_type": "display_data"
    }
   ],
   "source": [
    "sql_stmt = f'''\n",
    "select min(l.inserted_at) as started_at ,max(l.inserted_at) as latest \n",
    " ,TIMESTAMPDIFF(minutes, started_at ,latest) as elapsed_min_latest\n",
    " ,TIMESTAMPDIFF(minutes, started_at ,current_timestamp()) as elapsed_min \n",
    " ,least(elapsed_min_latest ,elapsed_min)/60 as elapsed_hr\n",
    " ,count(l.task_name) as task_count\n",
    "-- #,timediff(minutes, started_at ,latest) as elapsed_minutes \n",
    "from {config['APP']['database']}.public.segment_task_execution_status as l\n",
    " ;\n",
    "    '''\n",
    "df = sp_session.sql(sql_stmt).to_pandas()\n",
    "display(df)"
   ]
  },
  {
   "cell_type": "code",
   "execution_count": 252,
   "id": "3c7f4013",
   "metadata": {},
   "outputs": [
    {
     "data": {
      "text/html": [
       "<div>\n",
       "<style scoped>\n",
       "    .dataframe tbody tr th:only-of-type {\n",
       "        vertical-align: middle;\n",
       "    }\n",
       "\n",
       "    .dataframe tbody tr th {\n",
       "        vertical-align: top;\n",
       "    }\n",
       "\n",
       "    .dataframe thead th {\n",
       "        text-align: right;\n",
       "    }\n",
       "</style>\n",
       "<table border=\"1\" class=\"dataframe\">\n",
       "  <thead>\n",
       "    <tr style=\"text-align: right;\">\n",
       "      <th></th>\n",
       "      <th>DATA_FILE</th>\n",
       "      <th>TASK_NAME</th>\n",
       "      <th>ELAPSED</th>\n",
       "      <th>TASK_RET_STATUS</th>\n",
       "      <th>INSERTED_AT</th>\n",
       "    </tr>\n",
       "  </thead>\n",
       "  <tbody>\n",
       "    <tr>\n",
       "      <th>0</th>\n",
       "      <td>2022_10_01_priority_health_HMO_in-network-rate...</td>\n",
       "      <td>DAG_ROOT_092c884b20ce621689355dd8dec5743e</td>\n",
       "      <td>None</td>\n",
       "      <td>None</td>\n",
       "      <td>2022-11-23 02:04:40.058</td>\n",
       "    </tr>\n",
       "  </tbody>\n",
       "</table>\n",
       "</div>"
      ],
      "text/plain": [
       "                                           DATA_FILE  \\\n",
       "0  2022_10_01_priority_health_HMO_in-network-rate...   \n",
       "\n",
       "                                   TASK_NAME ELAPSED TASK_RET_STATUS  \\\n",
       "0  DAG_ROOT_092c884b20ce621689355dd8dec5743e    None            None   \n",
       "\n",
       "              INSERTED_AT  \n",
       "0 2022-11-23 02:04:40.058  "
      ]
     },
     "metadata": {},
     "output_type": "display_data"
    }
   ],
   "source": [
    "sql_stmt = f'''\n",
    "        select *\n",
    "        from {config['APP']['database']}.public.segment_task_execution_status\n",
    "        ;\n",
    "    '''\n",
    "df = sp_session.sql(sql_stmt).to_pandas()\n",
    "display(df)"
   ]
  },
  {
   "cell_type": "code",
   "execution_count": 253,
   "id": "dd663d83",
   "metadata": {},
   "outputs": [
    {
     "ename": "NameError",
     "evalue": "name 'asdasdasd' is not defined",
     "output_type": "error",
     "traceback": [
      "\u001b[0;31m---------------------------------------------------------------------------\u001b[0m",
      "\u001b[0;31mNameError\u001b[0m                                 Traceback (most recent call last)",
      "\u001b[1;32m/Users/vsekar/Dev/rough/PricingTransperancy/src/pricing_transparency/9_matrix_segments.ipynb Cell 10\u001b[0m in \u001b[0;36m<cell line: 1>\u001b[0;34m()\u001b[0m\n\u001b[0;32m----> <a href='vscode-notebook-cell:/Users/vsekar/Dev/rough/PricingTransperancy/src/pricing_transparency/9_matrix_segments.ipynb#W5sZmlsZQ%3D%3D?line=0'>1</a>\u001b[0m asdasdasd\n\u001b[1;32m      <a href='vscode-notebook-cell:/Users/vsekar/Dev/rough/PricingTransperancy/src/pricing_transparency/9_matrix_segments.ipynb#W5sZmlsZQ%3D%3D?line=2'>3</a>\u001b[0m \u001b[39mimport\u001b[39;00m \u001b[39mnumpy\u001b[39;00m \u001b[39mas\u001b[39;00m \u001b[39mnp\u001b[39;00m\n\u001b[1;32m      <a href='vscode-notebook-cell:/Users/vsekar/Dev/rough/PricingTransperancy/src/pricing_transparency/9_matrix_segments.ipynb#W5sZmlsZQ%3D%3D?line=3'>4</a>\u001b[0m \u001b[39mimport\u001b[39;00m \u001b[39mpandas\u001b[39;00m \u001b[39mas\u001b[39;00m \u001b[39mpd\u001b[39;00m\n",
      "\u001b[0;31mNameError\u001b[0m: name 'asdasdasd' is not defined"
     ]
    }
   ],
   "source": [
    "asdasdasd\n",
    "\n",
    "import numpy as np\n",
    "import pandas as pd\n",
    "\n",
    "\n",
    "df = (sp_session.table(f'''{config['APP']['database']}.public.in_network_rates_segment_header_V2''')\n",
    "    .select('segment_id', 'negotiated_rates_count')\n",
    "    .sort(F.col(\"negotiated_rates_count\").asc())\n",
    "    .to_pandas()\n",
    "    )\n",
    "\n",
    "display(df)"
   ]
  },
  {
   "cell_type": "code",
   "execution_count": null,
   "id": "fa89cf39",
   "metadata": {},
   "outputs": [],
   "source": [
    "# x_df = df.set_index('SEGMENT_ID')\n",
    "y_df = pd.qcut(df['NEGOTIATED_RATES_COUNT'], 10 ,labels=False)\n",
    "# q_df.columns = 'CLASS'\n",
    "# q_df\n",
    "\n",
    "q_df = pd.DataFrame({'CLASS':y_df.values})\n",
    "q_df\n",
    "# q_df.value_counts()"
   ]
  },
  {
   "cell_type": "code",
   "execution_count": null,
   "id": "2a2f48c6",
   "metadata": {},
   "outputs": [],
   "source": [
    "# df.join(q_df)\n",
    "# q_df.columns\n",
    "# df.columns\n",
    "x_df = pd.concat([df ,q_df] ,axis=1)\n",
    "x_df"
   ]
  },
  {
   "cell_type": "code",
   "execution_count": null,
   "id": "58a7d988",
   "metadata": {},
   "outputs": [],
   "source": [
    "x_df.groupby('CLASS')['NEGOTIATED_RATES_COUNT'].sum()"
   ]
  },
  {
   "cell_type": "code",
   "execution_count": null,
   "id": "1f87efb5",
   "metadata": {
    "tags": [
     "test"
    ]
   },
   "outputs": [],
   "source": [
    "# from datetime import datetime\n",
    "# now = datetime.now()\n",
    "\n",
    "# start_time = now.strftime(\"%H:%M:%S\")\n",
    "# print(f'Started at: {start_time}')\n",
    "\n",
    "# sql_stmts = [\n",
    "#     f''' alter warehouse dev_pctransperancy_demo_wh set warehouse_size = XSMALL; '''\n",
    "#     ,f'''truncate table {config['APP']['database']}.public.in_network_rates_segment_header_V2; '''\n",
    "#     ,f''' call {config['APP']['database']}.public.innetwork_rates_segheader(\n",
    "#             1000 ,'data_stg/price_transperancy' ,'2022_10_01_priority_health_HMO_in-network-rates.zip');'''\n",
    "# ]\n",
    "# for stmt in sql_stmts:\n",
    "#     sp_session.sql(stmt).collect()\n",
    "\n",
    "# now = datetime.now()\n",
    "# end_time = now.strftime(\"%H:%M:%S\")\n",
    "# print(f'Ended at: {end_time}')"
   ]
  },
  {
   "cell_type": "markdown",
   "id": "7c9c36b0",
   "metadata": {},
   "source": [
    "---\n",
    "### TBL"
   ]
  },
  {
   "cell_type": "code",
   "execution_count": null,
   "id": "d705b54f",
   "metadata": {},
   "outputs": [],
   "source": [
    "df = sp_session.table(f'''{config['APP']['database']}.public.in_network_rates_segment_header_V2''').limit(10).to_pandas()\n",
    "display(df)"
   ]
  },
  {
   "cell_type": "markdown",
   "id": "198bfcc7",
   "metadata": {},
   "source": [
    "#### TODO : Perform some model analysis \n",
    " - accuracy score\n",
    " - error rate calculation\n",
    " - confusion matrix\n",
    "  ..."
   ]
  },
  {
   "cell_type": "markdown",
   "id": "1d6ffbf6",
   "metadata": {},
   "source": [
    "--- \n",
    "### Closeout\n",
    "\n",
    "    With that we are finished this section of the demo setup"
   ]
  },
  {
   "cell_type": "code",
   "execution_count": null,
   "id": "192cf880",
   "metadata": {},
   "outputs": [],
   "source": [
    "# sp_session.close()\n",
    "print('Finished!!!')"
   ]
  },
  {
   "cell_type": "code",
   "execution_count": null,
   "id": "cad5d468",
   "metadata": {},
   "outputs": [],
   "source": [
    "employees = [('Stuti', 28, 'Varanasi', 20000),\n",
    "            ('Saumya', 32, 'Delhi', 25000),\n",
    "            ('Aaditya', 25, 'Mumbai', 40000),\n",
    "            ('Saumya', 32, 'Delhi', 35000),\n",
    "            ('Saumya', 32, 'Delhi', 30000),\n",
    "            ('Saumya', 32, 'Mumbai', 20000),\n",
    "            ('Aaditya', 40, 'Dehradun', 24000),\n",
    "            ('Seema', 32, 'Delhi', 70000)\n",
    "            ]\n",
    " \n",
    "# Create a DataFrame object from list\n",
    "df = pd.DataFrame(employees,\n",
    "                columns =['Name', 'Age',\n",
    "                        'City', 'Salary'])\n",
    "# Show the dataframe\n",
    "df"
   ]
  },
  {
   "cell_type": "code",
   "execution_count": null,
   "id": "72652b5c",
   "metadata": {},
   "outputs": [],
   "source": [
    "df.iloc[3:5,]"
   ]
  }
 ],
 "metadata": {
  "kernelspec": {
   "display_name": "Python 3.8.13 ('snowpark_100')",
   "language": "python",
   "name": "python3"
  },
  "language_info": {
   "codemirror_mode": {
    "name": "ipython",
    "version": 3
   },
   "file_extension": ".py",
   "mimetype": "text/x-python",
   "name": "python",
   "nbconvert_exporter": "python",
   "pygments_lexer": "ipython3",
   "version": "3.8.13"
  },
  "vscode": {
   "interpreter": {
    "hash": "86e53f16f7f2849030caf3156b7b9fd1966f27ea0571958c45db51737201e9c6"
   }
  }
 },
 "nbformat": 4,
 "nbformat_minor": 5
}
