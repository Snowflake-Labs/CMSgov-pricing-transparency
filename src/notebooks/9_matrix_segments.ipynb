{
 "cells": [
  {
   "cell_type": "markdown",
   "id": "e4022bce",
   "metadata": {},
   "source": [
    "# Blah"
   ]
  },
  {
   "cell_type": "code",
   "execution_count": 1,
   "id": "4f152540",
   "metadata": {},
   "outputs": [],
   "source": [
    "from IPython.display import display, HTML, Image , Markdown\n",
    "from snowflake.snowpark.session import Session\n",
    "from snowflake.snowpark.types import * \n",
    "import snowflake.snowpark.functions as F\n",
    "import os ,configparser ,json\n",
    "\n",
    "# Source various helper functions\n",
    "%run ../scripts/notebook_helpers.py\n",
    "\n",
    "PROJECT_HOME_DIR = '../../'\n",
    "CONFIG_FL = f'{PROJECT_HOME_DIR}/config.ini'"
   ]
  },
  {
   "cell_type": "code",
   "execution_count": 2,
   "id": "38c6664f",
   "metadata": {},
   "outputs": [
    {
     "data": {
      "text/markdown": [
       "### Initialization"
      ],
      "text/plain": [
       "<IPython.core.display.Markdown object>"
      ]
     },
     "metadata": {},
     "output_type": "display_data"
    },
    {
     "name": "stdout",
     "output_type": "stream",
     "text": [
      " Initialize Snowpark session\n"
     ]
    },
    {
     "data": {
      "text/html": [
       "<div>\n",
       "<style scoped>\n",
       "    .dataframe tbody tr th:only-of-type {\n",
       "        vertical-align: middle;\n",
       "    }\n",
       "\n",
       "    .dataframe tbody tr th {\n",
       "        vertical-align: top;\n",
       "    }\n",
       "\n",
       "    .dataframe thead th {\n",
       "        text-align: right;\n",
       "    }\n",
       "</style>\n",
       "<table border=\"1\" class=\"dataframe\">\n",
       "  <thead>\n",
       "    <tr style=\"text-align: right;\">\n",
       "      <th></th>\n",
       "      <th>CURRENT_ACCOUNT()</th>\n",
       "      <th>CURRENT_USER()</th>\n",
       "      <th>CURRENT_ROLE()</th>\n",
       "    </tr>\n",
       "  </thead>\n",
       "  <tbody>\n",
       "    <tr>\n",
       "      <th>0</th>\n",
       "      <td>ANA95816</td>\n",
       "      <td>VSEKAR</td>\n",
       "      <td>DEV_PCTRANSPERANCY_DEMO_RL</td>\n",
       "    </tr>\n",
       "  </tbody>\n",
       "</table>\n",
       "</div>"
      ],
      "text/plain": [
       "  CURRENT_ACCOUNT() CURRENT_USER()              CURRENT_ROLE()\n",
       "0          ANA95816         VSEKAR  DEV_PCTRANSPERANCY_DEMO_RL"
      ]
     },
     "metadata": {},
     "output_type": "display_data"
    }
   ],
   "source": [
    "display(Markdown(\"### Initialization\"))\n",
    "\n",
    "config = configparser.ConfigParser()\n",
    "sp_session = None\n",
    "\n",
    "print(\" Initialize Snowpark session\")\n",
    "with open(CONFIG_FL) as f:\n",
    "    config.read(CONFIG_FL)\n",
    "    snow_conn_flpath =  f\"{PROJECT_HOME_DIR}/{config['APP']['connection_fl']}\"\n",
    "    \n",
    "    # ------------\n",
    "    # Connect to snowflake\n",
    "    with open(snow_conn_flpath) as conn_f:\n",
    "        snow_conn_info = json.load(conn_f)\n",
    "        sp_session = Session.builder.configs(snow_conn_info).create()\n",
    "\n",
    "if(sp_session == None):\n",
    "    raise(f'Unable to connect to snowflake. Validate connection information in file: {CONFIG_FL} ')\n",
    "\n",
    "sp_session.sql(f''' use role {config['APP']['role']}; ''').collect()\n",
    "sp_session.sql(f''' use database {config['APP']['database']}; ''').collect()\n",
    "sp_session.sql(f''' use warehouse {config['APP']['warehouse']}; ''').collect()\n",
    "\n",
    "df = sp_session.sql('select current_account() ,current_user() ,current_role();').to_pandas()\n",
    "display(df)"
   ]
  },
  {
   "cell_type": "code",
   "execution_count": 3,
   "id": "023de96b",
   "metadata": {},
   "outputs": [
    {
     "data": {
      "text/plain": [
       "'092c884b20ce621689355dd8dec5743e'"
      ]
     },
     "execution_count": 3,
     "metadata": {},
     "output_type": "execute_result"
    }
   ],
   "source": [
    "from datetime import datetime\n",
    "from datetime import timedelta\n",
    "import time\n",
    "import hashlib\n",
    "\n",
    "data_file = '2022_10_01_priority_health_HMO_in-network-rates.zip'\n",
    "stage_path = 'data_stg/price_transperancy'\n",
    "\n",
    "# data_file = '2022_07_01_priority_health_HMO_in-network-rates.json'\n",
    "# data_file = '2022_07_01_priority_health_HMO_in-network-rates.json'\n",
    "# data_file = '2022-11-01_cigna-health-life-insurance-company_national-oap_in-network-rates.json.gz'\n",
    "# stage_path = 'ext_data_stg/data'\n",
    "\n",
    "data_file_hash = hashlib.md5(data_file.encode()).hexdigest()\n",
    "data_file_hash"
   ]
  },
  {
   "cell_type": "code",
   "execution_count": 4,
   "id": "108bf444",
   "metadata": {},
   "outputs": [
    {
     "name": "stdout",
     "output_type": "stream",
     "text": [
      " Uploading library to stage: sflk_pricing_transperancy.public.lib_stg \n",
      "    ../python/in-network-rates_v2/ingest-in-network-rates-seg-header_sp_v2.py => @lib_stg/scripts\n",
      "    ../python/in-network-rates_v2/in-network-rates-segment-dagbuilder-v2-segment-count.py => @lib_stg/scripts\n",
      "    ../python/in-network-rates_v2/ingest-in-network-rates-segment-lists_sp.py => @lib_stg/scripts\n",
      "    ../python/in-network-rates_v2/in-network-rates-segment-dagbuilder-v2.py => @lib_stg/scripts\n",
      " List stage directory !!\n",
      "@lib_stg/scripts/in-network-rates-segment-dagbuilder-v2-segment-count.py\n",
      "@lib_stg/scripts/in-network-rates-segment-dagbuilder-v2.py\n",
      "@lib_stg/scripts/ingest-in-network-rates-seg-header_sp_v2.py\n",
      "@lib_stg/scripts/ingest-in-network-rates-segment-lists_sp.py\n"
     ]
    }
   ],
   "source": [
    "# Upload libraries to stage\n",
    "lib_stage = config['APP']['lib_stage']\n",
    "\n",
    "upload_locallibraries_to_p_stage(sp_session ,'../python/in-network-rates_v2' ,config['APP']['database'] ,'public' ,lib_stage ,'scripts')\n",
    "\n",
    "print(' List stage directory !!')\n",
    "stage_spdf = sp_session.sql(f'''list @{config['APP']['database']}.public.{lib_stage}; ''').collect()\n",
    "\n",
    "for r in stage_spdf:\n",
    "    print(f'@{r[\"name\"]}')\n"
   ]
  },
  {
   "cell_type": "code",
   "execution_count": 5,
   "id": "dc86177b",
   "metadata": {},
   "outputs": [
    {
     "name": "stdout",
     "output_type": "stream",
     "text": [
      "Started at: 08:21:37\n",
      " alter warehouse dev_pctransperancy_demo_wh set warehouse_size = XXLARGE; \n",
      "truncate table sflk_pricing_transperancy.public.in_network_rates_segment_header_V2; \n",
      " call sflk_pricing_transperancy.public.innetwork_rates_segheader(\n",
      "            1000000 ,'data_stg/price_transperancy' ,'2022_10_01_priority_health_HMO_in-network-rates.zip');\n",
      "Ended at: 08:39:14\n",
      "Elapsed: 0:17:37.109181\n"
     ]
    }
   ],
   "source": [
    "# Negotiation header parsing\n",
    "\n",
    "start_time = time.time()\n",
    "print(f'Started at: {datetime.now().strftime(\"%H:%M:%S\")}')\n",
    "\n",
    "sql_stmts = [\n",
    "    f''' alter warehouse dev_pctransperancy_demo_wh set warehouse_size = XXLARGE; '''\n",
    "    ,f'''truncate table {config['APP']['database']}.public.in_network_rates_segment_header_V2; '''\n",
    "    ,f''' call {config['APP']['database']}.public.innetwork_rates_segheader(\n",
    "            1000000 ,'{stage_path}' ,'{data_file}');'''\n",
    "]\n",
    "for stmt in sql_stmts:\n",
    "    print(stmt)\n",
    "    sp_session.sql(stmt).collect()\n",
    "\n",
    "end_time = time.time()\n",
    "print(f'Ended at: {datetime.now().strftime(\"%H:%M:%S\")}')\n",
    "\n",
    "elapsed_time = end_time - start_time\n",
    "elapsed = str(timedelta(seconds=elapsed_time))\n",
    "print(f'Elapsed: {elapsed}')\n"
   ]
  },
  {
   "cell_type": "code",
   "execution_count": 6,
   "id": "bc3856ad",
   "metadata": {},
   "outputs": [
    {
     "name": "stdout",
     "output_type": "stream",
     "text": [
      "Started at: 08:39:14\n",
      " alter warehouse dev_pctransperancy_demo_wh set warehouse_size = XSMALL; \n",
      "truncate table sflk_pricing_transperancy.public.task_to_segmentids; \n",
      "truncate table sflk_pricing_transperancy.public.negotiated_arrangment_segments_v2; \n",
      "truncate table sflk_pricing_transperancy.public.segment_task_execution_status; \n",
      " call sflk_pricing_transperancy.public.innetwork_rates_dagbuilder_v2(\n",
      "        100000 ,'data_stg/price_transperancy' ,'2022_10_01_priority_health_HMO_in-network-rates.zip'\n",
      "        ,20 ,current_warehouse() ,true\n",
      "        );\n",
      "Ended at: 08:39:37\n",
      "Elapsed: 0:00:22.796507\n"
     ]
    }
   ],
   "source": [
    "# Dag & task build up\n",
    "\n",
    "start_time = time.time()\n",
    "print(f'Started at: {datetime.now().strftime(\"%H:%M:%S\")}')\n",
    "\n",
    "sql_stmts = [\n",
    "    f''' alter warehouse dev_pctransperancy_demo_wh set warehouse_size = XSMALL; '''\n",
    "    ,f'''truncate table {config['APP']['database']}.public.task_to_segmentids; '''\n",
    "    ,f'''truncate table {config['APP']['database']}.public.negotiated_arrangment_segments_v2; '''\n",
    "    ,f'''truncate table {config['APP']['database']}.public.segment_task_execution_status; '''\n",
    "    ,f''' call {config['APP']['database']}.public.innetwork_rates_dagbuilder_v2(\n",
    "        100000 ,'{stage_path}' ,'{data_file}'\n",
    "        ,20 ,current_warehouse() ,true\n",
    "        );'''\n",
    "]\n",
    "for stmt in sql_stmts:\n",
    "    print(stmt)\n",
    "    sp_session.sql(stmt).collect()\n",
    "\n",
    "end_time = time.time()\n",
    "print(f'Ended at: {datetime.now().strftime(\"%H:%M:%S\")}')\n",
    "\n",
    "elapsed_time = end_time - start_time\n",
    "elapsed = str(timedelta(seconds=elapsed_time))\n",
    "print(f'Elapsed: {elapsed}')\n"
   ]
  },
  {
   "cell_type": "code",
   "execution_count": 7,
   "id": "99b8f25f",
   "metadata": {},
   "outputs": [
    {
     "name": "stdout",
     "output_type": "stream",
     "text": [
      "Started at: 08:39:37\n"
     ]
    },
    {
     "name": "stderr",
     "output_type": "stream",
     "text": [
      "Failed to execute query [queryID: 01a8b333-0402-3d7c-0057-3c0301417d0e]  alter warehouse dev_pctransperancy_demo_wh set warehouse_size = XXXXLARGE; \n",
      "001421 (22023): SQL compilation error:\n",
      "invalid type of property 'XXXXLARGE' for 'WAREHOUSE_SIZE'\n"
     ]
    },
    {
     "ename": "SnowparkSQLException",
     "evalue": "(1304): 01a8b333-0402-3d7c-0057-3c0301417d0e: 001421 (22023): SQL compilation error:\ninvalid type of property 'XXXXLARGE' for 'WAREHOUSE_SIZE'",
     "output_type": "error",
     "traceback": [
      "\u001b[0;31m---------------------------------------------------------------------------\u001b[0m",
      "\u001b[0;31mSnowparkSQLException\u001b[0m                      Traceback (most recent call last)",
      "\u001b[1;32m/Users/vsekar/Dev/GitHub/CMSgov-pricing-transparency-labs/src/notebooks/9_matrix_segments.ipynb Cell 8\u001b[0m in \u001b[0;36m<cell line: 19>\u001b[0;34m()\u001b[0m\n\u001b[1;32m      <a href='vscode-notebook-cell:/Users/vsekar/Dev/GitHub/CMSgov-pricing-transparency-labs/src/notebooks/9_matrix_segments.ipynb#X10sZmlsZQ%3D%3D?line=6'>7</a>\u001b[0m sql_stmts \u001b[39m=\u001b[39m [\n\u001b[1;32m      <a href='vscode-notebook-cell:/Users/vsekar/Dev/GitHub/CMSgov-pricing-transparency-labs/src/notebooks/9_matrix_segments.ipynb#X10sZmlsZQ%3D%3D?line=7'>8</a>\u001b[0m     \u001b[39mf\u001b[39m\u001b[39m'''\u001b[39m\u001b[39m alter warehouse dev_pctransperancy_demo_wh set max_concurrency_level = 3 \u001b[39m\u001b[39m'''\u001b[39m\n\u001b[1;32m      <a href='vscode-notebook-cell:/Users/vsekar/Dev/GitHub/CMSgov-pricing-transparency-labs/src/notebooks/9_matrix_segments.ipynb#X10sZmlsZQ%3D%3D?line=8'>9</a>\u001b[0m     ,\u001b[39mf\u001b[39m\u001b[39m'''\u001b[39m\u001b[39m alter warehouse dev_pctransperancy_demo_wh set warehouse_size = XXXXLARGE; \u001b[39m\u001b[39m'''\u001b[39m\n\u001b[0;32m   (...)\u001b[0m\n\u001b[1;32m     <a href='vscode-notebook-cell:/Users/vsekar/Dev/GitHub/CMSgov-pricing-transparency-labs/src/notebooks/9_matrix_segments.ipynb#X10sZmlsZQ%3D%3D?line=16'>17</a>\u001b[0m     ,\u001b[39mf\u001b[39m\u001b[39m'''\u001b[39m\u001b[39m execute task DAG_ROOT_\u001b[39m\u001b[39m{\u001b[39;00mdata_file_hash\u001b[39m}\u001b[39;00m\u001b[39m; \u001b[39m\u001b[39m'''\u001b[39m\n\u001b[1;32m     <a href='vscode-notebook-cell:/Users/vsekar/Dev/GitHub/CMSgov-pricing-transparency-labs/src/notebooks/9_matrix_segments.ipynb#X10sZmlsZQ%3D%3D?line=17'>18</a>\u001b[0m ]\n\u001b[1;32m     <a href='vscode-notebook-cell:/Users/vsekar/Dev/GitHub/CMSgov-pricing-transparency-labs/src/notebooks/9_matrix_segments.ipynb#X10sZmlsZQ%3D%3D?line=18'>19</a>\u001b[0m \u001b[39mfor\u001b[39;00m stmt \u001b[39min\u001b[39;00m sql_stmts:\n\u001b[0;32m---> <a href='vscode-notebook-cell:/Users/vsekar/Dev/GitHub/CMSgov-pricing-transparency-labs/src/notebooks/9_matrix_segments.ipynb#X10sZmlsZQ%3D%3D?line=19'>20</a>\u001b[0m     sp_session\u001b[39m.\u001b[39;49msql(stmt)\u001b[39m.\u001b[39;49mcollect()\n\u001b[1;32m     <a href='vscode-notebook-cell:/Users/vsekar/Dev/GitHub/CMSgov-pricing-transparency-labs/src/notebooks/9_matrix_segments.ipynb#X10sZmlsZQ%3D%3D?line=21'>22</a>\u001b[0m end_time \u001b[39m=\u001b[39m time\u001b[39m.\u001b[39mtime()\n\u001b[1;32m     <a href='vscode-notebook-cell:/Users/vsekar/Dev/GitHub/CMSgov-pricing-transparency-labs/src/notebooks/9_matrix_segments.ipynb#X10sZmlsZQ%3D%3D?line=22'>23</a>\u001b[0m \u001b[39mprint\u001b[39m(\u001b[39mf\u001b[39m\u001b[39m'\u001b[39m\u001b[39mEnded at: \u001b[39m\u001b[39m{\u001b[39;00mdatetime\u001b[39m.\u001b[39mnow()\u001b[39m.\u001b[39mstrftime(\u001b[39m\"\u001b[39m\u001b[39m%\u001b[39m\u001b[39mH:\u001b[39m\u001b[39m%\u001b[39m\u001b[39mM:\u001b[39m\u001b[39m%\u001b[39m\u001b[39mS\u001b[39m\u001b[39m\"\u001b[39m)\u001b[39m}\u001b[39;00m\u001b[39m'\u001b[39m)\n",
      "File \u001b[0;32m~/opt/anaconda3/envs/snowpark_100/lib/python3.8/site-packages/snowflake/snowpark/_internal/telemetry.py:138\u001b[0m, in \u001b[0;36mdf_collect_api_telemetry.<locals>.wrap\u001b[0;34m(*args, **kwargs)\u001b[0m\n\u001b[1;32m    135\u001b[0m \u001b[39m@functools\u001b[39m\u001b[39m.\u001b[39mwraps(func)\n\u001b[1;32m    136\u001b[0m \u001b[39mdef\u001b[39;00m \u001b[39mwrap\u001b[39m(\u001b[39m*\u001b[39margs, \u001b[39m*\u001b[39m\u001b[39m*\u001b[39mkwargs):\n\u001b[1;32m    137\u001b[0m     \u001b[39mwith\u001b[39;00m args[\u001b[39m0\u001b[39m]\u001b[39m.\u001b[39m_session\u001b[39m.\u001b[39mquery_history() \u001b[39mas\u001b[39;00m query_history:\n\u001b[0;32m--> 138\u001b[0m         result \u001b[39m=\u001b[39m func(\u001b[39m*\u001b[39;49margs, \u001b[39m*\u001b[39;49m\u001b[39m*\u001b[39;49mkwargs)\n\u001b[1;32m    139\u001b[0m     plan \u001b[39m=\u001b[39m args[\u001b[39m0\u001b[39m]\u001b[39m.\u001b[39m_select_statement \u001b[39mor\u001b[39;00m args[\u001b[39m0\u001b[39m]\u001b[39m.\u001b[39m_plan\n\u001b[1;32m    140\u001b[0m     api_calls \u001b[39m=\u001b[39m [\n\u001b[1;32m    141\u001b[0m         \u001b[39m*\u001b[39mplan\u001b[39m.\u001b[39mapi_calls,\n\u001b[1;32m    142\u001b[0m         {TelemetryField\u001b[39m.\u001b[39mNAME\u001b[39m.\u001b[39mvalue: \u001b[39mf\u001b[39m\u001b[39m\"\u001b[39m\u001b[39mDataFrame.\u001b[39m\u001b[39m{\u001b[39;00mfunc\u001b[39m.\u001b[39m\u001b[39m__name__\u001b[39m\u001b[39m}\u001b[39;00m\u001b[39m\"\u001b[39m},\n\u001b[1;32m    143\u001b[0m     ]\n",
      "File \u001b[0;32m~/opt/anaconda3/envs/snowpark_100/lib/python3.8/site-packages/snowflake/snowpark/dataframe.py:549\u001b[0m, in \u001b[0;36mDataFrame.collect\u001b[0;34m(self, statement_params, block)\u001b[0m\n\u001b[1;32m    533\u001b[0m \u001b[39m@df_collect_api_telemetry\u001b[39m\n\u001b[1;32m    534\u001b[0m \u001b[39mdef\u001b[39;00m \u001b[39mcollect\u001b[39m(\n\u001b[1;32m    535\u001b[0m     \u001b[39mself\u001b[39m, \u001b[39m*\u001b[39m, statement_params: Optional[Dict[\u001b[39mstr\u001b[39m, \u001b[39mstr\u001b[39m]] \u001b[39m=\u001b[39m \u001b[39mNone\u001b[39;00m, block: \u001b[39mbool\u001b[39m \u001b[39m=\u001b[39m \u001b[39mTrue\u001b[39;00m\n\u001b[1;32m    536\u001b[0m ) \u001b[39m-\u001b[39m\u001b[39m>\u001b[39m Union[List[Row], AsyncJob]:\n\u001b[1;32m    537\u001b[0m     \u001b[39m\"\"\"Executes the query representing this DataFrame and returns the result as a\u001b[39;00m\n\u001b[1;32m    538\u001b[0m \u001b[39m    list of :class:`Row` objects.\u001b[39;00m\n\u001b[1;32m    539\u001b[0m \n\u001b[0;32m   (...)\u001b[0m\n\u001b[1;32m    547\u001b[0m \u001b[39m        :meth:`collect_nowait()`\u001b[39;00m\n\u001b[1;32m    548\u001b[0m \u001b[39m    \"\"\"\u001b[39;00m\n\u001b[0;32m--> 549\u001b[0m     \u001b[39mreturn\u001b[39;00m \u001b[39mself\u001b[39;49m\u001b[39m.\u001b[39;49m_internal_collect_with_tag_no_telemetry(\n\u001b[1;32m    550\u001b[0m         statement_params\u001b[39m=\u001b[39;49mstatement_params, block\u001b[39m=\u001b[39;49mblock\n\u001b[1;32m    551\u001b[0m     )\n",
      "File \u001b[0;32m~/opt/anaconda3/envs/snowpark_100/lib/python3.8/site-packages/snowflake/snowpark/dataframe.py:584\u001b[0m, in \u001b[0;36mDataFrame._internal_collect_with_tag_no_telemetry\u001b[0;34m(self, statement_params, block, data_type)\u001b[0m\n\u001b[1;32m    574\u001b[0m \u001b[39mdef\u001b[39;00m \u001b[39m_internal_collect_with_tag_no_telemetry\u001b[39m(\n\u001b[1;32m    575\u001b[0m     \u001b[39mself\u001b[39m,\n\u001b[1;32m    576\u001b[0m     \u001b[39m*\u001b[39m,\n\u001b[0;32m   (...)\u001b[0m\n\u001b[1;32m    582\u001b[0m     \u001b[39m# we should always call this method instead of collect(), to make sure the\u001b[39;00m\n\u001b[1;32m    583\u001b[0m     \u001b[39m# query tag is set properly.\u001b[39;00m\n\u001b[0;32m--> 584\u001b[0m     \u001b[39mreturn\u001b[39;00m \u001b[39mself\u001b[39;49m\u001b[39m.\u001b[39;49m_session\u001b[39m.\u001b[39;49m_conn\u001b[39m.\u001b[39;49mexecute(\n\u001b[1;32m    585\u001b[0m         \u001b[39mself\u001b[39;49m\u001b[39m.\u001b[39;49m_plan,\n\u001b[1;32m    586\u001b[0m         block\u001b[39m=\u001b[39;49mblock,\n\u001b[1;32m    587\u001b[0m         data_type\u001b[39m=\u001b[39;49mdata_type,\n\u001b[1;32m    588\u001b[0m         _statement_params\u001b[39m=\u001b[39;49mcreate_or_update_statement_params_with_query_tag(\n\u001b[1;32m    589\u001b[0m             statement_params, \u001b[39mself\u001b[39;49m\u001b[39m.\u001b[39;49m_session\u001b[39m.\u001b[39;49mquery_tag, SKIP_LEVELS_THREE\n\u001b[1;32m    590\u001b[0m         ),\n\u001b[1;32m    591\u001b[0m     )\n",
      "File \u001b[0;32m~/opt/anaconda3/envs/snowpark_100/lib/python3.8/site-packages/snowflake/snowpark/_internal/server_connection.py:406\u001b[0m, in \u001b[0;36mServerConnection.execute\u001b[0;34m(self, plan, to_pandas, to_iter, block, data_type, **kwargs)\u001b[0m\n\u001b[1;32m    402\u001b[0m \u001b[39mif\u001b[39;00m is_in_stored_procedure() \u001b[39mand\u001b[39;00m \u001b[39mnot\u001b[39;00m block:  \u001b[39m# pragma: no cover\u001b[39;00m\n\u001b[1;32m    403\u001b[0m     \u001b[39mraise\u001b[39;00m \u001b[39mNotImplementedError\u001b[39;00m(\n\u001b[1;32m    404\u001b[0m         \u001b[39m\"\u001b[39m\u001b[39mAsync query is not supported in stored procedure yet\u001b[39m\u001b[39m\"\u001b[39m\n\u001b[1;32m    405\u001b[0m     )\n\u001b[0;32m--> 406\u001b[0m result_set, result_meta \u001b[39m=\u001b[39m \u001b[39mself\u001b[39;49m\u001b[39m.\u001b[39;49mget_result_set(\n\u001b[1;32m    407\u001b[0m     plan, to_pandas, to_iter, \u001b[39m*\u001b[39;49m\u001b[39m*\u001b[39;49mkwargs, block\u001b[39m=\u001b[39;49mblock, data_type\u001b[39m=\u001b[39;49mdata_type\n\u001b[1;32m    408\u001b[0m )\n\u001b[1;32m    409\u001b[0m \u001b[39mif\u001b[39;00m \u001b[39mnot\u001b[39;00m block:\n\u001b[1;32m    410\u001b[0m     \u001b[39mreturn\u001b[39;00m result_set\n",
      "File \u001b[0;32m~/opt/anaconda3/envs/snowpark_100/lib/python3.8/site-packages/snowflake/snowpark/_internal/analyzer/snowflake_plan.py:154\u001b[0m, in \u001b[0;36mSnowflakePlan.Decorator.wrap_exception.<locals>.wrap\u001b[0;34m(*args, **kwargs)\u001b[0m\n\u001b[1;32m    150\u001b[0m \u001b[39melse\u001b[39;00m:\n\u001b[1;32m    151\u001b[0m     ne \u001b[39m=\u001b[39m SnowparkClientExceptionMessages\u001b[39m.\u001b[39mSQL_EXCEPTION_FROM_PROGRAMMING_ERROR(\n\u001b[1;32m    152\u001b[0m         e\n\u001b[1;32m    153\u001b[0m     )\n\u001b[0;32m--> 154\u001b[0m     \u001b[39mraise\u001b[39;00m ne\u001b[39m.\u001b[39mwith_traceback(tb) \u001b[39mfrom\u001b[39;00m \u001b[39mNone\u001b[39m\n",
      "File \u001b[0;32m~/opt/anaconda3/envs/snowpark_100/lib/python3.8/site-packages/snowflake/snowpark/_internal/analyzer/snowflake_plan.py:87\u001b[0m, in \u001b[0;36mSnowflakePlan.Decorator.wrap_exception.<locals>.wrap\u001b[0;34m(*args, **kwargs)\u001b[0m\n\u001b[1;32m     85\u001b[0m \u001b[39mdef\u001b[39;00m \u001b[39mwrap\u001b[39m(\u001b[39m*\u001b[39margs, \u001b[39m*\u001b[39m\u001b[39m*\u001b[39mkwargs):\n\u001b[1;32m     86\u001b[0m     \u001b[39mtry\u001b[39;00m:\n\u001b[0;32m---> 87\u001b[0m         \u001b[39mreturn\u001b[39;00m func(\u001b[39m*\u001b[39;49margs, \u001b[39m*\u001b[39;49m\u001b[39m*\u001b[39;49mkwargs)\n\u001b[1;32m     88\u001b[0m     \u001b[39mexcept\u001b[39;00m snowflake\u001b[39m.\u001b[39mconnector\u001b[39m.\u001b[39merrors\u001b[39m.\u001b[39mProgrammingError \u001b[39mas\u001b[39;00m e:\n\u001b[1;32m     89\u001b[0m         tb \u001b[39m=\u001b[39m sys\u001b[39m.\u001b[39mexc_info()[\u001b[39m2\u001b[39m]\n",
      "File \u001b[0;32m~/opt/anaconda3/envs/snowpark_100/lib/python3.8/site-packages/snowflake/snowpark/_internal/server_connection.py:494\u001b[0m, in \u001b[0;36mServerConnection.get_result_set\u001b[0;34m(self, plan, to_pandas, to_iter, block, data_type, **kwargs)\u001b[0m\n\u001b[1;32m    492\u001b[0m \u001b[39mfor\u001b[39;00m holder, id_ \u001b[39min\u001b[39;00m placeholders\u001b[39m.\u001b[39mitems():\n\u001b[1;32m    493\u001b[0m     final_query \u001b[39m=\u001b[39m final_query\u001b[39m.\u001b[39mreplace(holder, id_)\n\u001b[0;32m--> 494\u001b[0m result \u001b[39m=\u001b[39m \u001b[39mself\u001b[39;49m\u001b[39m.\u001b[39;49mrun_query(\n\u001b[1;32m    495\u001b[0m     final_query,\n\u001b[1;32m    496\u001b[0m     to_pandas,\n\u001b[1;32m    497\u001b[0m     to_iter \u001b[39mand\u001b[39;49;00m (i \u001b[39m==\u001b[39;49m \u001b[39mlen\u001b[39;49m(plan\u001b[39m.\u001b[39;49mqueries) \u001b[39m-\u001b[39;49m \u001b[39m1\u001b[39;49m),\n\u001b[1;32m    498\u001b[0m     is_ddl_on_temp_object\u001b[39m=\u001b[39;49mquery\u001b[39m.\u001b[39;49mis_ddl_on_temp_object,\n\u001b[1;32m    499\u001b[0m     block\u001b[39m=\u001b[39;49m\u001b[39mnot\u001b[39;49;00m is_last,\n\u001b[1;32m    500\u001b[0m     data_type\u001b[39m=\u001b[39;49mdata_type,\n\u001b[1;32m    501\u001b[0m     async_job_plan\u001b[39m=\u001b[39;49mplan,\n\u001b[1;32m    502\u001b[0m     \u001b[39m*\u001b[39;49m\u001b[39m*\u001b[39;49mkwargs,\n\u001b[1;32m    503\u001b[0m )\n\u001b[1;32m    504\u001b[0m placeholders[query\u001b[39m.\u001b[39mquery_id_place_holder] \u001b[39m=\u001b[39m (\n\u001b[1;32m    505\u001b[0m     result[\u001b[39m\"\u001b[39m\u001b[39msfqid\u001b[39m\u001b[39m\"\u001b[39m] \u001b[39mif\u001b[39;00m \u001b[39mnot\u001b[39;00m is_last \u001b[39melse\u001b[39;00m result\u001b[39m.\u001b[39mquery_id\n\u001b[1;32m    506\u001b[0m )\n\u001b[1;32m    507\u001b[0m result_meta \u001b[39m=\u001b[39m \u001b[39mself\u001b[39m\u001b[39m.\u001b[39m_cursor\u001b[39m.\u001b[39mdescription\n",
      "File \u001b[0;32m~/opt/anaconda3/envs/snowpark_100/lib/python3.8/site-packages/snowflake/snowpark/_internal/server_connection.py:104\u001b[0m, in \u001b[0;36mServerConnection._Decorator.wrap_exception.<locals>.wrap\u001b[0;34m(*args, **kwargs)\u001b[0m\n\u001b[1;32m    100\u001b[0m     \u001b[39mraise\u001b[39;00m SnowparkClientExceptionMessages\u001b[39m.\u001b[39mSERVER_SESSION_EXPIRED(\n\u001b[1;32m    101\u001b[0m         ex\u001b[39m.\u001b[39mcause\n\u001b[1;32m    102\u001b[0m     )\n\u001b[1;32m    103\u001b[0m \u001b[39mexcept\u001b[39;00m \u001b[39mException\u001b[39;00m \u001b[39mas\u001b[39;00m ex:\n\u001b[0;32m--> 104\u001b[0m     \u001b[39mraise\u001b[39;00m ex\n",
      "File \u001b[0;32m~/opt/anaconda3/envs/snowpark_100/lib/python3.8/site-packages/snowflake/snowpark/_internal/server_connection.py:98\u001b[0m, in \u001b[0;36mServerConnection._Decorator.wrap_exception.<locals>.wrap\u001b[0;34m(*args, **kwargs)\u001b[0m\n\u001b[1;32m     96\u001b[0m     \u001b[39mraise\u001b[39;00m SnowparkClientExceptionMessages\u001b[39m.\u001b[39mSERVER_SESSION_HAS_BEEN_CLOSED()\n\u001b[1;32m     97\u001b[0m \u001b[39mtry\u001b[39;00m:\n\u001b[0;32m---> 98\u001b[0m     \u001b[39mreturn\u001b[39;00m func(\u001b[39m*\u001b[39;49margs, \u001b[39m*\u001b[39;49m\u001b[39m*\u001b[39;49mkwargs)\n\u001b[1;32m     99\u001b[0m \u001b[39mexcept\u001b[39;00m ReauthenticationRequest \u001b[39mas\u001b[39;00m ex:\n\u001b[1;32m    100\u001b[0m     \u001b[39mraise\u001b[39;00m SnowparkClientExceptionMessages\u001b[39m.\u001b[39mSERVER_SESSION_EXPIRED(\n\u001b[1;32m    101\u001b[0m         ex\u001b[39m.\u001b[39mcause\n\u001b[1;32m    102\u001b[0m     )\n",
      "File \u001b[0;32m~/opt/anaconda3/envs/snowpark_100/lib/python3.8/site-packages/snowflake/snowpark/_internal/server_connection.py:333\u001b[0m, in \u001b[0;36mServerConnection.run_query\u001b[0;34m(self, query, to_pandas, to_iter, is_ddl_on_temp_object, block, data_type, async_job_plan, **kwargs)\u001b[0m\n\u001b[1;32m    331\u001b[0m     query_id_log \u001b[39m=\u001b[39m \u001b[39mf\u001b[39m\u001b[39m\"\u001b[39m\u001b[39m [queryID: \u001b[39m\u001b[39m{\u001b[39;00mex\u001b[39m.\u001b[39msfqid\u001b[39m}\u001b[39;00m\u001b[39m]\u001b[39m\u001b[39m\"\u001b[39m \u001b[39mif\u001b[39;00m \u001b[39mhasattr\u001b[39m(ex, \u001b[39m\"\u001b[39m\u001b[39msfqid\u001b[39m\u001b[39m\"\u001b[39m) \u001b[39melse\u001b[39;00m \u001b[39m\"\u001b[39m\u001b[39m\"\u001b[39m\n\u001b[1;32m    332\u001b[0m     logger\u001b[39m.\u001b[39merror(\u001b[39mf\u001b[39m\u001b[39m\"\u001b[39m\u001b[39mFailed to execute query\u001b[39m\u001b[39m{\u001b[39;00mquery_id_log\u001b[39m}\u001b[39;00m\u001b[39m \u001b[39m\u001b[39m{\u001b[39;00mquery\u001b[39m}\u001b[39;00m\u001b[39m\\n\u001b[39;00m\u001b[39m{\u001b[39;00mex\u001b[39m}\u001b[39;00m\u001b[39m\"\u001b[39m)\n\u001b[0;32m--> 333\u001b[0m     \u001b[39mraise\u001b[39;00m ex\n\u001b[1;32m    335\u001b[0m \u001b[39m# fetch_pandas_all/batches() only works for SELECT statements\u001b[39;00m\n\u001b[1;32m    336\u001b[0m \u001b[39m# We call fetchall() if fetch_pandas_all/batches() fails,\u001b[39;00m\n\u001b[1;32m    337\u001b[0m \u001b[39m# because when the query plan has multiple queries, it will\u001b[39;00m\n\u001b[1;32m    338\u001b[0m \u001b[39m# have non-select statements, and it shouldn't fail if the user\u001b[39;00m\n\u001b[1;32m    339\u001b[0m \u001b[39m# calls to_pandas() to execute the query.\u001b[39;00m\n\u001b[1;32m    340\u001b[0m \u001b[39mif\u001b[39;00m block:\n",
      "File \u001b[0;32m~/opt/anaconda3/envs/snowpark_100/lib/python3.8/site-packages/snowflake/snowpark/_internal/server_connection.py:317\u001b[0m, in \u001b[0;36mServerConnection.run_query\u001b[0;34m(self, query, to_pandas, to_iter, is_ddl_on_temp_object, block, data_type, async_job_plan, **kwargs)\u001b[0m\n\u001b[1;32m    315\u001b[0m     kwargs[\u001b[39m\"\u001b[39m\u001b[39m_statement_params\u001b[39m\u001b[39m\"\u001b[39m][\u001b[39m\"\u001b[39m\u001b[39mSNOWPARK_SKIP_TXN_COMMIT_IN_DDL\u001b[39m\u001b[39m\"\u001b[39m] \u001b[39m=\u001b[39m \u001b[39mTrue\u001b[39;00m\n\u001b[1;32m    316\u001b[0m \u001b[39mif\u001b[39;00m block:\n\u001b[0;32m--> 317\u001b[0m     results_cursor \u001b[39m=\u001b[39m \u001b[39mself\u001b[39;49m\u001b[39m.\u001b[39;49m_cursor\u001b[39m.\u001b[39;49mexecute(query, \u001b[39m*\u001b[39;49m\u001b[39m*\u001b[39;49mkwargs)\n\u001b[1;32m    318\u001b[0m     \u001b[39mself\u001b[39m\u001b[39m.\u001b[39mnotify_query_listeners(\n\u001b[1;32m    319\u001b[0m         QueryRecord(results_cursor\u001b[39m.\u001b[39msfqid, results_cursor\u001b[39m.\u001b[39mquery)\n\u001b[1;32m    320\u001b[0m     )\n\u001b[1;32m    321\u001b[0m     logger\u001b[39m.\u001b[39mdebug(\u001b[39mf\u001b[39m\u001b[39m\"\u001b[39m\u001b[39mExecute query [queryID: \u001b[39m\u001b[39m{\u001b[39;00mresults_cursor\u001b[39m.\u001b[39msfqid\u001b[39m}\u001b[39;00m\u001b[39m] \u001b[39m\u001b[39m{\u001b[39;00mquery\u001b[39m}\u001b[39;00m\u001b[39m\"\u001b[39m)\n",
      "File \u001b[0;32m~/opt/anaconda3/envs/snowpark_100/lib/python3.8/site-packages/snowflake/connector/cursor.py:804\u001b[0m, in \u001b[0;36mSnowflakeCursor.execute\u001b[0;34m(self, command, params, _bind_stage, timeout, _exec_async, _no_retry, _do_reset, _put_callback, _put_azure_callback, _put_callback_output_stream, _get_callback, _get_azure_callback, _get_callback_output_stream, _show_progress_bar, _statement_params, _is_internal, _describe_only, _no_results, _is_put_get, _raise_put_get_error, _force_put_overwrite, file_stream)\u001b[0m\n\u001b[1;32m    800\u001b[0m     is_integrity_error \u001b[39m=\u001b[39m (\n\u001b[1;32m    801\u001b[0m         code \u001b[39m==\u001b[39m \u001b[39m\"\u001b[39m\u001b[39m100072\u001b[39m\u001b[39m\"\u001b[39m\n\u001b[1;32m    802\u001b[0m     )  \u001b[39m# NULL result in a non-nullable column\u001b[39;00m\n\u001b[1;32m    803\u001b[0m     error_class \u001b[39m=\u001b[39m IntegrityError \u001b[39mif\u001b[39;00m is_integrity_error \u001b[39melse\u001b[39;00m ProgrammingError\n\u001b[0;32m--> 804\u001b[0m     Error\u001b[39m.\u001b[39;49merrorhandler_wrapper(\u001b[39mself\u001b[39;49m\u001b[39m.\u001b[39;49mconnection, \u001b[39mself\u001b[39;49m, error_class, errvalue)\n\u001b[1;32m    805\u001b[0m \u001b[39mreturn\u001b[39;00m \u001b[39mself\u001b[39m\n",
      "File \u001b[0;32m~/opt/anaconda3/envs/snowpark_100/lib/python3.8/site-packages/snowflake/connector/errors.py:276\u001b[0m, in \u001b[0;36mError.errorhandler_wrapper\u001b[0;34m(connection, cursor, error_class, error_value)\u001b[0m\n\u001b[1;32m    253\u001b[0m \u001b[39m@staticmethod\u001b[39m\n\u001b[1;32m    254\u001b[0m \u001b[39mdef\u001b[39;00m \u001b[39merrorhandler_wrapper\u001b[39m(\n\u001b[1;32m    255\u001b[0m     connection: SnowflakeConnection \u001b[39m|\u001b[39m \u001b[39mNone\u001b[39;00m,\n\u001b[0;32m   (...)\u001b[0m\n\u001b[1;32m    258\u001b[0m     error_value: \u001b[39mdict\u001b[39m[\u001b[39mstr\u001b[39m, \u001b[39mstr\u001b[39m \u001b[39m|\u001b[39m \u001b[39mbool\u001b[39m \u001b[39m|\u001b[39m \u001b[39mint\u001b[39m],\n\u001b[1;32m    259\u001b[0m ) \u001b[39m-\u001b[39m\u001b[39m>\u001b[39m \u001b[39mNone\u001b[39;00m:\n\u001b[1;32m    260\u001b[0m     \u001b[39m\"\"\"Error handler wrapper that calls the errorhandler method.\u001b[39;00m\n\u001b[1;32m    261\u001b[0m \n\u001b[1;32m    262\u001b[0m \u001b[39m    Args:\u001b[39;00m\n\u001b[0;32m   (...)\u001b[0m\n\u001b[1;32m    273\u001b[0m \u001b[39m        exception to the first handler in that order.\u001b[39;00m\n\u001b[1;32m    274\u001b[0m \u001b[39m    \"\"\"\u001b[39;00m\n\u001b[0;32m--> 276\u001b[0m     handed_over \u001b[39m=\u001b[39m Error\u001b[39m.\u001b[39;49mhand_to_other_handler(\n\u001b[1;32m    277\u001b[0m         connection,\n\u001b[1;32m    278\u001b[0m         cursor,\n\u001b[1;32m    279\u001b[0m         error_class,\n\u001b[1;32m    280\u001b[0m         error_value,\n\u001b[1;32m    281\u001b[0m     )\n\u001b[1;32m    282\u001b[0m     \u001b[39mif\u001b[39;00m \u001b[39mnot\u001b[39;00m handed_over:\n\u001b[1;32m    283\u001b[0m         \u001b[39mraise\u001b[39;00m Error\u001b[39m.\u001b[39merrorhandler_make_exception(\n\u001b[1;32m    284\u001b[0m             error_class,\n\u001b[1;32m    285\u001b[0m             error_value,\n\u001b[1;32m    286\u001b[0m         )\n",
      "File \u001b[0;32m~/opt/anaconda3/envs/snowpark_100/lib/python3.8/site-packages/snowflake/connector/errors.py:331\u001b[0m, in \u001b[0;36mError.hand_to_other_handler\u001b[0;34m(connection, cursor, error_class, error_value)\u001b[0m\n\u001b[1;32m    329\u001b[0m \u001b[39mif\u001b[39;00m cursor \u001b[39mis\u001b[39;00m \u001b[39mnot\u001b[39;00m \u001b[39mNone\u001b[39;00m:\n\u001b[1;32m    330\u001b[0m     cursor\u001b[39m.\u001b[39mmessages\u001b[39m.\u001b[39mappend((error_class, error_value))\n\u001b[0;32m--> 331\u001b[0m     cursor\u001b[39m.\u001b[39;49merrorhandler(connection, cursor, error_class, error_value)\n\u001b[1;32m    332\u001b[0m     \u001b[39mreturn\u001b[39;00m \u001b[39mTrue\u001b[39;00m\n\u001b[1;32m    333\u001b[0m \u001b[39melif\u001b[39;00m connection \u001b[39mis\u001b[39;00m \u001b[39mnot\u001b[39;00m \u001b[39mNone\u001b[39;00m:\n",
      "File \u001b[0;32m~/opt/anaconda3/envs/snowpark_100/lib/python3.8/site-packages/snowflake/connector/errors.py:210\u001b[0m, in \u001b[0;36mError.default_errorhandler\u001b[0;34m(connection, cursor, error_class, error_value)\u001b[0m\n\u001b[1;32m    192\u001b[0m \u001b[39m@staticmethod\u001b[39m\n\u001b[1;32m    193\u001b[0m \u001b[39mdef\u001b[39;00m \u001b[39mdefault_errorhandler\u001b[39m(\n\u001b[1;32m    194\u001b[0m     connection: SnowflakeConnection,\n\u001b[0;32m   (...)\u001b[0m\n\u001b[1;32m    197\u001b[0m     error_value: \u001b[39mdict\u001b[39m[\u001b[39mstr\u001b[39m, \u001b[39mstr\u001b[39m],\n\u001b[1;32m    198\u001b[0m ) \u001b[39m-\u001b[39m\u001b[39m>\u001b[39m \u001b[39mNone\u001b[39;00m:\n\u001b[1;32m    199\u001b[0m     \u001b[39m\"\"\"Default error handler that raises an error.\u001b[39;00m\n\u001b[1;32m    200\u001b[0m \n\u001b[1;32m    201\u001b[0m \u001b[39m    Args:\u001b[39;00m\n\u001b[0;32m   (...)\u001b[0m\n\u001b[1;32m    208\u001b[0m \u001b[39m        A Snowflake error.\u001b[39;00m\n\u001b[1;32m    209\u001b[0m \u001b[39m    \"\"\"\u001b[39;00m\n\u001b[0;32m--> 210\u001b[0m     \u001b[39mraise\u001b[39;00m error_class(\n\u001b[1;32m    211\u001b[0m         msg\u001b[39m=\u001b[39merror_value\u001b[39m.\u001b[39mget(\u001b[39m\"\u001b[39m\u001b[39mmsg\u001b[39m\u001b[39m\"\u001b[39m),\n\u001b[1;32m    212\u001b[0m         errno\u001b[39m=\u001b[39merror_value\u001b[39m.\u001b[39mget(\u001b[39m\"\u001b[39m\u001b[39merrno\u001b[39m\u001b[39m\"\u001b[39m),\n\u001b[1;32m    213\u001b[0m         sqlstate\u001b[39m=\u001b[39merror_value\u001b[39m.\u001b[39mget(\u001b[39m\"\u001b[39m\u001b[39msqlstate\u001b[39m\u001b[39m\"\u001b[39m),\n\u001b[1;32m    214\u001b[0m         sfqid\u001b[39m=\u001b[39merror_value\u001b[39m.\u001b[39mget(\u001b[39m\"\u001b[39m\u001b[39msfqid\u001b[39m\u001b[39m\"\u001b[39m),\n\u001b[1;32m    215\u001b[0m         done_format_msg\u001b[39m=\u001b[39merror_value\u001b[39m.\u001b[39mget(\u001b[39m\"\u001b[39m\u001b[39mdone_format_msg\u001b[39m\u001b[39m\"\u001b[39m),\n\u001b[1;32m    216\u001b[0m         connection\u001b[39m=\u001b[39mconnection,\n\u001b[1;32m    217\u001b[0m         cursor\u001b[39m=\u001b[39mcursor,\n\u001b[1;32m    218\u001b[0m     )\n",
      "\u001b[0;31mSnowparkSQLException\u001b[0m: (1304): 01a8b333-0402-3d7c-0057-3c0301417d0e: 001421 (22023): SQL compilation error:\ninvalid type of property 'XXXXLARGE' for 'WAREHOUSE_SIZE'"
     ]
    }
   ],
   "source": [
    "# segment parsing\n",
    "\n",
    "start_time = time.time()\n",
    "print(f'Started at: {datetime.now().strftime(\"%H:%M:%S\")}')\n",
    "dag_start_time = datetime.now().strftime(\"%Y-%m-%d %H:%M:%S\")\n",
    "# XSMALL | SMALL | MEDIUM | LARGE | XLARGE | XXLARGE | XXXLARGE | X4LARGE | X5LARGE | X6LARGE\n",
    "sql_stmts = [\n",
    "    f''' alter warehouse dev_pctransperancy_demo_wh set max_concurrency_level = 3 '''\n",
    "    ,f''' alter warehouse dev_pctransperancy_demo_wh set warehouse_size = X4LARGE; '''\n",
    "    ,f'''truncate table {config['APP']['database']}.public.negotiated_arrangment_segments_v2; '''\n",
    "    ,f'''truncate table {config['APP']['database']}.public.segment_task_execution_status; '''\n",
    "    # ,f''' call {config['APP']['database']}.public.innetwork_rates_segments_ingest_sp(\n",
    "    #     10000000 ,'{stage_path}' ,'{data_file}'\n",
    "    #     ,'negotiated_rates' \n",
    "    #     ,'TSK_092C884B20CE621689355DD8DEC5743E_16');'''\n",
    "\n",
    "    ,f''' execute task DAG_ROOT_{data_file_hash}; '''\n",
    "]\n",
    "for stmt in sql_stmts:\n",
    "    sp_session.sql(stmt).collect()\n",
    "\n",
    "end_time = time.time()\n",
    "print(f'Ended at: {datetime.now().strftime(\"%H:%M:%S\")}')\n",
    "\n",
    "elapsed_time = end_time - start_time\n",
    "elapsed = str(timedelta(seconds=elapsed_time))\n",
    "print(f'Elapsed: {elapsed}')\n",
    "\n"
   ]
  },
  {
   "cell_type": "markdown",
   "id": "b164eebe",
   "metadata": {},
   "source": [
    "---\n",
    "\n",
    "Observations"
   ]
  },
  {
   "cell_type": "code",
   "execution_count": null,
   "id": "9a1af64e",
   "metadata": {},
   "outputs": [],
   "source": [
    "# Monitor task to ensure that there are no errors\n",
    "\n",
    "dag_start_time = '2022-11-25 10:11:00'\n",
    "print(f'DAG start time: {dag_start_time}')\n",
    "\n",
    "sql_stmt = f'''\n",
    "select \n",
    "    name ,state ,error_code ,error_message\n",
    "  from table(information_schema.task_history(\n",
    "    scheduled_time_range_start=>to_timestamp_ltz('{dag_start_time} -0500')\n",
    "    ,ERROR_ONLY => TRUE\n",
    "  ))\n",
    "  where state not in ('SUCCEEDED')\n",
    "  order by state asc\n",
    ";'''\n",
    "df = sp_session.sql(sql_stmt).to_pandas()\n",
    "display(df)\n"
   ]
  },
  {
   "cell_type": "code",
   "execution_count": null,
   "id": "eb9d1f67",
   "metadata": {},
   "outputs": [],
   "source": [
    "sql_stmt = f'''\n",
    "select min(l.inserted_at) as started_at ,max(l.inserted_at) as latest \n",
    " ,TIMESTAMPDIFF(minutes, started_at ,latest) as elapsed_min_latest\n",
    " ,TIMESTAMPDIFF(minutes, started_at ,current_timestamp()) as elapsed_min \n",
    " ,least(elapsed_min_latest ,elapsed_min)/60 as elapsed_hr\n",
    " ,count(l.task_name) as task_count\n",
    "-- #,timediff(minutes, started_at ,latest) as elapsed_minutes \n",
    "from {config['APP']['database']}.public.segment_task_execution_status as l\n",
    " ;\n",
    "    '''\n",
    "df = sp_session.sql(sql_stmt).to_pandas()\n",
    "display(df)"
   ]
  },
  {
   "cell_type": "code",
   "execution_count": null,
   "id": "dd663d83",
   "metadata": {},
   "outputs": [],
   "source": [
    "\n",
    "\n",
    "sql_stmt = f'''\n",
    "        select 'total_headers' ,sum(negotiated_rates_count)\n",
    "            from {config['APP']['database']}.public.in_network_rates_segment_header_V2\n",
    "        union\n",
    "        select 'current_records_loaded' ,count(*) as rec_count \n",
    "            from {config['APP']['database']}.public.negotiated_arrangment_segments_v2\n",
    "            group by data_file\n",
    "        ;\n",
    "    '''\n",
    "df = sp_session.sql(sql_stmt).to_pandas()\n",
    "display(df)"
   ]
  },
  {
   "cell_type": "code",
   "execution_count": null,
   "id": "227e84ac",
   "metadata": {},
   "outputs": [],
   "source": [
    "sql_stmt = f'''\n",
    "        select segment_id ,count(*) as rec_count \n",
    "        from {config['APP']['database']}.public.negotiated_arrangment_segments_v2\n",
    "        group by segment_id\n",
    "        ;\n",
    "    '''\n",
    "df = sp_session.sql(sql_stmt).to_pandas()\n",
    "display(df)\n"
   ]
  },
  {
   "cell_type": "code",
   "execution_count": null,
   "id": "3c7f4013",
   "metadata": {},
   "outputs": [],
   "source": [
    "sql_stmt = f'''\n",
    "        select *\n",
    "        from {config['APP']['database']}.public.segment_task_execution_status\n",
    "        ;\n",
    "    '''\n",
    "df = sp_session.sql(sql_stmt).to_pandas()\n",
    "display(df)"
   ]
  },
  {
   "cell_type": "code",
   "execution_count": null,
   "id": "fa89cf39",
   "metadata": {},
   "outputs": [],
   "source": [
    "# x_df = df.set_index('SEGMENT_ID')\n",
    "y_df = pd.qcut(df['NEGOTIATED_RATES_COUNT'], 10 ,labels=False)\n",
    "# q_df.columns = 'CLASS'\n",
    "# q_df\n",
    "\n",
    "q_df = pd.DataFrame({'CLASS':y_df.values})\n",
    "q_df\n",
    "# q_df.value_counts()"
   ]
  },
  {
   "cell_type": "code",
   "execution_count": null,
   "id": "2a2f48c6",
   "metadata": {},
   "outputs": [],
   "source": [
    "# df.join(q_df)\n",
    "# q_df.columns\n",
    "# df.columns\n",
    "x_df = pd.concat([df ,q_df] ,axis=1)\n",
    "x_df"
   ]
  },
  {
   "cell_type": "code",
   "execution_count": null,
   "id": "58a7d988",
   "metadata": {},
   "outputs": [],
   "source": [
    "x_df.groupby('CLASS')['NEGOTIATED_RATES_COUNT'].sum()"
   ]
  },
  {
   "cell_type": "code",
   "execution_count": null,
   "id": "1f87efb5",
   "metadata": {
    "tags": [
     "test"
    ]
   },
   "outputs": [],
   "source": [
    "# from datetime import datetime\n",
    "# now = datetime.now()\n",
    "\n",
    "# start_time = now.strftime(\"%H:%M:%S\")\n",
    "# print(f'Started at: {start_time}')\n",
    "\n",
    "# sql_stmts = [\n",
    "#     f''' alter warehouse dev_pctransperancy_demo_wh set warehouse_size = XSMALL; '''\n",
    "#     ,f'''truncate table {config['APP']['database']}.public.in_network_rates_segment_header_V2; '''\n",
    "#     ,f''' call {config['APP']['database']}.public.innetwork_rates_segheader(\n",
    "#             1000 ,'data_stg/price_transperancy' ,'2022_10_01_priority_health_HMO_in-network-rates.zip');'''\n",
    "# ]\n",
    "# for stmt in sql_stmts:\n",
    "#     sp_session.sql(stmt).collect()\n",
    "\n",
    "# now = datetime.now()\n",
    "# end_time = now.strftime(\"%H:%M:%S\")\n",
    "# print(f'Ended at: {end_time}')"
   ]
  },
  {
   "cell_type": "markdown",
   "id": "7c9c36b0",
   "metadata": {},
   "source": [
    "---\n",
    "### TBL"
   ]
  },
  {
   "cell_type": "code",
   "execution_count": null,
   "id": "d705b54f",
   "metadata": {},
   "outputs": [],
   "source": [
    "df = sp_session.table(f'''{config['APP']['database']}.public.in_network_rates_segment_header_V2''').limit(10).to_pandas()\n",
    "display(df)"
   ]
  },
  {
   "cell_type": "markdown",
   "id": "198bfcc7",
   "metadata": {},
   "source": [
    "#### TODO : Perform some model analysis \n",
    " - accuracy score\n",
    " - error rate calculation\n",
    " - confusion matrix\n",
    "  ..."
   ]
  },
  {
   "cell_type": "markdown",
   "id": "1d6ffbf6",
   "metadata": {},
   "source": [
    "--- \n",
    "### Closeout\n",
    "\n",
    "    With that we are finished this section of the demo setup"
   ]
  },
  {
   "cell_type": "code",
   "execution_count": null,
   "id": "192cf880",
   "metadata": {},
   "outputs": [],
   "source": [
    "# sp_session.close()\n",
    "print('Finished!!!')"
   ]
  },
  {
   "cell_type": "code",
   "execution_count": null,
   "id": "cad5d468",
   "metadata": {},
   "outputs": [],
   "source": [
    "employees = [('Stuti', 28, 'Varanasi', 20000),\n",
    "            ('Saumya', 32, 'Delhi', 25000),\n",
    "            ('Aaditya', 25, 'Mumbai', 40000),\n",
    "            ('Saumya', 32, 'Delhi', 35000),\n",
    "            ('Saumya', 32, 'Delhi', 30000),\n",
    "            ('Saumya', 32, 'Mumbai', 20000),\n",
    "            ('Aaditya', 40, 'Dehradun', 24000),\n",
    "            ('Seema', 32, 'Delhi', 70000)\n",
    "            ]\n",
    " \n",
    "# Create a DataFrame object from list\n",
    "df = pd.DataFrame(employees,\n",
    "                columns =['Name', 'Age',\n",
    "                        'City', 'Salary'])\n",
    "# Show the dataframe\n",
    "df"
   ]
  },
  {
   "cell_type": "code",
   "execution_count": null,
   "id": "72652b5c",
   "metadata": {},
   "outputs": [],
   "source": [
    "df.iloc[3:5,]"
   ]
  }
 ],
 "metadata": {
  "kernelspec": {
   "display_name": "Python 3.8.13 ('snowpark_100')",
   "language": "python",
   "name": "python3"
  },
  "language_info": {
   "codemirror_mode": {
    "name": "ipython",
    "version": 3
   },
   "file_extension": ".py",
   "mimetype": "text/x-python",
   "name": "python",
   "nbconvert_exporter": "python",
   "pygments_lexer": "ipython3",
   "version": "3.8.13"
  },
  "vscode": {
   "interpreter": {
    "hash": "86e53f16f7f2849030caf3156b7b9fd1966f27ea0571958c45db51737201e9c6"
   }
  }
 },
 "nbformat": 4,
 "nbformat_minor": 5
}
