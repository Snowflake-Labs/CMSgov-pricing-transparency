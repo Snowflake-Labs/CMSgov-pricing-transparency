{
 "cells": [
  {
   "cell_type": "markdown",
   "id": "e4022bce",
   "metadata": {},
   "source": [
    "# Blah"
   ]
  },
  {
   "cell_type": "code",
   "execution_count": 1,
   "id": "4f152540",
   "metadata": {},
   "outputs": [],
   "source": [
    "from IPython.display import display, HTML, Image , Markdown\n",
    "from snowflake.snowpark.session import Session\n",
    "from snowflake.snowpark.types import * \n",
    "import snowflake.snowpark.functions as F\n",
    "import os ,configparser ,json\n",
    "\n",
    "# Source various helper functions\n",
    "%run ../scripts/notebook_helpers.py\n",
    "\n",
    "PROJECT_HOME_DIR = '../../'\n",
    "CONFIG_FL = f'{PROJECT_HOME_DIR}/config.ini'"
   ]
  },
  {
   "cell_type": "code",
   "execution_count": 2,
   "id": "38c6664f",
   "metadata": {},
   "outputs": [
    {
     "data": {
      "text/markdown": [
       "### Initialization"
      ],
      "text/plain": [
       "<IPython.core.display.Markdown object>"
      ]
     },
     "metadata": {},
     "output_type": "display_data"
    },
    {
     "name": "stdout",
     "output_type": "stream",
     "text": [
      " Initialize Snowpark session\n"
     ]
    },
    {
     "data": {
      "text/html": [
       "<div>\n",
       "<style scoped>\n",
       "    .dataframe tbody tr th:only-of-type {\n",
       "        vertical-align: middle;\n",
       "    }\n",
       "\n",
       "    .dataframe tbody tr th {\n",
       "        vertical-align: top;\n",
       "    }\n",
       "\n",
       "    .dataframe thead th {\n",
       "        text-align: right;\n",
       "    }\n",
       "</style>\n",
       "<table border=\"1\" class=\"dataframe\">\n",
       "  <thead>\n",
       "    <tr style=\"text-align: right;\">\n",
       "      <th></th>\n",
       "      <th>CURRENT_ACCOUNT()</th>\n",
       "      <th>CURRENT_USER()</th>\n",
       "      <th>CURRENT_ROLE()</th>\n",
       "    </tr>\n",
       "  </thead>\n",
       "  <tbody>\n",
       "    <tr>\n",
       "      <th>0</th>\n",
       "      <td>ANA95816</td>\n",
       "      <td>VSEKAR</td>\n",
       "      <td>DEV_PCTRANSPERANCY_DEMO_RL</td>\n",
       "    </tr>\n",
       "  </tbody>\n",
       "</table>\n",
       "</div>"
      ],
      "text/plain": [
       "  CURRENT_ACCOUNT() CURRENT_USER()              CURRENT_ROLE()\n",
       "0          ANA95816         VSEKAR  DEV_PCTRANSPERANCY_DEMO_RL"
      ]
     },
     "metadata": {},
     "output_type": "display_data"
    }
   ],
   "source": [
    "display(Markdown(\"### Initialization\"))\n",
    "\n",
    "config = configparser.ConfigParser()\n",
    "sp_session = None\n",
    "\n",
    "print(\" Initialize Snowpark session\")\n",
    "with open(CONFIG_FL) as f:\n",
    "    config.read(CONFIG_FL)\n",
    "    snow_conn_flpath =  f\"{PROJECT_HOME_DIR}/{config['APP']['connection_fl']}\"\n",
    "    \n",
    "    # ------------\n",
    "    # Connect to snowflake\n",
    "    with open(snow_conn_flpath) as conn_f:\n",
    "        snow_conn_info = json.load(conn_f)\n",
    "        sp_session = Session.builder.configs(snow_conn_info).create()\n",
    "\n",
    "if(sp_session == None):\n",
    "    raise(f'Unable to connect to snowflake. Validate connection information in file: {CONFIG_FL} ')\n",
    "\n",
    "sp_session.sql(f''' use role {config['APP']['role']}; ''').collect()\n",
    "sp_session.sql(f''' use database {config['APP']['database']}; ''').collect()\n",
    "sp_session.sql(f''' use warehouse {config['APP']['warehouse']}; ''').collect()\n",
    "\n",
    "df = sp_session.sql('select current_account() ,current_user() ,current_role();').to_pandas()\n",
    "display(df)"
   ]
  },
  {
   "cell_type": "code",
   "execution_count": 47,
   "id": "023de96b",
   "metadata": {},
   "outputs": [
    {
     "data": {
      "text/plain": [
       "'092c884b20ce621689355dd8dec5743e'"
      ]
     },
     "execution_count": 47,
     "metadata": {},
     "output_type": "execute_result"
    }
   ],
   "source": [
    "from datetime import datetime\n",
    "from datetime import timedelta\n",
    "import time\n",
    "import hashlib\n",
    "\n",
    "data_file = '2022_10_01_priority_health_HMO_in-network-rates.zip'\n",
    "stage_path = 'data_stg/price_transperancy'\n",
    "\n",
    "# data_file = '2022_07_01_priority_health_HMO_in-network-rates.json'\n",
    "# data_file = '2022_07_01_priority_health_HMO_in-network-rates.json'\n",
    "# data_file = '2022-11-01_cigna-health-life-insurance-company_national-oap_in-network-rates.json.gz'\n",
    "# stage_path = 'ext_data_stg/data'\n",
    "\n",
    "data_file_hash = hashlib.md5(data_file.encode()).hexdigest()\n",
    "data_file_hash"
   ]
  },
  {
   "cell_type": "code",
   "execution_count": 48,
   "id": "108bf444",
   "metadata": {},
   "outputs": [
    {
     "name": "stdout",
     "output_type": "stream",
     "text": [
      " Uploading library to stage: sflk_pricing_transperancy.public.lib_stg \n",
      "    ../python/in-network-rates_v2/ingest-in-network-rates-seg-header_sp_v2.py => @lib_stg/scripts\n",
      "    ../python/in-network-rates_v2/in-network-rates-segment-dagbuilder-v2-segment-count.py => @lib_stg/scripts\n",
      "    ../python/in-network-rates_v2/ingest-in-network-rates-segment-lists_sp.py => @lib_stg/scripts\n",
      "    ../python/in-network-rates_v2/in-network-rates-segment-dagbuilder-v2.py => @lib_stg/scripts\n",
      " List stage directory !!\n",
      "@lib_stg/scripts/in-network-rates-segment-dagbuilder-v2-segment-count.py\n",
      "@lib_stg/scripts/in-network-rates-segment-dagbuilder-v2.py\n",
      "@lib_stg/scripts/ingest-in-network-rates-seg-header_sp_v2.py\n",
      "@lib_stg/scripts/ingest-in-network-rates-segment-lists_sp.py\n"
     ]
    }
   ],
   "source": [
    "# Upload libraries to stage\n",
    "lib_stage = config['APP']['lib_stage']\n",
    "\n",
    "upload_locallibraries_to_p_stage(sp_session ,'../python/in-network-rates_v2' ,config['APP']['database'] ,'public' ,lib_stage ,'scripts')\n",
    "\n",
    "print(' List stage directory !!')\n",
    "stage_spdf = sp_session.sql(f'''list @{config['APP']['database']}.public.{lib_stage}; ''').collect()\n",
    "\n",
    "for r in stage_spdf:\n",
    "    print(f'@{r[\"name\"]}')\n"
   ]
  },
  {
   "cell_type": "code",
   "execution_count": 4,
   "id": "dc86177b",
   "metadata": {},
   "outputs": [],
   "source": [
    "# Negotiation header parsing\n",
    "\n",
    "start_time = time.time()\n",
    "print(f'Started at: {datetime.now().strftime(\"%H:%M:%S\")}')\n",
    "\n",
    "sql_stmts = [\n",
    "    f'''truncate table {config['APP']['database']}.public.in_network_rates_segment_header_V2; '''\n",
    "    ,f''' call {config['APP']['database']}.public.innetwork_rates_segheader(\n",
    "            1000000 ,'{stage_path}' ,'{data_file}');'''\n",
    "]\n",
    "for stmt in sql_stmts:\n",
    "    print(stmt)\n",
    "    sp_session.sql(stmt).collect()\n",
    "\n",
    "end_time = time.time()\n",
    "print(f'Ended at: {datetime.now().strftime(\"%H:%M:%S\")}')\n",
    "\n",
    "elapsed_time = end_time - start_time\n",
    "elapsed = str(timedelta(seconds=elapsed_time))\n",
    "print(f'Elapsed: {elapsed}')\n"
   ]
  },
  {
   "cell_type": "code",
   "execution_count": 5,
   "id": "bc3856ad",
   "metadata": {},
   "outputs": [
    {
     "name": "stdout",
     "output_type": "stream",
     "text": [
      "Started at: 08:05:14\n",
      " alter warehouse dev_pctransperancy_demo_wh set warehouse_size = XSMALL; \n",
      "truncate table sflk_pricing_transperancy.public.task_to_segmentids; \n",
      "truncate table sflk_pricing_transperancy.public.negotiated_arrangment_segments_v2; \n",
      "truncate table sflk_pricing_transperancy.public.segment_task_execution_status; \n",
      " call sflk_pricing_transperancy.public.innetwork_rates_dagbuilder_v2(\n",
      "        100000 ,'ext_data_stg/data' ,'2022-11-01_cigna-health-life-insurance-company_national-oap_in-network-rates.json.gz'\n",
      "        ,100 ,current_warehouse() ,true\n",
      "        );\n",
      "Ended at: 08:06:37\n",
      "Elapsed: 0:01:23.516363\n"
     ]
    }
   ],
   "source": [
    "# Dag & task build up\n",
    "\n",
    "start_time = time.time()\n",
    "print(f'Started at: {datetime.now().strftime(\"%H:%M:%S\")}')\n",
    "\n",
    "sql_stmts = [\n",
    "    f''' alter warehouse dev_pctransperancy_demo_wh set warehouse_size = XSMALL; '''\n",
    "    ,f'''truncate table {config['APP']['database']}.public.task_to_segmentids; '''\n",
    "    ,f'''truncate table {config['APP']['database']}.public.negotiated_arrangment_segments_v2; '''\n",
    "    ,f'''truncate table {config['APP']['database']}.public.segment_task_execution_status; '''\n",
    "    ,f''' call {config['APP']['database']}.public.innetwork_rates_dagbuilder_v2(\n",
    "        100000 ,'{stage_path}' ,'{data_file}'\n",
    "        ,100 ,current_warehouse() ,true\n",
    "        );'''\n",
    "]\n",
    "for stmt in sql_stmts:\n",
    "    print(stmt)\n",
    "    sp_session.sql(stmt).collect()\n",
    "\n",
    "end_time = time.time()\n",
    "print(f'Ended at: {datetime.now().strftime(\"%H:%M:%S\")}')\n",
    "\n",
    "elapsed_time = end_time - start_time\n",
    "elapsed = str(timedelta(seconds=elapsed_time))\n",
    "print(f'Elapsed: {elapsed}')\n"
   ]
  },
  {
   "cell_type": "code",
   "execution_count": 14,
   "id": "99b8f25f",
   "metadata": {},
   "outputs": [
    {
     "name": "stdout",
     "output_type": "stream",
     "text": [
      "Started at: 08:23:58\n",
      "Ended at: 08:23:59\n",
      "Elapsed: 0:00:01.379324\n"
     ]
    }
   ],
   "source": [
    "# segment parsing\n",
    "\n",
    "start_time = time.time()\n",
    "print(f'Started at: {datetime.now().strftime(\"%H:%M:%S\")}')\n",
    "\n",
    "sql_stmts = [\n",
    "    f''' alter warehouse dev_pctransperancy_demo_wh set max_concurrency_level = 3 '''\n",
    "    ,f''' alter warehouse dev_pctransperancy_demo_wh set warehouse_size = XXXLARGE; '''\n",
    "    ,f'''truncate table {config['APP']['database']}.public.negotiated_arrangment_segments_v2; '''\n",
    "    ,f'''truncate table {config['APP']['database']}.public.segment_task_execution_status; '''\n",
    "    # ,f''' call {config['APP']['database']}.public.innetwork_rates_segments_ingest_sp(\n",
    "    #     10000000 ,'{stage_path}' ,'{data_file}'\n",
    "    #     ,'negotiated_rates' \n",
    "    #     ,'TSK_092C884B20CE621689355DD8DEC5743E_16');'''\n",
    "\n",
    "    ,f''' execute task DAG_ROOT_{data_file_hash}; '''\n",
    "]\n",
    "for stmt in sql_stmts:\n",
    "    sp_session.sql(stmt).collect()\n",
    "\n",
    "end_time = time.time()\n",
    "print(f'Ended at: {datetime.now().strftime(\"%H:%M:%S\")}')\n",
    "\n",
    "elapsed_time = end_time - start_time\n",
    "elapsed = str(timedelta(seconds=elapsed_time))\n",
    "print(f'Elapsed: {elapsed}')"
   ]
  },
  {
   "cell_type": "markdown",
   "id": "b164eebe",
   "metadata": {},
   "source": [
    "---\n",
    "\n",
    "Observations"
   ]
  },
  {
   "cell_type": "code",
   "execution_count": 40,
   "id": "9a1af64e",
   "metadata": {},
   "outputs": [
    {
     "data": {
      "text/html": [
       "<div>\n",
       "<style scoped>\n",
       "    .dataframe tbody tr th:only-of-type {\n",
       "        vertical-align: middle;\n",
       "    }\n",
       "\n",
       "    .dataframe tbody tr th {\n",
       "        vertical-align: top;\n",
       "    }\n",
       "\n",
       "    .dataframe thead th {\n",
       "        text-align: right;\n",
       "    }\n",
       "</style>\n",
       "<table border=\"1\" class=\"dataframe\">\n",
       "  <thead>\n",
       "    <tr style=\"text-align: right;\">\n",
       "      <th></th>\n",
       "      <th>NAME</th>\n",
       "      <th>STATE</th>\n",
       "      <th>ERROR_CODE</th>\n",
       "      <th>ERROR_MESSAGE</th>\n",
       "    </tr>\n",
       "  </thead>\n",
       "  <tbody>\n",
       "    <tr>\n",
       "      <th>0</th>\n",
       "      <td>TSK_824B844C46F99EF08898F2620C0B2903_55</td>\n",
       "      <td>EXECUTING</td>\n",
       "      <td>None</td>\n",
       "      <td>None</td>\n",
       "    </tr>\n",
       "    <tr>\n",
       "      <th>1</th>\n",
       "      <td>TSK_824B844C46F99EF08898F2620C0B2903_15</td>\n",
       "      <td>EXECUTING</td>\n",
       "      <td>None</td>\n",
       "      <td>None</td>\n",
       "    </tr>\n",
       "    <tr>\n",
       "      <th>2</th>\n",
       "      <td>TSK_824B844C46F99EF08898F2620C0B2903_95</td>\n",
       "      <td>EXECUTING</td>\n",
       "      <td>None</td>\n",
       "      <td>None</td>\n",
       "    </tr>\n",
       "    <tr>\n",
       "      <th>3</th>\n",
       "      <td>TSK_824B844C46F99EF08898F2620C0B2903_5</td>\n",
       "      <td>EXECUTING</td>\n",
       "      <td>None</td>\n",
       "      <td>None</td>\n",
       "    </tr>\n",
       "    <tr>\n",
       "      <th>4</th>\n",
       "      <td>TSK_824B844C46F99EF08898F2620C0B2903_85</td>\n",
       "      <td>EXECUTING</td>\n",
       "      <td>None</td>\n",
       "      <td>None</td>\n",
       "    </tr>\n",
       "    <tr>\n",
       "      <th>5</th>\n",
       "      <td>TSK_824B844C46F99EF08898F2620C0B2903_65</td>\n",
       "      <td>EXECUTING</td>\n",
       "      <td>None</td>\n",
       "      <td>None</td>\n",
       "    </tr>\n",
       "    <tr>\n",
       "      <th>6</th>\n",
       "      <td>TSK_824B844C46F99EF08898F2620C0B2903_25</td>\n",
       "      <td>EXECUTING</td>\n",
       "      <td>None</td>\n",
       "      <td>None</td>\n",
       "    </tr>\n",
       "    <tr>\n",
       "      <th>7</th>\n",
       "      <td>TSK_824B844C46F99EF08898F2620C0B2903_75</td>\n",
       "      <td>EXECUTING</td>\n",
       "      <td>None</td>\n",
       "      <td>None</td>\n",
       "    </tr>\n",
       "    <tr>\n",
       "      <th>8</th>\n",
       "      <td>TSK_824B844C46F99EF08898F2620C0B2903_35</td>\n",
       "      <td>EXECUTING</td>\n",
       "      <td>None</td>\n",
       "      <td>None</td>\n",
       "    </tr>\n",
       "    <tr>\n",
       "      <th>9</th>\n",
       "      <td>TSK_824B844C46F99EF08898F2620C0B2903_45</td>\n",
       "      <td>SCHEDULED</td>\n",
       "      <td>None</td>\n",
       "      <td>None</td>\n",
       "    </tr>\n",
       "  </tbody>\n",
       "</table>\n",
       "</div>"
      ],
      "text/plain": [
       "                                      NAME      STATE ERROR_CODE ERROR_MESSAGE\n",
       "0  TSK_824B844C46F99EF08898F2620C0B2903_55  EXECUTING       None          None\n",
       "1  TSK_824B844C46F99EF08898F2620C0B2903_15  EXECUTING       None          None\n",
       "2  TSK_824B844C46F99EF08898F2620C0B2903_95  EXECUTING       None          None\n",
       "3   TSK_824B844C46F99EF08898F2620C0B2903_5  EXECUTING       None          None\n",
       "4  TSK_824B844C46F99EF08898F2620C0B2903_85  EXECUTING       None          None\n",
       "5  TSK_824B844C46F99EF08898F2620C0B2903_65  EXECUTING       None          None\n",
       "6  TSK_824B844C46F99EF08898F2620C0B2903_25  EXECUTING       None          None\n",
       "7  TSK_824B844C46F99EF08898F2620C0B2903_75  EXECUTING       None          None\n",
       "8  TSK_824B844C46F99EF08898F2620C0B2903_35  EXECUTING       None          None\n",
       "9  TSK_824B844C46F99EF08898F2620C0B2903_45  SCHEDULED       None          None"
      ]
     },
     "metadata": {},
     "output_type": "display_data"
    }
   ],
   "source": [
    "sql_stmt = f'''\n",
    "select \n",
    "    name ,state ,error_code ,error_message\n",
    "  from table(information_schema.task_history(\n",
    "    scheduled_time_range_start=>to_timestamp_ltz('2022-11-25 8:23:00.000 -0500')\n",
    "    -- ,ERROR_ONLY => TRUE\n",
    "  ))\n",
    "  where state not in ('SUCCEEDED')\n",
    "  order by state asc\n",
    ";'''\n",
    "df = sp_session.sql(sql_stmt).to_pandas()\n",
    "display(df)\n"
   ]
  },
  {
   "cell_type": "code",
   "execution_count": 43,
   "id": "eb9d1f67",
   "metadata": {},
   "outputs": [
    {
     "data": {
      "text/html": [
       "<div>\n",
       "<style scoped>\n",
       "    .dataframe tbody tr th:only-of-type {\n",
       "        vertical-align: middle;\n",
       "    }\n",
       "\n",
       "    .dataframe tbody tr th {\n",
       "        vertical-align: top;\n",
       "    }\n",
       "\n",
       "    .dataframe thead th {\n",
       "        text-align: right;\n",
       "    }\n",
       "</style>\n",
       "<table border=\"1\" class=\"dataframe\">\n",
       "  <thead>\n",
       "    <tr style=\"text-align: right;\">\n",
       "      <th></th>\n",
       "      <th>STARTED_AT</th>\n",
       "      <th>LATEST</th>\n",
       "      <th>ELAPSED_MIN_LATEST</th>\n",
       "      <th>ELAPSED_MIN</th>\n",
       "      <th>ELAPSED_HR</th>\n",
       "      <th>TASK_COUNT</th>\n",
       "    </tr>\n",
       "  </thead>\n",
       "  <tbody>\n",
       "    <tr>\n",
       "      <th>0</th>\n",
       "      <td>2022-11-25 05:24:03.624</td>\n",
       "      <td>2022-11-25 06:10:40.676</td>\n",
       "      <td>46</td>\n",
       "      <td>61</td>\n",
       "      <td>0.766667</td>\n",
       "      <td>102</td>\n",
       "    </tr>\n",
       "  </tbody>\n",
       "</table>\n",
       "</div>"
      ],
      "text/plain": [
       "               STARTED_AT                  LATEST  ELAPSED_MIN_LATEST  \\\n",
       "0 2022-11-25 05:24:03.624 2022-11-25 06:10:40.676                  46   \n",
       "\n",
       "   ELAPSED_MIN ELAPSED_HR  TASK_COUNT  \n",
       "0           61   0.766667         102  "
      ]
     },
     "metadata": {},
     "output_type": "display_data"
    }
   ],
   "source": [
    "sql_stmt = f'''\n",
    "select min(l.inserted_at) as started_at ,max(l.inserted_at) as latest \n",
    " ,TIMESTAMPDIFF(minutes, started_at ,latest) as elapsed_min_latest\n",
    " ,TIMESTAMPDIFF(minutes, started_at ,current_timestamp()) as elapsed_min \n",
    " ,least(elapsed_min_latest ,elapsed_min)/60 as elapsed_hr\n",
    " ,count(l.task_name) as task_count\n",
    "-- #,timediff(minutes, started_at ,latest) as elapsed_minutes \n",
    "from {config['APP']['database']}.public.segment_task_execution_status as l\n",
    " ;\n",
    "    '''\n",
    "df = sp_session.sql(sql_stmt).to_pandas()\n",
    "display(df)"
   ]
  },
  {
   "cell_type": "code",
   "execution_count": 33,
   "id": "227e84ac",
   "metadata": {},
   "outputs": [
    {
     "data": {
      "text/html": [
       "<div>\n",
       "<style scoped>\n",
       "    .dataframe tbody tr th:only-of-type {\n",
       "        vertical-align: middle;\n",
       "    }\n",
       "\n",
       "    .dataframe tbody tr th {\n",
       "        vertical-align: top;\n",
       "    }\n",
       "\n",
       "    .dataframe thead th {\n",
       "        text-align: right;\n",
       "    }\n",
       "</style>\n",
       "<table border=\"1\" class=\"dataframe\">\n",
       "  <thead>\n",
       "    <tr style=\"text-align: right;\">\n",
       "      <th></th>\n",
       "      <th>SEGMENT_ID</th>\n",
       "      <th>REC_COUNT</th>\n",
       "    </tr>\n",
       "  </thead>\n",
       "  <tbody>\n",
       "    <tr>\n",
       "      <th>0</th>\n",
       "      <td>b6bafecc-f57a-4a60-b926-0dbc3284daab</td>\n",
       "      <td>12</td>\n",
       "    </tr>\n",
       "    <tr>\n",
       "      <th>1</th>\n",
       "      <td>4f9262cc-c77d-4b18-a19d-586c65f3953a</td>\n",
       "      <td>308</td>\n",
       "    </tr>\n",
       "    <tr>\n",
       "      <th>2</th>\n",
       "      <td>50c1e3ef-23ec-4401-afd6-926c99efa60b</td>\n",
       "      <td>5</td>\n",
       "    </tr>\n",
       "    <tr>\n",
       "      <th>3</th>\n",
       "      <td>019963a8-1f68-44f2-a8aa-fc0a4e2fdc20</td>\n",
       "      <td>4</td>\n",
       "    </tr>\n",
       "    <tr>\n",
       "      <th>4</th>\n",
       "      <td>00c1e609-fd03-4c74-b975-bfc1390c1619</td>\n",
       "      <td>255</td>\n",
       "    </tr>\n",
       "    <tr>\n",
       "      <th>...</th>\n",
       "      <td>...</td>\n",
       "      <td>...</td>\n",
       "    </tr>\n",
       "    <tr>\n",
       "      <th>198725</th>\n",
       "      <td>1c4eb4b1-b20e-43d8-97a1-790812df84e4</td>\n",
       "      <td>676</td>\n",
       "    </tr>\n",
       "    <tr>\n",
       "      <th>198726</th>\n",
       "      <td>1e5defb1-0cb0-4dd3-af53-fd05229cfef7</td>\n",
       "      <td>522</td>\n",
       "    </tr>\n",
       "    <tr>\n",
       "      <th>198727</th>\n",
       "      <td>5610b983-228e-4f71-a78e-abb5ce0c5ac0</td>\n",
       "      <td>1</td>\n",
       "    </tr>\n",
       "    <tr>\n",
       "      <th>198728</th>\n",
       "      <td>5667ec9c-7c47-4675-84bd-3872861c675c</td>\n",
       "      <td>6</td>\n",
       "    </tr>\n",
       "    <tr>\n",
       "      <th>198729</th>\n",
       "      <td>e8e4e813-e436-4e86-8f0d-bd5b3651bcfd</td>\n",
       "      <td>231</td>\n",
       "    </tr>\n",
       "  </tbody>\n",
       "</table>\n",
       "<p>198730 rows × 2 columns</p>\n",
       "</div>"
      ],
      "text/plain": [
       "                                  SEGMENT_ID  REC_COUNT\n",
       "0       b6bafecc-f57a-4a60-b926-0dbc3284daab         12\n",
       "1       4f9262cc-c77d-4b18-a19d-586c65f3953a        308\n",
       "2       50c1e3ef-23ec-4401-afd6-926c99efa60b          5\n",
       "3       019963a8-1f68-44f2-a8aa-fc0a4e2fdc20          4\n",
       "4       00c1e609-fd03-4c74-b975-bfc1390c1619        255\n",
       "...                                      ...        ...\n",
       "198725  1c4eb4b1-b20e-43d8-97a1-790812df84e4        676\n",
       "198726  1e5defb1-0cb0-4dd3-af53-fd05229cfef7        522\n",
       "198727  5610b983-228e-4f71-a78e-abb5ce0c5ac0          1\n",
       "198728  5667ec9c-7c47-4675-84bd-3872861c675c          6\n",
       "198729  e8e4e813-e436-4e86-8f0d-bd5b3651bcfd        231\n",
       "\n",
       "[198730 rows x 2 columns]"
      ]
     },
     "metadata": {},
     "output_type": "display_data"
    }
   ],
   "source": [
    "sql_stmt = f'''\n",
    "        select segment_id ,count(*) as rec_count \n",
    "        from {config['APP']['database']}.public.negotiated_arrangment_segments_v2\n",
    "        group by segment_id\n",
    "        ;\n",
    "    '''\n",
    "df = sp_session.sql(sql_stmt).to_pandas()\n",
    "display(df)\n"
   ]
  },
  {
   "cell_type": "code",
   "execution_count": 45,
   "id": "32899bfa",
   "metadata": {},
   "outputs": [
    {
     "data": {
      "text/html": [
       "<div>\n",
       "<style scoped>\n",
       "    .dataframe tbody tr th:only-of-type {\n",
       "        vertical-align: middle;\n",
       "    }\n",
       "\n",
       "    .dataframe tbody tr th {\n",
       "        vertical-align: top;\n",
       "    }\n",
       "\n",
       "    .dataframe thead th {\n",
       "        text-align: right;\n",
       "    }\n",
       "</style>\n",
       "<table border=\"1\" class=\"dataframe\">\n",
       "  <thead>\n",
       "    <tr style=\"text-align: right;\">\n",
       "      <th></th>\n",
       "      <th>DATA_FILE</th>\n",
       "      <th>REC_COUNT</th>\n",
       "    </tr>\n",
       "  </thead>\n",
       "  <tbody>\n",
       "    <tr>\n",
       "      <th>0</th>\n",
       "      <td>2022-11-01_cigna-health-life-insurance-company...</td>\n",
       "      <td>181134567</td>\n",
       "    </tr>\n",
       "  </tbody>\n",
       "</table>\n",
       "</div>"
      ],
      "text/plain": [
       "                                           DATA_FILE  REC_COUNT\n",
       "0  2022-11-01_cigna-health-life-insurance-company...  181134567"
      ]
     },
     "metadata": {},
     "output_type": "display_data"
    }
   ],
   "source": [
    "sql_stmt = f'''\n",
    "        select data_file ,count(*) as rec_count \n",
    "        from {config['APP']['database']}.public.negotiated_arrangment_segments_v2\n",
    "        group by data_file\n",
    "        ;\n",
    "    '''\n",
    "df = sp_session.sql(sql_stmt).to_pandas()\n",
    "display(df)"
   ]
  },
  {
   "cell_type": "code",
   "execution_count": 252,
   "id": "3c7f4013",
   "metadata": {},
   "outputs": [
    {
     "data": {
      "text/html": [
       "<div>\n",
       "<style scoped>\n",
       "    .dataframe tbody tr th:only-of-type {\n",
       "        vertical-align: middle;\n",
       "    }\n",
       "\n",
       "    .dataframe tbody tr th {\n",
       "        vertical-align: top;\n",
       "    }\n",
       "\n",
       "    .dataframe thead th {\n",
       "        text-align: right;\n",
       "    }\n",
       "</style>\n",
       "<table border=\"1\" class=\"dataframe\">\n",
       "  <thead>\n",
       "    <tr style=\"text-align: right;\">\n",
       "      <th></th>\n",
       "      <th>DATA_FILE</th>\n",
       "      <th>TASK_NAME</th>\n",
       "      <th>ELAPSED</th>\n",
       "      <th>TASK_RET_STATUS</th>\n",
       "      <th>INSERTED_AT</th>\n",
       "    </tr>\n",
       "  </thead>\n",
       "  <tbody>\n",
       "    <tr>\n",
       "      <th>0</th>\n",
       "      <td>2022_10_01_priority_health_HMO_in-network-rate...</td>\n",
       "      <td>DAG_ROOT_092c884b20ce621689355dd8dec5743e</td>\n",
       "      <td>None</td>\n",
       "      <td>None</td>\n",
       "      <td>2022-11-23 02:04:40.058</td>\n",
       "    </tr>\n",
       "  </tbody>\n",
       "</table>\n",
       "</div>"
      ],
      "text/plain": [
       "                                           DATA_FILE  \\\n",
       "0  2022_10_01_priority_health_HMO_in-network-rate...   \n",
       "\n",
       "                                   TASK_NAME ELAPSED TASK_RET_STATUS  \\\n",
       "0  DAG_ROOT_092c884b20ce621689355dd8dec5743e    None            None   \n",
       "\n",
       "              INSERTED_AT  \n",
       "0 2022-11-23 02:04:40.058  "
      ]
     },
     "metadata": {},
     "output_type": "display_data"
    }
   ],
   "source": [
    "sql_stmt = f'''\n",
    "        select *\n",
    "        from {config['APP']['database']}.public.segment_task_execution_status\n",
    "        ;\n",
    "    '''\n",
    "df = sp_session.sql(sql_stmt).to_pandas()\n",
    "display(df)"
   ]
  },
  {
   "cell_type": "code",
   "execution_count": 44,
   "id": "dd663d83",
   "metadata": {},
   "outputs": [
    {
     "data": {
      "text/html": [
       "<div>\n",
       "<style scoped>\n",
       "    .dataframe tbody tr th:only-of-type {\n",
       "        vertical-align: middle;\n",
       "    }\n",
       "\n",
       "    .dataframe tbody tr th {\n",
       "        vertical-align: top;\n",
       "    }\n",
       "\n",
       "    .dataframe thead th {\n",
       "        text-align: right;\n",
       "    }\n",
       "</style>\n",
       "<table border=\"1\" class=\"dataframe\">\n",
       "  <thead>\n",
       "    <tr style=\"text-align: right;\">\n",
       "      <th></th>\n",
       "      <th>SUM(NEGOTIATED_RATES_COUNT)</th>\n",
       "    </tr>\n",
       "  </thead>\n",
       "  <tbody>\n",
       "    <tr>\n",
       "      <th>0</th>\n",
       "      <td>71007045</td>\n",
       "    </tr>\n",
       "  </tbody>\n",
       "</table>\n",
       "</div>"
      ],
      "text/plain": [
       "   SUM(NEGOTIATED_RATES_COUNT)\n",
       "0                     71007045"
      ]
     },
     "metadata": {},
     "output_type": "display_data"
    }
   ],
   "source": [
    "\n",
    "\n",
    "sql_stmt = f'''\n",
    "        select sum(negotiated_rates_count)\n",
    "        from {config['APP']['database']}.public.in_network_rates_segment_header_V2\n",
    "        ;\n",
    "    '''\n",
    "df = sp_session.sql(sql_stmt).to_pandas()\n",
    "display(df)"
   ]
  },
  {
   "cell_type": "code",
   "execution_count": null,
   "id": "fa89cf39",
   "metadata": {},
   "outputs": [],
   "source": [
    "# x_df = df.set_index('SEGMENT_ID')\n",
    "y_df = pd.qcut(df['NEGOTIATED_RATES_COUNT'], 10 ,labels=False)\n",
    "# q_df.columns = 'CLASS'\n",
    "# q_df\n",
    "\n",
    "q_df = pd.DataFrame({'CLASS':y_df.values})\n",
    "q_df\n",
    "# q_df.value_counts()"
   ]
  },
  {
   "cell_type": "code",
   "execution_count": null,
   "id": "2a2f48c6",
   "metadata": {},
   "outputs": [],
   "source": [
    "# df.join(q_df)\n",
    "# q_df.columns\n",
    "# df.columns\n",
    "x_df = pd.concat([df ,q_df] ,axis=1)\n",
    "x_df"
   ]
  },
  {
   "cell_type": "code",
   "execution_count": null,
   "id": "58a7d988",
   "metadata": {},
   "outputs": [],
   "source": [
    "x_df.groupby('CLASS')['NEGOTIATED_RATES_COUNT'].sum()"
   ]
  },
  {
   "cell_type": "code",
   "execution_count": null,
   "id": "1f87efb5",
   "metadata": {
    "tags": [
     "test"
    ]
   },
   "outputs": [],
   "source": [
    "# from datetime import datetime\n",
    "# now = datetime.now()\n",
    "\n",
    "# start_time = now.strftime(\"%H:%M:%S\")\n",
    "# print(f'Started at: {start_time}')\n",
    "\n",
    "# sql_stmts = [\n",
    "#     f''' alter warehouse dev_pctransperancy_demo_wh set warehouse_size = XSMALL; '''\n",
    "#     ,f'''truncate table {config['APP']['database']}.public.in_network_rates_segment_header_V2; '''\n",
    "#     ,f''' call {config['APP']['database']}.public.innetwork_rates_segheader(\n",
    "#             1000 ,'data_stg/price_transperancy' ,'2022_10_01_priority_health_HMO_in-network-rates.zip');'''\n",
    "# ]\n",
    "# for stmt in sql_stmts:\n",
    "#     sp_session.sql(stmt).collect()\n",
    "\n",
    "# now = datetime.now()\n",
    "# end_time = now.strftime(\"%H:%M:%S\")\n",
    "# print(f'Ended at: {end_time}')"
   ]
  },
  {
   "cell_type": "markdown",
   "id": "7c9c36b0",
   "metadata": {},
   "source": [
    "---\n",
    "### TBL"
   ]
  },
  {
   "cell_type": "code",
   "execution_count": null,
   "id": "d705b54f",
   "metadata": {},
   "outputs": [],
   "source": [
    "df = sp_session.table(f'''{config['APP']['database']}.public.in_network_rates_segment_header_V2''').limit(10).to_pandas()\n",
    "display(df)"
   ]
  },
  {
   "cell_type": "markdown",
   "id": "198bfcc7",
   "metadata": {},
   "source": [
    "#### TODO : Perform some model analysis \n",
    " - accuracy score\n",
    " - error rate calculation\n",
    " - confusion matrix\n",
    "  ..."
   ]
  },
  {
   "cell_type": "markdown",
   "id": "1d6ffbf6",
   "metadata": {},
   "source": [
    "--- \n",
    "### Closeout\n",
    "\n",
    "    With that we are finished this section of the demo setup"
   ]
  },
  {
   "cell_type": "code",
   "execution_count": null,
   "id": "192cf880",
   "metadata": {},
   "outputs": [],
   "source": [
    "# sp_session.close()\n",
    "print('Finished!!!')"
   ]
  },
  {
   "cell_type": "code",
   "execution_count": null,
   "id": "cad5d468",
   "metadata": {},
   "outputs": [],
   "source": [
    "employees = [('Stuti', 28, 'Varanasi', 20000),\n",
    "            ('Saumya', 32, 'Delhi', 25000),\n",
    "            ('Aaditya', 25, 'Mumbai', 40000),\n",
    "            ('Saumya', 32, 'Delhi', 35000),\n",
    "            ('Saumya', 32, 'Delhi', 30000),\n",
    "            ('Saumya', 32, 'Mumbai', 20000),\n",
    "            ('Aaditya', 40, 'Dehradun', 24000),\n",
    "            ('Seema', 32, 'Delhi', 70000)\n",
    "            ]\n",
    " \n",
    "# Create a DataFrame object from list\n",
    "df = pd.DataFrame(employees,\n",
    "                columns =['Name', 'Age',\n",
    "                        'City', 'Salary'])\n",
    "# Show the dataframe\n",
    "df"
   ]
  },
  {
   "cell_type": "code",
   "execution_count": null,
   "id": "72652b5c",
   "metadata": {},
   "outputs": [],
   "source": [
    "df.iloc[3:5,]"
   ]
  }
 ],
 "metadata": {
  "kernelspec": {
   "display_name": "Python 3.8.13 ('snowpark_100')",
   "language": "python",
   "name": "python3"
  },
  "language_info": {
   "codemirror_mode": {
    "name": "ipython",
    "version": 3
   },
   "file_extension": ".py",
   "mimetype": "text/x-python",
   "name": "python",
   "nbconvert_exporter": "python",
   "pygments_lexer": "ipython3",
   "version": "3.8.13"
  },
  "vscode": {
   "interpreter": {
    "hash": "86e53f16f7f2849030caf3156b7b9fd1966f27ea0571958c45db51737201e9c6"
   }
  }
 },
 "nbformat": 4,
 "nbformat_minor": 5
}
