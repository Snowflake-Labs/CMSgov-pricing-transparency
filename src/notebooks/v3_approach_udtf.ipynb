{
 "cells": [
  {
   "cell_type": "markdown",
   "id": "e4022bce",
   "metadata": {},
   "source": [
    "# UDTF Approach"
   ]
  },
  {
   "cell_type": "code",
   "execution_count": 7,
   "id": "4f152540",
   "metadata": {},
   "outputs": [
    {
     "data": {
      "text/markdown": [
       "### Initialization"
      ],
      "text/plain": [
       "<IPython.core.display.Markdown object>"
      ]
     },
     "metadata": {},
     "output_type": "display_data"
    },
    {
     "data": {
      "text/html": [
       "<div>\n",
       "<style scoped>\n",
       "    .dataframe tbody tr th:only-of-type {\n",
       "        vertical-align: middle;\n",
       "    }\n",
       "\n",
       "    .dataframe tbody tr th {\n",
       "        vertical-align: top;\n",
       "    }\n",
       "\n",
       "    .dataframe thead th {\n",
       "        text-align: right;\n",
       "    }\n",
       "</style>\n",
       "<table border=\"1\" class=\"dataframe\">\n",
       "  <thead>\n",
       "    <tr style=\"text-align: right;\">\n",
       "      <th></th>\n",
       "      <th>CURRENT_USER()</th>\n",
       "      <th>CURRENT_ROLE()</th>\n",
       "      <th>CURRENT_DATABASE()</th>\n",
       "      <th>CURRENT_SCHEMA()</th>\n",
       "    </tr>\n",
       "  </thead>\n",
       "  <tbody>\n",
       "    <tr>\n",
       "      <th>0</th>\n",
       "      <td>VSEKAR</td>\n",
       "      <td>DEV_PCTRANSPERANCY_DEMO_RL</td>\n",
       "      <td>SFLK_PRICING_TRANSPERANCY</td>\n",
       "      <td>PUBLIC</td>\n",
       "    </tr>\n",
       "  </tbody>\n",
       "</table>\n",
       "</div>"
      ],
      "text/plain": [
       "  CURRENT_USER()              CURRENT_ROLE()         CURRENT_DATABASE()  \\\n",
       "0         VSEKAR  DEV_PCTRANSPERANCY_DEMO_RL  SFLK_PRICING_TRANSPERANCY   \n",
       "\n",
       "  CURRENT_SCHEMA()  \n",
       "0           PUBLIC  "
      ]
     },
     "metadata": {},
     "output_type": "display_data"
    }
   ],
   "source": [
    "from IPython.display import display, HTML, Image , Markdown\n",
    "from snowflake.snowpark.session import Session\n",
    "import snowflake.snowpark.types as T\n",
    "import snowflake.snowpark.functions as F\n",
    "import os ,configparser ,json\n",
    "\n",
    "display(Markdown(\"### Initialization\"))\n",
    "\n",
    "# Source various helper functions\n",
    "%run ../scripts/notebook_helpers.py\n",
    "\n",
    "PROJECT_HOME_DIR = '../../'\n",
    "config = get_config(PROJECT_HOME_DIR)\n",
    "sp_session = connect_to_snowflake(PROJECT_HOME_DIR)\n",
    "\n",
    "if(sp_session == None):\n",
    "    raise Exception(f'Unable to connect to snowflake. Validate connection information ')\n",
    "\n",
    "sp_session.sql(f''' use role {config['APP']['role']}; ''').collect()\n",
    "sp_session.sql(f''' use database {config['APP']['database']}; ''').collect()\n",
    "sp_session.sql(f''' use schema  {config['APP']['database']}.{config['APP']['schema']}; ''').collect()\n",
    "sp_session.sql(f''' use warehouse {config['APP']['warehouse']}; ''').collect()\n",
    "\n",
    "df = sp_session.sql('select current_user() ,current_role() ,current_database() ,current_schema();').to_pandas()\n",
    "display(df)"
   ]
  },
  {
   "cell_type": "code",
   "execution_count": 8,
   "id": "023de96b",
   "metadata": {},
   "outputs": [],
   "source": [
    "data_file = '2022_10_01_priority_health_HMO_in-network-rates.zip'\n",
    "stage_path = 'data_stg/price_transperancy'\n",
    "\n",
    "# data_file = '2022_07_01_priority_health_HMO_in-network-rates.json'\n",
    "# data_file = '2022-11-01_cigna-health-life-insurance-company_national-oap_in-network-rates.json.gz'\n",
    "# stage_path = 'ext_data_stg/data'"
   ]
  },
  {
   "cell_type": "code",
   "execution_count": 9,
   "id": "129bd54f",
   "metadata": {},
   "outputs": [
    {
     "name": "stdout",
     "output_type": "stream",
     "text": [
      " Uploading library to stage: sflk_pricing_transperancy.public.lib_stg \n",
      "    ../python/in_network_udtf/negotiation_arrangements_dagbuilder.py => @lib_stg/scripts\n",
      "    ../python/in_network_udtf/negotiation_arrangements.py => @lib_stg/scripts\n",
      "    ../python/in_network_udtf/negotiation_arrangements_dagbuilder_tmp.py => @lib_stg/scripts\n"
     ]
    }
   ],
   "source": [
    "# Upload libraries to stage\n",
    "lib_stage = config['APP']['lib_stage']\n",
    "\n",
    "upload_locallibraries_to_p_stage(sp_session ,'../python/in_network_udtf' ,config['APP']['database'] ,'public' ,lib_stage ,'scripts')\n",
    "\n",
    "stmts = [\n",
    "    f''' \n",
    "        create or replace procedure innetwork_rates_segheader(\n",
    "            batch_size integer ,stage_path varchar ,staged_data_flname varchar ,target_stage_for_segment_files varchar\n",
    "            ,from_idx integer ,to_idx integer ,self_task_name varchar)\n",
    "        returns variant\n",
    "        language python\n",
    "        runtime_version = '3.8'\n",
    "        packages = ('snowflake-snowpark-python' ,'pandas', 'ijson' ,'simplejson')\n",
    "        imports = ('@sflk_pricing_transperancy.public.lib_stg/scripts/negotiation_arrangements.py')\n",
    "        handler = 'negotiation_arrangements.main'\n",
    "    ;\n",
    "    '''\n",
    "]\n",
    "for stmt in stmts:\n",
    "    sp_session.sql(stmt).collect()"
   ]
  },
  {
   "cell_type": "code",
   "execution_count": 10,
   "id": "1f87efb5",
   "metadata": {
    "tags": [
     "test"
    ]
   },
   "outputs": [
    {
     "name": "stdout",
     "output_type": "stream",
     "text": [
      "Started at: 16:50:42\n",
      " create or replace stage sflk_pricing_transperancy.public.data_parsed_stg\n",
      "            directory = (enable=true)\n",
      "            comment = 'used for holding parsed record.'; \n",
      " alter warehouse dev_pctransperancy_demo_wh set warehouse_size = XSMALL; \n",
      "truncate table sflk_pricing_transperancy.public.segment_task_execution_status; \n",
      " call sflk_pricing_transperancy.public.innetwork_rates_segheader(\n",
      "            5 ,'data_stg/price_transperancy' ,'2022_10_01_priority_health_HMO_in-network-rates.zip' ,'ext_data_stg/data_pricing_parsed' \n",
      "            ,-1 ,50 ,'-');\n",
      "Ended at: 16:51:32\n"
     ]
    }
   ],
   "source": [
    "from datetime import datetime\n",
    "now = datetime.now()\n",
    "\n",
    "start_time = now.strftime(\"%H:%M:%S\")\n",
    "print(f'Started at: {start_time}')\n",
    "\n",
    "sql_stmts = [\n",
    "    f''' create or replace stage {config['APP']['database']}.public.{config['APP']['data_parsed_stg']}\n",
    "            directory = (enable=true)\n",
    "            comment = 'used for holding parsed record.'; '''\n",
    "\n",
    "    # ,f''' alter warehouse dev_pctransperancy_demo_wh set max_concurrency_level = 8 '''\n",
    "    ,f''' alter warehouse dev_pctransperancy_demo_wh set warehouse_size = XSMALL; '''\n",
    "    ,f'''truncate table {config['APP']['database']}.public.segment_task_execution_status; '''\n",
    "    ,f''' call {config['APP']['database']}.public.innetwork_rates_segheader(\n",
    "            5 ,'{stage_path}' ,'{data_file}' ,'ext_data_stg/data_pricing_parsed' \n",
    "            ,-1 ,50 ,'-');'''\n",
    "]\n",
    "for stmt in sql_stmts:\n",
    "    print(stmt)\n",
    "    sp_session.sql(stmt).collect()\n",
    "\n",
    "now = datetime.now()\n",
    "end_time = now.strftime(\"%H:%M:%S\")\n",
    "print(f'Ended at: {end_time}')"
   ]
  },
  {
   "cell_type": "markdown",
   "id": "7c9c36b0",
   "metadata": {},
   "source": [
    "---\n",
    "### TBL"
   ]
  },
  {
   "cell_type": "code",
   "execution_count": 11,
   "id": "d705b54f",
   "metadata": {},
   "outputs": [
    {
     "data": {
      "text/html": [
       "<div>\n",
       "<style scoped>\n",
       "    .dataframe tbody tr th:only-of-type {\n",
       "        vertical-align: middle;\n",
       "    }\n",
       "\n",
       "    .dataframe tbody tr th {\n",
       "        vertical-align: top;\n",
       "    }\n",
       "\n",
       "    .dataframe thead th {\n",
       "        text-align: right;\n",
       "    }\n",
       "</style>\n",
       "<table border=\"1\" class=\"dataframe\">\n",
       "  <thead>\n",
       "    <tr style=\"text-align: right;\">\n",
       "      <th></th>\n",
       "      <th>DATA_FILE</th>\n",
       "      <th>TASK_NAME</th>\n",
       "      <th>ELAPSED</th>\n",
       "      <th>TASK_RET_STATUS</th>\n",
       "      <th>INSERTED_AT</th>\n",
       "    </tr>\n",
       "  </thead>\n",
       "  <tbody>\n",
       "    <tr>\n",
       "      <th>0</th>\n",
       "      <td>None</td>\n",
       "      <td>-</td>\n",
       "      <td>None</td>\n",
       "      <td>{\"data_file\": \"2022_10_01_priority_health_HMO_...</td>\n",
       "      <td>2022-12-03 13:51:31.449</td>\n",
       "    </tr>\n",
       "  </tbody>\n",
       "</table>\n",
       "</div>"
      ],
      "text/plain": [
       "  DATA_FILE TASK_NAME ELAPSED  \\\n",
       "0      None         -    None   \n",
       "\n",
       "                                     TASK_RET_STATUS             INSERTED_AT  \n",
       "0  {\"data_file\": \"2022_10_01_priority_health_HMO_... 2022-12-03 13:51:31.449  "
      ]
     },
     "metadata": {},
     "output_type": "display_data"
    }
   ],
   "source": [
    "\n",
    "df = sp_session.table(f'''{config['APP']['database']}.public.segment_task_execution_status''').limit(10).to_pandas()\n",
    "display(df)"
   ]
  },
  {
   "cell_type": "markdown",
   "id": "198bfcc7",
   "metadata": {},
   "source": [
    "#### TODO : Perform some model analysis \n",
    " - accuracy score\n",
    " - error rate calculation\n",
    " - confusion matrix\n",
    "  ..."
   ]
  },
  {
   "cell_type": "markdown",
   "id": "1d6ffbf6",
   "metadata": {},
   "source": [
    "--- \n",
    "### Closeout\n",
    "\n",
    "    With that we are finished this section of the demo setup"
   ]
  },
  {
   "cell_type": "code",
   "execution_count": 12,
   "id": "192cf880",
   "metadata": {},
   "outputs": [
    {
     "name": "stdout",
     "output_type": "stream",
     "text": [
      "Finished!!!\n"
     ]
    }
   ],
   "source": [
    "# sp_session.close()\n",
    "print('Finished!!!')"
   ]
  }
 ],
 "metadata": {
  "kernelspec": {
   "display_name": "Python 3.8.13 ('snowpark_100')",
   "language": "python",
   "name": "python3"
  },
  "language_info": {
   "codemirror_mode": {
    "name": "ipython",
    "version": 3
   },
   "file_extension": ".py",
   "mimetype": "text/x-python",
   "name": "python",
   "nbconvert_exporter": "python",
   "pygments_lexer": "ipython3",
   "version": "3.8.13"
  },
  "vscode": {
   "interpreter": {
    "hash": "86e53f16f7f2849030caf3156b7b9fd1966f27ea0571958c45db51737201e9c6"
   }
  }
 },
 "nbformat": 4,
 "nbformat_minor": 5
}
