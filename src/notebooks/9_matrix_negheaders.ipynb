{
 "cells": [
  {
   "cell_type": "markdown",
   "id": "e4022bce",
   "metadata": {},
   "source": [
    "# Blah"
   ]
  },
  {
   "cell_type": "code",
   "execution_count": 13,
   "id": "4f152540",
   "metadata": {},
   "outputs": [],
   "source": [
    "from IPython.display import display, HTML, Image , Markdown\n",
    "from snowflake.snowpark.session import Session\n",
    "from snowflake.snowpark.types import * \n",
    "from snowflake.snowpark.functions import *\n",
    "import os ,configparser ,json\n",
    "\n",
    "# Source various helper functions\n",
    "%run ../scripts/notebook_helpers.py\n",
    "\n",
    "PROJECT_HOME_DIR = '../../'\n",
    "CONFIG_FL = f'{PROJECT_HOME_DIR}/config.ini'"
   ]
  },
  {
   "cell_type": "code",
   "execution_count": 14,
   "id": "38c6664f",
   "metadata": {},
   "outputs": [
    {
     "data": {
      "text/markdown": [
       "### Initialization"
      ],
      "text/plain": [
       "<IPython.core.display.Markdown object>"
      ]
     },
     "metadata": {},
     "output_type": "display_data"
    },
    {
     "name": "stdout",
     "output_type": "stream",
     "text": [
      " Initialize Snowpark session\n"
     ]
    },
    {
     "data": {
      "text/html": [
       "<div>\n",
       "<style scoped>\n",
       "    .dataframe tbody tr th:only-of-type {\n",
       "        vertical-align: middle;\n",
       "    }\n",
       "\n",
       "    .dataframe tbody tr th {\n",
       "        vertical-align: top;\n",
       "    }\n",
       "\n",
       "    .dataframe thead th {\n",
       "        text-align: right;\n",
       "    }\n",
       "</style>\n",
       "<table border=\"1\" class=\"dataframe\">\n",
       "  <thead>\n",
       "    <tr style=\"text-align: right;\">\n",
       "      <th></th>\n",
       "      <th>CURRENT_ACCOUNT()</th>\n",
       "      <th>CURRENT_USER()</th>\n",
       "      <th>CURRENT_ROLE()</th>\n",
       "    </tr>\n",
       "  </thead>\n",
       "  <tbody>\n",
       "    <tr>\n",
       "      <th>0</th>\n",
       "      <td>ANA95816</td>\n",
       "      <td>VSEKAR</td>\n",
       "      <td>DEV_PCTRANSPERANCY_DEMO_RL</td>\n",
       "    </tr>\n",
       "  </tbody>\n",
       "</table>\n",
       "</div>"
      ],
      "text/plain": [
       "  CURRENT_ACCOUNT() CURRENT_USER()              CURRENT_ROLE()\n",
       "0          ANA95816         VSEKAR  DEV_PCTRANSPERANCY_DEMO_RL"
      ]
     },
     "metadata": {},
     "output_type": "display_data"
    }
   ],
   "source": [
    "display(Markdown(\"### Initialization\"))\n",
    "\n",
    "config = configparser.ConfigParser()\n",
    "sp_session = None\n",
    "\n",
    "print(\" Initialize Snowpark session\")\n",
    "with open(CONFIG_FL) as f:\n",
    "    config.read(CONFIG_FL)\n",
    "    snow_conn_flpath =  f\"{PROJECT_HOME_DIR}/{config['APP']['connection_fl']}\"\n",
    "    \n",
    "    # ------------\n",
    "    # Connect to snowflake\n",
    "    with open(snow_conn_flpath) as conn_f:\n",
    "        snow_conn_info = json.load(conn_f)\n",
    "        sp_session = Session.builder.configs(snow_conn_info).create()\n",
    "\n",
    "if(sp_session == None):\n",
    "    raise(f'Unable to connect to snowflake. Validate connection information in file: {CONFIG_FL} ')\n",
    "\n",
    "sp_session.sql(f''' use role {config['APP']['role']}; ''').collect()\n",
    "sp_session.sql(f''' use database {config['APP']['database']}; ''').collect()\n",
    "sp_session.sql(f''' use warehouse {config['APP']['warehouse']}; ''').collect()\n",
    "\n",
    "df = sp_session.sql('select current_account() ,current_user() ,current_role();').to_pandas()\n",
    "display(df)"
   ]
  },
  {
   "cell_type": "code",
   "execution_count": 15,
   "id": "3f36302d",
   "metadata": {},
   "outputs": [],
   "source": [
    "stmts = [\n",
    "    f''' create or replace stage {config['APP']['database']}.public.data_parsed_stg\n",
    "            directory = (enable=true)\n",
    "            comment = 'used for holding parsed record.'; '''\n",
    "]\n",
    "for stmt in stmts:\n",
    "    sp_session.sql(stmt).collect()"
   ]
  },
  {
   "cell_type": "code",
   "execution_count": 16,
   "id": "023de96b",
   "metadata": {},
   "outputs": [],
   "source": [
    "data_file = '2022_10_01_priority_health_HMO_in-network-rates.zip'\n",
    "stage_path = 'data_stg/price_transperancy'\n",
    "\n",
    "# data_file = '2022_07_01_priority_health_HMO_in-network-rates.json'\n",
    "# data_file = '2022-11-01_cigna-health-life-insurance-company_national-oap_in-network-rates.json.gz'\n",
    "# stage_path = 'ext_data_stg/data'"
   ]
  },
  {
   "cell_type": "code",
   "execution_count": 19,
   "id": "129bd54f",
   "metadata": {},
   "outputs": [
    {
     "name": "stdout",
     "output_type": "stream",
     "text": [
      " Uploading library to stage: sflk_pricing_transperancy.public.lib_stg \n",
      "    ../python/in-network-rates_v2/ingest-in-network-rates-seg-header_sp_v2.py => @lib_stg/scripts\n",
      "    ../python/in-network-rates_v2/in-network-rates-segment-dagbuilder-v2-segment-count.py => @lib_stg/scripts\n",
      "    ../python/in-network-rates_v2/ingest-in-network-rates-seg-header_sp_v2.py.orig => @lib_stg/scripts\n",
      "    ../python/in-network-rates_v2/ingest-in-network-rates-segment-lists_sp.py => @lib_stg/scripts\n",
      "    ../python/in-network-rates_v2/in-network-rates-segment-dagbuilder-v2.py => @lib_stg/scripts\n",
      " List stage directory !!\n",
      "@lib_stg/scripts/in-network-rates-segment-dagbuilder-v2-segment-count.py\n",
      "@lib_stg/scripts/in-network-rates-segment-dagbuilder-v2.py\n",
      "@lib_stg/scripts/ingest-in-network-rates-seg-header_sp_v2.py\n",
      "@lib_stg/scripts/ingest-in-network-rates-seg-header_sp_v2.py.orig\n",
      "@lib_stg/scripts/ingest-in-network-rates-segment-lists_sp.py\n"
     ]
    }
   ],
   "source": [
    "# Upload libraries to stage\n",
    "lib_stage = config['APP']['lib_stage']\n",
    "\n",
    "upload_locallibraries_to_p_stage(sp_session ,'../python/in-network-rates_v2' ,config['APP']['database'] ,'public' ,lib_stage ,'scripts')\n",
    "\n",
    "print(' List stage directory !!')\n",
    "stage_spdf = sp_session.sql(f'''list @{config['APP']['database']}.public.{lib_stage}; ''').collect()\n",
    "\n",
    "for r in stage_spdf:\n",
    "    print(f'@{r[\"name\"]}')\n"
   ]
  },
  {
   "cell_type": "code",
   "execution_count": 20,
   "id": "1f87efb5",
   "metadata": {
    "tags": [
     "test"
    ]
   },
   "outputs": [
    {
     "name": "stdout",
     "output_type": "stream",
     "text": [
      "Started at: 17:23:36\n",
      "Ended at: 18:16:38\n"
     ]
    }
   ],
   "source": [
    "from datetime import datetime\n",
    "now = datetime.now()\n",
    "\n",
    "start_time = now.strftime(\"%H:%M:%S\")\n",
    "print(f'Started at: {start_time}')\n",
    "\n",
    "sql_stmts = [\n",
    "    f''' alter warehouse dev_pctransperancy_demo_wh set warehouse_size = MEDIUM; '''\n",
    "    ,f'''truncate table {config['APP']['database']}.public.in_network_rates_segment_header_V2; '''\n",
    "    ,f''' call {config['APP']['database']}.public.innetwork_rates_segheader(\n",
    "            1500000 ,'{stage_path}' ,'{data_file}');'''\n",
    "]\n",
    "for stmt in sql_stmts:\n",
    "    sp_session.sql(stmt).collect()\n",
    "\n",
    "now = datetime.now()\n",
    "end_time = now.strftime(\"%H:%M:%S\")\n",
    "print(f'Ended at: {end_time}')"
   ]
  },
  {
   "cell_type": "markdown",
   "id": "7c9c36b0",
   "metadata": {},
   "source": [
    "---\n",
    "### TBL"
   ]
  },
  {
   "cell_type": "code",
   "execution_count": 9,
   "id": "d705b54f",
   "metadata": {},
   "outputs": [
    {
     "data": {
      "text/html": [
       "<div>\n",
       "<style scoped>\n",
       "    .dataframe tbody tr th:only-of-type {\n",
       "        vertical-align: middle;\n",
       "    }\n",
       "\n",
       "    .dataframe tbody tr th {\n",
       "        vertical-align: top;\n",
       "    }\n",
       "\n",
       "    .dataframe thead th {\n",
       "        text-align: right;\n",
       "    }\n",
       "</style>\n",
       "<table border=\"1\" class=\"dataframe\">\n",
       "  <thead>\n",
       "    <tr style=\"text-align: right;\">\n",
       "      <th></th>\n",
       "      <th>SEQ_NO</th>\n",
       "      <th>DATA_FILE</th>\n",
       "      <th>SEGMENT_ID</th>\n",
       "      <th>NEGOTIATED_RATES_NAME</th>\n",
       "      <th>NEGOTIATED_RATES_INFO</th>\n",
       "      <th>NEGOTIATED_RATES_COUNT</th>\n",
       "      <th>BUNDLED_CODES_COUNT</th>\n",
       "      <th>COVERED_SERVICES_COUNT</th>\n",
       "      <th>INSERTED_AT</th>\n",
       "    </tr>\n",
       "  </thead>\n",
       "  <tbody>\n",
       "    <tr>\n",
       "      <th>0</th>\n",
       "      <td>NaN</td>\n",
       "      <td>2022_10_01_priority_health_HMO_in-network-rate...</td>\n",
       "      <td>c641d820-b3c5-4f43-baef-db10612422d7</td>\n",
       "      <td>Injection,Lumbar Epidural,Of Bloodor Cl</td>\n",
       "      <td>{'negotiation_arrangement': 'ffs', 'name': 'In...</td>\n",
       "      <td>5859</td>\n",
       "      <td>-1</td>\n",
       "      <td>-1</td>\n",
       "      <td>2022-11-18 20:28:08.480</td>\n",
       "    </tr>\n",
       "    <tr>\n",
       "      <th>1</th>\n",
       "      <td>NaN</td>\n",
       "      <td>2022_10_01_priority_health_HMO_in-network-rate...</td>\n",
       "      <td>30b61c61-3d83-41af-9ff4-2d1af9f69b59</td>\n",
       "      <td>SEIZURE AGE &gt;17 W/O CC</td>\n",
       "      <td>{'negotiation_arrangement': 'ffs', 'name': 'SE...</td>\n",
       "      <td>3</td>\n",
       "      <td>-1</td>\n",
       "      <td>-1</td>\n",
       "      <td>2022-11-18 20:28:08.480</td>\n",
       "    </tr>\n",
       "    <tr>\n",
       "      <th>2</th>\n",
       "      <td>NaN</td>\n",
       "      <td>2022_10_01_priority_health_HMO_in-network-rate...</td>\n",
       "      <td>dd1e1d18-d931-491e-a347-2e9d147b0f54</td>\n",
       "      <td>Infectious agent detection by nucleic acid (DN...</td>\n",
       "      <td>{'negotiation_arrangement': 'ffs', 'name': 'In...</td>\n",
       "      <td>7569</td>\n",
       "      <td>-1</td>\n",
       "      <td>-1</td>\n",
       "      <td>2022-11-18 20:28:08.480</td>\n",
       "    </tr>\n",
       "    <tr>\n",
       "      <th>3</th>\n",
       "      <td>NaN</td>\n",
       "      <td>2022_10_01_priority_health_HMO_in-network-rate...</td>\n",
       "      <td>da033bfb-98d2-48c5-970f-327f0b89371e</td>\n",
       "      <td>Ldh,Blood;isoenzymes,Electrophoretic Sep</td>\n",
       "      <td>{'negotiation_arrangement': 'ffs', 'name': 'Ld...</td>\n",
       "      <td>26</td>\n",
       "      <td>-1</td>\n",
       "      <td>-1</td>\n",
       "      <td>2022-11-18 20:28:08.480</td>\n",
       "    </tr>\n",
       "    <tr>\n",
       "      <th>4</th>\n",
       "      <td>NaN</td>\n",
       "      <td>2022_10_01_priority_health_HMO_in-network-rate...</td>\n",
       "      <td>b7a5e2c8-ec89-4376-9d2d-cd76f4edc8c8</td>\n",
       "      <td>Thoracoscopy, Surgical; W Total Pulmonary Deco...</td>\n",
       "      <td>{'negotiation_arrangement': 'ffs', 'name': 'Th...</td>\n",
       "      <td>4035</td>\n",
       "      <td>-1</td>\n",
       "      <td>-1</td>\n",
       "      <td>2022-11-18 20:28:08.480</td>\n",
       "    </tr>\n",
       "    <tr>\n",
       "      <th>5</th>\n",
       "      <td>NaN</td>\n",
       "      <td>2022_10_01_priority_health_HMO_in-network-rate...</td>\n",
       "      <td>4c130ce3-f2ff-4464-a98d-5775a9f0c664</td>\n",
       "      <td>Close Enterostom Resect &amp; Anastomos</td>\n",
       "      <td>{'negotiation_arrangement': 'ffs', 'name': 'Cl...</td>\n",
       "      <td>9210</td>\n",
       "      <td>-1</td>\n",
       "      <td>-1</td>\n",
       "      <td>2022-11-18 20:28:08.480</td>\n",
       "    </tr>\n",
       "    <tr>\n",
       "      <th>6</th>\n",
       "      <td>NaN</td>\n",
       "      <td>2022_10_01_priority_health_HMO_in-network-rate...</td>\n",
       "      <td>a66e1815-ac44-40b6-9134-d13faa4bc58f</td>\n",
       "      <td>Antibody Cytomegalovirus (Cmv) Igm</td>\n",
       "      <td>{'negotiation_arrangement': 'ffs', 'name': 'An...</td>\n",
       "      <td>81</td>\n",
       "      <td>-1</td>\n",
       "      <td>-1</td>\n",
       "      <td>2022-11-18 20:28:08.480</td>\n",
       "    </tr>\n",
       "    <tr>\n",
       "      <th>7</th>\n",
       "      <td>NaN</td>\n",
       "      <td>2022_10_01_priority_health_HMO_in-network-rate...</td>\n",
       "      <td>71b09ade-5a60-466d-ab8f-d718c4b76664</td>\n",
       "      <td>CIRCULATORY DISORDERS EXCEPT AMI, WITH CARDIAC...</td>\n",
       "      <td>{'negotiation_arrangement': 'ffs', 'name': 'CI...</td>\n",
       "      <td>3</td>\n",
       "      <td>-1</td>\n",
       "      <td>-1</td>\n",
       "      <td>2022-11-18 20:28:08.480</td>\n",
       "    </tr>\n",
       "    <tr>\n",
       "      <th>8</th>\n",
       "      <td>NaN</td>\n",
       "      <td>2022_10_01_priority_health_HMO_in-network-rate...</td>\n",
       "      <td>6891ff3e-2008-4c67-aa47-7dc264ca14cb</td>\n",
       "      <td>TESTES PROCEDURES, NON-MALIG AGE 0-17</td>\n",
       "      <td>{'negotiation_arrangement': 'ffs', 'name': 'TE...</td>\n",
       "      <td>3</td>\n",
       "      <td>-1</td>\n",
       "      <td>-1</td>\n",
       "      <td>2022-11-18 20:28:08.480</td>\n",
       "    </tr>\n",
       "    <tr>\n",
       "      <th>9</th>\n",
       "      <td>NaN</td>\n",
       "      <td>2022_10_01_priority_health_HMO_in-network-rate...</td>\n",
       "      <td>4e7f8232-a287-408c-96e0-28f12d0416b3</td>\n",
       "      <td>Sensit.Stdy,Antibi;disk Meth,Ea.Plt</td>\n",
       "      <td>{'negotiation_arrangement': 'ffs', 'name': 'Se...</td>\n",
       "      <td>70</td>\n",
       "      <td>-1</td>\n",
       "      <td>-1</td>\n",
       "      <td>2022-11-18 20:28:08.480</td>\n",
       "    </tr>\n",
       "  </tbody>\n",
       "</table>\n",
       "</div>"
      ],
      "text/plain": [
       "   SEQ_NO                                          DATA_FILE  \\\n",
       "0     NaN  2022_10_01_priority_health_HMO_in-network-rate...   \n",
       "1     NaN  2022_10_01_priority_health_HMO_in-network-rate...   \n",
       "2     NaN  2022_10_01_priority_health_HMO_in-network-rate...   \n",
       "3     NaN  2022_10_01_priority_health_HMO_in-network-rate...   \n",
       "4     NaN  2022_10_01_priority_health_HMO_in-network-rate...   \n",
       "5     NaN  2022_10_01_priority_health_HMO_in-network-rate...   \n",
       "6     NaN  2022_10_01_priority_health_HMO_in-network-rate...   \n",
       "7     NaN  2022_10_01_priority_health_HMO_in-network-rate...   \n",
       "8     NaN  2022_10_01_priority_health_HMO_in-network-rate...   \n",
       "9     NaN  2022_10_01_priority_health_HMO_in-network-rate...   \n",
       "\n",
       "                             SEGMENT_ID  \\\n",
       "0  c641d820-b3c5-4f43-baef-db10612422d7   \n",
       "1  30b61c61-3d83-41af-9ff4-2d1af9f69b59   \n",
       "2  dd1e1d18-d931-491e-a347-2e9d147b0f54   \n",
       "3  da033bfb-98d2-48c5-970f-327f0b89371e   \n",
       "4  b7a5e2c8-ec89-4376-9d2d-cd76f4edc8c8   \n",
       "5  4c130ce3-f2ff-4464-a98d-5775a9f0c664   \n",
       "6  a66e1815-ac44-40b6-9134-d13faa4bc58f   \n",
       "7  71b09ade-5a60-466d-ab8f-d718c4b76664   \n",
       "8  6891ff3e-2008-4c67-aa47-7dc264ca14cb   \n",
       "9  4e7f8232-a287-408c-96e0-28f12d0416b3   \n",
       "\n",
       "                               NEGOTIATED_RATES_NAME  \\\n",
       "0            Injection,Lumbar Epidural,Of Bloodor Cl   \n",
       "1                             SEIZURE AGE >17 W/O CC   \n",
       "2  Infectious agent detection by nucleic acid (DN...   \n",
       "3           Ldh,Blood;isoenzymes,Electrophoretic Sep   \n",
       "4  Thoracoscopy, Surgical; W Total Pulmonary Deco...   \n",
       "5                Close Enterostom Resect & Anastomos   \n",
       "6                 Antibody Cytomegalovirus (Cmv) Igm   \n",
       "7  CIRCULATORY DISORDERS EXCEPT AMI, WITH CARDIAC...   \n",
       "8              TESTES PROCEDURES, NON-MALIG AGE 0-17   \n",
       "9                Sensit.Stdy,Antibi;disk Meth,Ea.Plt   \n",
       "\n",
       "                               NEGOTIATED_RATES_INFO  NEGOTIATED_RATES_COUNT  \\\n",
       "0  {'negotiation_arrangement': 'ffs', 'name': 'In...                    5859   \n",
       "1  {'negotiation_arrangement': 'ffs', 'name': 'SE...                       3   \n",
       "2  {'negotiation_arrangement': 'ffs', 'name': 'In...                    7569   \n",
       "3  {'negotiation_arrangement': 'ffs', 'name': 'Ld...                      26   \n",
       "4  {'negotiation_arrangement': 'ffs', 'name': 'Th...                    4035   \n",
       "5  {'negotiation_arrangement': 'ffs', 'name': 'Cl...                    9210   \n",
       "6  {'negotiation_arrangement': 'ffs', 'name': 'An...                      81   \n",
       "7  {'negotiation_arrangement': 'ffs', 'name': 'CI...                       3   \n",
       "8  {'negotiation_arrangement': 'ffs', 'name': 'TE...                       3   \n",
       "9  {'negotiation_arrangement': 'ffs', 'name': 'Se...                      70   \n",
       "\n",
       "   BUNDLED_CODES_COUNT  COVERED_SERVICES_COUNT             INSERTED_AT  \n",
       "0                   -1                      -1 2022-11-18 20:28:08.480  \n",
       "1                   -1                      -1 2022-11-18 20:28:08.480  \n",
       "2                   -1                      -1 2022-11-18 20:28:08.480  \n",
       "3                   -1                      -1 2022-11-18 20:28:08.480  \n",
       "4                   -1                      -1 2022-11-18 20:28:08.480  \n",
       "5                   -1                      -1 2022-11-18 20:28:08.480  \n",
       "6                   -1                      -1 2022-11-18 20:28:08.480  \n",
       "7                   -1                      -1 2022-11-18 20:28:08.480  \n",
       "8                   -1                      -1 2022-11-18 20:28:08.480  \n",
       "9                   -1                      -1 2022-11-18 20:28:08.480  "
      ]
     },
     "metadata": {},
     "output_type": "display_data"
    }
   ],
   "source": [
    "df = sp_session.table(f'''{config['APP']['database']}.public.in_network_rates_segment_header_V2''').limit(10).to_pandas()\n",
    "display(df)"
   ]
  },
  {
   "cell_type": "markdown",
   "id": "198bfcc7",
   "metadata": {},
   "source": [
    "#### TODO : Perform some model analysis \n",
    " - accuracy score\n",
    " - error rate calculation\n",
    " - confusion matrix\n",
    "  ..."
   ]
  },
  {
   "cell_type": "markdown",
   "id": "1d6ffbf6",
   "metadata": {},
   "source": [
    "--- \n",
    "### Closeout\n",
    "\n",
    "    With that we are finished this section of the demo setup"
   ]
  },
  {
   "cell_type": "code",
   "execution_count": 10,
   "id": "192cf880",
   "metadata": {},
   "outputs": [
    {
     "name": "stdout",
     "output_type": "stream",
     "text": [
      "Finished!!!\n"
     ]
    }
   ],
   "source": [
    "# sp_session.close()\n",
    "print('Finished!!!')"
   ]
  }
 ],
 "metadata": {
  "kernelspec": {
   "display_name": "Python 3.8.13 ('snowpark_100')",
   "language": "python",
   "name": "python3"
  },
  "language_info": {
   "codemirror_mode": {
    "name": "ipython",
    "version": 3
   },
   "file_extension": ".py",
   "mimetype": "text/x-python",
   "name": "python",
   "nbconvert_exporter": "python",
   "pygments_lexer": "ipython3",
   "version": "3.8.13"
  },
  "vscode": {
   "interpreter": {
    "hash": "86e53f16f7f2849030caf3156b7b9fd1966f27ea0571958c45db51737201e9c6"
   }
  }
 },
 "nbformat": 4,
 "nbformat_minor": 5
}
