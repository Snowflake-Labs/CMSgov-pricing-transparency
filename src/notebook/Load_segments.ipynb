{
 "cells": [
  {
   "attachments": {},
   "cell_type": "markdown",
   "id": "e4022bce",
   "metadata": {},
   "source": [
    "# Load Demo (on a reduced_sample_data.json)\n",
    "\n",
    "In this we demonstrate loading of a sample data file [reduced_sample_data.json](../../data/reduced_sample_data.json) and showcase all the \n",
    "various resources that gets populated.\n",
    "\n",
    "#### Pre-requisite\n",
    "It is assumed that the setup steps are completed successfully. These are:\n",
    " - creating the database, schemas, stages\n",
    " - defining the external stage\n",
    " - defining the functions and stored procedures\n",
    " - defining the external tables and views\n",
    "\n",
    "If you had not done this, use the streamlit (./bin/run_app.sh) to create these as defined in the subpage 'Setup'"
   ]
  },
  {
   "cell_type": "code",
   "execution_count": 26,
   "id": "f8f142c9",
   "metadata": {},
   "outputs": [
    {
     "data": {
      "text/markdown": [
       "### Initialization"
      ],
      "text/plain": [
       "<IPython.core.display.Markdown object>"
      ]
     },
     "metadata": {},
     "output_type": "display_data"
    },
    {
     "data": {
      "text/html": [
       "<div>\n",
       "<style scoped>\n",
       "    .dataframe tbody tr th:only-of-type {\n",
       "        vertical-align: middle;\n",
       "    }\n",
       "\n",
       "    .dataframe tbody tr th {\n",
       "        vertical-align: top;\n",
       "    }\n",
       "\n",
       "    .dataframe thead th {\n",
       "        text-align: right;\n",
       "    }\n",
       "</style>\n",
       "<table border=\"1\" class=\"dataframe\">\n",
       "  <thead>\n",
       "    <tr style=\"text-align: right;\">\n",
       "      <th></th>\n",
       "      <th>CURRENT_USER()</th>\n",
       "      <th>CURRENT_ROLE()</th>\n",
       "      <th>CURRENT_DATABASE()</th>\n",
       "      <th>CURRENT_SCHEMA()</th>\n",
       "    </tr>\n",
       "  </thead>\n",
       "  <tbody>\n",
       "    <tr>\n",
       "      <th>0</th>\n",
       "      <td>VSEKAR</td>\n",
       "      <td>PUBLIC</td>\n",
       "      <td>INDSOL_CMSGOV_PRICING</td>\n",
       "      <td>PUBLIC</td>\n",
       "    </tr>\n",
       "  </tbody>\n",
       "</table>\n",
       "</div>"
      ],
      "text/plain": [
       "  CURRENT_USER() CURRENT_ROLE()     CURRENT_DATABASE() CURRENT_SCHEMA()\n",
       "0         VSEKAR         PUBLIC  INDSOL_CMSGOV_PRICING           PUBLIC"
      ]
     },
     "metadata": {},
     "output_type": "display_data"
    }
   ],
   "source": [
    "# Initialization block\n",
    "from IPython.display import display, HTML, Image , Markdown\n",
    "from snowflake.snowpark.session import Session\n",
    "import snowflake.snowpark.types as T\n",
    "import snowflake.snowpark.functions as F\n",
    "import os ,configparser ,json ,logging\n",
    "\n",
    "# Import the commonly defined utility scripts using\n",
    "# dynamic path include\n",
    "import sys\n",
    "sys.path.append('../python/lutils')\n",
    "import sflk_base as L\n",
    "\n",
    "display(Markdown(\"### Initialization\"))\n",
    "logging.basicConfig(stream=sys.stdout, level=logging.ERROR)\n",
    "\n",
    "# Source various helper functions\n",
    "%run ./scripts/notebook_helpers.py\n",
    "\n",
    "# Define the project home directory, this is used for locating the config.ini file\n",
    "PROJECT_HOME_DIR = '../../'\n",
    "config = L.get_config(PROJECT_HOME_DIR)\n",
    "sp_session = L.connect_to_snowflake(PROJECT_HOME_DIR)\n",
    "\n",
    "if(sp_session == None):\n",
    "    raise Exception(f'Unable to connect to snowflake. Validate connection information ')\n",
    "\n",
    "sp_session.use_role(f'''{config['APP_DB']['role']}''')\n",
    "sp_session.use_schema(f'''{config['APP_DB']['database']}.{config['APP_DB']['schema']}''')\n",
    "sp_session.use_warehouse(f'''{config['SNOW_CONN']['warehouse']}''')\n",
    "\n",
    "df = sp_session.sql('select current_user() ,current_role() ,current_database() ,current_schema();').to_pandas()\n",
    "display(df)"
   ]
  },
  {
   "cell_type": "code",
   "execution_count": 27,
   "id": "4f908941",
   "metadata": {},
   "outputs": [
    {
     "data": {
      "text/markdown": [
       "### Cleanup block"
      ],
      "text/plain": [
       "<IPython.core.display.Markdown object>"
      ]
     },
     "metadata": {},
     "output_type": "display_data"
    },
    {
     "name": "stdout",
     "output_type": "stream",
     "text": [
      " truncating tables ...\n",
      " cleaning up files in external stage under path raw_parsed/reduced_sample_data/ ...\n"
     ]
    }
   ],
   "source": [
    "import pandas as pd\n",
    "\n",
    "pd.set_option('display.max_colwidth', None)\n",
    "\n",
    "display(Markdown(\"### Cleanup block\"))\n",
    "# We will cleanup specific resources and artifacts from possible previous runs.\n",
    "\n",
    "stmts = [\n",
    "    f''' truncate table segment_task_execution_status; '''\n",
    "    ,f''' truncate table task_to_segmentids; '''\n",
    "    ,f''' truncate table in_network_rates_file_header; '''\n",
    "    ,f''' truncate table in_network_rates_segment_header; '''\n",
    "    ,f''' alter stage {config['APP_DB']['ext_stage']} refresh; '''\n",
    "]    \n",
    "    \n",
    "print(' truncating tables ...')\n",
    "for stmt in stmts:\n",
    "    sp_session.sql(stmt).collect()\n",
    "\n",
    "print(f''' cleaning up files in external stage under path {config['APP_DB']['folder_parsed']}/reduced_sample_data/ ...''')\n",
    "\n",
    "stmt = f''' select relative_path from directory(@{config['APP_DB']['ext_stage']}) where relative_path like '%{config['APP_DB']['folder_parsed']}/reduced_sample_data/%'; '''\n",
    "files = sp_session.sql(stmt).collect()\n",
    "for r in files:\n",
    "    stmt = f''' remove @{config['APP_DB']['ext_stage']}/{r['RELATIVE_PATH']}; '''\n",
    "    sp_session.sql(stmt).collect()"
   ]
  },
  {
   "attachments": {},
   "cell_type": "markdown",
   "id": "88e7dbf8",
   "metadata": {},
   "source": [
    "---\n",
    "## Data loading\n",
    "We will be loading the segments and also file header and show case how this functions without the dag."
   ]
  },
  {
   "cell_type": "code",
   "execution_count": 28,
   "id": "a701da57",
   "metadata": {},
   "outputs": [
    {
     "name": "stdout",
     "output_type": "stream",
     "text": [
      " Status of execution\n",
      "{\n",
      "  \"EOF_Reached\": true,\n",
      "  \"Parsing_error\": \"\",\n",
      "  \"data_file\": \"reduced_sample_data.json\",\n",
      "  \"elapsed\": \"=> 0:00:38.086797 \",\n",
      "  \"end_rec_num\": 100,\n",
      "  \"last_seg_no\": 10,\n",
      "  \"start_rec_num\": 0,\n",
      "  \"status\": true,\n",
      "  \"task_ignored_parsing\": false\n",
      "}\n"
     ]
    }
   ],
   "source": [
    "df = sp_session.call('parse_negotiation_arrangement_segments' ,'data_stg/data','reduced_sample_data.json',f\"@{config['APP_DB']['ext_stage']}/{config['APP_DB']['folder_parsed']}\" ,0 ,100)\n",
    "\n",
    "sp_session.sql(f''' alter stage {config['APP_DB']['ext_stage']} refresh; ''').collect()\n",
    "print(' Status of execution')\n",
    "print(df)"
   ]
  },
  {
   "cell_type": "code",
   "execution_count": 29,
   "id": "7c6c946d",
   "metadata": {},
   "outputs": [
    {
     "name": "stdout",
     "output_type": "stream",
     "text": [
      " Parsing file headers\n",
      " Status of execution\n",
      "{\n",
      "  \"data_file\": \"reduced_sample_data.json\",\n",
      "  \"elapsed\": \"=> 0:00:04.582801 \",\n",
      "  \"status\": true\n",
      "}\n"
     ]
    }
   ],
   "source": [
    "print(' Parsing file headers')\n",
    "df = sp_session.call('parse_file_header' ,'data_stg/data','reduced_sample_data.json')\n",
    "\n",
    "print(' Status of execution')\n",
    "print(df)"
   ]
  },
  {
   "attachments": {},
   "cell_type": "markdown",
   "id": "e7465540",
   "metadata": {},
   "source": [
    "---\n",
    "## Inspection"
   ]
  },
  {
   "cell_type": "code",
   "execution_count": 30,
   "id": "4a8fa5a6",
   "metadata": {},
   "outputs": [
    {
     "data": {
      "text/markdown": [
       "The table in_network_rates_file_header holds the file header elements"
      ],
      "text/plain": [
       "<IPython.core.display.Markdown object>"
      ]
     },
     "metadata": {},
     "output_type": "display_data"
    },
    {
     "data": {
      "text/html": [
       "<div>\n",
       "<style scoped>\n",
       "    .dataframe tbody tr th:only-of-type {\n",
       "        vertical-align: middle;\n",
       "    }\n",
       "\n",
       "    .dataframe tbody tr th {\n",
       "        vertical-align: top;\n",
       "    }\n",
       "\n",
       "    .dataframe thead th {\n",
       "        text-align: right;\n",
       "    }\n",
       "</style>\n",
       "<table border=\"1\" class=\"dataframe\">\n",
       "  <thead>\n",
       "    <tr style=\"text-align: right;\">\n",
       "      <th></th>\n",
       "      <th>DATA_FILE</th>\n",
       "      <th>HEADER</th>\n",
       "      <th>INSERTED_AT</th>\n",
       "    </tr>\n",
       "  </thead>\n",
       "  <tbody>\n",
       "    <tr>\n",
       "      <th>0</th>\n",
       "      <td>reduced_sample_data.json</td>\n",
       "      <td>{\\n  \"DATA_FILE\": \"reduced_sample_data.json\",\\n  \"last_updated_on\": \"2022-10-01\",\\n  \"reporting_entity_name\": \"Priority Health\",\\n  \"reporting_entity_type\": \"health insurance issuer\",\\n  \"total_segments\": 10,\\n  \"version\": \"http://json-schema.org/draft-07/schema#\"\\n}</td>\n",
       "      <td>2023-01-06 05:07:51.286</td>\n",
       "    </tr>\n",
       "  </tbody>\n",
       "</table>\n",
       "</div>"
      ],
      "text/plain": [
       "                  DATA_FILE  \\\n",
       "0  reduced_sample_data.json   \n",
       "\n",
       "                                                                                                                                                                                                                                                                        HEADER  \\\n",
       "0  {\\n  \"DATA_FILE\": \"reduced_sample_data.json\",\\n  \"last_updated_on\": \"2022-10-01\",\\n  \"reporting_entity_name\": \"Priority Health\",\\n  \"reporting_entity_type\": \"health insurance issuer\",\\n  \"total_segments\": 10,\\n  \"version\": \"http://json-schema.org/draft-07/schema#\"\\n}   \n",
       "\n",
       "              INSERTED_AT  \n",
       "0 2023-01-06 05:07:51.286  "
      ]
     },
     "metadata": {},
     "output_type": "display_data"
    }
   ],
   "source": [
    "display(Markdown(\"The table in_network_rates_file_header holds the file header elements\"))\n",
    "\n",
    "df = (sp_session.table('in_network_rates_file_header')\n",
    "        .sample(n=5)\n",
    "        .to_pandas())\n",
    "\n",
    "display(df)"
   ]
  },
  {
   "cell_type": "code",
   "execution_count": 31,
   "id": "664bef54",
   "metadata": {},
   "outputs": [
    {
     "name": "stdout",
     "output_type": "stream",
     "text": [
      " The HEADER has the following data \n"
     ]
    },
    {
     "data": {
      "text/plain": [
       "{'DATA_FILE': 'reduced_sample_data.json',\n",
       " 'last_updated_on': '2022-10-01',\n",
       " 'reporting_entity_name': 'Priority Health',\n",
       " 'reporting_entity_type': 'health insurance issuer',\n",
       " 'total_segments': 10,\n",
       " 'version': 'http://json-schema.org/draft-07/schema#'}"
      ]
     },
     "execution_count": 31,
     "metadata": {},
     "output_type": "execute_result"
    }
   ],
   "source": [
    "print(' The HEADER has the following data ')\n",
    "json.loads(df['HEADER'][0])"
   ]
  },
  {
   "cell_type": "code",
   "execution_count": 32,
   "id": "e3d38b3e",
   "metadata": {},
   "outputs": [
    {
     "data": {
      "text/markdown": [
       "The table in_network_rates_segment_header lists the various segments that were loaded"
      ],
      "text/plain": [
       "<IPython.core.display.Markdown object>"
      ]
     },
     "metadata": {},
     "output_type": "display_data"
    },
    {
     "data": {
      "text/html": [
       "<div>\n",
       "<style scoped>\n",
       "    .dataframe tbody tr th:only-of-type {\n",
       "        vertical-align: middle;\n",
       "    }\n",
       "\n",
       "    .dataframe tbody tr th {\n",
       "        vertical-align: top;\n",
       "    }\n",
       "\n",
       "    .dataframe thead th {\n",
       "        text-align: right;\n",
       "    }\n",
       "</style>\n",
       "<table border=\"1\" class=\"dataframe\">\n",
       "  <thead>\n",
       "    <tr style=\"text-align: right;\">\n",
       "      <th></th>\n",
       "      <th>DATA_FILE</th>\n",
       "      <th>SEGMENT_ID</th>\n",
       "      <th>NEGOTIATED_RATES_INFO</th>\n",
       "      <th>NEGOTIATED_RATES_COUNT</th>\n",
       "      <th>BUNDLED_CODES_COUNT</th>\n",
       "      <th>COVERED_SERVICES_COUNT</th>\n",
       "      <th>INSERTED_AT</th>\n",
       "    </tr>\n",
       "  </thead>\n",
       "  <tbody>\n",
       "    <tr>\n",
       "      <th>0</th>\n",
       "      <td>2022_10_01_priority_health_HMO_in-network-rates.zip</td>\n",
       "      <td>ffs::ms-drg::789::</td>\n",
       "      <td>{\\n  \"DATA_FILE\": \"2022_10_01_priority_health_HMO_in-network-rates.zip\",\\n  \"SEGMENT_ID\": \"ffs::ms-drg::789::\",\\n  \"SEQ_NO\": 1814,\\n  \"billing_code\": \"789\",\\n  \"billing_code_type\": \"MS-DRG\",\\n  \"billing_code_type_version\": \"\",\\n  \"description\": \"NEONATES, DIED OR TRANSFERRED TO ANOTHER ACUTE CARE FACILITY\",\\n  \"name\": \"NEONATES, DIED OR TRANSFERRED TO ANOTHER ACUTE CARE FACILITY\",\\n  \"negotiation_arrangement\": \"ffs\"\\n}</td>\n",
       "      <td>3</td>\n",
       "      <td>-1</td>\n",
       "      <td>-1</td>\n",
       "      <td>2023-01-06 05:07:37.177</td>\n",
       "    </tr>\n",
       "    <tr>\n",
       "      <th>1</th>\n",
       "      <td>2022_10_01_priority_health_HMO_in-network-rates.zip</td>\n",
       "      <td>ffs::cpt::49185::</td>\n",
       "      <td>{\\n  \"DATA_FILE\": \"2022_10_01_priority_health_HMO_in-network-rates.zip\",\\n  \"SEGMENT_ID\": \"ffs::cpt::49185::\",\\n  \"SEQ_NO\": 1809,\\n  \"billing_code\": \"49185\",\\n  \"billing_code_type\": \"CPT\",\\n  \"billing_code_type_version\": \"\",\\n  \"description\": \"Sclerotherapy of a fluid collection (eg, lymphocele, cyst, or seroma), percutaneous, including contrast injection(s), sclerosant injection(s), diagnostic study, imaging guidan\",\\n  \"name\": \"Sclerotherapy of a fluid collection (eg, lymphocele, cyst, or seroma), percutaneous, including contrast injection(s), sclerosant injection(s), diagnostic study, imaging guidan\",\\n  \"negotiation_arrangement\": \"ffs\"\\n}</td>\n",
       "      <td>1</td>\n",
       "      <td>-1</td>\n",
       "      <td>-1</td>\n",
       "      <td>2023-01-06 05:07:19.690</td>\n",
       "    </tr>\n",
       "    <tr>\n",
       "      <th>2</th>\n",
       "      <td>2022_10_01_priority_health_HMO_in-network-rates.zip</td>\n",
       "      <td>ffs::cpt::j9033::</td>\n",
       "      <td>{\\n  \"DATA_FILE\": \"2022_10_01_priority_health_HMO_in-network-rates.zip\",\\n  \"SEGMENT_ID\": \"ffs::cpt::j9033::\",\\n  \"SEQ_NO\": 1071,\\n  \"billing_code\": \"J9033\",\\n  \"billing_code_type\": \"CPT\",\\n  \"billing_code_type_version\": \"\",\\n  \"description\": \"Injection, bendamustine hcl (treanda), 1 mg\",\\n  \"name\": \"Injection, bendamustine hcl (treanda), 1 mg\",\\n  \"negotiation_arrangement\": \"ffs\"\\n}</td>\n",
       "      <td>3815</td>\n",
       "      <td>-1</td>\n",
       "      <td>-1</td>\n",
       "      <td>2023-01-06 05:07:32.650</td>\n",
       "    </tr>\n",
       "    <tr>\n",
       "      <th>3</th>\n",
       "      <td>reduced_sample_data.json</td>\n",
       "      <td>ffs::cpt::90838::</td>\n",
       "      <td>{\\n  \"DATA_FILE\": \"reduced_sample_data.json\",\\n  \"SEGMENT_ID\": \"ffs::cpt::90838::\",\\n  \"SEQ_NO\": 2,\\n  \"billing_code\": \"90838\",\\n  \"billing_code_type\": \"CPT\",\\n  \"billing_code_type_version\": \"\",\\n  \"description\": \"Psychotherapy, 60 minutes with patient when performed with an evaluation and management service (List separately in addition to the code for primary procedure)\",\\n  \"name\": \"Psychotherapy, 60 minutes with patient when performed with an evaluation and management service (List separately in addition to the code for primary procedure)\",\\n  \"negotiation_arrangement\": \"ffs\"\\n}</td>\n",
       "      <td>4843</td>\n",
       "      <td>-1</td>\n",
       "      <td>-1</td>\n",
       "      <td>2023-01-06 05:07:17.954</td>\n",
       "    </tr>\n",
       "    <tr>\n",
       "      <th>4</th>\n",
       "      <td>reduced_sample_data.json</td>\n",
       "      <td>ffs::cpt::85041::</td>\n",
       "      <td>{\\n  \"DATA_FILE\": \"reduced_sample_data.json\",\\n  \"SEGMENT_ID\": \"ffs::cpt::85041::\",\\n  \"SEQ_NO\": 6,\\n  \"billing_code\": \"85041\",\\n  \"billing_code_type\": \"CPT\",\\n  \"billing_code_type_version\": \"\",\\n  \"description\": \"Red Cell Count\",\\n  \"name\": \"Red Cell Count\",\\n  \"negotiation_arrangement\": \"ffs\"\\n}</td>\n",
       "      <td>28</td>\n",
       "      <td>-1</td>\n",
       "      <td>-1</td>\n",
       "      <td>2023-01-06 05:07:29.862</td>\n",
       "    </tr>\n",
       "  </tbody>\n",
       "</table>\n",
       "</div>"
      ],
      "text/plain": [
       "                                             DATA_FILE          SEGMENT_ID  \\\n",
       "0  2022_10_01_priority_health_HMO_in-network-rates.zip  ffs::ms-drg::789::   \n",
       "1  2022_10_01_priority_health_HMO_in-network-rates.zip   ffs::cpt::49185::   \n",
       "2  2022_10_01_priority_health_HMO_in-network-rates.zip   ffs::cpt::j9033::   \n",
       "3                             reduced_sample_data.json   ffs::cpt::90838::   \n",
       "4                             reduced_sample_data.json   ffs::cpt::85041::   \n",
       "\n",
       "                                                                                                                                                                                                                                                                                                                                                                                                                                                                                                                                                                                                                                                        NEGOTIATED_RATES_INFO  \\\n",
       "0                                                                                                                                                                                                                                      {\\n  \"DATA_FILE\": \"2022_10_01_priority_health_HMO_in-network-rates.zip\",\\n  \"SEGMENT_ID\": \"ffs::ms-drg::789::\",\\n  \"SEQ_NO\": 1814,\\n  \"billing_code\": \"789\",\\n  \"billing_code_type\": \"MS-DRG\",\\n  \"billing_code_type_version\": \"\",\\n  \"description\": \"NEONATES, DIED OR TRANSFERRED TO ANOTHER ACUTE CARE FACILITY\",\\n  \"name\": \"NEONATES, DIED OR TRANSFERRED TO ANOTHER ACUTE CARE FACILITY\",\\n  \"negotiation_arrangement\": \"ffs\"\\n}   \n",
       "1  {\\n  \"DATA_FILE\": \"2022_10_01_priority_health_HMO_in-network-rates.zip\",\\n  \"SEGMENT_ID\": \"ffs::cpt::49185::\",\\n  \"SEQ_NO\": 1809,\\n  \"billing_code\": \"49185\",\\n  \"billing_code_type\": \"CPT\",\\n  \"billing_code_type_version\": \"\",\\n  \"description\": \"Sclerotherapy of a fluid collection (eg, lymphocele, cyst, or seroma), percutaneous, including contrast injection(s), sclerosant injection(s), diagnostic study, imaging guidan\",\\n  \"name\": \"Sclerotherapy of a fluid collection (eg, lymphocele, cyst, or seroma), percutaneous, including contrast injection(s), sclerosant injection(s), diagnostic study, imaging guidan\",\\n  \"negotiation_arrangement\": \"ffs\"\\n}   \n",
       "2                                                                                                                                                                                                                                                                          {\\n  \"DATA_FILE\": \"2022_10_01_priority_health_HMO_in-network-rates.zip\",\\n  \"SEGMENT_ID\": \"ffs::cpt::j9033::\",\\n  \"SEQ_NO\": 1071,\\n  \"billing_code\": \"J9033\",\\n  \"billing_code_type\": \"CPT\",\\n  \"billing_code_type_version\": \"\",\\n  \"description\": \"Injection, bendamustine hcl (treanda), 1 mg\",\\n  \"name\": \"Injection, bendamustine hcl (treanda), 1 mg\",\\n  \"negotiation_arrangement\": \"ffs\"\\n}   \n",
       "3                                                                {\\n  \"DATA_FILE\": \"reduced_sample_data.json\",\\n  \"SEGMENT_ID\": \"ffs::cpt::90838::\",\\n  \"SEQ_NO\": 2,\\n  \"billing_code\": \"90838\",\\n  \"billing_code_type\": \"CPT\",\\n  \"billing_code_type_version\": \"\",\\n  \"description\": \"Psychotherapy, 60 minutes with patient when performed with an evaluation and management service (List separately in addition to the code for primary procedure)\",\\n  \"name\": \"Psychotherapy, 60 minutes with patient when performed with an evaluation and management service (List separately in addition to the code for primary procedure)\",\\n  \"negotiation_arrangement\": \"ffs\"\\n}   \n",
       "4                                                                                                                                                                                                                                                                                                                                                                  {\\n  \"DATA_FILE\": \"reduced_sample_data.json\",\\n  \"SEGMENT_ID\": \"ffs::cpt::85041::\",\\n  \"SEQ_NO\": 6,\\n  \"billing_code\": \"85041\",\\n  \"billing_code_type\": \"CPT\",\\n  \"billing_code_type_version\": \"\",\\n  \"description\": \"Red Cell Count\",\\n  \"name\": \"Red Cell Count\",\\n  \"negotiation_arrangement\": \"ffs\"\\n}   \n",
       "\n",
       "   NEGOTIATED_RATES_COUNT  BUNDLED_CODES_COUNT  COVERED_SERVICES_COUNT  \\\n",
       "0                       3                   -1                      -1   \n",
       "1                       1                   -1                      -1   \n",
       "2                    3815                   -1                      -1   \n",
       "3                    4843                   -1                      -1   \n",
       "4                      28                   -1                      -1   \n",
       "\n",
       "              INSERTED_AT  \n",
       "0 2023-01-06 05:07:37.177  \n",
       "1 2023-01-06 05:07:19.690  \n",
       "2 2023-01-06 05:07:32.650  \n",
       "3 2023-01-06 05:07:17.954  \n",
       "4 2023-01-06 05:07:29.862  "
      ]
     },
     "metadata": {},
     "output_type": "display_data"
    }
   ],
   "source": [
    "display(Markdown(\"The table in_network_rates_segment_header lists the various segments that were loaded\"))\n",
    "\n",
    "df = (sp_session.table('in_network_rates_segment_header')\n",
    "        .sample(n=5)\n",
    "        .to_pandas())\n",
    "\n",
    "display(df)"
   ]
  },
  {
   "cell_type": "code",
   "execution_count": 33,
   "id": "2bdcc96f",
   "metadata": {},
   "outputs": [
    {
     "name": "stdout",
     "output_type": "stream",
     "text": [
      " The NEGOTIATED_RATES_INFO has the following data \n"
     ]
    },
    {
     "data": {
      "text/plain": [
       "{'DATA_FILE': '2022_10_01_priority_health_HMO_in-network-rates.zip',\n",
       " 'SEGMENT_ID': 'ffs::ms-drg::789::',\n",
       " 'SEQ_NO': 1814,\n",
       " 'billing_code': '789',\n",
       " 'billing_code_type': 'MS-DRG',\n",
       " 'billing_code_type_version': '',\n",
       " 'description': 'NEONATES, DIED OR TRANSFERRED TO ANOTHER ACUTE CARE FACILITY',\n",
       " 'name': 'NEONATES, DIED OR TRANSFERRED TO ANOTHER ACUTE CARE FACILITY',\n",
       " 'negotiation_arrangement': 'ffs'}"
      ]
     },
     "execution_count": 33,
     "metadata": {},
     "output_type": "execute_result"
    }
   ],
   "source": [
    "print(' The NEGOTIATED_RATES_INFO has the following data ')\n",
    "json.loads(df['NEGOTIATED_RATES_INFO'][0])"
   ]
  },
  {
   "cell_type": "code",
   "execution_count": 34,
   "id": "269ae7b7",
   "metadata": {},
   "outputs": [
    {
     "name": "stdout",
     "output_type": "stream",
     "text": [
      " \n",
      "The parsed data are stored as parquet files in the external stage at: @ext_data_stg/raw_parsed. The directory structure follows the format:\n",
      "\n",
      "<ext stage>/<folder_parsed>/<data file basename (ex: reduced_sample_data)/<segment_id>/<segment type (negotiated_rates)>/data_<seq_no>_<chunk_no>.parquet.gz\n",
      "\n",
      "Description:\n",
      "- ext stage : external stage name\n",
      "- folder_parsed : configured value of APP_DB.folder_parsed in config.ini\n",
      "- data file basename : the data file basename, without the file extension\n",
      "- segment_id : a unique identifier for the segment, this is a composite key of <negotiation_arrangement>::<billing_code_type>::<billing_code>::<billing_code_type_version>\n",
      "- segment type : indicates the segment children type, this could be either of negotiated_rates/bundled_codes/covered_services\n",
      "- The file which will contain the record, stored in parquet file.\n",
      "\n"
     ]
    },
    {
     "data": {
      "text/html": [
       "<div>\n",
       "<style scoped>\n",
       "    .dataframe tbody tr th:only-of-type {\n",
       "        vertical-align: middle;\n",
       "    }\n",
       "\n",
       "    .dataframe tbody tr th {\n",
       "        vertical-align: top;\n",
       "    }\n",
       "\n",
       "    .dataframe thead th {\n",
       "        text-align: right;\n",
       "    }\n",
       "</style>\n",
       "<table border=\"1\" class=\"dataframe\">\n",
       "  <thead>\n",
       "    <tr style=\"text-align: right;\">\n",
       "      <th></th>\n",
       "      <th>RELATIVE_PATH</th>\n",
       "    </tr>\n",
       "  </thead>\n",
       "  <tbody>\n",
       "    <tr>\n",
       "      <th>0</th>\n",
       "      <td>raw_parsed/reduced_sample_data/ffs::cpt::15004::/negotiated_rates/data_7_0.parquet.gz</td>\n",
       "    </tr>\n",
       "    <tr>\n",
       "      <th>1</th>\n",
       "      <td>raw_parsed/reduced_sample_data/ffs::cpt::15004::/negotiated_rates/data_7_1.parquet.gz</td>\n",
       "    </tr>\n",
       "    <tr>\n",
       "      <th>2</th>\n",
       "      <td>raw_parsed/reduced_sample_data/ffs::cpt::33235::/negotiated_rates/data_8_0.parquet.gz</td>\n",
       "    </tr>\n",
       "    <tr>\n",
       "      <th>3</th>\n",
       "      <td>raw_parsed/reduced_sample_data/ffs::cpt::33235::/negotiated_rates/data_8_1.parquet.gz</td>\n",
       "    </tr>\n",
       "    <tr>\n",
       "      <th>4</th>\n",
       "      <td>raw_parsed/reduced_sample_data/ffs::cpt::62322::/negotiated_rates/data_1_0.parquet.gz</td>\n",
       "    </tr>\n",
       "  </tbody>\n",
       "</table>\n",
       "</div>"
      ],
      "text/plain": [
       "                                                                           RELATIVE_PATH\n",
       "0  raw_parsed/reduced_sample_data/ffs::cpt::15004::/negotiated_rates/data_7_0.parquet.gz\n",
       "1  raw_parsed/reduced_sample_data/ffs::cpt::15004::/negotiated_rates/data_7_1.parquet.gz\n",
       "2  raw_parsed/reduced_sample_data/ffs::cpt::33235::/negotiated_rates/data_8_0.parquet.gz\n",
       "3  raw_parsed/reduced_sample_data/ffs::cpt::33235::/negotiated_rates/data_8_1.parquet.gz\n",
       "4  raw_parsed/reduced_sample_data/ffs::cpt::62322::/negotiated_rates/data_1_0.parquet.gz"
      ]
     },
     "metadata": {},
     "output_type": "display_data"
    }
   ],
   "source": [
    "para = f''' \n",
    "The parsed data are stored as parquet files in the external stage at: @{config['APP_DB']['ext_stage']}/{config['APP_DB']['folder_parsed']}. The directory structure follows the format:\n",
    "\n",
    "<ext stage>/<folder_parsed>/<data file basename (ex: reduced_sample_data)/<segment_id>/<segment type (negotiated_rates)>/data_<seq_no>_<chunk_no>.parquet.gz\n",
    "\n",
    "Description:\n",
    "- ext stage : external stage name\n",
    "- folder_parsed : configured value of APP_DB.folder_parsed in config.ini\n",
    "- data file basename : the data file basename, without the file extension\n",
    "- segment_id : a unique identifier for the segment, this is a composite key of <negotiation_arrangement>::<billing_code_type>::<billing_code>::<billing_code_type_version>\n",
    "- segment type : indicates the segment children type, this could be either of negotiated_rates/bundled_codes/covered_services\n",
    "- The file which will contain the record, stored in parquet file.\n",
    "'''\n",
    "print(para)\n",
    "\n",
    "stmt = f''' select relative_path from directory(@{config['APP_DB']['ext_stage']}) where relative_path like '%{config['APP_DB']['folder_parsed']}/reduced_sample_data%' limit 5; '''\n",
    "df = sp_session.sql(stmt).to_pandas()\n",
    "display(df)"
   ]
  },
  {
   "cell_type": "code",
   "execution_count": 35,
   "id": "f014bb17",
   "metadata": {},
   "outputs": [
    {
     "name": "stdout",
     "output_type": "stream",
     "text": [
      " \n",
      "The parquet file can be queried inside Snowflake via external table: ext_negotiated_arrangments_staged. Each of the folder structure is partitioned to seperate columns , which can help with pruning to specific segments.\n",
      "The value contains the negotiated_rates and other children elements stored in JSON format\n",
      "\n"
     ]
    },
    {
     "data": {
      "text/html": [
       "<div>\n",
       "<style scoped>\n",
       "    .dataframe tbody tr th:only-of-type {\n",
       "        vertical-align: middle;\n",
       "    }\n",
       "\n",
       "    .dataframe tbody tr th {\n",
       "        vertical-align: top;\n",
       "    }\n",
       "\n",
       "    .dataframe thead th {\n",
       "        text-align: right;\n",
       "    }\n",
       "</style>\n",
       "<table border=\"1\" class=\"dataframe\">\n",
       "  <thead>\n",
       "    <tr style=\"text-align: right;\">\n",
       "      <th></th>\n",
       "      <th>VALUE</th>\n",
       "      <th>P_DATA_FL</th>\n",
       "      <th>P_SEGMENT_ID</th>\n",
       "      <th>P_NEGOTIATION_ARRANGEMENT</th>\n",
       "      <th>P_BILLING_CODE_TYPE</th>\n",
       "      <th>P_BILLING_CODE</th>\n",
       "      <th>P_BILLING_CODE_TYPE_VERSION</th>\n",
       "      <th>P_SEGMENT_TYPE</th>\n",
       "    </tr>\n",
       "  </thead>\n",
       "  <tbody>\n",
       "    <tr>\n",
       "      <th>0</th>\n",
       "      <td>{\\n  \"CHUNK_NO\": 1,\\n...</td>\n",
       "      <td>reduced_sample_data</td>\n",
       "      <td>ffs::cpt::33235::</td>\n",
       "      <td>ffs</td>\n",
       "      <td>cpt</td>\n",
       "      <td>33235</td>\n",
       "      <td></td>\n",
       "      <td>negotiated_rates</td>\n",
       "    </tr>\n",
       "    <tr>\n",
       "      <th>1</th>\n",
       "      <td>{\\n  \"CHUNK_NO\": 0,\\n...</td>\n",
       "      <td>reduced_sample_data</td>\n",
       "      <td>ffs::cpt::85041::</td>\n",
       "      <td>ffs</td>\n",
       "      <td>cpt</td>\n",
       "      <td>85041</td>\n",
       "      <td></td>\n",
       "      <td>negotiated_rates</td>\n",
       "    </tr>\n",
       "    <tr>\n",
       "      <th>2</th>\n",
       "      <td>{\\n  \"CHUNK_NO\": 0,\\n...</td>\n",
       "      <td>reduced_sample_data</td>\n",
       "      <td>ffs::cpt::86160::</td>\n",
       "      <td>ffs</td>\n",
       "      <td>cpt</td>\n",
       "      <td>86160</td>\n",
       "      <td></td>\n",
       "      <td>negotiated_rates</td>\n",
       "    </tr>\n",
       "    <tr>\n",
       "      <th>3</th>\n",
       "      <td>{\\n  \"CHUNK_NO\": 0,\\n...</td>\n",
       "      <td>reduced_sample_data</td>\n",
       "      <td>ffs::cpt::92583::</td>\n",
       "      <td>ffs</td>\n",
       "      <td>cpt</td>\n",
       "      <td>92583</td>\n",
       "      <td></td>\n",
       "      <td>negotiated_rates</td>\n",
       "    </tr>\n",
       "    <tr>\n",
       "      <th>4</th>\n",
       "      <td>{\\n  \"CHUNK_NO\": 0,\\n...</td>\n",
       "      <td>reduced_sample_data</td>\n",
       "      <td>ffs::cpt::90838::</td>\n",
       "      <td>ffs</td>\n",
       "      <td>cpt</td>\n",
       "      <td>90838</td>\n",
       "      <td></td>\n",
       "      <td>negotiated_rates</td>\n",
       "    </tr>\n",
       "  </tbody>\n",
       "</table>\n",
       "</div>"
      ],
      "text/plain": [
       "                      VALUE            P_DATA_FL       P_SEGMENT_ID  \\\n",
       "0  {\\n  \"CHUNK_NO\": 1,\\n...  reduced_sample_data  ffs::cpt::33235::   \n",
       "1  {\\n  \"CHUNK_NO\": 0,\\n...  reduced_sample_data  ffs::cpt::85041::   \n",
       "2  {\\n  \"CHUNK_NO\": 0,\\n...  reduced_sample_data  ffs::cpt::86160::   \n",
       "3  {\\n  \"CHUNK_NO\": 0,\\n...  reduced_sample_data  ffs::cpt::92583::   \n",
       "4  {\\n  \"CHUNK_NO\": 0,\\n...  reduced_sample_data  ffs::cpt::90838::   \n",
       "\n",
       "  P_NEGOTIATION_ARRANGEMENT P_BILLING_CODE_TYPE P_BILLING_CODE  \\\n",
       "0                       ffs                 cpt          33235   \n",
       "1                       ffs                 cpt          85041   \n",
       "2                       ffs                 cpt          86160   \n",
       "3                       ffs                 cpt          92583   \n",
       "4                       ffs                 cpt          90838   \n",
       "\n",
       "  P_BILLING_CODE_TYPE_VERSION    P_SEGMENT_TYPE  \n",
       "0                              negotiated_rates  \n",
       "1                              negotiated_rates  \n",
       "2                              negotiated_rates  \n",
       "3                              negotiated_rates  \n",
       "4                              negotiated_rates  "
      ]
     },
     "metadata": {},
     "output_type": "display_data"
    }
   ],
   "source": [
    "para = f''' \n",
    "The parquet file can be queried inside Snowflake via external table: ext_negotiated_arrangments_staged. Each of the folder structure is partitioned to seperate columns , which can help with pruning to specific segments.\n",
    "The value contains the negotiated_rates and other children elements stored in JSON format\n",
    "'''\n",
    "print(para)\n",
    "\n",
    "pd.set_option('display.max_colwidth', 25)\n",
    "df = (sp_session.table('ext_negotiated_arrangments_staged')\n",
    "        .sample(n=5)\n",
    "        .to_pandas())\n",
    "\n",
    "display(df)\n"
   ]
  },
  {
   "cell_type": "code",
   "execution_count": 36,
   "id": "522943b4",
   "metadata": {},
   "outputs": [
    {
     "name": "stdout",
     "output_type": "stream",
     "text": [
      " a sample view of one of the records\n",
      "{'CHUNK_NO': 1, 'DATA_FILE': 'reduced_sample_data.json', 'NEGOTIATED_RATES': [{'negotiated_prices': [{'billing_class': 'professional', 'expiration_date': '9999-12-31', 'negotiated_rate': 975.15, 'negotiated_type': 'fee schedule', 'service_code': ['11', '22']}, {'billing_class': 'professional', 'expiration_date': '9999-12-31', 'negotiated_rate': 3259.44, 'negotiated_type': 'fee schedule', 'service_code': ['11', '22']}], 'provider_groups': [{'npi': [1609821081], 'tin': {'type': 'ein', 'value': '382800065'}}]}, {'negotiated_prices': [{'billing_class': 'professional', 'expiration_date': '9999-12-31', 'negotiated_rate': 975.15, 'negotiated_type': 'fee schedule', 'service_code': ['11', '22']}, {'billing_class': 'professional', 'expiration_date': '9999-12-31', 'negotiated_rate': 3259.44, 'negotiated_type': 'fee schedule', 'service_code': ['11', '22']}], 'provider_groups': [{'npi': [1427430842], 'tin': {'type': 'ein', 'value': '382800065'}}]}, {'negotiated_prices': [{'billing_class': 'professional', 'expiration_date': '9999-12-31', 'negotiated_rate': 975.15, 'negotiated_type': 'fee schedule', 'service_code': ['11', '22']}, {'billing_class': 'professional', 'expiration_date': '9999-12-31', 'negotiated_rate': 3259.44, 'negotiated_type': 'fee schedule', 'service_code': ['11', '22']}], 'provider_groups': [{'npi': [1174724793], 'tin': {'type': 'ein', 'value': '382800065'}}]}, {'negotiated_prices': [{'billing_class': 'professional', 'expiration_date': '9999-12-31', 'negotiated_rate': 975.15, 'negotiated_type': 'fee schedule', 'service_code': ['11', '22']}, {'billing_class': 'professional', 'expiration_date': '9999-12-31', 'negotiated_rate': 3259.44, 'negotiated_type': 'fee schedule', 'service_code': ['11', '22']}], 'provider_groups': [{'npi': [1447453840], 'tin': {'type': 'ein', 'value': '382800065'}}]}, {'negotiated_prices': [{'billing_class': 'professional', 'expiration_date': '9999-12-31', 'negotiated_rate': 975.15, 'negotiated_type': 'fee schedule', 'service_code': ['11', '22']}, {'billing_class': 'professional', 'expiration_date': '9999-12-31', 'negotiated_rate': 3259.44, 'negotiated_type': 'fee schedule', 'service_code': ['11', '22']}], 'provider_groups': [{'npi': [1871955468], 'tin': {'type': 'ein', 'value': '380593405'}}]}, {'negotiated_prices': [{'billing_class': 'professional', 'expiration_date': '9999-12-31', 'negotiated_rate': 975.15, 'negotiated_type': 'fee schedule', 'service_code': ['11', '22']}, {'billing_class': 'professional', 'expiration_date': '9999-12-31', 'negotiated_rate': 3259.44, 'negotiated_type': 'fee schedule', 'service_code': ['11', '22']}], 'provider_groups': [{'npi': [1083064133], 'tin': {'type': 'ein', 'value': '380593405'}}]}, {'negotiated_prices': [{'billing_class': 'professional', 'expiration_date': '9999-12-31', 'negotiated_rate': 975.15, 'negotiated_type': 'fee schedule', 'service_code': ['11', '22']}, {'billing_class': 'professional', 'expiration_date': '9999-12-31', 'negotiated_rate': 3259.44, 'negotiated_type': 'fee schedule', 'service_code': ['11', '22']}], 'provider_groups': [{'npi': [1144608704], 'tin': {'type': 'ein', 'value': '473970886'}}]}, {'negotiated_prices': [{'billing_class': 'professional', 'expiration_date': '9999-12-31', 'negotiated_rate': 975.15, 'negotiated_type': 'fee schedule', 'service_code': ['11', '22']}, {'billing_class': 'professional', 'expiration_date': '9999-12-31', 'negotiated_rate': 3259.44, 'negotiated_type': 'fee schedule', 'service_code': ['11', '22']}], 'provider_groups': [{'npi': [1073976767], 'tin': {'type': 'ein', 'value': '380593405'}}]}, {'negotiated_prices': [{'billing_class': 'professional', 'expiration_date': '9999-12-31', 'negotiated_rate': 975.15, 'negotiated_type': 'fee schedule', 'service_code': ['11', '22']}, {'billing_class': 'professional', 'expiration_date': '9999-12-31', 'negotiated_rate': 3259.44, 'negotiated_type': 'fee schedule', 'service_code': ['11', '22']}], 'provider_groups': [{'npi': [1487001582], 'tin': {'type': 'ein', 'value': '380593405'}}]}, {'negotiated_prices': [{'billing_class': 'professional', 'expiration_date': '9999-12-31', 'negotiated_rate': 975.15, 'negotiated_type': 'fee schedule', 'service_code': ['11', '22']}, {'billing_class': 'professional', 'expiration_date': '9999-12-31', 'negotiated_rate': 3259.44, 'negotiated_type': 'fee schedule', 'service_code': ['11', '22']}], 'provider_groups': [{'npi': [1124548227], 'tin': {'type': 'ein', 'value': '380593405'}}]}, {'negotiated_prices': [{'billing_class': 'professional', 'expiration_date': '9999-12-31', 'negotiated_rate': 975.15, 'negotiated_type': 'fee schedule', 'service_code': ['11', '22']}, {'billing_class': 'professional', 'expiration_date': '9999-12-31', 'negotiated_rate': 3259.44, 'negotiated_type': 'fee schedule', 'service_code': ['11', '22']}], 'provider_groups': [{'npi': [1164871620], 'tin': {'type': 'ein', 'value': '380593405'}}]}, {'negotiated_prices': [{'billing_class': 'professional', 'expiration_date': '9999-12-31', 'negotiated_rate': 975.15, 'negotiated_type': 'fee schedule', 'service_code': ['11', '22']}, {'billing_class': 'professional', 'expiration_date': '9999-12-31', 'negotiated_rate': 3259.44, 'negotiated_type': 'fee schedule', 'service_code': ['11', '22']}], 'provider_groups': [{'npi': [1902258270], 'tin': {'type': 'ein', 'value': '381358164'}}]}, {'negotiated_prices': [{'billing_class': 'professional', 'expiration_date': '9999-12-31', 'negotiated_rate': 975.15, 'negotiated_type': 'fee schedule', 'service_code': ['11', '22']}, {'billing_class': 'professional', 'expiration_date': '9999-12-31', 'negotiated_rate': 3259.44, 'negotiated_type': 'fee schedule', 'service_code': ['11', '22']}], 'provider_groups': [{'npi': [1023173937], 'tin': {'type': 'ein', 'value': '381274536'}}]}, {'negotiated_prices': [{'billing_class': 'professional', 'expiration_date': '9999-12-31', 'negotiated_rate': 975.15, 'negotiated_type': 'fee schedule', 'service_code': ['11', '22']}, {'billing_class': 'professional', 'expiration_date': '9999-12-31', 'negotiated_rate': 3259.44, 'negotiated_type': 'fee schedule', 'service_code': ['11', '22']}], 'provider_groups': [{'npi': [1437520210], 'tin': {'type': 'ein', 'value': '474318183'}}]}, {'negotiated_prices': [{'billing_class': 'professional', 'expiration_date': '9999-12-31', 'negotiated_rate': 975.15, 'negotiated_type': 'fee schedule', 'service_code': ['11', '22']}, {'billing_class': 'professional', 'expiration_date': '9999-12-31', 'negotiated_rate': 3259.44, 'negotiated_type': 'fee schedule', 'service_code': ['11', '22']}], 'provider_groups': [{'npi': [1851051163], 'tin': {'type': 'ein', 'value': '381360562'}}]}, {'negotiated_prices': [{'billing_class': 'professional', 'expiration_date': '9999-12-31', 'negotiated_rate': 975.15, 'negotiated_type': 'fee schedule', 'service_code': ['11', '22']}, {'billing_class': 'professional', 'expiration_date': '9999-12-31', 'negotiated_rate': 3259.44, 'negotiated_type': 'fee schedule', 'service_code': ['11', '22']}], 'provider_groups': [{'npi': [1053475533], 'tin': {'type': 'ein', 'value': '381274536'}}]}, {'negotiated_prices': [{'billing_class': 'professional', 'expiration_date': '9999-12-31', 'negotiated_rate': 975.15, 'negotiated_type': 'fee schedule', 'service_code': ['11', '22']}, {'billing_class': 'professional', 'expiration_date': '9999-12-31', 'negotiated_rate': 3259.44, 'negotiated_type': 'fee schedule', 'service_code': ['11', '22']}], 'provider_groups': [{'npi': [1154770212], 'tin': {'type': 'ein', 'value': '380593405'}}]}, {'negotiated_prices': [{'billing_class': 'professional', 'expiration_date': '9999-12-31', 'negotiated_rate': 975.15, 'negotiated_type': 'fee schedule', 'service_code': ['11', '22']}, {'billing_class': 'professional', 'expiration_date': '9999-12-31', 'negotiated_rate': 3259.44, 'negotiated_type': 'fee schedule', 'service_code': ['11', '22']}], 'provider_groups': [{'npi': [1598139511], 'tin': {'type': 'ein', 'value': '475449401'}}]}, {'negotiated_prices': [{'billing_class': 'professional', 'expiration_date': '9999-12-31', 'negotiated_rate': 975.15, 'negotiated_type': 'fee schedule', 'service_code': ['11', '22']}, {'billing_class': 'professional', 'expiration_date': '9999-12-31', 'negotiated_rate': 3259.44, 'negotiated_type': 'fee schedule', 'service_code': ['11', '22']}], 'provider_groups': [{'npi': [1033451497], 'tin': {'type': 'ein', 'value': '381358164'}}]}, {'negotiated_prices': [{'billing_class': 'professional', 'expiration_date': '9999-12-31', 'negotiated_rate': 975.15, 'negotiated_type': 'fee schedule', 'service_code': ['11', '22']}, {'billing_class': 'professional', 'expiration_date': '9999-12-31', 'negotiated_rate': 3259.44, 'negotiated_type': 'fee schedule', 'service_code': ['11', '22']}], 'provider_groups': [{'npi': [1336892694], 'tin': {'type': 'ein', 'value': '383587715'}}]}, {'negotiated_prices': [{'billing_class': 'professional', 'expiration_date': '9999-12-31', 'negotiated_rate': 975.15, 'negotiated_type': 'fee schedule', 'service_code': ['11', '22']}, {'billing_class': 'professional', 'expiration_date': '9999-12-31', 'negotiated_rate': 3259.44, 'negotiated_type': 'fee schedule', 'service_code': ['11', '22']}], 'provider_groups': [{'npi': [1255005666], 'tin': {'type': 'ein', 'value': '381358164'}}]}, {'negotiated_prices': [{'billing_class': 'professional', 'expiration_date': '9999-12-31', 'negotiated_rate': 975.15, 'negotiated_type': 'fee schedule', 'service_code': ['11', '22']}, {'billing_class': 'professional', 'expiration_date': '9999-12-31', 'negotiated_rate': 3259.44, 'negotiated_type': 'fee schedule', 'service_code': ['11', '22']}], 'provider_groups': [{'npi': [1336892694], 'tin': {'type': 'ein', 'value': '381362830'}}]}, {'negotiated_prices': [{'billing_class': 'professional', 'expiration_date': '9999-12-31', 'negotiated_rate': 975.15, 'negotiated_type': 'fee schedule', 'service_code': ['11', '22']}, {'billing_class': 'professional', 'expiration_date': '9999-12-31', 'negotiated_rate': 3259.44, 'negotiated_type': 'fee schedule', 'service_code': ['11', '22']}], 'provider_groups': [{'npi': [1114187119], 'tin': {'type': 'ein', 'value': '272491974'}}]}, {'negotiated_prices': [{'billing_class': 'professional', 'expiration_date': '9999-12-31', 'negotiated_rate': 975.15, 'negotiated_type': 'fee schedule', 'service_code': ['11', '22']}, {'billing_class': 'professional', 'expiration_date': '9999-12-31', 'negotiated_rate': 3259.44, 'negotiated_type': 'fee schedule', 'service_code': ['11', '22']}], 'provider_groups': [{'npi': [1043673320], 'tin': {'type': 'ein', 'value': '383956015'}}]}, {'negotiated_prices': [{'billing_class': 'professional', 'expiration_date': '9999-12-31', 'negotiated_rate': 975.15, 'negotiated_type': 'fee schedule', 'service_code': ['11', '22']}, {'billing_class': 'professional', 'expiration_date': '9999-12-31', 'negotiated_rate': 3259.44, 'negotiated_type': 'fee schedule', 'service_code': ['11', '22']}], 'provider_groups': [{'npi': [1194178178], 'tin': {'type': 'ein', 'value': '381358164'}}]}, {'negotiated_prices': [{'billing_class': 'professional', 'expiration_date': '9999-12-31', 'negotiated_rate': 975.15, 'negotiated_type': 'fee schedule', 'service_code': ['11', '22']}, {'billing_class': 'professional', 'expiration_date': '9999-12-31', 'negotiated_rate': 3259.44, 'negotiated_type': 'fee schedule', 'service_code': ['11', '22']}], 'provider_groups': [{'npi': [1578125548], 'tin': {'type': 'ein', 'value': '381358164'}}]}, {'negotiated_prices': [{'billing_class': 'professional', 'expiration_date': '9999-12-31', 'negotiated_rate': 975.15, 'negotiated_type': 'fee schedule', 'service_code': ['11', '22']}, {'billing_class': 'professional', 'expiration_date': '9999-12-31', 'negotiated_rate': 3259.44, 'negotiated_type': 'fee schedule', 'service_code': ['11', '22']}], 'provider_groups': [{'npi': [1174051395], 'tin': {'type': 'ein', 'value': '380593405'}}]}, {'negotiated_prices': [{'billing_class': 'professional', 'expiration_date': '9999-12-31', 'negotiated_rate': 975.15, 'negotiated_type': 'fee schedule', 'service_code': ['11', '22']}, {'billing_class': 'professional', 'expiration_date': '9999-12-31', 'negotiated_rate': 3259.44, 'negotiated_type': 'fee schedule', 'service_code': ['11', '22']}], 'provider_groups': [{'npi': [1497160717], 'tin': {'type': 'ein', 'value': '522283535'}}]}, {'negotiated_prices': [{'billing_class': 'professional', 'expiration_date': '9999-12-31', 'negotiated_rate': 975.15, 'negotiated_type': 'fee schedule', 'service_code': ['11', '22']}, {'billing_class': 'professional', 'expiration_date': '9999-12-31', 'negotiated_rate': 3259.44, 'negotiated_type': 'fee schedule', 'service_code': ['11', '22']}], 'provider_groups': [{'npi': [1245695584], 'tin': {'type': 'ein', 'value': '383372828'}}]}], 'SEGMENT_ID': 'ffs::cpt::33235::', 'SEQ_NO': 8, 'billing_code': '33235', 'billing_code_type': 'CPT', 'billing_code_type_version': '', 'description': 'Removal of Perm Pacemaker; and Trnsvenous Electrodes, Dual Lead System', 'name': 'Removal of Perm Pacemaker; and Trnsvenous Electrodes, Dual Lead System', 'negotiation_arrangement': 'ffs'}\n"
     ]
    }
   ],
   "source": [
    "print(' a sample view of one of the records')\n",
    "j = json.loads(df['VALUE'][0])\n",
    "print(j)"
   ]
  },
  {
   "cell_type": "code",
   "execution_count": 37,
   "id": "f8769a89",
   "metadata": {},
   "outputs": [
    {
     "data": {
      "text/markdown": [
       "The table segment_task_execution_status contains the audit of execution for the above stored procedures"
      ],
      "text/plain": [
       "<IPython.core.display.Markdown object>"
      ]
     },
     "metadata": {},
     "output_type": "display_data"
    },
    {
     "data": {
      "text/html": [
       "<div>\n",
       "<style scoped>\n",
       "    .dataframe tbody tr th:only-of-type {\n",
       "        vertical-align: middle;\n",
       "    }\n",
       "\n",
       "    .dataframe tbody tr th {\n",
       "        vertical-align: top;\n",
       "    }\n",
       "\n",
       "    .dataframe thead th {\n",
       "        text-align: right;\n",
       "    }\n",
       "</style>\n",
       "<table border=\"1\" class=\"dataframe\">\n",
       "  <thead>\n",
       "    <tr style=\"text-align: right;\">\n",
       "      <th></th>\n",
       "      <th>DATA_FILE</th>\n",
       "      <th>TASK_NAME</th>\n",
       "      <th>START_TIME</th>\n",
       "      <th>END_TIME</th>\n",
       "      <th>TASK_RET_STATUS</th>\n",
       "      <th>INSERTED_AT</th>\n",
       "    </tr>\n",
       "  </thead>\n",
       "  <tbody>\n",
       "    <tr>\n",
       "      <th>0</th>\n",
       "      <td>reduced_sample_data.json</td>\n",
       "      <td></td>\n",
       "      <td>2023-01-06 05:07:05.804</td>\n",
       "      <td>2023-01-06 05:07:51.634</td>\n",
       "      <td>{\"data_file\": \"reduce...</td>\n",
       "      <td>2023-01-06 05:07:05.804</td>\n",
       "    </tr>\n",
       "  </tbody>\n",
       "</table>\n",
       "</div>"
      ],
      "text/plain": [
       "                  DATA_FILE TASK_NAME              START_TIME  \\\n",
       "0  reduced_sample_data.json           2023-01-06 05:07:05.804   \n",
       "\n",
       "                 END_TIME           TASK_RET_STATUS             INSERTED_AT  \n",
       "0 2023-01-06 05:07:51.634  {\"data_file\": \"reduce... 2023-01-06 05:07:05.804  "
      ]
     },
     "metadata": {},
     "output_type": "display_data"
    }
   ],
   "source": [
    "display(Markdown(\"The table segment_task_execution_status contains the audit of execution for the above stored procedures\"))\n",
    "\n",
    "df = (sp_session.table('segment_task_execution_status')\n",
    "        .sample(n=5)\n",
    "        .to_pandas())\n",
    "\n",
    "display(df)"
   ]
  },
  {
   "cell_type": "code",
   "execution_count": 38,
   "id": "8d9bf2a1",
   "metadata": {},
   "outputs": [
    {
     "data": {
      "text/markdown": [
       "The view segments_counts_for_datafile_v, based of table segment_task_execution_status, will help to identify the number of negotiated_arrangement segments for a specific data file. This view is populated once all the segments in a specific data files are parsed out"
      ],
      "text/plain": [
       "<IPython.core.display.Markdown object>"
      ]
     },
     "metadata": {},
     "output_type": "display_data"
    },
    {
     "data": {
      "text/html": [
       "<div>\n",
       "<style scoped>\n",
       "    .dataframe tbody tr th:only-of-type {\n",
       "        vertical-align: middle;\n",
       "    }\n",
       "\n",
       "    .dataframe tbody tr th {\n",
       "        vertical-align: top;\n",
       "    }\n",
       "\n",
       "    .dataframe thead th {\n",
       "        text-align: right;\n",
       "    }\n",
       "</style>\n",
       "<table border=\"1\" class=\"dataframe\">\n",
       "  <thead>\n",
       "    <tr style=\"text-align: right;\">\n",
       "      <th></th>\n",
       "      <th>DATA_FILE</th>\n",
       "      <th>TASK_NAME</th>\n",
       "      <th>START_REC_NUM</th>\n",
       "      <th>END_REC_NUM</th>\n",
       "      <th>TOTAL_NO_OF_SEGMENTS</th>\n",
       "      <th>ELAPSED</th>\n",
       "      <th>PARSING_ERROR</th>\n",
       "      <th>EOF_REACHED</th>\n",
       "    </tr>\n",
       "  </thead>\n",
       "  <tbody>\n",
       "  </tbody>\n",
       "</table>\n",
       "</div>"
      ],
      "text/plain": [
       "Empty DataFrame\n",
       "Columns: [DATA_FILE, TASK_NAME, START_REC_NUM, END_REC_NUM, TOTAL_NO_OF_SEGMENTS, ELAPSED, PARSING_ERROR, EOF_REACHED]\n",
       "Index: []"
      ]
     },
     "metadata": {},
     "output_type": "display_data"
    }
   ],
   "source": [
    "display(Markdown(\"The view segments_counts_for_datafile_v, based of table segment_task_execution_status, will help to identify the number of negotiated_arrangement segments for a specific data file. This view is populated once all the segments in a specific data files are parsed out\"))\n",
    "\n",
    "df = (sp_session.table('segments_counts_for_datafile_v')\n",
    "        .sample(n=5)\n",
    "        .to_pandas())\n",
    "\n",
    "display(df)"
   ]
  },
  {
   "cell_type": "markdown",
   "id": "1d6ffbf6",
   "metadata": {},
   "source": [
    "--- \n",
    "### Closeout\n",
    "\n",
    "    With that we are finished this section of the demo setup"
   ]
  },
  {
   "cell_type": "code",
   "execution_count": 39,
   "id": "192cf880",
   "metadata": {},
   "outputs": [
    {
     "name": "stdout",
     "output_type": "stream",
     "text": [
      "Finished!!!\n"
     ]
    }
   ],
   "source": [
    "sp_session.close()\n",
    "print('Finished!!!')"
   ]
  }
 ],
 "metadata": {
  "kernelspec": {
   "display_name": "pysnowpark",
   "language": "python",
   "name": "python3"
  },
  "language_info": {
   "codemirror_mode": {
    "name": "ipython",
    "version": 3
   },
   "file_extension": ".py",
   "mimetype": "text/x-python",
   "name": "python",
   "nbconvert_exporter": "python",
   "pygments_lexer": "ipython3",
   "version": "3.8.15 (default, Nov 24 2022, 09:04:07) \n[Clang 14.0.6 ]"
  },
  "vscode": {
   "interpreter": {
    "hash": "f66ab0cca93a35542579a5cebff8d4c56cda5b2ee20dfe6b405f4dd558333bf9"
   }
  }
 },
 "nbformat": 4,
 "nbformat_minor": 5
}
