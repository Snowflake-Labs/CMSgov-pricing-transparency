{
 "cells": [
  {
   "attachments": {},
   "cell_type": "markdown",
   "id": "e4022bce",
   "metadata": {},
   "source": [
    "# Load\n",
    "\n",
    "This notebook is used to demonstrate ingestion of data, refer to cell #2 for configuration values"
   ]
  },
  {
   "cell_type": "code",
   "execution_count": 1,
   "id": "f8f142c9",
   "metadata": {},
   "outputs": [
    {
     "data": {
      "text/markdown": [
       "### Initialization"
      ],
      "text/plain": [
       "<IPython.core.display.Markdown object>"
      ]
     },
     "metadata": {},
     "output_type": "display_data"
    },
    {
     "data": {
      "text/html": [
       "<div>\n",
       "<style scoped>\n",
       "    .dataframe tbody tr th:only-of-type {\n",
       "        vertical-align: middle;\n",
       "    }\n",
       "\n",
       "    .dataframe tbody tr th {\n",
       "        vertical-align: top;\n",
       "    }\n",
       "\n",
       "    .dataframe thead th {\n",
       "        text-align: right;\n",
       "    }\n",
       "</style>\n",
       "<table border=\"1\" class=\"dataframe\">\n",
       "  <thead>\n",
       "    <tr style=\"text-align: right;\">\n",
       "      <th></th>\n",
       "      <th>CURRENT_USER()</th>\n",
       "      <th>CURRENT_ROLE()</th>\n",
       "      <th>CURRENT_DATABASE()</th>\n",
       "      <th>CURRENT_SCHEMA()</th>\n",
       "    </tr>\n",
       "  </thead>\n",
       "  <tbody>\n",
       "    <tr>\n",
       "      <th>0</th>\n",
       "      <td>SOLNDEMOUSR</td>\n",
       "      <td>PUBLIC</td>\n",
       "      <td>INDSOL_CMSGOV_PRICING</td>\n",
       "      <td>PUBLIC</td>\n",
       "    </tr>\n",
       "  </tbody>\n",
       "</table>\n",
       "</div>"
      ],
      "text/plain": [
       "  CURRENT_USER() CURRENT_ROLE()     CURRENT_DATABASE() CURRENT_SCHEMA()\n",
       "0    SOLNDEMOUSR         PUBLIC  INDSOL_CMSGOV_PRICING           PUBLIC"
      ]
     },
     "metadata": {},
     "output_type": "display_data"
    }
   ],
   "source": [
    "# Initialization block\n",
    "from IPython.display import display, HTML, Image , Markdown\n",
    "from snowflake.snowpark.session import Session\n",
    "import snowflake.snowpark.types as T\n",
    "import snowflake.snowpark.functions as F\n",
    "import os ,configparser ,json ,logging\n",
    "\n",
    "# Import the commonly defined utility scripts using\n",
    "# dynamic path include\n",
    "import sys\n",
    "sys.path.append('../python/lutils')\n",
    "import sflk_base as L\n",
    "\n",
    "display(Markdown(\"### Initialization\"))\n",
    "logging.basicConfig(stream=sys.stdout, level=logging.ERROR)\n",
    "\n",
    "# Source various helper functions\n",
    "%run ./scripts/notebook_helpers.py\n",
    "\n",
    "# Define the project home directory, this is used for locating the config.ini file\n",
    "PROJECT_HOME_DIR = '../../'\n",
    "config = L.get_config(PROJECT_HOME_DIR)\n",
    "sp_session = L.connect_to_snowflake(PROJECT_HOME_DIR)\n",
    "\n",
    "if(sp_session == None):\n",
    "    raise Exception(f'Unable to connect to snowflake. Validate connection information ')\n",
    "\n",
    "sp_session.use_role(f'''{config['APP_DB']['role']}''')\n",
    "sp_session.use_schema(f'''{config['APP_DB']['database']}.{config['APP_DB']['schema']}''')\n",
    "sp_session.use_warehouse(f'''{config['SNOW_CONN']['warehouse']}''')\n",
    "\n",
    "df = sp_session.sql('select current_user() ,current_role() ,current_database() ,current_schema();').to_pandas()\n",
    "display(df)"
   ]
  },
  {
   "cell_type": "code",
   "execution_count": 40,
   "id": "90cd9156",
   "metadata": {},
   "outputs": [],
   "source": [
    "# Parameter initialization\n",
    "\n",
    "import pandas as pd\n",
    "import os\n",
    "from datetime import datetime\n",
    "from datetime import timedelta\n",
    "import time\n",
    "import re\n",
    "\n",
    "pd.set_option('display.max_colwidth', None)\n",
    "\n",
    "def get_file_from_download_url(p_fl_url):\n",
    "    splits = p_fl_url.split('/')\n",
    "    return splits[len(splits) - 1]\n",
    "\n",
    "def get_basename_of_datafile(p_datafile:str) -> str:\n",
    "    base = os.path.basename(p_datafile)\n",
    "    fl_base = os.path.splitext(base)\n",
    "    return fl_base[0]\n",
    "\n",
    "def get_cleansed_file_basename(p_datafile):\n",
    "    fl_basename = get_basename_of_datafile(p_datafile)\n",
    "    # Replace all non alphanumeric characters with _\n",
    "    fl_name = re.sub('[^0-9a-zA-Z]+', '_', fl_basename)\n",
    "    return fl_name\n",
    "\n",
    "DATA_FILE_URL = 'https://priorityhealthtransparencymrfs.s3.amazonaws.com/2023_03_01_priority_health_HMO_in-network-rates.zip'\n",
    "DATA_FILE = get_file_from_download_url(DATA_FILE_URL)\n",
    "DATA_FILE_BASENAME = get_basename_of_datafile(DATA_FILE)\n",
    "DATA_FILE_BASENAME_CLEANSED = get_cleansed_file_basename(DATA_FILE)\n",
    "\n",
    "# INPUT_DATA_STAGE = config['APP_DB']['ext_stage']\n",
    "INPUT_DATA_STAGE = 'data_stg'\n",
    "DATA_STAGE_FOLDER = config['APP_DB']['folder_data']\n",
    "\n",
    "TARGET_DATA_STAGE = config['APP_DB']['ext_stage']\n",
    "TARGET_FOLDER = config['APP_DB']['folder_parsed']\n",
    "\n",
    "# This will need to be updated based on provider\n",
    "# Priority Health ~ 500\n",
    "# CIGNA ~ 15000\n",
    "SEGMENTS_PER_TASK = 500\n",
    "\n",
    "warehouses = config['SNOW_CONN']['warehouse']\n",
    "create_warehouses = True\n",
    "warehouses_count = 10\n",
    "#warehouses = 'INDSOL_PRICE_TRANS_TASK_0_WH,INDSOL_PRICE_TRANS_TASK_1_WH,INDSOL_PRICE_TRANS_TASK_2_WH,INDSOL_PRICE_TRANS_TASK_3_WH,INDSOL_PRICE_TRANS_TASK_4_WH,INDSOL_PRICE_TRANS_TASK_5_WH,INDSOL_PRICE_TRANS_TASK_6_WH,INDSOL_PRICE_TRANS_TASK_7_WH,INDSOL_PRICE_TRANS_TASK_8_WH,INDSOL_PRICE_TRANS_TASK_9_WH,INDSOL_PRICE_TRANS_TASK_10_WH'\n",
    "#warehouses = 'INDSOL_PRICE_TRANS_TASK_0_WH,INDSOL_PRICE_TRANS_TASK_1_WH,INDSOL_PRICE_TRANS_TASK_2_WH,INDSOL_PRICE_TRANS_TASK_3_WH,INDSOL_PRICE_TRANS_TASK_4_WH,INDSOL_PRICE_TRANS_TASK_5_WH'\n",
    "warehouses_lst = [ f'INDSOL_PRICE_TRANS_TASK_{i}_WH' for i in range(warehouses_count) ]\n",
    "warehouses = ','.join(warehouses_lst)\n",
    "\n",
    "# XSMALL | SMALL | MEDIUM | LARGE | XLARGE | XXLARGE | XXXLARGE | X4LARGE | X5LARGE | X6LARGE\n",
    "warehouse_size = 'MEDIUM'\n"
   ]
  },
  {
   "cell_type": "code",
   "execution_count": 41,
   "id": "1b5e80d1",
   "metadata": {},
   "outputs": [],
   "source": [
    "# Download file and upload to stage\n",
    "\n",
    "from urllib import request\n",
    "\n",
    "# Create local download folder\n",
    "DOWNLOAD_FOLDER=f'{PROJECT_HOME_DIR}/temp'\n",
    "os.makedirs(DOWNLOAD_FOLDER ,exist_ok=True)\n",
    "download_file_path = os.path.join(DOWNLOAD_FOLDER, DATA_FILE)\n",
    "\n",
    "if not os.path.exists(os.path.dirname(download_file_path)):\n",
    "    print(f'Downloading file to local: {download_file_path}')\n",
    "    request.urlretrieve(DATA_FILE_URL, download_file_path)"
   ]
  },
  {
   "cell_type": "code",
   "execution_count": 42,
   "id": "9e0bd458",
   "metadata": {},
   "outputs": [
    {
     "data": {
      "text/html": [
       "<div>\n",
       "<style scoped>\n",
       "    .dataframe tbody tr th:only-of-type {\n",
       "        vertical-align: middle;\n",
       "    }\n",
       "\n",
       "    .dataframe tbody tr th {\n",
       "        vertical-align: top;\n",
       "    }\n",
       "\n",
       "    .dataframe thead th {\n",
       "        text-align: right;\n",
       "    }\n",
       "</style>\n",
       "<table border=\"1\" class=\"dataframe\">\n",
       "  <thead>\n",
       "    <tr style=\"text-align: right;\">\n",
       "      <th></th>\n",
       "      <th>RELATIVE_PATH</th>\n",
       "    </tr>\n",
       "  </thead>\n",
       "  <tbody>\n",
       "    <tr>\n",
       "      <th>0</th>\n",
       "      <td>data/2023_03_01_priority_health_HMO_in-network-rates.zip</td>\n",
       "    </tr>\n",
       "  </tbody>\n",
       "</table>\n",
       "</div>"
      ],
      "text/plain": [
       "                                              RELATIVE_PATH\n",
       "0  data/2023_03_01_priority_health_HMO_in-network-rates.zip"
      ]
     },
     "metadata": {},
     "output_type": "display_data"
    }
   ],
   "source": [
    "# Upload data file to stage, if not present\n",
    "\n",
    "sql_stmt = f'''select relative_path\n",
    "from directory(@{INPUT_DATA_STAGE})\n",
    "where relative_path like '%{DATA_FILE}%'\n",
    ";'''\n",
    "# print(sql_stmt)\n",
    "\n",
    "sp_session.sql(f'alter stage {INPUT_DATA_STAGE} refresh;').collect()\n",
    "df = sp_session.sql(sql_stmt).to_pandas()\n",
    "if (len(df) < 1):\n",
    "    print(f'Uploading to stage {INPUT_DATA_STAGE} ...')\n",
    "    sp_session.file.put(\n",
    "        local_file_name = download_file_path\n",
    "        ,stage_location = f'{INPUT_DATA_STAGE}/{DATA_STAGE_FOLDER}'\n",
    "        ,auto_compress=False ,overwrite=True)\n",
    "    \n",
    "    sp_session.sql('alter stage {INPUT_DATA_STAGE} refresh;').collect()\n",
    "    df = sp_session.sql(sql_stmt).to_pandas()\n",
    "\n",
    "display(df)"
   ]
  },
  {
   "cell_type": "code",
   "execution_count": 43,
   "id": "e4061228",
   "metadata": {},
   "outputs": [
    {
     "name": "stdout",
     "output_type": "stream",
     "text": [
      "Creating 10 warehouses ..\n",
      "    - INDSOL_PRICE_TRANS_TASK_0_WH\n",
      "    - INDSOL_PRICE_TRANS_TASK_1_WH\n",
      "    - INDSOL_PRICE_TRANS_TASK_2_WH\n",
      "    - INDSOL_PRICE_TRANS_TASK_3_WH\n",
      "    - INDSOL_PRICE_TRANS_TASK_4_WH\n",
      "    - INDSOL_PRICE_TRANS_TASK_5_WH\n",
      "    - INDSOL_PRICE_TRANS_TASK_6_WH\n",
      "    - INDSOL_PRICE_TRANS_TASK_7_WH\n",
      "    - INDSOL_PRICE_TRANS_TASK_8_WH\n",
      "    - INDSOL_PRICE_TRANS_TASK_9_WH\n"
     ]
    }
   ],
   "source": [
    "# Create warehouses for parallelism\n",
    "\n",
    "if create_warehouses == True:\n",
    "    whs = warehouses.split(',')\n",
    "    print(f'Creating {len(whs)} warehouses ..')\n",
    "\n",
    "    sp_session.sql('use role sysadmin;').collect()\n",
    "    for wh_name in whs:\n",
    "        print(f'    - {wh_name}')\n",
    "        sql_stmt = f'''\n",
    "            create warehouse if not exits {wh_name} with\n",
    "                WAREHOUSE_SIZE = 'XSMALL'\n",
    "                AUTO_RESUME = TRUE\n",
    "                AUTO_SUSPEND = 300\n",
    "                COMMENT = 'warehouse created as part of pricing transperancy industry solution usecase.'\n",
    "            ;\n",
    "        '''\n",
    "        sp_session.sql(sql_stmt).collect()\n",
    "        rl = config['APP_DB']['role']\n",
    "        sp_session.sql(f'grant ALL PRIVILEGES on warehouse {wh_name} to role {rl};').collect()\n",
    "       \n",
    "    sp_session.use_role(f'''{config['APP_DB']['role']}''')"
   ]
  },
  {
   "cell_type": "code",
   "execution_count": 44,
   "id": "4f908941",
   "metadata": {},
   "outputs": [
    {
     "name": "stdout",
     "output_type": "stream",
     "text": [
      " truncating tables ...\n",
      " cleaning up files in external stage under path raw_parsed/2023_03_01_priority_health_HMO_in-network-rates/ ...\n"
     ]
    }
   ],
   "source": [
    "# Cleanup block\n",
    "\n",
    "# We will cleanup specific resources and artifacts from possible previous runs.\n",
    "stmts = [\n",
    "    f''' delete from segment_task_execution_status where data_file = '{DATA_FILE}'; '''\n",
    "    ,f''' delete from task_to_segmentids where data_file = '{DATA_FILE}'; '''\n",
    "    ,f''' delete from in_network_rates_file_header where data_file = '{DATA_FILE}'; '''\n",
    "    ,f''' delete from in_network_rates_segment_header where data_file = '{DATA_FILE}'; '''\n",
    "    ,f''' alter stage {INPUT_DATA_STAGE} refresh; '''\n",
    "]    \n",
    "    \n",
    "print(' truncating tables ...')\n",
    "for stmt in stmts:\n",
    "    sp_session.sql(stmt).collect()\n",
    "\n",
    "print(f''' cleaning up files in external stage under path {TARGET_FOLDER}/{DATA_FILE_BASENAME}/ ...''')\n",
    "\n",
    "stmt = f''' select relative_path from directory(@{TARGET_DATA_STAGE}) where relative_path like '%{DATA_STAGE_FOLDER}/{DATA_FILE_BASENAME}/%'; '''\n",
    "files = sp_session.sql(stmt).collect()\n",
    "for r in files:\n",
    "    stmt = f''' remove @{TARGET_DATA_STAGE}/{r['RELATIVE_PATH']}; '''\n",
    "    sp_session.sql(stmt).collect()"
   ]
  },
  {
   "cell_type": "code",
   "execution_count": 46,
   "id": "e2e44efb",
   "metadata": {},
   "outputs": [
    {
     "name": "stdout",
     "output_type": "stream",
     "text": [
      "Cleaning dags for datafile: 2023_03_01_priority_health_HMO_in_network_rates\n"
     ]
    }
   ],
   "source": [
    "# Cautious enablement, used during development for testing\n",
    "print(f'Cleaning dags for datafile: {DATA_FILE_BASENAME_CLEANSED}')\n",
    "sp_session.call('delete_dag_for_datafile',DATA_FILE_BASENAME_CLEANSED ,False);"
   ]
  },
  {
   "cell_type": "code",
   "execution_count": 47,
   "id": "d89f1e89",
   "metadata": {},
   "outputs": [
    {
     "name": "stdout",
     "output_type": "stream",
     "text": [
      "No of warehouses: 10\n"
     ]
    }
   ],
   "source": [
    "# reset the warehouse size to desired\n",
    "\n",
    "print(f'''No of warehouses: {len(warehouses.split(','))}''')\n",
    "for wh in warehouses.split(','):\n",
    "    sp_session.sql(f''' alter warehouse {wh} set max_concurrency_level = 8; ''').collect()\n",
    "    sp_session.sql(f''' alter warehouse {wh} set warehouse_size = {warehouse_size}; ''').collect()\n"
   ]
  },
  {
   "attachments": {},
   "cell_type": "markdown",
   "id": "88e7dbf8",
   "metadata": {},
   "source": [
    "---\n",
    "## Data loading\n",
    "We will be loading the segments and file header using DAG. "
   ]
  },
  {
   "cell_type": "code",
   "execution_count": 48,
   "id": "f2ebc241",
   "metadata": {},
   "outputs": [
    {
     "name": "stdout",
     "output_type": "stream",
     "text": [
      " Status of execution\n",
      "{\n",
      "  \"data_file\": \"2023_03_01_priority_health_HMO_in-network-rates.zip\",\n",
      "  \"root_task\": \"DAG_ROOT_2023_03_01_priority_health_HMO_in_network_rates\",\n",
      "  \"status\": true,\n",
      "  \"task_matrix_shape\": [\n",
      "    5,\n",
      "    5\n",
      "  ],\n",
      "  \"term_task\": \"TERM_tsk_2023_03_01_priority_health_HMO_in_network_rates\"\n",
      "}\n"
     ]
    }
   ],
   "source": [
    "# we build out the DAG\n",
    "df = sp_session.call('in_network_rates_dagbuilder_matrix' ,f'{INPUT_DATA_STAGE}/{DATA_STAGE_FOLDER}' ,DATA_FILE \n",
    "    ,f\"@{TARGET_DATA_STAGE}/{TARGET_FOLDER}\" ,SEGMENTS_PER_TASK ,warehouses ,5 ,5)\n",
    "\n",
    "sp_session.sql(f''' alter stage {TARGET_DATA_STAGE} refresh; ''').collect()\n",
    "print(' Status of execution')\n",
    "print(df)"
   ]
  },
  {
   "attachments": {},
   "cell_type": "markdown",
   "id": "7b494c8a",
   "metadata": {},
   "source": [
    "The above operation results in defining the DAG in Snowflake like here. The task names are specific to the data file being parsed.\n",
    "![](../../doc/soln_images/task_dags.png)"
   ]
  },
  {
   "cell_type": "code",
   "execution_count": 49,
   "id": "a701da57",
   "metadata": {},
   "outputs": [
    {
     "name": "stdout",
     "output_type": "stream",
     "text": [
      "Started at: 23:03:23\n",
      " execute task DAG_ROOT_2023_03_01_priority_health_HMO_in_network_rates; \n",
      "Ended at: 23:03:24\n",
      "Elapsed: 0:00:00.916954\n"
     ]
    }
   ],
   "source": [
    "# Next we invoke the DAG\n",
    "\n",
    "start_time = time.time()\n",
    "print(f'Started at: {datetime.now().strftime(\"%H:%M:%S\")}')\n",
    "\n",
    "sql_stmts = [\n",
    "    f''' execute task DAG_ROOT_{DATA_FILE_BASENAME_CLEANSED}; '''\n",
    "]\n",
    "for stmt in sql_stmts:\n",
    "    print(stmt)\n",
    "    sp_session.sql(stmt).collect()\n",
    "\n",
    "end_time = time.time()\n",
    "print(f'Ended at: {datetime.now().strftime(\"%H:%M:%S\")}')\n",
    "\n",
    "elapsed_time = end_time - start_time\n",
    "elapsed = str(timedelta(seconds=elapsed_time))\n",
    "print(f'Elapsed: {elapsed}')"
   ]
  },
  {
   "attachments": {},
   "cell_type": "markdown",
   "id": "e7465540",
   "metadata": {},
   "source": [
    "---\n",
    "## Inspection"
   ]
  },
  {
   "cell_type": "code",
   "execution_count": 50,
   "id": "266e8c8e",
   "metadata": {},
   "outputs": [
    {
     "name": "stdout",
     "output_type": "stream",
     "text": [
      "Tasks to segments\n"
     ]
    },
    {
     "data": {
      "text/html": [
       "<div>\n",
       "<style scoped>\n",
       "    .dataframe tbody tr th:only-of-type {\n",
       "        vertical-align: middle;\n",
       "    }\n",
       "\n",
       "    .dataframe tbody tr th {\n",
       "        vertical-align: top;\n",
       "    }\n",
       "\n",
       "    .dataframe thead th {\n",
       "        text-align: right;\n",
       "    }\n",
       "</style>\n",
       "<table border=\"1\" class=\"dataframe\">\n",
       "  <thead>\n",
       "    <tr style=\"text-align: right;\">\n",
       "      <th></th>\n",
       "      <th>BUCKET</th>\n",
       "      <th>DATA_FILE</th>\n",
       "      <th>ASSIGNED_TASK_NAME</th>\n",
       "      <th>FROM_IDX</th>\n",
       "      <th>TO_IDX</th>\n",
       "      <th>SEGMENTS_RECORD_COUNT</th>\n",
       "      <th>INSERTED_AT</th>\n",
       "    </tr>\n",
       "  </thead>\n",
       "  <tbody>\n",
       "    <tr>\n",
       "      <th>0</th>\n",
       "      <td>0</td>\n",
       "      <td>2023_03_01_priority_health_HMO_in-network-rates.zip</td>\n",
       "      <td>T_2023_03_01_priority_health_HMO_in_network_rates_0_500</td>\n",
       "      <td>0</td>\n",
       "      <td>500</td>\n",
       "      <td>500</td>\n",
       "      <td>2023-03-20 20:03:02.363</td>\n",
       "    </tr>\n",
       "    <tr>\n",
       "      <th>1</th>\n",
       "      <td>1</td>\n",
       "      <td>2023_03_01_priority_health_HMO_in-network-rates.zip</td>\n",
       "      <td>T_2023_03_01_priority_health_HMO_in_network_rates_501_1000</td>\n",
       "      <td>501</td>\n",
       "      <td>1000</td>\n",
       "      <td>499</td>\n",
       "      <td>2023-03-20 20:03:02.363</td>\n",
       "    </tr>\n",
       "    <tr>\n",
       "      <th>2</th>\n",
       "      <td>2</td>\n",
       "      <td>2023_03_01_priority_health_HMO_in-network-rates.zip</td>\n",
       "      <td>T_2023_03_01_priority_health_HMO_in_network_rates_1001_1500</td>\n",
       "      <td>1001</td>\n",
       "      <td>1500</td>\n",
       "      <td>499</td>\n",
       "      <td>2023-03-20 20:03:02.363</td>\n",
       "    </tr>\n",
       "    <tr>\n",
       "      <th>3</th>\n",
       "      <td>3</td>\n",
       "      <td>2023_03_01_priority_health_HMO_in-network-rates.zip</td>\n",
       "      <td>T_2023_03_01_priority_health_HMO_in_network_rates_1501_2000</td>\n",
       "      <td>1501</td>\n",
       "      <td>2000</td>\n",
       "      <td>499</td>\n",
       "      <td>2023-03-20 20:03:02.363</td>\n",
       "    </tr>\n",
       "    <tr>\n",
       "      <th>4</th>\n",
       "      <td>4</td>\n",
       "      <td>2023_03_01_priority_health_HMO_in-network-rates.zip</td>\n",
       "      <td>T_2023_03_01_priority_health_HMO_in_network_rates_2001_2500</td>\n",
       "      <td>2001</td>\n",
       "      <td>2500</td>\n",
       "      <td>499</td>\n",
       "      <td>2023-03-20 20:03:02.363</td>\n",
       "    </tr>\n",
       "    <tr>\n",
       "      <th>...</th>\n",
       "      <td>...</td>\n",
       "      <td>...</td>\n",
       "      <td>...</td>\n",
       "      <td>...</td>\n",
       "      <td>...</td>\n",
       "      <td>...</td>\n",
       "      <td>...</td>\n",
       "    </tr>\n",
       "    <tr>\n",
       "      <th>70</th>\n",
       "      <td>70</td>\n",
       "      <td>2023_03_01_priority_health_HMO_in-network-rates.zip</td>\n",
       "      <td>T_2023_03_01_priority_health_HMO_in_network_rates_35001_35500</td>\n",
       "      <td>35001</td>\n",
       "      <td>35500</td>\n",
       "      <td>499</td>\n",
       "      <td>2023-03-20 20:03:02.363</td>\n",
       "    </tr>\n",
       "    <tr>\n",
       "      <th>71</th>\n",
       "      <td>71</td>\n",
       "      <td>2023_03_01_priority_health_HMO_in-network-rates.zip</td>\n",
       "      <td>T_2023_03_01_priority_health_HMO_in_network_rates_35501_36000</td>\n",
       "      <td>35501</td>\n",
       "      <td>36000</td>\n",
       "      <td>499</td>\n",
       "      <td>2023-03-20 20:03:02.363</td>\n",
       "    </tr>\n",
       "    <tr>\n",
       "      <th>72</th>\n",
       "      <td>72</td>\n",
       "      <td>2023_03_01_priority_health_HMO_in-network-rates.zip</td>\n",
       "      <td>T_2023_03_01_priority_health_HMO_in_network_rates_36001_36500</td>\n",
       "      <td>36001</td>\n",
       "      <td>36500</td>\n",
       "      <td>499</td>\n",
       "      <td>2023-03-20 20:03:02.363</td>\n",
       "    </tr>\n",
       "    <tr>\n",
       "      <th>73</th>\n",
       "      <td>73</td>\n",
       "      <td>2023_03_01_priority_health_HMO_in-network-rates.zip</td>\n",
       "      <td>T_2023_03_01_priority_health_HMO_in_network_rates_36501_37000</td>\n",
       "      <td>36501</td>\n",
       "      <td>37000</td>\n",
       "      <td>499</td>\n",
       "      <td>2023-03-20 20:03:02.363</td>\n",
       "    </tr>\n",
       "    <tr>\n",
       "      <th>74</th>\n",
       "      <td>74</td>\n",
       "      <td>2023_03_01_priority_health_HMO_in-network-rates.zip</td>\n",
       "      <td>T_2023_03_01_priority_health_HMO_in_network_rates_37001_999999999</td>\n",
       "      <td>37001</td>\n",
       "      <td>999999999</td>\n",
       "      <td>999962998</td>\n",
       "      <td>2023-03-20 20:03:02.363</td>\n",
       "    </tr>\n",
       "  </tbody>\n",
       "</table>\n",
       "<p>75 rows × 7 columns</p>\n",
       "</div>"
      ],
      "text/plain": [
       "   BUCKET                                            DATA_FILE  \\\n",
       "0       0  2023_03_01_priority_health_HMO_in-network-rates.zip   \n",
       "1       1  2023_03_01_priority_health_HMO_in-network-rates.zip   \n",
       "2       2  2023_03_01_priority_health_HMO_in-network-rates.zip   \n",
       "3       3  2023_03_01_priority_health_HMO_in-network-rates.zip   \n",
       "4       4  2023_03_01_priority_health_HMO_in-network-rates.zip   \n",
       "..    ...                                                  ...   \n",
       "70     70  2023_03_01_priority_health_HMO_in-network-rates.zip   \n",
       "71     71  2023_03_01_priority_health_HMO_in-network-rates.zip   \n",
       "72     72  2023_03_01_priority_health_HMO_in-network-rates.zip   \n",
       "73     73  2023_03_01_priority_health_HMO_in-network-rates.zip   \n",
       "74     74  2023_03_01_priority_health_HMO_in-network-rates.zip   \n",
       "\n",
       "                                                   ASSIGNED_TASK_NAME  \\\n",
       "0             T_2023_03_01_priority_health_HMO_in_network_rates_0_500   \n",
       "1          T_2023_03_01_priority_health_HMO_in_network_rates_501_1000   \n",
       "2         T_2023_03_01_priority_health_HMO_in_network_rates_1001_1500   \n",
       "3         T_2023_03_01_priority_health_HMO_in_network_rates_1501_2000   \n",
       "4         T_2023_03_01_priority_health_HMO_in_network_rates_2001_2500   \n",
       "..                                                                ...   \n",
       "70      T_2023_03_01_priority_health_HMO_in_network_rates_35001_35500   \n",
       "71      T_2023_03_01_priority_health_HMO_in_network_rates_35501_36000   \n",
       "72      T_2023_03_01_priority_health_HMO_in_network_rates_36001_36500   \n",
       "73      T_2023_03_01_priority_health_HMO_in_network_rates_36501_37000   \n",
       "74  T_2023_03_01_priority_health_HMO_in_network_rates_37001_999999999   \n",
       "\n",
       "    FROM_IDX     TO_IDX  SEGMENTS_RECORD_COUNT             INSERTED_AT  \n",
       "0          0        500                    500 2023-03-20 20:03:02.363  \n",
       "1        501       1000                    499 2023-03-20 20:03:02.363  \n",
       "2       1001       1500                    499 2023-03-20 20:03:02.363  \n",
       "3       1501       2000                    499 2023-03-20 20:03:02.363  \n",
       "4       2001       2500                    499 2023-03-20 20:03:02.363  \n",
       "..       ...        ...                    ...                     ...  \n",
       "70     35001      35500                    499 2023-03-20 20:03:02.363  \n",
       "71     35501      36000                    499 2023-03-20 20:03:02.363  \n",
       "72     36001      36500                    499 2023-03-20 20:03:02.363  \n",
       "73     36501      37000                    499 2023-03-20 20:03:02.363  \n",
       "74     37001  999999999              999962998 2023-03-20 20:03:02.363  \n",
       "\n",
       "[75 rows x 7 columns]"
      ]
     },
     "metadata": {},
     "output_type": "display_data"
    }
   ],
   "source": [
    "\n",
    "print('Tasks to segments')\n",
    "file_ingestion_df = sp_session.table('TASK_TO_SEGMENTIDS').filter(F.col('DATA_FILE') == F.lit(DATA_FILE)).to_pandas()\n",
    "display(file_ingestion_df)"
   ]
  },
  {
   "cell_type": "code",
   "execution_count": 53,
   "id": "cf8d3957",
   "metadata": {},
   "outputs": [
    {
     "name": "stdout",
     "output_type": "stream",
     "text": [
      "Tasks ,warehouses and state\n"
     ]
    },
    {
     "ename": "SnowparkSessionException",
     "evalue": "(1404): Cannot perform this operation because the session has been closed.",
     "output_type": "error",
     "traceback": [
      "\u001b[0;31m---------------------------------------------------------------------------\u001b[0m",
      "\u001b[0;31mSnowparkSessionException\u001b[0m                  Traceback (most recent call last)",
      "Cell \u001b[0;32mIn[53], line 2\u001b[0m\n\u001b[1;32m      1\u001b[0m \u001b[39mprint\u001b[39m(\u001b[39m'\u001b[39m\u001b[39mTasks ,warehouses and state\u001b[39m\u001b[39m'\u001b[39m)\n\u001b[0;32m----> 2\u001b[0m sp_session\u001b[39m.\u001b[39;49msql(\u001b[39mf\u001b[39;49m\u001b[39m'''\u001b[39;49m\u001b[39m SHOW TASKS IN  DATABASE \u001b[39;49m\u001b[39m{\u001b[39;49;00mconfig[\u001b[39m'\u001b[39;49m\u001b[39mAPP_DB\u001b[39;49m\u001b[39m'\u001b[39;49m][\u001b[39m'\u001b[39;49m\u001b[39mdatabase\u001b[39;49m\u001b[39m'\u001b[39;49m]\u001b[39m}\u001b[39;49;00m\u001b[39m; \u001b[39;49m\u001b[39m'''\u001b[39;49m)\u001b[39m.\u001b[39;49mcollect()\n\u001b[1;32m      3\u001b[0m stmt \u001b[39m=\u001b[39m \u001b[39mf\u001b[39m\u001b[39m'''\u001b[39m\n\u001b[1;32m      4\u001b[0m \u001b[39m    select \u001b[39m\u001b[39m\"\u001b[39m\u001b[39mname\u001b[39m\u001b[39m\"\u001b[39m\u001b[39m as task_name\u001b[39m\n\u001b[1;32m      5\u001b[0m \u001b[39m        ,\u001b[39m\u001b[39m\"\u001b[39m\u001b[39mwarehouse\u001b[39m\u001b[39m\"\u001b[39m\u001b[39m as warehouse\u001b[39m\n\u001b[0;32m   (...)\u001b[0m\n\u001b[1;32m     10\u001b[0m \u001b[39m    order by state;\u001b[39m\n\u001b[1;32m     11\u001b[0m \u001b[39m'''\u001b[39m\n\u001b[1;32m     12\u001b[0m df \u001b[39m=\u001b[39m sp_session\u001b[39m.\u001b[39msql(stmt)\u001b[39m.\u001b[39mto_pandas()\n",
      "File \u001b[0;32m~/opt/anaconda3/envs/pysnowpark/lib/python3.8/site-packages/snowflake/snowpark/_internal/telemetry.py:138\u001b[0m, in \u001b[0;36mdf_collect_api_telemetry.<locals>.wrap\u001b[0;34m(*args, **kwargs)\u001b[0m\n\u001b[1;32m    135\u001b[0m \u001b[39m@functools\u001b[39m\u001b[39m.\u001b[39mwraps(func)\n\u001b[1;32m    136\u001b[0m \u001b[39mdef\u001b[39;00m \u001b[39mwrap\u001b[39m(\u001b[39m*\u001b[39margs, \u001b[39m*\u001b[39m\u001b[39m*\u001b[39mkwargs):\n\u001b[1;32m    137\u001b[0m     \u001b[39mwith\u001b[39;00m args[\u001b[39m0\u001b[39m]\u001b[39m.\u001b[39m_session\u001b[39m.\u001b[39mquery_history() \u001b[39mas\u001b[39;00m query_history:\n\u001b[0;32m--> 138\u001b[0m         result \u001b[39m=\u001b[39m func(\u001b[39m*\u001b[39;49margs, \u001b[39m*\u001b[39;49m\u001b[39m*\u001b[39;49mkwargs)\n\u001b[1;32m    139\u001b[0m     plan \u001b[39m=\u001b[39m args[\u001b[39m0\u001b[39m]\u001b[39m.\u001b[39m_select_statement \u001b[39mor\u001b[39;00m args[\u001b[39m0\u001b[39m]\u001b[39m.\u001b[39m_plan\n\u001b[1;32m    140\u001b[0m     api_calls \u001b[39m=\u001b[39m [\n\u001b[1;32m    141\u001b[0m         \u001b[39m*\u001b[39mplan\u001b[39m.\u001b[39mapi_calls,\n\u001b[1;32m    142\u001b[0m         {TelemetryField\u001b[39m.\u001b[39mNAME\u001b[39m.\u001b[39mvalue: \u001b[39mf\u001b[39m\u001b[39m\"\u001b[39m\u001b[39mDataFrame.\u001b[39m\u001b[39m{\u001b[39;00mfunc\u001b[39m.\u001b[39m\u001b[39m__name__\u001b[39m\u001b[39m}\u001b[39;00m\u001b[39m\"\u001b[39m},\n\u001b[1;32m    143\u001b[0m     ]\n",
      "File \u001b[0;32m~/opt/anaconda3/envs/pysnowpark/lib/python3.8/site-packages/snowflake/snowpark/dataframe.py:549\u001b[0m, in \u001b[0;36mDataFrame.collect\u001b[0;34m(self, statement_params, block)\u001b[0m\n\u001b[1;32m    533\u001b[0m \u001b[39m@df_collect_api_telemetry\u001b[39m\n\u001b[1;32m    534\u001b[0m \u001b[39mdef\u001b[39;00m \u001b[39mcollect\u001b[39m(\n\u001b[1;32m    535\u001b[0m     \u001b[39mself\u001b[39m, \u001b[39m*\u001b[39m, statement_params: Optional[Dict[\u001b[39mstr\u001b[39m, \u001b[39mstr\u001b[39m]] \u001b[39m=\u001b[39m \u001b[39mNone\u001b[39;00m, block: \u001b[39mbool\u001b[39m \u001b[39m=\u001b[39m \u001b[39mTrue\u001b[39;00m\n\u001b[1;32m    536\u001b[0m ) \u001b[39m-\u001b[39m\u001b[39m>\u001b[39m Union[List[Row], AsyncJob]:\n\u001b[1;32m    537\u001b[0m     \u001b[39m\"\"\"Executes the query representing this DataFrame and returns the result as a\u001b[39;00m\n\u001b[1;32m    538\u001b[0m \u001b[39m    list of :class:`Row` objects.\u001b[39;00m\n\u001b[1;32m    539\u001b[0m \n\u001b[0;32m   (...)\u001b[0m\n\u001b[1;32m    547\u001b[0m \u001b[39m        :meth:`collect_nowait()`\u001b[39;00m\n\u001b[1;32m    548\u001b[0m \u001b[39m    \"\"\"\u001b[39;00m\n\u001b[0;32m--> 549\u001b[0m     \u001b[39mreturn\u001b[39;00m \u001b[39mself\u001b[39;49m\u001b[39m.\u001b[39;49m_internal_collect_with_tag_no_telemetry(\n\u001b[1;32m    550\u001b[0m         statement_params\u001b[39m=\u001b[39;49mstatement_params, block\u001b[39m=\u001b[39;49mblock\n\u001b[1;32m    551\u001b[0m     )\n",
      "File \u001b[0;32m~/opt/anaconda3/envs/pysnowpark/lib/python3.8/site-packages/snowflake/snowpark/dataframe.py:584\u001b[0m, in \u001b[0;36mDataFrame._internal_collect_with_tag_no_telemetry\u001b[0;34m(self, statement_params, block, data_type)\u001b[0m\n\u001b[1;32m    574\u001b[0m \u001b[39mdef\u001b[39;00m \u001b[39m_internal_collect_with_tag_no_telemetry\u001b[39m(\n\u001b[1;32m    575\u001b[0m     \u001b[39mself\u001b[39m,\n\u001b[1;32m    576\u001b[0m     \u001b[39m*\u001b[39m,\n\u001b[0;32m   (...)\u001b[0m\n\u001b[1;32m    582\u001b[0m     \u001b[39m# we should always call this method instead of collect(), to make sure the\u001b[39;00m\n\u001b[1;32m    583\u001b[0m     \u001b[39m# query tag is set properly.\u001b[39;00m\n\u001b[0;32m--> 584\u001b[0m     \u001b[39mreturn\u001b[39;00m \u001b[39mself\u001b[39;49m\u001b[39m.\u001b[39;49m_session\u001b[39m.\u001b[39;49m_conn\u001b[39m.\u001b[39;49mexecute(\n\u001b[1;32m    585\u001b[0m         \u001b[39mself\u001b[39;49m\u001b[39m.\u001b[39;49m_plan,\n\u001b[1;32m    586\u001b[0m         block\u001b[39m=\u001b[39;49mblock,\n\u001b[1;32m    587\u001b[0m         data_type\u001b[39m=\u001b[39;49mdata_type,\n\u001b[1;32m    588\u001b[0m         _statement_params\u001b[39m=\u001b[39;49mcreate_or_update_statement_params_with_query_tag(\n\u001b[1;32m    589\u001b[0m             statement_params, \u001b[39mself\u001b[39;49m\u001b[39m.\u001b[39;49m_session\u001b[39m.\u001b[39;49mquery_tag, SKIP_LEVELS_THREE\n\u001b[1;32m    590\u001b[0m         ),\n\u001b[1;32m    591\u001b[0m     )\n",
      "File \u001b[0;32m~/opt/anaconda3/envs/pysnowpark/lib/python3.8/site-packages/snowflake/snowpark/_internal/server_connection.py:406\u001b[0m, in \u001b[0;36mServerConnection.execute\u001b[0;34m(self, plan, to_pandas, to_iter, block, data_type, **kwargs)\u001b[0m\n\u001b[1;32m    402\u001b[0m \u001b[39mif\u001b[39;00m is_in_stored_procedure() \u001b[39mand\u001b[39;00m \u001b[39mnot\u001b[39;00m block:  \u001b[39m# pragma: no cover\u001b[39;00m\n\u001b[1;32m    403\u001b[0m     \u001b[39mraise\u001b[39;00m \u001b[39mNotImplementedError\u001b[39;00m(\n\u001b[1;32m    404\u001b[0m         \u001b[39m\"\u001b[39m\u001b[39mAsync query is not supported in stored procedure yet\u001b[39m\u001b[39m\"\u001b[39m\n\u001b[1;32m    405\u001b[0m     )\n\u001b[0;32m--> 406\u001b[0m result_set, result_meta \u001b[39m=\u001b[39m \u001b[39mself\u001b[39;49m\u001b[39m.\u001b[39;49mget_result_set(\n\u001b[1;32m    407\u001b[0m     plan, to_pandas, to_iter, \u001b[39m*\u001b[39;49m\u001b[39m*\u001b[39;49mkwargs, block\u001b[39m=\u001b[39;49mblock, data_type\u001b[39m=\u001b[39;49mdata_type\n\u001b[1;32m    408\u001b[0m )\n\u001b[1;32m    409\u001b[0m \u001b[39mif\u001b[39;00m \u001b[39mnot\u001b[39;00m block:\n\u001b[1;32m    410\u001b[0m     \u001b[39mreturn\u001b[39;00m result_set\n",
      "File \u001b[0;32m~/opt/anaconda3/envs/pysnowpark/lib/python3.8/site-packages/snowflake/snowpark/_internal/analyzer/snowflake_plan.py:87\u001b[0m, in \u001b[0;36mSnowflakePlan.Decorator.wrap_exception.<locals>.wrap\u001b[0;34m(*args, **kwargs)\u001b[0m\n\u001b[1;32m     85\u001b[0m \u001b[39mdef\u001b[39;00m \u001b[39mwrap\u001b[39m(\u001b[39m*\u001b[39margs, \u001b[39m*\u001b[39m\u001b[39m*\u001b[39mkwargs):\n\u001b[1;32m     86\u001b[0m     \u001b[39mtry\u001b[39;00m:\n\u001b[0;32m---> 87\u001b[0m         \u001b[39mreturn\u001b[39;00m func(\u001b[39m*\u001b[39;49margs, \u001b[39m*\u001b[39;49m\u001b[39m*\u001b[39;49mkwargs)\n\u001b[1;32m     88\u001b[0m     \u001b[39mexcept\u001b[39;00m snowflake\u001b[39m.\u001b[39mconnector\u001b[39m.\u001b[39merrors\u001b[39m.\u001b[39mProgrammingError \u001b[39mas\u001b[39;00m e:\n\u001b[1;32m     89\u001b[0m         tb \u001b[39m=\u001b[39m sys\u001b[39m.\u001b[39mexc_info()[\u001b[39m2\u001b[39m]\n",
      "File \u001b[0;32m~/opt/anaconda3/envs/pysnowpark/lib/python3.8/site-packages/snowflake/snowpark/_internal/server_connection.py:494\u001b[0m, in \u001b[0;36mServerConnection.get_result_set\u001b[0;34m(self, plan, to_pandas, to_iter, block, data_type, **kwargs)\u001b[0m\n\u001b[1;32m    492\u001b[0m \u001b[39mfor\u001b[39;00m holder, id_ \u001b[39min\u001b[39;00m placeholders\u001b[39m.\u001b[39mitems():\n\u001b[1;32m    493\u001b[0m     final_query \u001b[39m=\u001b[39m final_query\u001b[39m.\u001b[39mreplace(holder, id_)\n\u001b[0;32m--> 494\u001b[0m result \u001b[39m=\u001b[39m \u001b[39mself\u001b[39;49m\u001b[39m.\u001b[39;49mrun_query(\n\u001b[1;32m    495\u001b[0m     final_query,\n\u001b[1;32m    496\u001b[0m     to_pandas,\n\u001b[1;32m    497\u001b[0m     to_iter \u001b[39mand\u001b[39;49;00m (i \u001b[39m==\u001b[39;49m \u001b[39mlen\u001b[39;49m(plan\u001b[39m.\u001b[39;49mqueries) \u001b[39m-\u001b[39;49m \u001b[39m1\u001b[39;49m),\n\u001b[1;32m    498\u001b[0m     is_ddl_on_temp_object\u001b[39m=\u001b[39;49mquery\u001b[39m.\u001b[39;49mis_ddl_on_temp_object,\n\u001b[1;32m    499\u001b[0m     block\u001b[39m=\u001b[39;49m\u001b[39mnot\u001b[39;49;00m is_last,\n\u001b[1;32m    500\u001b[0m     data_type\u001b[39m=\u001b[39;49mdata_type,\n\u001b[1;32m    501\u001b[0m     async_job_plan\u001b[39m=\u001b[39;49mplan,\n\u001b[1;32m    502\u001b[0m     \u001b[39m*\u001b[39;49m\u001b[39m*\u001b[39;49mkwargs,\n\u001b[1;32m    503\u001b[0m )\n\u001b[1;32m    504\u001b[0m placeholders[query\u001b[39m.\u001b[39mquery_id_place_holder] \u001b[39m=\u001b[39m (\n\u001b[1;32m    505\u001b[0m     result[\u001b[39m\"\u001b[39m\u001b[39msfqid\u001b[39m\u001b[39m\"\u001b[39m] \u001b[39mif\u001b[39;00m \u001b[39mnot\u001b[39;00m is_last \u001b[39melse\u001b[39;00m result\u001b[39m.\u001b[39mquery_id\n\u001b[1;32m    506\u001b[0m )\n\u001b[1;32m    507\u001b[0m result_meta \u001b[39m=\u001b[39m \u001b[39mself\u001b[39m\u001b[39m.\u001b[39m_cursor\u001b[39m.\u001b[39mdescription\n",
      "File \u001b[0;32m~/opt/anaconda3/envs/pysnowpark/lib/python3.8/site-packages/snowflake/snowpark/_internal/server_connection.py:96\u001b[0m, in \u001b[0;36mServerConnection._Decorator.wrap_exception.<locals>.wrap\u001b[0;34m(*args, **kwargs)\u001b[0m\n\u001b[1;32m     93\u001b[0m \u001b[39mdef\u001b[39;00m \u001b[39mwrap\u001b[39m(\u001b[39m*\u001b[39margs, \u001b[39m*\u001b[39m\u001b[39m*\u001b[39mkwargs):\n\u001b[1;32m     94\u001b[0m     \u001b[39m# self._conn.is_closed()\u001b[39;00m\n\u001b[1;32m     95\u001b[0m     \u001b[39mif\u001b[39;00m args[\u001b[39m0\u001b[39m]\u001b[39m.\u001b[39m_conn\u001b[39m.\u001b[39mis_closed():\n\u001b[0;32m---> 96\u001b[0m         \u001b[39mraise\u001b[39;00m SnowparkClientExceptionMessages\u001b[39m.\u001b[39mSERVER_SESSION_HAS_BEEN_CLOSED()\n\u001b[1;32m     97\u001b[0m     \u001b[39mtry\u001b[39;00m:\n\u001b[1;32m     98\u001b[0m         \u001b[39mreturn\u001b[39;00m func(\u001b[39m*\u001b[39margs, \u001b[39m*\u001b[39m\u001b[39m*\u001b[39mkwargs)\n",
      "\u001b[0;31mSnowparkSessionException\u001b[0m: (1404): Cannot perform this operation because the session has been closed."
     ]
    }
   ],
   "source": [
    "\n",
    "print('Tasks ,warehouses and state')\n",
    "sp_session.sql(f''' SHOW TASKS IN  DATABASE {config['APP_DB']['database']}; ''').collect()\n",
    "stmt = f'''\n",
    "    select \"name\" as task_name\n",
    "        ,\"warehouse\" as warehouse\n",
    "        ,\"state\" as state\n",
    "    from table(result_scan(last_query_id()))\n",
    "    where \"name\" like '%{DATA_FILE_BASENAME_CLEANSED.upper()}%'\n",
    "       -- and state != 'suspended'\n",
    "    order by state;\n",
    "'''\n",
    "df = sp_session.sql(stmt).to_pandas()\n",
    "display(df)"
   ]
  },
  {
   "cell_type": "markdown",
   "id": "1d6ffbf6",
   "metadata": {},
   "source": [
    "--- \n",
    "### Closeout\n",
    "\n",
    "    With that we are finished this section of the demo setup"
   ]
  },
  {
   "cell_type": "code",
   "execution_count": 52,
   "id": "192cf880",
   "metadata": {},
   "outputs": [
    {
     "name": "stdout",
     "output_type": "stream",
     "text": [
      "Finished!!!\n"
     ]
    }
   ],
   "source": [
    "sp_session.close()\n",
    "print('Finished!!!')"
   ]
  }
 ],
 "metadata": {
  "kernelspec": {
   "display_name": "pysnowpark",
   "language": "python",
   "name": "python3"
  },
  "language_info": {
   "codemirror_mode": {
    "name": "ipython",
    "version": 3
   },
   "file_extension": ".py",
   "mimetype": "text/x-python",
   "name": "python",
   "nbconvert_exporter": "python",
   "pygments_lexer": "ipython3",
   "version": "3.8.15"
  },
  "vscode": {
   "interpreter": {
    "hash": "f66ab0cca93a35542579a5cebff8d4c56cda5b2ee20dfe6b405f4dd558333bf9"
   }
  }
 },
 "nbformat": 4,
 "nbformat_minor": 5
}
