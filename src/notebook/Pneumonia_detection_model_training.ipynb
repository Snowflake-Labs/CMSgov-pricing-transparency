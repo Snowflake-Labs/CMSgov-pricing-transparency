{
 "cells": [
  {
   "cell_type": "markdown",
   "id": "e4022bce",
   "metadata": {},
   "source": [
    "# Model Training\n",
    "\n",
    "We will be training and building the model, based on the feature engineered data that is stored in the table. The entire training \n",
    "is done using Snowpark optimized warehouse and using stored procedure. Hence all the operations will be natively executed in Snowflake."
   ]
  },
  {
   "cell_type": "code",
   "execution_count": 2,
   "id": "5679b2d2",
   "metadata": {},
   "outputs": [
    {
     "data": {
      "text/markdown": [
       "### Initialization"
      ],
      "text/plain": [
       "<IPython.core.display.Markdown object>"
      ]
     },
     "metadata": {},
     "output_type": "display_data"
    },
    {
     "data": {
      "text/html": [
       "<div>\n",
       "<style scoped>\n",
       "    .dataframe tbody tr th:only-of-type {\n",
       "        vertical-align: middle;\n",
       "    }\n",
       "\n",
       "    .dataframe tbody tr th {\n",
       "        vertical-align: top;\n",
       "    }\n",
       "\n",
       "    .dataframe thead th {\n",
       "        text-align: right;\n",
       "    }\n",
       "</style>\n",
       "<table border=\"1\" class=\"dataframe\">\n",
       "  <thead>\n",
       "    <tr style=\"text-align: right;\">\n",
       "      <th></th>\n",
       "      <th>CURRENT_USER()</th>\n",
       "      <th>CURRENT_ROLE()</th>\n",
       "      <th>CURRENT_DATABASE()</th>\n",
       "      <th>CURRENT_SCHEMA()</th>\n",
       "    </tr>\n",
       "  </thead>\n",
       "  <tbody>\n",
       "    <tr>\n",
       "      <th>0</th>\n",
       "      <td>VSEKAR</td>\n",
       "      <td>PUBLIC</td>\n",
       "      <td>INDSOL_DICOM_DB</td>\n",
       "      <td>PUBLIC</td>\n",
       "    </tr>\n",
       "  </tbody>\n",
       "</table>\n",
       "</div>"
      ],
      "text/plain": [
       "  CURRENT_USER() CURRENT_ROLE() CURRENT_DATABASE() CURRENT_SCHEMA()\n",
       "0         VSEKAR         PUBLIC    INDSOL_DICOM_DB           PUBLIC"
      ]
     },
     "metadata": {},
     "output_type": "display_data"
    }
   ],
   "source": [
    "from IPython.display import display, HTML, Image , Markdown\n",
    "from snowflake.snowpark.session import Session\n",
    "import snowflake.snowpark.types as T\n",
    "import snowflake.snowpark.functions as F\n",
    "import os ,configparser ,json ,logging\n",
    "\n",
    "# Import the commonly defined utility scripts using\n",
    "# dynamic path include\n",
    "import sys\n",
    "sys.path.append('../python/lutils')\n",
    "import sflk_base as L\n",
    "\n",
    "display(Markdown(\"### Initialization\"))\n",
    "logging.basicConfig(stream=sys.stdout, level=logging.ERROR)\n",
    "\n",
    "# Source various helper functions\n",
    "%run ./scripts/notebook_helpers.py\n",
    "\n",
    "# Define the project home directory, this is used for locating the config.ini file\n",
    "PROJECT_HOME_DIR = '../../'\n",
    "config = L.get_config(PROJECT_HOME_DIR)\n",
    "sp_session = L.connect_to_snowflake(PROJECT_HOME_DIR)\n",
    "\n",
    "if(sp_session == None):\n",
    "    raise Exception(f'Unable to connect to snowflake. Validate connection information ')\n",
    "\n",
    "sp_session.use_role(f'''{config['APP_DB']['role']}''')\n",
    "sp_session.use_schema(f'''{config['APP_DB']['database']}.{config['APP_DB']['schema']}''')\n",
    "sp_session.use_warehouse(f'''{config['APP_DB']['snow_opt_wh']}''')\n",
    "\n",
    "df = sp_session.sql('select current_user() ,current_role() ,current_database() ,current_schema();').to_pandas()\n",
    "display(df)"
   ]
  },
  {
   "cell_type": "code",
   "execution_count": 5,
   "id": "c140a570",
   "metadata": {},
   "outputs": [
    {
     "data": {
      "text/html": [
       "<div>\n",
       "<style scoped>\n",
       "    .dataframe tbody tr th:only-of-type {\n",
       "        vertical-align: middle;\n",
       "    }\n",
       "\n",
       "    .dataframe tbody tr th {\n",
       "        vertical-align: top;\n",
       "    }\n",
       "\n",
       "    .dataframe thead th {\n",
       "        text-align: right;\n",
       "    }\n",
       "</style>\n",
       "<table border=\"1\" class=\"dataframe\">\n",
       "  <thead>\n",
       "    <tr style=\"text-align: right;\">\n",
       "      <th></th>\n",
       "      <th>SEQ_NO</th>\n",
       "      <th>IMAGE_FILEPATH</th>\n",
       "      <th>PARSING_STATUS</th>\n",
       "      <th>PARSING_EXCEPTION</th>\n",
       "      <th>CLASS_LABEL</th>\n",
       "      <th>CLASS_LABEL_NUM</th>\n",
       "      <th>IMAGE_ARRAY_SHAPE_0</th>\n",
       "      <th>IMAGE_ARRAY_SHAPE_1</th>\n",
       "      <th>IMAGE_ARRAY</th>\n",
       "      <th>NORMALIZED_IMAGE_ARRAY</th>\n",
       "      <th>RESIZED_FEATURE</th>\n",
       "    </tr>\n",
       "  </thead>\n",
       "  <tbody>\n",
       "    <tr>\n",
       "      <th>0</th>\n",
       "      <td>4421</td>\n",
       "      <td>./data/val/NORMAL/IM-0326-0001.jpeg</td>\n",
       "      <td>True</td>\n",
       "      <td></td>\n",
       "      <td>NORMAL</td>\n",
       "      <td>0</td>\n",
       "      <td>150</td>\n",
       "      <td>150</td>\n",
       "      <td>[\\n  0,\\n  0,\\n  0,\\n  0,\\n  0,\\n  0,\\n  0,\\n ...</td>\n",
       "      <td>[\\n  0.000000000000000e+00,\\n  0.0000000000000...</td>\n",
       "      <td>[\\n  0.000000000000000e+00,\\n  0.0000000000000...</td>\n",
       "    </tr>\n",
       "    <tr>\n",
       "      <th>1</th>\n",
       "      <td>4050</td>\n",
       "      <td>./data/val/PNEUMONIA/person292_virus_600.jpeg</td>\n",
       "      <td>True</td>\n",
       "      <td></td>\n",
       "      <td>PNEUMONIA</td>\n",
       "      <td>1</td>\n",
       "      <td>150</td>\n",
       "      <td>150</td>\n",
       "      <td>[\\n  153,\\n  151,\\n  148,\\n  152,\\n  149,\\n  1...</td>\n",
       "      <td>[\\n  6.000000000000000e-01,\\n  5.9215686274509...</td>\n",
       "      <td>[\\n  6.000000000000000e-01,\\n  5.9215686274509...</td>\n",
       "    </tr>\n",
       "    <tr>\n",
       "      <th>2</th>\n",
       "      <td>3319</td>\n",
       "      <td>./data/train/NORMAL/IM-0704-0001.jpeg</td>\n",
       "      <td>True</td>\n",
       "      <td></td>\n",
       "      <td>NORMAL</td>\n",
       "      <td>0</td>\n",
       "      <td>150</td>\n",
       "      <td>150</td>\n",
       "      <td>[\\n  49,\\n  48,\\n  63,\\n  67,\\n  64,\\n  71,\\n ...</td>\n",
       "      <td>[\\n  1.921568627450981e-01,\\n  1.8823529411764...</td>\n",
       "      <td>[\\n  1.921568627450981e-01,\\n  1.8823529411764...</td>\n",
       "    </tr>\n",
       "    <tr>\n",
       "      <th>3</th>\n",
       "      <td>4225</td>\n",
       "      <td>./data/val/NORMAL/IM-0308-0001.jpeg</td>\n",
       "      <td>True</td>\n",
       "      <td></td>\n",
       "      <td>NORMAL</td>\n",
       "      <td>0</td>\n",
       "      <td>150</td>\n",
       "      <td>150</td>\n",
       "      <td>[\\n  121,\\n  114,\\n  112,\\n  112,\\n  120,\\n  1...</td>\n",
       "      <td>[\\n  4.745098039215686e-01,\\n  4.4705882352941...</td>\n",
       "      <td>[\\n  4.745098039215686e-01,\\n  4.4705882352941...</td>\n",
       "    </tr>\n",
       "    <tr>\n",
       "      <th>4</th>\n",
       "      <td>1752</td>\n",
       "      <td>./data/train/PNEUMONIA/person846_virus_1491.jpeg</td>\n",
       "      <td>True</td>\n",
       "      <td></td>\n",
       "      <td>PNEUMONIA</td>\n",
       "      <td>1</td>\n",
       "      <td>150</td>\n",
       "      <td>150</td>\n",
       "      <td>[\\n  0,\\n  8,\\n  22,\\n  62,\\n  55,\\n  58,\\n  7...</td>\n",
       "      <td>[\\n  0.000000000000000e+00,\\n  3.1372549019607...</td>\n",
       "      <td>[\\n  0.000000000000000e+00,\\n  3.1372549019607...</td>\n",
       "    </tr>\n",
       "  </tbody>\n",
       "</table>\n",
       "</div>"
      ],
      "text/plain": [
       "   SEQ_NO                                    IMAGE_FILEPATH  PARSING_STATUS  \\\n",
       "0    4421               ./data/val/NORMAL/IM-0326-0001.jpeg            True   \n",
       "1    4050     ./data/val/PNEUMONIA/person292_virus_600.jpeg            True   \n",
       "2    3319             ./data/train/NORMAL/IM-0704-0001.jpeg            True   \n",
       "3    4225               ./data/val/NORMAL/IM-0308-0001.jpeg            True   \n",
       "4    1752  ./data/train/PNEUMONIA/person846_virus_1491.jpeg            True   \n",
       "\n",
       "  PARSING_EXCEPTION CLASS_LABEL  CLASS_LABEL_NUM  IMAGE_ARRAY_SHAPE_0  \\\n",
       "0                        NORMAL                0                  150   \n",
       "1                     PNEUMONIA                1                  150   \n",
       "2                        NORMAL                0                  150   \n",
       "3                        NORMAL                0                  150   \n",
       "4                     PNEUMONIA                1                  150   \n",
       "\n",
       "   IMAGE_ARRAY_SHAPE_1                                        IMAGE_ARRAY  \\\n",
       "0                  150  [\\n  0,\\n  0,\\n  0,\\n  0,\\n  0,\\n  0,\\n  0,\\n ...   \n",
       "1                  150  [\\n  153,\\n  151,\\n  148,\\n  152,\\n  149,\\n  1...   \n",
       "2                  150  [\\n  49,\\n  48,\\n  63,\\n  67,\\n  64,\\n  71,\\n ...   \n",
       "3                  150  [\\n  121,\\n  114,\\n  112,\\n  112,\\n  120,\\n  1...   \n",
       "4                  150  [\\n  0,\\n  8,\\n  22,\\n  62,\\n  55,\\n  58,\\n  7...   \n",
       "\n",
       "                              NORMALIZED_IMAGE_ARRAY  \\\n",
       "0  [\\n  0.000000000000000e+00,\\n  0.0000000000000...   \n",
       "1  [\\n  6.000000000000000e-01,\\n  5.9215686274509...   \n",
       "2  [\\n  1.921568627450981e-01,\\n  1.8823529411764...   \n",
       "3  [\\n  4.745098039215686e-01,\\n  4.4705882352941...   \n",
       "4  [\\n  0.000000000000000e+00,\\n  3.1372549019607...   \n",
       "\n",
       "                                     RESIZED_FEATURE  \n",
       "0  [\\n  0.000000000000000e+00,\\n  0.0000000000000...  \n",
       "1  [\\n  6.000000000000000e-01,\\n  5.9215686274509...  \n",
       "2  [\\n  1.921568627450981e-01,\\n  1.8823529411764...  \n",
       "3  [\\n  4.745098039215686e-01,\\n  4.4705882352941...  \n",
       "4  [\\n  0.000000000000000e+00,\\n  3.1372549019607...  "
      ]
     },
     "metadata": {},
     "output_type": "display_data"
    }
   ],
   "source": [
    "df = sp_session.table('image_parsed_raw').sample(n=5).to_pandas()\n",
    "display(df)"
   ]
  },
  {
   "cell_type": "code",
   "execution_count": 6,
   "id": "269ae7b7",
   "metadata": {},
   "outputs": [
    {
     "data": {
      "text/markdown": [
       "Model training ..."
      ],
      "text/plain": [
       "<IPython.core.display.Markdown object>"
      ]
     },
     "metadata": {},
     "output_type": "display_data"
    },
    {
     "name": "stdout",
     "output_type": "stream",
     "text": [
      " call train_pneumonia_identification_model(\n",
      "        10000 \n",
      "        ,'@model_stg' \n",
      "        ,'pneumonia_model.joblib' \n",
      "        ,3); \n",
      "Total execution time for training: 0.05588499999999996 minutes\n",
      "[Row(TRAIN_PNEUMONIA_IDENTIFICATION_MODEL='{\\n  \"logs\": [\\n    \"load data ...\",\\n    \"train and split ...\",\\n    \" LEN train test val : 675 / 3155 / 676\",\\n    \"reshape data ...\",\\n    \"reshape data 3 ...\",\\n    \" Shapeof Train / Val : (675, 1) / (676, 1)\",\\n    \"reshape data 2.1 ...\",\\n    \" Shapeof Train / Val : (675, 150, 150, 1) / (675,)\",\\n    \"reshape data 2.3 ...\",\\n    \" Shapeof Train / Val : (676, 150, 150, 1) / (676,)\",\\n    \"instantiate data generator ...\",\\n    \"define model pipeline ...\",\\n    \"model fit ...\",\\n    \"save model ...\",\\n    \"Finished\"\\n  ]\\n}')]\n"
     ]
    }
   ],
   "source": [
    "import time\n",
    "\n",
    "image_count = 10*1000\n",
    "epochs = 3\n",
    "display(Markdown(\"Model training ...\"))\n",
    "\n",
    "t = time.process_time()\n",
    "stmt = f''' call train_pneumonia_identification_model(\n",
    "        {image_count} \n",
    "        ,'@model_stg' \n",
    "        ,'{config['APP_DB']['model_flname']}' \n",
    "        ,{epochs}); '''\n",
    "print(stmt)\n",
    "out_df = sp_session.sql(stmt).collect()\n",
    "elapsed_time = (time.process_time() - t) #/60\n",
    "\n",
    "print(f'Total execution time for training: {elapsed_time} minutes')\n",
    "print(out_df)"
   ]
  },
  {
   "cell_type": "code",
   "execution_count": 26,
   "id": "adae0c4e",
   "metadata": {},
   "outputs": [
    {
     "data": {
      "text/html": [
       "<div>\n",
       "<style scoped>\n",
       "    .dataframe tbody tr th:only-of-type {\n",
       "        vertical-align: middle;\n",
       "    }\n",
       "\n",
       "    .dataframe tbody tr th {\n",
       "        vertical-align: top;\n",
       "    }\n",
       "\n",
       "    .dataframe thead th {\n",
       "        text-align: right;\n",
       "    }\n",
       "</style>\n",
       "<table border=\"1\" class=\"dataframe\">\n",
       "  <thead>\n",
       "    <tr style=\"text-align: right;\">\n",
       "      <th></th>\n",
       "      <th>name</th>\n",
       "      <th>size</th>\n",
       "      <th>last_modified</th>\n",
       "    </tr>\n",
       "  </thead>\n",
       "  <tbody>\n",
       "    <tr>\n",
       "      <th>0</th>\n",
       "      <td>model_stg/pneumonia_model.joblib</td>\n",
       "      <td>95047952</td>\n",
       "      <td>Tue, 20 Dec 2022 10:09:37 GMT</td>\n",
       "    </tr>\n",
       "  </tbody>\n",
       "</table>\n",
       "</div>"
      ],
      "text/plain": [
       "                               name      size                  last_modified\n",
       "0  model_stg/pneumonia_model.joblib  95047952  Tue, 20 Dec 2022 10:09:37 GMT"
      ]
     },
     "metadata": {},
     "output_type": "display_data"
    }
   ],
   "source": [
    "import pandas as pd\n",
    "\n",
    "rows = sp_session.sql(f''' list @model_stg; ''').collect()\n",
    "data = []\n",
    "for r in rows:\n",
    "    data.append({\n",
    "        'name': r['name']\n",
    "        ,'size': r['size']\n",
    "        ,'last_modified': r['last_modified']\n",
    "    })\n",
    "\n",
    "df = pd.json_normalize(data)\n",
    "display(df)\n",
    "\n"
   ]
  },
  {
   "cell_type": "markdown",
   "id": "1d6ffbf6",
   "metadata": {},
   "source": [
    "--- \n",
    "### Closeout\n",
    "\n",
    "    With that we are finished this section of the demo setup"
   ]
  },
  {
   "cell_type": "code",
   "execution_count": 9,
   "id": "192cf880",
   "metadata": {},
   "outputs": [
    {
     "name": "stdout",
     "output_type": "stream",
     "text": [
      "Finished!!!\n"
     ]
    }
   ],
   "source": [
    "sp_session.close()\n",
    "print('Finished!!!')"
   ]
  }
 ],
 "metadata": {
  "kernelspec": {
   "display_name": "pysnowpark",
   "language": "python",
   "name": "python3"
  },
  "language_info": {
   "codemirror_mode": {
    "name": "ipython",
    "version": 3
   },
   "file_extension": ".py",
   "mimetype": "text/x-python",
   "name": "python",
   "nbconvert_exporter": "python",
   "pygments_lexer": "ipython3",
   "version": "3.8.15 (default, Nov 24 2022, 09:04:07) \n[Clang 14.0.6 ]"
  },
  "vscode": {
   "interpreter": {
    "hash": "f66ab0cca93a35542579a5cebff8d4c56cda5b2ee20dfe6b405f4dd558333bf9"
   }
  }
 },
 "nbformat": 4,
 "nbformat_minor": 5
}
