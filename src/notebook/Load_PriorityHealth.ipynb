{
 "cells": [
  {
   "attachments": {},
   "cell_type": "markdown",
   "id": "e4022bce",
   "metadata": {},
   "source": [
    "# Load\n",
    "\n",
    "This is a demonstration of loading data file"
   ]
  },
  {
   "cell_type": "code",
   "execution_count": 43,
   "id": "f8f142c9",
   "metadata": {},
   "outputs": [
    {
     "data": {
      "text/markdown": [
       "### Initialization"
      ],
      "text/plain": [
       "<IPython.core.display.Markdown object>"
      ]
     },
     "metadata": {},
     "output_type": "display_data"
    },
    {
     "data": {
      "text/html": [
       "<div>\n",
       "<style scoped>\n",
       "    .dataframe tbody tr th:only-of-type {\n",
       "        vertical-align: middle;\n",
       "    }\n",
       "\n",
       "    .dataframe tbody tr th {\n",
       "        vertical-align: top;\n",
       "    }\n",
       "\n",
       "    .dataframe thead th {\n",
       "        text-align: right;\n",
       "    }\n",
       "</style>\n",
       "<table border=\"1\" class=\"dataframe\">\n",
       "  <thead>\n",
       "    <tr style=\"text-align: right;\">\n",
       "      <th></th>\n",
       "      <th>CURRENT_USER()</th>\n",
       "      <th>CURRENT_ROLE()</th>\n",
       "      <th>CURRENT_DATABASE()</th>\n",
       "      <th>CURRENT_SCHEMA()</th>\n",
       "    </tr>\n",
       "  </thead>\n",
       "  <tbody>\n",
       "    <tr>\n",
       "      <th>0</th>\n",
       "      <td>SOLNDEMOUSR</td>\n",
       "      <td>PUBLIC</td>\n",
       "      <td>INDSOL_CMSGOV_PRICING_EJ</td>\n",
       "      <td>PUBLIC</td>\n",
       "    </tr>\n",
       "  </tbody>\n",
       "</table>\n",
       "</div>"
      ],
      "text/plain": [
       "  CURRENT_USER() CURRENT_ROLE()        CURRENT_DATABASE() CURRENT_SCHEMA()\n",
       "0    SOLNDEMOUSR         PUBLIC  INDSOL_CMSGOV_PRICING_EJ           PUBLIC"
      ]
     },
     "metadata": {},
     "output_type": "display_data"
    }
   ],
   "source": [
    "# Initialization block\n",
    "from IPython.display import display, HTML, Image , Markdown\n",
    "from snowflake.snowpark.session import Session\n",
    "import snowflake.snowpark.types as T\n",
    "import snowflake.snowpark.functions as F\n",
    "import os ,configparser ,json ,logging\n",
    "\n",
    "# Import the commonly defined utility scripts using\n",
    "# dynamic path include\n",
    "import sys\n",
    "sys.path.append('../python/lutils')\n",
    "import sflk_base as L\n",
    "\n",
    "display(Markdown(\"### Initialization\"))\n",
    "logging.basicConfig(stream=sys.stdout, level=logging.ERROR)\n",
    "\n",
    "# Source various helper functions\n",
    "%run ./scripts/notebook_helpers.py\n",
    "\n",
    "# Define the project home directory, this is used for locating the config.ini file\n",
    "PROJECT_HOME_DIR = '../../'\n",
    "config = L.get_config(PROJECT_HOME_DIR)\n",
    "sp_session = L.connect_to_snowflake(PROJECT_HOME_DIR)\n",
    "\n",
    "if(sp_session == None):\n",
    "    raise Exception(f'Unable to connect to snowflake. Validate connection information ')\n",
    "\n",
    "sp_session.use_role(f'''{config['APP_DB']['role']}''')\n",
    "sp_session.use_schema(f'''{config['APP_DB']['database']}.{config['APP_DB']['schema']}''')\n",
    "sp_session.use_warehouse(f'''{config['SNOW_CONN']['warehouse']}''')\n",
    "\n",
    "df = sp_session.sql('select current_user() ,current_role() ,current_database() ,current_schema();').to_pandas()\n",
    "display(df)"
   ]
  },
  {
   "cell_type": "code",
   "execution_count": 44,
   "id": "90cd9156",
   "metadata": {},
   "outputs": [],
   "source": [
    "# Parameter initialization\n",
    "\n",
    "import pandas as pd\n",
    "import os\n",
    "from datetime import datetime\n",
    "from datetime import timedelta\n",
    "import time\n",
    "import re\n",
    "\n",
    "pd.set_option('display.max_colwidth', None)\n",
    "\n",
    "def get_file_from_download_url(p_fl_url):\n",
    "    splits = p_fl_url.split('/')\n",
    "    return splits[len(splits) - 1]\n",
    "\n",
    "def get_basename_of_datafile(p_datafile:str) -> str:\n",
    "    base = os.path.basename(p_datafile)\n",
    "    fl_base = os.path.splitext(base)\n",
    "    return fl_base[0]\n",
    "\n",
    "def get_cleansed_file_basename(p_datafile):\n",
    "    fl_basename = get_basename_of_datafile(p_datafile)\n",
    "    # Replace all non alphanumeric characters with _\n",
    "    fl_name = re.sub('[^0-9a-zA-Z]+', '_', fl_basename)\n",
    "    return fl_name\n",
    "\n",
    "DATA_FILE_URL = 'https://priorityhealthtransparencymrfs.s3.amazonaws.com/2023_03_01_priority_health_HMO_in-network-rates.zip'\n",
    "DATA_FILE = get_file_from_download_url(DATA_FILE_URL)\n",
    "DATA_FILE_BASENAME = get_basename_of_datafile(DATA_FILE)\n",
    "DATA_FILE_BASENAME_CLEANSED = get_cleansed_file_basename(DATA_FILE)\n",
    "\n",
    "# INPUT_DATA_STAGE = config['APP_DB']['ext_stage']\n",
    "INPUT_DATA_STAGE = 'data_stg'\n",
    "DATA_STAGE_FOLDER = config['APP_DB']['folder_data']\n",
    "\n",
    "TARGET_DATA_STAGE = config['APP_DB']['ext_stage']\n",
    "TARGET_FOLDER = config['APP_DB']['folder_parsed']\n",
    "\n",
    "# This will need to be updated based on provider\n",
    "# Priority Health ~ 500\n",
    "# CIGNA ~ 15000\n",
    "SEGMENTS_PER_TASK = 500\n",
    "\n",
    "warehouses = config['SNOW_CONN']['warehouse']\n",
    "create_warehouses = True\n",
    "#warehouses = 'INDSOL_PRICE_TRANS_TASK_0_WH,INDSOL_PRICE_TRANS_TASK_1_WH,INDSOL_PRICE_TRANS_TASK_2_WH,INDSOL_PRICE_TRANS_TASK_3_WH,INDSOL_PRICE_TRANS_TASK_4_WH,INDSOL_PRICE_TRANS_TASK_5_WH,INDSOL_PRICE_TRANS_TASK_6_WH,INDSOL_PRICE_TRANS_TASK_7_WH,INDSOL_PRICE_TRANS_TASK_8_WH,INDSOL_PRICE_TRANS_TASK_9_WH,INDSOL_PRICE_TRANS_TASK_10_WH'\n",
    "warehouses = 'INDSOL_PRICE_TRANS_TASK_0_WH,INDSOL_PRICE_TRANS_TASK_1_WH,INDSOL_PRICE_TRANS_TASK_2_WH,INDSOL_PRICE_TRANS_TASK_3_WH,INDSOL_PRICE_TRANS_TASK_4_WH,INDSOL_PRICE_TRANS_TASK_5_WH'\n",
    "\n",
    "# XSMALL | SMALL | MEDIUM | LARGE | XLARGE | XXLARGE | XXXLARGE | X4LARGE | X5LARGE | X6LARGE\n",
    "warehouse_size = 'MEDIUM'\n"
   ]
  },
  {
   "cell_type": "code",
   "execution_count": 45,
   "id": "1b5e80d1",
   "metadata": {},
   "outputs": [],
   "source": [
    "# Download file and upload to stage\n",
    "\n",
    "from urllib import request\n",
    "\n",
    "# Create local download folder\n",
    "DOWNLOAD_FOLDER=f'{PROJECT_HOME_DIR}/temp'\n",
    "os.makedirs(DOWNLOAD_FOLDER ,exist_ok=True)\n",
    "download_file_path = os.path.join(DOWNLOAD_FOLDER, DATA_FILE)\n",
    "\n",
    "if not os.path.exists(os.path.dirname(download_file_path)):\n",
    "    print(f'Downloading file to local: {download_file_path}')\n",
    "    request.urlretrieve(DATA_FILE_URL, download_file_path)"
   ]
  },
  {
   "cell_type": "code",
   "execution_count": 46,
   "id": "9e0bd458",
   "metadata": {},
   "outputs": [
    {
     "data": {
      "text/html": [
       "<div>\n",
       "<style scoped>\n",
       "    .dataframe tbody tr th:only-of-type {\n",
       "        vertical-align: middle;\n",
       "    }\n",
       "\n",
       "    .dataframe tbody tr th {\n",
       "        vertical-align: top;\n",
       "    }\n",
       "\n",
       "    .dataframe thead th {\n",
       "        text-align: right;\n",
       "    }\n",
       "</style>\n",
       "<table border=\"1\" class=\"dataframe\">\n",
       "  <thead>\n",
       "    <tr style=\"text-align: right;\">\n",
       "      <th></th>\n",
       "      <th>RELATIVE_PATH</th>\n",
       "    </tr>\n",
       "  </thead>\n",
       "  <tbody>\n",
       "    <tr>\n",
       "      <th>0</th>\n",
       "      <td>data/2023_03_01_priority_health_HMO_in-network-rates.zip</td>\n",
       "    </tr>\n",
       "  </tbody>\n",
       "</table>\n",
       "</div>"
      ],
      "text/plain": [
       "                                              RELATIVE_PATH\n",
       "0  data/2023_03_01_priority_health_HMO_in-network-rates.zip"
      ]
     },
     "metadata": {},
     "output_type": "display_data"
    }
   ],
   "source": [
    "# Upload data file to stage, if not present\n",
    "\n",
    "sql_stmt = f'''select relative_path\n",
    "from directory(@{INPUT_DATA_STAGE})\n",
    "where relative_path like '%{DATA_FILE}%'\n",
    ";'''\n",
    "# print(sql_stmt)\n",
    "\n",
    "df = sp_session.sql(sql_stmt).to_pandas()\n",
    "if (len(df) < 1):\n",
    "    print(f'Uploading to stage {INPUT_DATA_STAGE} ...')\n",
    "    sp_session.file.put(\n",
    "        local_file_name = download_file_path\n",
    "        ,stage_location = f'{INPUT_DATA_STAGE}/{DATA_STAGE_FOLDER}'\n",
    "        ,auto_compress=False ,overwrite=True)\n",
    "    \n",
    "    df = sp_session.sql(sql_stmt).to_pandas()\n",
    "\n",
    "display(df)"
   ]
  },
  {
   "cell_type": "code",
   "execution_count": 47,
   "id": "e4061228",
   "metadata": {},
   "outputs": [
    {
     "name": "stdout",
     "output_type": "stream",
     "text": [
      "Creating 6 warehouses ..\n",
      "    - INDSOL_PRICE_TRANS_TASK_0_WH\n",
      "    - INDSOL_PRICE_TRANS_TASK_1_WH\n",
      "    - INDSOL_PRICE_TRANS_TASK_2_WH\n",
      "    - INDSOL_PRICE_TRANS_TASK_3_WH\n",
      "    - INDSOL_PRICE_TRANS_TASK_4_WH\n",
      "    - INDSOL_PRICE_TRANS_TASK_5_WH\n"
     ]
    }
   ],
   "source": [
    "# Create warehouses for parallelism\n",
    "\n",
    "if create_warehouses == True:\n",
    "    whs = warehouses.split(',')\n",
    "    print(f'Creating {len(whs)} warehouses ..')\n",
    "\n",
    "    sp_session.sql('use role sysadmin;').collect()\n",
    "    for wh_name in whs:\n",
    "        print(f'    - {wh_name}')\n",
    "        sql_stmt = f'''\n",
    "            create or replace warehouse {wh_name} with\n",
    "                WAREHOUSE_SIZE = 'XSMALL'\n",
    "                AUTO_RESUME = TRUE\n",
    "                AUTO_SUSPEND = 300\n",
    "                COMMENT = 'warehouse created as part of pricing transperancy industry solution usecase.'\n",
    "            ;\n",
    "        '''\n",
    "        sp_session.sql(sql_stmt).collect()\n",
    "        rl = config['APP_DB']['role']\n",
    "        sp_session.sql(f'grant ALL PRIVILEGES on warehouse {wh_name} to role {rl};').collect()\n",
    "       \n",
    "    sp_session.use_role(f'''{config['APP_DB']['role']}''')"
   ]
  },
  {
   "cell_type": "code",
   "execution_count": 48,
   "id": "4f908941",
   "metadata": {},
   "outputs": [
    {
     "name": "stdout",
     "output_type": "stream",
     "text": [
      " truncating tables ...\n",
      " cleaning up files in external stage under path raw_parsed_v3/2023_03_01_priority_health_HMO_in-network-rates/ ...\n"
     ]
    }
   ],
   "source": [
    "# Cleanup block\n",
    "\n",
    "# We will cleanup specific resources and artifacts from possible previous runs.\n",
    "stmts = [\n",
    "    f''' delete from segment_task_execution_status where data_file = '{DATA_FILE}'; '''\n",
    "    ,f''' delete from task_to_segmentids where data_file = '{DATA_FILE}'; '''\n",
    "    ,f''' delete from in_network_rates_file_header where data_file = '{DATA_FILE}'; '''\n",
    "    ,f''' delete from in_network_rates_segment_header where data_file = '{DATA_FILE}'; '''\n",
    "    ,f''' alter stage {INPUT_DATA_STAGE} refresh; '''\n",
    "]    \n",
    "    \n",
    "print(' truncating tables ...')\n",
    "for stmt in stmts:\n",
    "    sp_session.sql(stmt).collect()\n",
    "\n",
    "print(f''' cleaning up files in external stage under path {TARGET_FOLDER}/{DATA_FILE_BASENAME}/ ...''')\n",
    "\n",
    "stmt = f''' select relative_path from directory(@{TARGET_DATA_STAGE}) where relative_path like '%{DATA_STAGE_FOLDER}/{DATA_FILE_BASENAME}/%'; '''\n",
    "files = sp_session.sql(stmt).collect()\n",
    "for r in files:\n",
    "    stmt = f''' remove @{TARGET_DATA_STAGE}/{r['RELATIVE_PATH']}; '''\n",
    "    sp_session.sql(stmt).collect()"
   ]
  },
  {
   "cell_type": "code",
   "execution_count": 49,
   "id": "e2e44efb",
   "metadata": {},
   "outputs": [
    {
     "name": "stdout",
     "output_type": "stream",
     "text": [
      "Cleaning dags for datafile: 2023_03_01_priority_health_HMO_in_network_rates\n"
     ]
    }
   ],
   "source": [
    "# Cautious enablement, used during development for testing\n",
    "print(f'Cleaning dags for datafile: {DATA_FILE_BASENAME_CLEANSED}')\n",
    "sp_session.call('delete_dag_for_datafile',DATA_FILE_BASENAME_CLEANSED ,False);"
   ]
  },
  {
   "cell_type": "code",
   "execution_count": 50,
   "id": "d89f1e89",
   "metadata": {},
   "outputs": [
    {
     "name": "stdout",
     "output_type": "stream",
     "text": [
      "No of warehouses: 6\n"
     ]
    }
   ],
   "source": [
    "# reset the warehouse size to desired\n",
    "\n",
    "print(f'''No of warehouses: {len(warehouses.split(','))}''')\n",
    "for wh in warehouses.split(','):\n",
    "    sp_session.sql(f''' alter warehouse {wh} set max_concurrency_level = 8; ''').collect()\n",
    "    sp_session.sql(f''' alter warehouse {wh} set warehouse_size = {warehouse_size}; ''').collect()\n"
   ]
  },
  {
   "attachments": {},
   "cell_type": "markdown",
   "id": "88e7dbf8",
   "metadata": {},
   "source": [
    "---\n",
    "## Data loading\n",
    "We will be loading the segments and file header using DAG. "
   ]
  },
  {
   "cell_type": "code",
   "execution_count": 51,
   "id": "f2ebc241",
   "metadata": {},
   "outputs": [
    {
     "name": "stdout",
     "output_type": "stream",
     "text": [
      " Status of execution\n",
      "{\n",
      "  \"data_file\": \"2023_03_01_priority_health_HMO_in-network-rates.zip\",\n",
      "  \"root_task\": \"DAG_ROOT_2023_03_01_priority_health_HMO_in_network_rates\",\n",
      "  \"status\": true,\n",
      "  \"task_matrix_shape\": [\n",
      "    5,\n",
      "    5\n",
      "  ],\n",
      "  \"term_task\": \"TERM_tsk_2023_03_01_priority_health_HMO_in_network_rates\"\n",
      "}\n"
     ]
    }
   ],
   "source": [
    "# we build out the DAG\n",
    "df = sp_session.call('in_network_rates_dagbuilder_matrix' ,f'{INPUT_DATA_STAGE}/{DATA_STAGE_FOLDER}' ,DATA_FILE \n",
    "    ,f\"@{TARGET_DATA_STAGE}/{TARGET_FOLDER}\" ,SEGMENTS_PER_TASK ,warehouses ,5 ,5)\n",
    "\n",
    "sp_session.sql(f''' alter stage {TARGET_DATA_STAGE} refresh; ''').collect()\n",
    "print(' Status of execution')\n",
    "print(df)"
   ]
  },
  {
   "attachments": {},
   "cell_type": "markdown",
   "id": "7b494c8a",
   "metadata": {},
   "source": [
    "The above operation results in defining the DAG in Snowflake like here. The task names are specific to the data file being parsed.\n",
    "![](../../doc/soln_images/task_dags.png)"
   ]
  },
  {
   "cell_type": "code",
   "execution_count": 52,
   "id": "a701da57",
   "metadata": {},
   "outputs": [
    {
     "name": "stdout",
     "output_type": "stream",
     "text": [
      "Started at: 21:00:42\n",
      " execute task DAG_ROOT_2023_03_01_priority_health_HMO_in_network_rates; \n",
      "Ended at: 21:00:44\n",
      "Elapsed: 0:00:01.125710\n"
     ]
    }
   ],
   "source": [
    "# Next we invoke the DAG\n",
    "\n",
    "start_time = time.time()\n",
    "print(f'Started at: {datetime.now().strftime(\"%H:%M:%S\")}')\n",
    "\n",
    "sql_stmts = [\n",
    "    f''' execute task DAG_ROOT_{DATA_FILE_BASENAME_CLEANSED}; '''\n",
    "]\n",
    "for stmt in sql_stmts:\n",
    "    print(stmt)\n",
    "    sp_session.sql(stmt).collect()\n",
    "\n",
    "end_time = time.time()\n",
    "print(f'Ended at: {datetime.now().strftime(\"%H:%M:%S\")}')\n",
    "\n",
    "elapsed_time = end_time - start_time\n",
    "elapsed = str(timedelta(seconds=elapsed_time))\n",
    "print(f'Elapsed: {elapsed}')"
   ]
  },
  {
   "attachments": {},
   "cell_type": "markdown",
   "id": "e7465540",
   "metadata": {},
   "source": [
    "---\n",
    "## Inspection"
   ]
  },
  {
   "cell_type": "code",
   "execution_count": 53,
   "id": "266e8c8e",
   "metadata": {},
   "outputs": [
    {
     "name": "stdout",
     "output_type": "stream",
     "text": [
      "Tasks to segments\n"
     ]
    },
    {
     "data": {
      "text/html": [
       "<div>\n",
       "<style scoped>\n",
       "    .dataframe tbody tr th:only-of-type {\n",
       "        vertical-align: middle;\n",
       "    }\n",
       "\n",
       "    .dataframe tbody tr th {\n",
       "        vertical-align: top;\n",
       "    }\n",
       "\n",
       "    .dataframe thead th {\n",
       "        text-align: right;\n",
       "    }\n",
       "</style>\n",
       "<table border=\"1\" class=\"dataframe\">\n",
       "  <thead>\n",
       "    <tr style=\"text-align: right;\">\n",
       "      <th></th>\n",
       "      <th>BUCKET</th>\n",
       "      <th>DATA_FILE</th>\n",
       "      <th>ASSIGNED_TASK_NAME</th>\n",
       "      <th>FROM_IDX</th>\n",
       "      <th>TO_IDX</th>\n",
       "      <th>SEGMENTS_RECORD_COUNT</th>\n",
       "      <th>INSERTED_AT</th>\n",
       "    </tr>\n",
       "  </thead>\n",
       "  <tbody>\n",
       "    <tr>\n",
       "      <th>0</th>\n",
       "      <td>0</td>\n",
       "      <td>2023_03_01_priority_health_HMO_in-network-rates.zip</td>\n",
       "      <td>T_2023_03_01_priority_health_HMO_in_network_rates_0_500</td>\n",
       "      <td>0</td>\n",
       "      <td>500</td>\n",
       "      <td>500</td>\n",
       "      <td>2023-03-20 17:56:15.965</td>\n",
       "    </tr>\n",
       "    <tr>\n",
       "      <th>1</th>\n",
       "      <td>1</td>\n",
       "      <td>2023_03_01_priority_health_HMO_in-network-rates.zip</td>\n",
       "      <td>T_2023_03_01_priority_health_HMO_in_network_rates_501_1000</td>\n",
       "      <td>501</td>\n",
       "      <td>1000</td>\n",
       "      <td>499</td>\n",
       "      <td>2023-03-20 17:56:15.965</td>\n",
       "    </tr>\n",
       "    <tr>\n",
       "      <th>2</th>\n",
       "      <td>2</td>\n",
       "      <td>2023_03_01_priority_health_HMO_in-network-rates.zip</td>\n",
       "      <td>T_2023_03_01_priority_health_HMO_in_network_rates_1001_1500</td>\n",
       "      <td>1001</td>\n",
       "      <td>1500</td>\n",
       "      <td>499</td>\n",
       "      <td>2023-03-20 17:56:15.965</td>\n",
       "    </tr>\n",
       "    <tr>\n",
       "      <th>3</th>\n",
       "      <td>3</td>\n",
       "      <td>2023_03_01_priority_health_HMO_in-network-rates.zip</td>\n",
       "      <td>T_2023_03_01_priority_health_HMO_in_network_rates_1501_2000</td>\n",
       "      <td>1501</td>\n",
       "      <td>2000</td>\n",
       "      <td>499</td>\n",
       "      <td>2023-03-20 17:56:15.965</td>\n",
       "    </tr>\n",
       "    <tr>\n",
       "      <th>4</th>\n",
       "      <td>4</td>\n",
       "      <td>2023_03_01_priority_health_HMO_in-network-rates.zip</td>\n",
       "      <td>T_2023_03_01_priority_health_HMO_in_network_rates_2001_2500</td>\n",
       "      <td>2001</td>\n",
       "      <td>2500</td>\n",
       "      <td>499</td>\n",
       "      <td>2023-03-20 17:56:15.965</td>\n",
       "    </tr>\n",
       "    <tr>\n",
       "      <th>...</th>\n",
       "      <td>...</td>\n",
       "      <td>...</td>\n",
       "      <td>...</td>\n",
       "      <td>...</td>\n",
       "      <td>...</td>\n",
       "      <td>...</td>\n",
       "      <td>...</td>\n",
       "    </tr>\n",
       "    <tr>\n",
       "      <th>70</th>\n",
       "      <td>70</td>\n",
       "      <td>2023_03_01_priority_health_HMO_in-network-rates.zip</td>\n",
       "      <td>T_2023_03_01_priority_health_HMO_in_network_rates_35001_35500</td>\n",
       "      <td>35001</td>\n",
       "      <td>35500</td>\n",
       "      <td>499</td>\n",
       "      <td>2023-03-20 17:56:15.965</td>\n",
       "    </tr>\n",
       "    <tr>\n",
       "      <th>71</th>\n",
       "      <td>71</td>\n",
       "      <td>2023_03_01_priority_health_HMO_in-network-rates.zip</td>\n",
       "      <td>T_2023_03_01_priority_health_HMO_in_network_rates_35501_36000</td>\n",
       "      <td>35501</td>\n",
       "      <td>36000</td>\n",
       "      <td>499</td>\n",
       "      <td>2023-03-20 17:56:15.965</td>\n",
       "    </tr>\n",
       "    <tr>\n",
       "      <th>72</th>\n",
       "      <td>72</td>\n",
       "      <td>2023_03_01_priority_health_HMO_in-network-rates.zip</td>\n",
       "      <td>T_2023_03_01_priority_health_HMO_in_network_rates_36001_36500</td>\n",
       "      <td>36001</td>\n",
       "      <td>36500</td>\n",
       "      <td>499</td>\n",
       "      <td>2023-03-20 17:56:15.965</td>\n",
       "    </tr>\n",
       "    <tr>\n",
       "      <th>73</th>\n",
       "      <td>73</td>\n",
       "      <td>2023_03_01_priority_health_HMO_in-network-rates.zip</td>\n",
       "      <td>T_2023_03_01_priority_health_HMO_in_network_rates_36501_37000</td>\n",
       "      <td>36501</td>\n",
       "      <td>37000</td>\n",
       "      <td>499</td>\n",
       "      <td>2023-03-20 17:56:15.965</td>\n",
       "    </tr>\n",
       "    <tr>\n",
       "      <th>74</th>\n",
       "      <td>74</td>\n",
       "      <td>2023_03_01_priority_health_HMO_in-network-rates.zip</td>\n",
       "      <td>T_2023_03_01_priority_health_HMO_in_network_rates_37001_999999999</td>\n",
       "      <td>37001</td>\n",
       "      <td>999999999</td>\n",
       "      <td>999962998</td>\n",
       "      <td>2023-03-20 17:56:15.965</td>\n",
       "    </tr>\n",
       "  </tbody>\n",
       "</table>\n",
       "<p>75 rows × 7 columns</p>\n",
       "</div>"
      ],
      "text/plain": [
       "   BUCKET                                            DATA_FILE  \\\n",
       "0       0  2023_03_01_priority_health_HMO_in-network-rates.zip   \n",
       "1       1  2023_03_01_priority_health_HMO_in-network-rates.zip   \n",
       "2       2  2023_03_01_priority_health_HMO_in-network-rates.zip   \n",
       "3       3  2023_03_01_priority_health_HMO_in-network-rates.zip   \n",
       "4       4  2023_03_01_priority_health_HMO_in-network-rates.zip   \n",
       "..    ...                                                  ...   \n",
       "70     70  2023_03_01_priority_health_HMO_in-network-rates.zip   \n",
       "71     71  2023_03_01_priority_health_HMO_in-network-rates.zip   \n",
       "72     72  2023_03_01_priority_health_HMO_in-network-rates.zip   \n",
       "73     73  2023_03_01_priority_health_HMO_in-network-rates.zip   \n",
       "74     74  2023_03_01_priority_health_HMO_in-network-rates.zip   \n",
       "\n",
       "                                                   ASSIGNED_TASK_NAME  \\\n",
       "0             T_2023_03_01_priority_health_HMO_in_network_rates_0_500   \n",
       "1          T_2023_03_01_priority_health_HMO_in_network_rates_501_1000   \n",
       "2         T_2023_03_01_priority_health_HMO_in_network_rates_1001_1500   \n",
       "3         T_2023_03_01_priority_health_HMO_in_network_rates_1501_2000   \n",
       "4         T_2023_03_01_priority_health_HMO_in_network_rates_2001_2500   \n",
       "..                                                                ...   \n",
       "70      T_2023_03_01_priority_health_HMO_in_network_rates_35001_35500   \n",
       "71      T_2023_03_01_priority_health_HMO_in_network_rates_35501_36000   \n",
       "72      T_2023_03_01_priority_health_HMO_in_network_rates_36001_36500   \n",
       "73      T_2023_03_01_priority_health_HMO_in_network_rates_36501_37000   \n",
       "74  T_2023_03_01_priority_health_HMO_in_network_rates_37001_999999999   \n",
       "\n",
       "    FROM_IDX     TO_IDX  SEGMENTS_RECORD_COUNT             INSERTED_AT  \n",
       "0          0        500                    500 2023-03-20 17:56:15.965  \n",
       "1        501       1000                    499 2023-03-20 17:56:15.965  \n",
       "2       1001       1500                    499 2023-03-20 17:56:15.965  \n",
       "3       1501       2000                    499 2023-03-20 17:56:15.965  \n",
       "4       2001       2500                    499 2023-03-20 17:56:15.965  \n",
       "..       ...        ...                    ...                     ...  \n",
       "70     35001      35500                    499 2023-03-20 17:56:15.965  \n",
       "71     35501      36000                    499 2023-03-20 17:56:15.965  \n",
       "72     36001      36500                    499 2023-03-20 17:56:15.965  \n",
       "73     36501      37000                    499 2023-03-20 17:56:15.965  \n",
       "74     37001  999999999              999962998 2023-03-20 17:56:15.965  \n",
       "\n",
       "[75 rows x 7 columns]"
      ]
     },
     "metadata": {},
     "output_type": "display_data"
    }
   ],
   "source": [
    "\n",
    "print('Tasks to segments')\n",
    "file_ingestion_df = sp_session.table('TASK_TO_SEGMENTIDS').filter(F.col('DATA_FILE') == F.lit(DATA_FILE)).to_pandas()\n",
    "display(file_ingestion_df)"
   ]
  },
  {
   "cell_type": "code",
   "execution_count": 54,
   "id": "cf8d3957",
   "metadata": {},
   "outputs": [
    {
     "name": "stdout",
     "output_type": "stream",
     "text": [
      "Tasks ,warehouses and state\n"
     ]
    },
    {
     "data": {
      "text/html": [
       "<div>\n",
       "<style scoped>\n",
       "    .dataframe tbody tr th:only-of-type {\n",
       "        vertical-align: middle;\n",
       "    }\n",
       "\n",
       "    .dataframe tbody tr th {\n",
       "        vertical-align: top;\n",
       "    }\n",
       "\n",
       "    .dataframe thead th {\n",
       "        text-align: right;\n",
       "    }\n",
       "</style>\n",
       "<table border=\"1\" class=\"dataframe\">\n",
       "  <thead>\n",
       "    <tr style=\"text-align: right;\">\n",
       "      <th></th>\n",
       "      <th>TASK_NAME</th>\n",
       "      <th>WAREHOUSE</th>\n",
       "      <th>STATE</th>\n",
       "    </tr>\n",
       "  </thead>\n",
       "  <tbody>\n",
       "    <tr>\n",
       "      <th>0</th>\n",
       "      <td>T_2023_03_01_PRIORITY_HEALTH_HMO_IN_NETWORK_RATES_31501_32000</td>\n",
       "      <td>INDSOL_PRICE_TRANS_TASK_4_WH</td>\n",
       "      <td>started</td>\n",
       "    </tr>\n",
       "    <tr>\n",
       "      <th>1</th>\n",
       "      <td>T_2023_03_01_PRIORITY_HEALTH_HMO_IN_NETWORK_RATES_36001_36500</td>\n",
       "      <td>INDSOL_PRICE_TRANS_TASK_3_WH</td>\n",
       "      <td>started</td>\n",
       "    </tr>\n",
       "    <tr>\n",
       "      <th>2</th>\n",
       "      <td>T_2023_03_01_PRIORITY_HEALTH_HMO_IN_NETWORK_RATES_35501_36000</td>\n",
       "      <td>INDSOL_PRICE_TRANS_TASK_0_WH</td>\n",
       "      <td>started</td>\n",
       "    </tr>\n",
       "    <tr>\n",
       "      <th>3</th>\n",
       "      <td>T_2023_03_01_PRIORITY_HEALTH_HMO_IN_NETWORK_RATES_35001_35500</td>\n",
       "      <td>INDSOL_PRICE_TRANS_TASK_3_WH</td>\n",
       "      <td>started</td>\n",
       "    </tr>\n",
       "    <tr>\n",
       "      <th>4</th>\n",
       "      <td>T_2023_03_01_PRIORITY_HEALTH_HMO_IN_NETWORK_RATES_34501_35000</td>\n",
       "      <td>INDSOL_PRICE_TRANS_TASK_2_WH</td>\n",
       "      <td>started</td>\n",
       "    </tr>\n",
       "    <tr>\n",
       "      <th>...</th>\n",
       "      <td>...</td>\n",
       "      <td>...</td>\n",
       "      <td>...</td>\n",
       "    </tr>\n",
       "    <tr>\n",
       "      <th>150</th>\n",
       "      <td>T_2023_03_01_PRIORITY_HEALTH_HMO_IN_NETWORK_RATES_45001_60000</td>\n",
       "      <td>INDSOL_PRICE_TRANS_TASK_4_WH</td>\n",
       "      <td>suspended</td>\n",
       "    </tr>\n",
       "    <tr>\n",
       "      <th>151</th>\n",
       "      <td>T_2023_03_01_PRIORITY_HEALTH_HMO_IN_NETWORK_RATES_465001_480000</td>\n",
       "      <td>INDSOL_PRICE_TRANS_TASK_4_WH</td>\n",
       "      <td>suspended</td>\n",
       "    </tr>\n",
       "    <tr>\n",
       "      <th>152</th>\n",
       "      <td>T_2023_03_01_PRIORITY_HEALTH_HMO_IN_NETWORK_RATES_480001_495000</td>\n",
       "      <td>INDSOL_PRICE_TRANS_TASK_1_WH</td>\n",
       "      <td>suspended</td>\n",
       "    </tr>\n",
       "    <tr>\n",
       "      <th>153</th>\n",
       "      <td>T_2023_03_01_PRIORITY_HEALTH_HMO_IN_NETWORK_RATES_495001_510000</td>\n",
       "      <td>INDSOL_PRICE_TRANS_TASK_4_WH</td>\n",
       "      <td>suspended</td>\n",
       "    </tr>\n",
       "    <tr>\n",
       "      <th>154</th>\n",
       "      <td>T_2023_03_01_PRIORITY_HEALTH_HMO_IN_NETWORK_RATES_510001_525000</td>\n",
       "      <td>INDSOL_PRICE_TRANS_TASK_1_WH</td>\n",
       "      <td>suspended</td>\n",
       "    </tr>\n",
       "  </tbody>\n",
       "</table>\n",
       "<p>155 rows × 3 columns</p>\n",
       "</div>"
      ],
      "text/plain": [
       "                                                           TASK_NAME  \\\n",
       "0      T_2023_03_01_PRIORITY_HEALTH_HMO_IN_NETWORK_RATES_31501_32000   \n",
       "1      T_2023_03_01_PRIORITY_HEALTH_HMO_IN_NETWORK_RATES_36001_36500   \n",
       "2      T_2023_03_01_PRIORITY_HEALTH_HMO_IN_NETWORK_RATES_35501_36000   \n",
       "3      T_2023_03_01_PRIORITY_HEALTH_HMO_IN_NETWORK_RATES_35001_35500   \n",
       "4      T_2023_03_01_PRIORITY_HEALTH_HMO_IN_NETWORK_RATES_34501_35000   \n",
       "..                                                               ...   \n",
       "150    T_2023_03_01_PRIORITY_HEALTH_HMO_IN_NETWORK_RATES_45001_60000   \n",
       "151  T_2023_03_01_PRIORITY_HEALTH_HMO_IN_NETWORK_RATES_465001_480000   \n",
       "152  T_2023_03_01_PRIORITY_HEALTH_HMO_IN_NETWORK_RATES_480001_495000   \n",
       "153  T_2023_03_01_PRIORITY_HEALTH_HMO_IN_NETWORK_RATES_495001_510000   \n",
       "154  T_2023_03_01_PRIORITY_HEALTH_HMO_IN_NETWORK_RATES_510001_525000   \n",
       "\n",
       "                        WAREHOUSE      STATE  \n",
       "0    INDSOL_PRICE_TRANS_TASK_4_WH    started  \n",
       "1    INDSOL_PRICE_TRANS_TASK_3_WH    started  \n",
       "2    INDSOL_PRICE_TRANS_TASK_0_WH    started  \n",
       "3    INDSOL_PRICE_TRANS_TASK_3_WH    started  \n",
       "4    INDSOL_PRICE_TRANS_TASK_2_WH    started  \n",
       "..                            ...        ...  \n",
       "150  INDSOL_PRICE_TRANS_TASK_4_WH  suspended  \n",
       "151  INDSOL_PRICE_TRANS_TASK_4_WH  suspended  \n",
       "152  INDSOL_PRICE_TRANS_TASK_1_WH  suspended  \n",
       "153  INDSOL_PRICE_TRANS_TASK_4_WH  suspended  \n",
       "154  INDSOL_PRICE_TRANS_TASK_1_WH  suspended  \n",
       "\n",
       "[155 rows x 3 columns]"
      ]
     },
     "metadata": {},
     "output_type": "display_data"
    }
   ],
   "source": [
    "\n",
    "print('Tasks ,warehouses and state')\n",
    "sp_session.sql(f''' SHOW TASKS IN  DATABASE {config['APP_DB']['database']}; ''').collect()\n",
    "stmt = f'''\n",
    "    select \"name\" as task_name\n",
    "        ,\"warehouse\" as warehouse\n",
    "        ,\"state\" as state\n",
    "    from table(result_scan(last_query_id()))\n",
    "    where \"name\" like '%{DATA_FILE_BASENAME_CLEANSED.upper()}%'\n",
    "       -- and state != 'suspended'\n",
    "    order by state;\n",
    "'''\n",
    "df = sp_session.sql(stmt).to_pandas()\n",
    "display(df)"
   ]
  },
  {
   "cell_type": "markdown",
   "id": "1d6ffbf6",
   "metadata": {},
   "source": [
    "--- \n",
    "### Closeout\n",
    "\n",
    "    With that we are finished this section of the demo setup"
   ]
  },
  {
   "cell_type": "code",
   "execution_count": 55,
   "id": "192cf880",
   "metadata": {},
   "outputs": [
    {
     "name": "stdout",
     "output_type": "stream",
     "text": [
      "Finished!!!\n"
     ]
    }
   ],
   "source": [
    "sp_session.close()\n",
    "print('Finished!!!')"
   ]
  }
 ],
 "metadata": {
  "kernelspec": {
   "display_name": "pysnowpark",
   "language": "python",
   "name": "python3"
  },
  "language_info": {
   "codemirror_mode": {
    "name": "ipython",
    "version": 3
   },
   "file_extension": ".py",
   "mimetype": "text/x-python",
   "name": "python",
   "nbconvert_exporter": "python",
   "pygments_lexer": "ipython3",
   "version": "3.8.15"
  },
  "vscode": {
   "interpreter": {
    "hash": "f66ab0cca93a35542579a5cebff8d4c56cda5b2ee20dfe6b405f4dd558333bf9"
   }
  }
 },
 "nbformat": 4,
 "nbformat_minor": 5
}
