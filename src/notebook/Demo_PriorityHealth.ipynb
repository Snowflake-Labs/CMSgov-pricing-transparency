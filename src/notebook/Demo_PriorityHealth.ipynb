{
 "cells": [
  {
   "attachments": {},
   "cell_type": "markdown",
   "id": "e4022bce",
   "metadata": {},
   "source": [
    "# Load Demo"
   ]
  },
  {
   "cell_type": "code",
   "execution_count": 28,
   "id": "f8f142c9",
   "metadata": {},
   "outputs": [
    {
     "data": {
      "text/markdown": [
       "### Initialization"
      ],
      "text/plain": [
       "<IPython.core.display.Markdown object>"
      ]
     },
     "metadata": {},
     "output_type": "display_data"
    },
    {
     "data": {
      "text/html": [
       "<div>\n",
       "<style scoped>\n",
       "    .dataframe tbody tr th:only-of-type {\n",
       "        vertical-align: middle;\n",
       "    }\n",
       "\n",
       "    .dataframe tbody tr th {\n",
       "        vertical-align: top;\n",
       "    }\n",
       "\n",
       "    .dataframe thead th {\n",
       "        text-align: right;\n",
       "    }\n",
       "</style>\n",
       "<table border=\"1\" class=\"dataframe\">\n",
       "  <thead>\n",
       "    <tr style=\"text-align: right;\">\n",
       "      <th></th>\n",
       "      <th>CURRENT_USER()</th>\n",
       "      <th>CURRENT_ROLE()</th>\n",
       "      <th>CURRENT_DATABASE()</th>\n",
       "      <th>CURRENT_SCHEMA()</th>\n",
       "    </tr>\n",
       "  </thead>\n",
       "  <tbody>\n",
       "    <tr>\n",
       "      <th>0</th>\n",
       "      <td>SOLNDEMOUSR</td>\n",
       "      <td>PUBLIC</td>\n",
       "      <td>INDSOL_CMSGOV_PRICING_EJ</td>\n",
       "      <td>PUBLIC</td>\n",
       "    </tr>\n",
       "  </tbody>\n",
       "</table>\n",
       "</div>"
      ],
      "text/plain": [
       "  CURRENT_USER() CURRENT_ROLE()        CURRENT_DATABASE() CURRENT_SCHEMA()\n",
       "0    SOLNDEMOUSR         PUBLIC  INDSOL_CMSGOV_PRICING_EJ           PUBLIC"
      ]
     },
     "metadata": {},
     "output_type": "display_data"
    }
   ],
   "source": [
    "# Initialization block\n",
    "from IPython.display import display, HTML, Image , Markdown\n",
    "from snowflake.snowpark.session import Session\n",
    "import snowflake.snowpark.types as T\n",
    "import snowflake.snowpark.functions as F\n",
    "import os ,configparser ,json ,logging\n",
    "\n",
    "# Import the commonly defined utility scripts using\n",
    "# dynamic path include\n",
    "import sys\n",
    "sys.path.append('../python/lutils')\n",
    "import sflk_base as L\n",
    "\n",
    "display(Markdown(\"### Initialization\"))\n",
    "logging.basicConfig(stream=sys.stdout, level=logging.ERROR)\n",
    "\n",
    "# Source various helper functions\n",
    "%run ./scripts/notebook_helpers.py\n",
    "\n",
    "# Define the project home directory, this is used for locating the config.ini file\n",
    "PROJECT_HOME_DIR = '../../'\n",
    "config = L.get_config(PROJECT_HOME_DIR)\n",
    "sp_session = L.connect_to_snowflake(PROJECT_HOME_DIR)\n",
    "\n",
    "if(sp_session == None):\n",
    "    raise Exception(f'Unable to connect to snowflake. Validate connection information ')\n",
    "\n",
    "sp_session.use_role(f'''{config['APP_DB']['role']}''')\n",
    "sp_session.use_schema(f'''{config['APP_DB']['database']}.{config['APP_DB']['schema']}''')\n",
    "sp_session.use_warehouse(f'''{config['SNOW_CONN']['warehouse']}''')\n",
    "\n",
    "df = sp_session.sql('select current_user() ,current_role() ,current_database() ,current_schema();').to_pandas()\n",
    "display(df)"
   ]
  },
  {
   "cell_type": "code",
   "execution_count": 30,
   "id": "90cd9156",
   "metadata": {},
   "outputs": [],
   "source": [
    "# Parameter initialization\n",
    "\n",
    "import pandas as pd\n",
    "import os\n",
    "from datetime import datetime\n",
    "from datetime import timedelta\n",
    "import time\n",
    "import re\n",
    "\n",
    "pd.set_option('display.max_colwidth', None)\n",
    "\n",
    "def get_file_from_download_url(p_fl_url):\n",
    "    splits = p_fl_url.split('/')\n",
    "    return splits[len(splits) - 1]\n",
    "\n",
    "def get_basename_of_datafile(p_datafile:str) -> str:\n",
    "    base = os.path.basename(p_datafile)\n",
    "    fl_base = os.path.splitext(base)\n",
    "    return fl_base[0]\n",
    "\n",
    "def get_cleansed_file_basename(p_datafile):\n",
    "    fl_basename = get_basename_of_datafile(p_datafile)\n",
    "    # Replace all non alphanumeric characters with _\n",
    "    fl_name = re.sub('[^0-9a-zA-Z]+', '_', fl_basename)\n",
    "    return fl_name\n",
    "\n",
    "DATA_FILE_URL = 'https://priorityhealthtransparencymrfs.s3.amazonaws.com/2023_03_01_priority_health_HMO_in-network-rates.zip'\n",
    "DATA_FILE = get_file_from_download_url(DATA_FILE_URL)\n",
    "DATA_FILE_BASENAME = get_basename_of_datafile(DATA_FILE)\n",
    "DATA_FILE_BASENAME_CLEANSED = get_cleansed_file_basename(DATA_FILE)\n",
    "\n",
    "# INPUT_DATA_STAGE = config['APP_DB']['ext_stage']\n",
    "INPUT_DATA_STAGE = 'data_stg'\n",
    "DATA_STAGE_FOLDER = config['APP_DB']['folder_data']\n",
    "\n",
    "TARGET_DATA_STAGE = config['APP_DB']['ext_stage']\n",
    "TARGET_FOLDER = config['APP_DB']['folder_parsed']\n",
    "\n",
    "# This will need to be updated based on provider\n",
    "# Priority Health ~ 500\n",
    "# CIGNA ~ 15000\n",
    "SEGMENTS_PER_TASK = 500\n",
    "\n",
    "warehouses = config['SNOW_CONN']['warehouse']\n",
    "create_warehouses = True\n",
    "#warehouses = 'INDSOL_PRICE_TRANS_TASK_0_WH,INDSOL_PRICE_TRANS_TASK_1_WH,INDSOL_PRICE_TRANS_TASK_2_WH,INDSOL_PRICE_TRANS_TASK_3_WH,INDSOL_PRICE_TRANS_TASK_4_WH,INDSOL_PRICE_TRANS_TASK_5_WH,INDSOL_PRICE_TRANS_TASK_6_WH,INDSOL_PRICE_TRANS_TASK_7_WH,INDSOL_PRICE_TRANS_TASK_8_WH,INDSOL_PRICE_TRANS_TASK_9_WH,INDSOL_PRICE_TRANS_TASK_10_WH'\n",
    "warehouses = 'INDSOL_PRICE_TRANS_TASK_0_WH,INDSOL_PRICE_TRANS_TASK_1_WH,INDSOL_PRICE_TRANS_TASK_2_WH,INDSOL_PRICE_TRANS_TASK_3_WH,INDSOL_PRICE_TRANS_TASK_4_WH,INDSOL_PRICE_TRANS_TASK_5_WH'\n",
    "\n",
    "# XSMALL | SMALL | MEDIUM | LARGE | XLARGE | XXLARGE | XXXLARGE | X4LARGE | X5LARGE | X6LARGE\n",
    "warehouse_size = 'MEDIUM'\n"
   ]
  },
  {
   "cell_type": "code",
   "execution_count": 24,
   "id": "1b5e80d1",
   "metadata": {},
   "outputs": [
    {
     "name": "stdout",
     "output_type": "stream",
     "text": [
      "Downloading file to local: ../..//temp_t/2023_03_01_priority_health_HMO_in-network-rates.zip\n"
     ]
    },
    {
     "data": {
      "text/plain": [
       "('../..//temp_t/2023_03_01_priority_health_HMO_in-network-rates.zip',\n",
       " <http.client.HTTPMessage at 0x7f915aef7af0>)"
      ]
     },
     "execution_count": 24,
     "metadata": {},
     "output_type": "execute_result"
    }
   ],
   "source": [
    "# Download file and upload to stage\n",
    "\n",
    "from urllib import request\n",
    "\n",
    "# Create local download folder\n",
    "DOWNLOAD_FOLDER=f'{PROJECT_HOME_DIR}/temp_t'\n",
    "os.makedirs(DOWNLOAD_FOLDER ,exist_ok=True)\n",
    "download_file_path = os.path.join(DOWNLOAD_FOLDER, DATA_FILE)\n",
    "\n",
    "if not os.path.exists(os.path.dirname(download_file_path)):\n",
    "    print(f'Downloading file to local: {download_file_path}')\n",
    "    request.urlretrieve(DATA_FILE_URL, download_file_path)"
   ]
  },
  {
   "cell_type": "code",
   "execution_count": 40,
   "id": "9e0bd458",
   "metadata": {},
   "outputs": [
    {
     "name": "stdout",
     "output_type": "stream",
     "text": [
      "Uploading to stage data_stg ...\n"
     ]
    }
   ],
   "source": [
    "# Upload data file to stage, if not present\n",
    "\n",
    "sql_stmt = f'''select relative_path\n",
    "from directory(@{INPUT_DATA_STAGE})\n",
    "where relative_path like '%{DATA_FILE}_%'\n",
    ";'''\n",
    "print(sql_stmt)\n",
    "\n",
    "df = sp_session.sql(sql_stmt).to_pandas()\n",
    "if (len(df) < 1):\n",
    "    print(f'Uploading to stage {INPUT_DATA_STAGE} ...')\n",
    "    sp_session.file.put(\n",
    "        local_file_name = download_file_path\n",
    "        ,stage_location = f'{INPUT_DATA_STAGE}/{DATA_STAGE_FOLDER}'\n",
    "        ,auto_compress=False ,overwrite=True)\n",
    "    \n",
    "    df = sp_session.sql(sql_stmt).to_pandas()\n",
    "\n",
    "display(df)"
   ]
  },
  {
   "cell_type": "code",
   "execution_count": 25,
   "id": "1b39c3ec",
   "metadata": {},
   "outputs": [
    {
     "name": "stdout",
     "output_type": "stream",
     "text": [
      "Uploading to stage data_stg ...\n"
     ]
    },
    {
     "ename": "SnowparkFetchDataException",
     "evalue": "(1406): Failed to fetch a Pandas Dataframe. The error is: to_pandas() did not return a Pandas DataFrame. If you use session.sql(...).to_pandas(), the input query can only be a SELECT statement. Or you can use session.sql(...).collect() to get a list of Row objects for a non-SELECT statement, then convert it to a Pandas DataFrame.",
     "output_type": "error",
     "traceback": [
      "\u001b[0;31m---------------------------------------------------------------------------\u001b[0m",
      "\u001b[0;31mSnowparkFetchDataException\u001b[0m                Traceback (most recent call last)",
      "Cell \u001b[0;32mIn[25], line 7\u001b[0m\n\u001b[1;32m      1\u001b[0m \u001b[39mprint\u001b[39m(\u001b[39mf\u001b[39m\u001b[39m'\u001b[39m\u001b[39mUploading to stage \u001b[39m\u001b[39m{\u001b[39;00mINPUT_DATA_STAGE\u001b[39m}\u001b[39;00m\u001b[39m ...\u001b[39m\u001b[39m'\u001b[39m)\n\u001b[1;32m      2\u001b[0m sp_session\u001b[39m.\u001b[39mfile\u001b[39m.\u001b[39mput(\n\u001b[1;32m      3\u001b[0m     local_file_name \u001b[39m=\u001b[39m download_file_path\n\u001b[1;32m      4\u001b[0m     ,stage_location \u001b[39m=\u001b[39m \u001b[39mf\u001b[39m\u001b[39m'\u001b[39m\u001b[39m{\u001b[39;00mINPUT_DATA_STAGE\u001b[39m}\u001b[39;00m\u001b[39m/\u001b[39m\u001b[39m{\u001b[39;00mDATA_STAGE_FOLDER\u001b[39m}\u001b[39;00m\u001b[39m'\u001b[39m\n\u001b[1;32m      5\u001b[0m     ,auto_compress\u001b[39m=\u001b[39m\u001b[39mFalse\u001b[39;00m ,overwrite\u001b[39m=\u001b[39m\u001b[39mTrue\u001b[39;00m)\n\u001b[0;32m----> 7\u001b[0m stage_df \u001b[39m=\u001b[39m sp_session\u001b[39m.\u001b[39;49msql(\u001b[39mf\u001b[39;49m\u001b[39m'''\u001b[39;49m\u001b[39m list @\u001b[39;49m\u001b[39m{\u001b[39;49;00mINPUT_DATA_STAGE\u001b[39m}\u001b[39;49;00m\u001b[39m; \u001b[39;49m\u001b[39m'''\u001b[39;49m)\u001b[39m.\u001b[39;49mto_pandas()\n\u001b[1;32m      8\u001b[0m display(stage_df)\n",
      "File \u001b[0;32m~/opt/anaconda3/envs/pysnowpark/lib/python3.8/site-packages/snowflake/snowpark/_internal/telemetry.py:138\u001b[0m, in \u001b[0;36mdf_collect_api_telemetry.<locals>.wrap\u001b[0;34m(*args, **kwargs)\u001b[0m\n\u001b[1;32m    135\u001b[0m \u001b[39m@functools\u001b[39m\u001b[39m.\u001b[39mwraps(func)\n\u001b[1;32m    136\u001b[0m \u001b[39mdef\u001b[39;00m \u001b[39mwrap\u001b[39m(\u001b[39m*\u001b[39margs, \u001b[39m*\u001b[39m\u001b[39m*\u001b[39mkwargs):\n\u001b[1;32m    137\u001b[0m     \u001b[39mwith\u001b[39;00m args[\u001b[39m0\u001b[39m]\u001b[39m.\u001b[39m_session\u001b[39m.\u001b[39mquery_history() \u001b[39mas\u001b[39;00m query_history:\n\u001b[0;32m--> 138\u001b[0m         result \u001b[39m=\u001b[39m func(\u001b[39m*\u001b[39;49margs, \u001b[39m*\u001b[39;49m\u001b[39m*\u001b[39;49mkwargs)\n\u001b[1;32m    139\u001b[0m     plan \u001b[39m=\u001b[39m args[\u001b[39m0\u001b[39m]\u001b[39m.\u001b[39m_select_statement \u001b[39mor\u001b[39;00m args[\u001b[39m0\u001b[39m]\u001b[39m.\u001b[39m_plan\n\u001b[1;32m    140\u001b[0m     api_calls \u001b[39m=\u001b[39m [\n\u001b[1;32m    141\u001b[0m         \u001b[39m*\u001b[39mplan\u001b[39m.\u001b[39mapi_calls,\n\u001b[1;32m    142\u001b[0m         {TelemetryField\u001b[39m.\u001b[39mNAME\u001b[39m.\u001b[39mvalue: \u001b[39mf\u001b[39m\u001b[39m\"\u001b[39m\u001b[39mDataFrame.\u001b[39m\u001b[39m{\u001b[39;00mfunc\u001b[39m.\u001b[39m\u001b[39m__name__\u001b[39m\u001b[39m}\u001b[39;00m\u001b[39m\"\u001b[39m},\n\u001b[1;32m    143\u001b[0m     ]\n",
      "File \u001b[0;32m~/opt/anaconda3/envs/pysnowpark/lib/python3.8/site-packages/snowflake/snowpark/dataframe.py:722\u001b[0m, in \u001b[0;36mDataFrame.to_pandas\u001b[0;34m(self, statement_params, block, **kwargs)\u001b[0m\n\u001b[1;32m    718\u001b[0m \u001b[39m# if the returned result is not a pandas dataframe, raise Exception\u001b[39;00m\n\u001b[1;32m    719\u001b[0m \u001b[39m# this might happen when calling this method with non-select commands\u001b[39;00m\n\u001b[1;32m    720\u001b[0m \u001b[39m# e.g., session.sql(\"create ...\").to_pandas()\u001b[39;00m\n\u001b[1;32m    721\u001b[0m \u001b[39mif\u001b[39;00m block:\n\u001b[0;32m--> 722\u001b[0m     check_is_pandas_dataframe_in_to_pandas(result)\n\u001b[1;32m    724\u001b[0m \u001b[39mreturn\u001b[39;00m result\n",
      "File \u001b[0;32m~/opt/anaconda3/envs/pysnowpark/lib/python3.8/site-packages/snowflake/snowpark/_internal/utils.py:652\u001b[0m, in \u001b[0;36mcheck_is_pandas_dataframe_in_to_pandas\u001b[0;34m(result)\u001b[0m\n\u001b[1;32m    650\u001b[0m \u001b[39mdef\u001b[39;00m \u001b[39mcheck_is_pandas_dataframe_in_to_pandas\u001b[39m(result: Any) \u001b[39m-\u001b[39m\u001b[39m>\u001b[39m \u001b[39mNone\u001b[39;00m:\n\u001b[1;32m    651\u001b[0m     \u001b[39mif\u001b[39;00m \u001b[39mnot\u001b[39;00m \u001b[39misinstance\u001b[39m(result, pandas\u001b[39m.\u001b[39mDataFrame):\n\u001b[0;32m--> 652\u001b[0m         \u001b[39mraise\u001b[39;00m SnowparkClientExceptionMessages\u001b[39m.\u001b[39mSERVER_FAILED_FETCH_PANDAS(\n\u001b[1;32m    653\u001b[0m             \u001b[39m\"\u001b[39m\u001b[39mto_pandas() did not return a Pandas DataFrame. \u001b[39m\u001b[39m\"\u001b[39m\n\u001b[1;32m    654\u001b[0m             \u001b[39m\"\u001b[39m\u001b[39mIf you use session.sql(...).to_pandas(), the input query can only be a \u001b[39m\u001b[39m\"\u001b[39m\n\u001b[1;32m    655\u001b[0m             \u001b[39m\"\u001b[39m\u001b[39mSELECT statement. Or you can use session.sql(...).collect() to get a \u001b[39m\u001b[39m\"\u001b[39m\n\u001b[1;32m    656\u001b[0m             \u001b[39m\"\u001b[39m\u001b[39mlist of Row objects for a non-SELECT statement, then convert it to a \u001b[39m\u001b[39m\"\u001b[39m\n\u001b[1;32m    657\u001b[0m             \u001b[39m\"\u001b[39m\u001b[39mPandas DataFrame.\u001b[39m\u001b[39m\"\u001b[39m\n\u001b[1;32m    658\u001b[0m         )\n",
      "\u001b[0;31mSnowparkFetchDataException\u001b[0m: (1406): Failed to fetch a Pandas Dataframe. The error is: to_pandas() did not return a Pandas DataFrame. If you use session.sql(...).to_pandas(), the input query can only be a SELECT statement. Or you can use session.sql(...).collect() to get a list of Row objects for a non-SELECT statement, then convert it to a Pandas DataFrame."
     ]
    }
   ],
   "source": [
    "\n",
    "\n",
    "stage_df = list_stage(sp_session ,INPUT_DATA_STAGE)\n",
    "display(stage_df)"
   ]
  },
  {
   "cell_type": "code",
   "execution_count": 31,
   "id": "e4061228",
   "metadata": {},
   "outputs": [
    {
     "name": "stdout",
     "output_type": "stream",
     "text": [
      "Creating 6 warehouses ..\n",
      "    - INDSOL_PRICE_TRANS_TASK_0_WH\n",
      "    - INDSOL_PRICE_TRANS_TASK_1_WH\n",
      "    - INDSOL_PRICE_TRANS_TASK_2_WH\n",
      "    - INDSOL_PRICE_TRANS_TASK_3_WH\n",
      "    - INDSOL_PRICE_TRANS_TASK_4_WH\n",
      "    - INDSOL_PRICE_TRANS_TASK_5_WH\n"
     ]
    }
   ],
   "source": [
    "# Create warehouses for parallelism\n",
    "\n",
    "if create_warehouses == True:\n",
    "    whs = warehouses.split(',')\n",
    "    print(f'Creating {len(whs)} warehouses ..')\n",
    "\n",
    "    sp_session.sql('use role sysadmin;').collect()\n",
    "    for wh_name in whs:\n",
    "        print(f'    - {wh_name}')\n",
    "        sql_stmt = f'''\n",
    "            create or replace warehouse {wh_name} with\n",
    "                WAREHOUSE_SIZE = 'XSMALL'\n",
    "                AUTO_RESUME = TRUE\n",
    "                AUTO_SUSPEND = 300\n",
    "                COMMENT = 'warehouse created as part of pricing transperancy industry solution usecase.'\n",
    "            ;\n",
    "        '''\n",
    "        sp_session.sql(sql_stmt).collect()\n",
    "        rl = config['APP_DB']['role']\n",
    "        sp_session.sql(f'grant ALL PRIVILEGES on warehouse {wh_name} to role {rl};').collect()\n",
    "       \n",
    "    sp_session.use_role(f'''{config['APP_DB']['role']}''')"
   ]
  },
  {
   "cell_type": "code",
   "execution_count": 32,
   "id": "4f908941",
   "metadata": {},
   "outputs": [
    {
     "name": "stdout",
     "output_type": "stream",
     "text": [
      " truncating tables ...\n",
      " cleaning up files in external stage under path raw_parsed_v3/2023_03_01_priority_health_HMO_in-network-rates/ ...\n"
     ]
    }
   ],
   "source": [
    "# Cleanup block\n",
    "\n",
    "# We will cleanup specific resources and artifacts from possible previous runs.\n",
    "stmts = [\n",
    "    f''' delete from segment_task_execution_status where data_file = '{DATA_FILE}'; '''\n",
    "    ,f''' delete from task_to_segmentids where data_file = '{DATA_FILE}'; '''\n",
    "    ,f''' delete from in_network_rates_file_header where data_file = '{DATA_FILE}'; '''\n",
    "    ,f''' delete from in_network_rates_segment_header where data_file = '{DATA_FILE}'; '''\n",
    "    ,f''' alter stage {INPUT_DATA_STAGE} refresh; '''\n",
    "]    \n",
    "    \n",
    "print(' truncating tables ...')\n",
    "for stmt in stmts:\n",
    "    sp_session.sql(stmt).collect()\n",
    "\n",
    "print(f''' cleaning up files in external stage under path {TARGET_FOLDER}/{DATA_FILE_BASENAME}/ ...''')\n",
    "\n",
    "stmt = f''' select relative_path from directory(@{TARGET_DATA_STAGE}) where relative_path like '%{DATA_STAGE_FOLDER}/{DATA_FILE_BASENAME}/%'; '''\n",
    "files = sp_session.sql(stmt).collect()\n",
    "for r in files:\n",
    "    stmt = f''' remove @{TARGET_DATA_STAGE}/{r['RELATIVE_PATH']}; '''\n",
    "    sp_session.sql(stmt).collect()"
   ]
  },
  {
   "cell_type": "code",
   "execution_count": 22,
   "id": "e2e44efb",
   "metadata": {},
   "outputs": [
    {
     "name": "stdout",
     "output_type": "stream",
     "text": [
      "Cleaning dags for datafile: 2023_02_01_KFHP_SC_COMMERCIAL_in_network_rates\n"
     ]
    }
   ],
   "source": [
    "# Cautious enablement, used during development for testing\n",
    "print(f'Cleaning dags for datafile: {DATA_FILE_BASENAME_CLEANSED}')\n",
    "sp_session.call('delete_dag_for_datafile',DATA_FILE_BASENAME_CLEANSED ,False);"
   ]
  },
  {
   "cell_type": "code",
   "execution_count": 23,
   "id": "d89f1e89",
   "metadata": {},
   "outputs": [
    {
     "name": "stdout",
     "output_type": "stream",
     "text": [
      "No of warehouses: 11\n"
     ]
    }
   ],
   "source": [
    "# reset the warehouse size to desired\n",
    "\n",
    "print(f'''No of warehouses: {len(warehouses.split(','))}''')\n",
    "for wh in warehouses.split(','):\n",
    "    sp_session.sql(f''' alter warehouse {wh} set max_concurrency_level = 8; ''').collect()\n",
    "    sp_session.sql(f''' alter warehouse {wh} set warehouse_size = {warehouse_size}; ''').collect()\n"
   ]
  },
  {
   "attachments": {},
   "cell_type": "markdown",
   "id": "88e7dbf8",
   "metadata": {},
   "source": [
    "---\n",
    "## Data loading\n",
    "We will be loading the segments and file header using DAG. "
   ]
  },
  {
   "cell_type": "code",
   "execution_count": 33,
   "id": "f2ebc241",
   "metadata": {},
   "outputs": [
    {
     "name": "stdout",
     "output_type": "stream",
     "text": [
      " Status of execution\n",
      "{\n",
      "  \"data_file\": \"2023_03_01_priority_health_HMO_in-network-rates.zip\",\n",
      "  \"root_task\": \"DAG_ROOT_2023_03_01_priority_health_HMO_in_network_rates\",\n",
      "  \"status\": true,\n",
      "  \"task_matrix_shape\": [\n",
      "    10,\n",
      "    8\n",
      "  ],\n",
      "  \"term_task\": \"TERM_tsk_2023_03_01_priority_health_HMO_in_network_rates\"\n",
      "}\n"
     ]
    }
   ],
   "source": [
    "# we build out the DAG\n",
    "df = sp_session.call('in_network_rates_dagbuilder_matrix' ,f'{INPUT_DATA_STAGE}/{DATA_STAGE_FOLDER}' ,DATA_FILE \n",
    "    ,f\"@{TARGET_DATA_STAGE}/{TARGET_FOLDER}\" ,SEGMENTS_PER_TASK ,warehouses ,10 ,8)\n",
    "\n",
    "sp_session.sql(f''' alter stage {TARGET_DATA_STAGE} refresh; ''').collect()\n",
    "print(' Status of execution')\n",
    "print(df)"
   ]
  },
  {
   "attachments": {},
   "cell_type": "markdown",
   "id": "7b494c8a",
   "metadata": {},
   "source": [
    "The above operation results in defining the DAG in Snowflake like here. The task names are specific to the data file being parsed.\n",
    "![](../../doc/soln_images/task_dags.png)"
   ]
  },
  {
   "cell_type": "code",
   "execution_count": 25,
   "id": "a701da57",
   "metadata": {},
   "outputs": [
    {
     "name": "stdout",
     "output_type": "stream",
     "text": [
      "Started at: 12:48:44\n",
      " execute task DAG_ROOT_2023_02_01_KFHP_SC_COMMERCIAL_in_network_rates; \n",
      "Ended at: 12:48:44\n",
      "Elapsed: 0:00:00.938872\n"
     ]
    }
   ],
   "source": [
    "# Next we invoke the DAG\n",
    "\n",
    "start_time = time.time()\n",
    "print(f'Started at: {datetime.now().strftime(\"%H:%M:%S\")}')\n",
    "\n",
    "sql_stmts = [\n",
    "    f''' execute task DAG_ROOT_{DATA_FILE_BASENAME_CLEANSED}; '''\n",
    "]\n",
    "for stmt in sql_stmts:\n",
    "    print(stmt)\n",
    "    sp_session.sql(stmt).collect()\n",
    "\n",
    "end_time = time.time()\n",
    "print(f'Ended at: {datetime.now().strftime(\"%H:%M:%S\")}')\n",
    "\n",
    "elapsed_time = end_time - start_time\n",
    "elapsed = str(timedelta(seconds=elapsed_time))\n",
    "print(f'Elapsed: {elapsed}')"
   ]
  },
  {
   "attachments": {},
   "cell_type": "markdown",
   "id": "e7465540",
   "metadata": {},
   "source": [
    "---\n",
    "## Inspection"
   ]
  },
  {
   "cell_type": "code",
   "execution_count": 26,
   "id": "266e8c8e",
   "metadata": {},
   "outputs": [
    {
     "name": "stdout",
     "output_type": "stream",
     "text": [
      "Tasks to segments\n"
     ]
    },
    {
     "data": {
      "text/html": [
       "<div>\n",
       "<style scoped>\n",
       "    .dataframe tbody tr th:only-of-type {\n",
       "        vertical-align: middle;\n",
       "    }\n",
       "\n",
       "    .dataframe tbody tr th {\n",
       "        vertical-align: top;\n",
       "    }\n",
       "\n",
       "    .dataframe thead th {\n",
       "        text-align: right;\n",
       "    }\n",
       "</style>\n",
       "<table border=\"1\" class=\"dataframe\">\n",
       "  <thead>\n",
       "    <tr style=\"text-align: right;\">\n",
       "      <th></th>\n",
       "      <th>BUCKET</th>\n",
       "      <th>DATA_FILE</th>\n",
       "      <th>ASSIGNED_TASK_NAME</th>\n",
       "      <th>FROM_IDX</th>\n",
       "      <th>TO_IDX</th>\n",
       "      <th>SEGMENTS_RECORD_COUNT</th>\n",
       "      <th>INSERTED_AT</th>\n",
       "    </tr>\n",
       "  </thead>\n",
       "  <tbody>\n",
       "    <tr>\n",
       "      <th>0</th>\n",
       "      <td>41</td>\n",
       "      <td>2023-02-01_KFHP_SC-COMMERCIAL_in-network-rates.zip</td>\n",
       "      <td>T_2023_02_01_KFHP_SC_COMMERCIAL_in_network_rates_615001_630000</td>\n",
       "      <td>615001</td>\n",
       "      <td>630000</td>\n",
       "      <td>14999</td>\n",
       "      <td>2023-02-27 09:45:33.494</td>\n",
       "    </tr>\n",
       "    <tr>\n",
       "      <th>1</th>\n",
       "      <td>8</td>\n",
       "      <td>2023-02-01_KFHP_SC-COMMERCIAL_in-network-rates.zip</td>\n",
       "      <td>T_2023_02_01_KFHP_SC_COMMERCIAL_in_network_rates_120001_135000</td>\n",
       "      <td>120001</td>\n",
       "      <td>135000</td>\n",
       "      <td>14999</td>\n",
       "      <td>2023-02-27 09:45:33.494</td>\n",
       "    </tr>\n",
       "    <tr>\n",
       "      <th>2</th>\n",
       "      <td>48</td>\n",
       "      <td>2023-02-01_KFHP_SC-COMMERCIAL_in-network-rates.zip</td>\n",
       "      <td>T_2023_02_01_KFHP_SC_COMMERCIAL_in_network_rates_720001_735000</td>\n",
       "      <td>720001</td>\n",
       "      <td>735000</td>\n",
       "      <td>14999</td>\n",
       "      <td>2023-02-27 09:45:33.494</td>\n",
       "    </tr>\n",
       "    <tr>\n",
       "      <th>3</th>\n",
       "      <td>74</td>\n",
       "      <td>2023-02-01_KFHP_SC-COMMERCIAL_in-network-rates.zip</td>\n",
       "      <td>T_2023_02_01_KFHP_SC_COMMERCIAL_in_network_rates_1110001_999999999</td>\n",
       "      <td>1110001</td>\n",
       "      <td>999999999</td>\n",
       "      <td>998889998</td>\n",
       "      <td>2023-02-27 09:45:33.494</td>\n",
       "    </tr>\n",
       "    <tr>\n",
       "      <th>4</th>\n",
       "      <td>55</td>\n",
       "      <td>2023-02-01_KFHP_SC-COMMERCIAL_in-network-rates.zip</td>\n",
       "      <td>T_2023_02_01_KFHP_SC_COMMERCIAL_in_network_rates_825001_840000</td>\n",
       "      <td>825001</td>\n",
       "      <td>840000</td>\n",
       "      <td>14999</td>\n",
       "      <td>2023-02-27 09:45:33.494</td>\n",
       "    </tr>\n",
       "    <tr>\n",
       "      <th>...</th>\n",
       "      <td>...</td>\n",
       "      <td>...</td>\n",
       "      <td>...</td>\n",
       "      <td>...</td>\n",
       "      <td>...</td>\n",
       "      <td>...</td>\n",
       "      <td>...</td>\n",
       "    </tr>\n",
       "    <tr>\n",
       "      <th>70</th>\n",
       "      <td>62</td>\n",
       "      <td>2023-02-01_KFHP_SC-COMMERCIAL_in-network-rates.zip</td>\n",
       "      <td>T_2023_02_01_KFHP_SC_COMMERCIAL_in_network_rates_930001_945000</td>\n",
       "      <td>930001</td>\n",
       "      <td>945000</td>\n",
       "      <td>14999</td>\n",
       "      <td>2023-02-27 09:45:33.494</td>\n",
       "    </tr>\n",
       "    <tr>\n",
       "      <th>71</th>\n",
       "      <td>50</td>\n",
       "      <td>2023-02-01_KFHP_SC-COMMERCIAL_in-network-rates.zip</td>\n",
       "      <td>T_2023_02_01_KFHP_SC_COMMERCIAL_in_network_rates_750001_765000</td>\n",
       "      <td>750001</td>\n",
       "      <td>765000</td>\n",
       "      <td>14999</td>\n",
       "      <td>2023-02-27 09:45:33.494</td>\n",
       "    </tr>\n",
       "    <tr>\n",
       "      <th>72</th>\n",
       "      <td>47</td>\n",
       "      <td>2023-02-01_KFHP_SC-COMMERCIAL_in-network-rates.zip</td>\n",
       "      <td>T_2023_02_01_KFHP_SC_COMMERCIAL_in_network_rates_705001_720000</td>\n",
       "      <td>705001</td>\n",
       "      <td>720000</td>\n",
       "      <td>14999</td>\n",
       "      <td>2023-02-27 09:45:33.494</td>\n",
       "    </tr>\n",
       "    <tr>\n",
       "      <th>73</th>\n",
       "      <td>58</td>\n",
       "      <td>2023-02-01_KFHP_SC-COMMERCIAL_in-network-rates.zip</td>\n",
       "      <td>T_2023_02_01_KFHP_SC_COMMERCIAL_in_network_rates_870001_885000</td>\n",
       "      <td>870001</td>\n",
       "      <td>885000</td>\n",
       "      <td>14999</td>\n",
       "      <td>2023-02-27 09:45:33.494</td>\n",
       "    </tr>\n",
       "    <tr>\n",
       "      <th>74</th>\n",
       "      <td>56</td>\n",
       "      <td>2023-02-01_KFHP_SC-COMMERCIAL_in-network-rates.zip</td>\n",
       "      <td>T_2023_02_01_KFHP_SC_COMMERCIAL_in_network_rates_840001_855000</td>\n",
       "      <td>840001</td>\n",
       "      <td>855000</td>\n",
       "      <td>14999</td>\n",
       "      <td>2023-02-27 09:45:33.494</td>\n",
       "    </tr>\n",
       "  </tbody>\n",
       "</table>\n",
       "<p>75 rows × 7 columns</p>\n",
       "</div>"
      ],
      "text/plain": [
       "   BUCKET                                           DATA_FILE  \\\n",
       "0      41  2023-02-01_KFHP_SC-COMMERCIAL_in-network-rates.zip   \n",
       "1       8  2023-02-01_KFHP_SC-COMMERCIAL_in-network-rates.zip   \n",
       "2      48  2023-02-01_KFHP_SC-COMMERCIAL_in-network-rates.zip   \n",
       "3      74  2023-02-01_KFHP_SC-COMMERCIAL_in-network-rates.zip   \n",
       "4      55  2023-02-01_KFHP_SC-COMMERCIAL_in-network-rates.zip   \n",
       "..    ...                                                 ...   \n",
       "70     62  2023-02-01_KFHP_SC-COMMERCIAL_in-network-rates.zip   \n",
       "71     50  2023-02-01_KFHP_SC-COMMERCIAL_in-network-rates.zip   \n",
       "72     47  2023-02-01_KFHP_SC-COMMERCIAL_in-network-rates.zip   \n",
       "73     58  2023-02-01_KFHP_SC-COMMERCIAL_in-network-rates.zip   \n",
       "74     56  2023-02-01_KFHP_SC-COMMERCIAL_in-network-rates.zip   \n",
       "\n",
       "                                                    ASSIGNED_TASK_NAME  \\\n",
       "0       T_2023_02_01_KFHP_SC_COMMERCIAL_in_network_rates_615001_630000   \n",
       "1       T_2023_02_01_KFHP_SC_COMMERCIAL_in_network_rates_120001_135000   \n",
       "2       T_2023_02_01_KFHP_SC_COMMERCIAL_in_network_rates_720001_735000   \n",
       "3   T_2023_02_01_KFHP_SC_COMMERCIAL_in_network_rates_1110001_999999999   \n",
       "4       T_2023_02_01_KFHP_SC_COMMERCIAL_in_network_rates_825001_840000   \n",
       "..                                                                 ...   \n",
       "70      T_2023_02_01_KFHP_SC_COMMERCIAL_in_network_rates_930001_945000   \n",
       "71      T_2023_02_01_KFHP_SC_COMMERCIAL_in_network_rates_750001_765000   \n",
       "72      T_2023_02_01_KFHP_SC_COMMERCIAL_in_network_rates_705001_720000   \n",
       "73      T_2023_02_01_KFHP_SC_COMMERCIAL_in_network_rates_870001_885000   \n",
       "74      T_2023_02_01_KFHP_SC_COMMERCIAL_in_network_rates_840001_855000   \n",
       "\n",
       "    FROM_IDX     TO_IDX  SEGMENTS_RECORD_COUNT             INSERTED_AT  \n",
       "0     615001     630000                  14999 2023-02-27 09:45:33.494  \n",
       "1     120001     135000                  14999 2023-02-27 09:45:33.494  \n",
       "2     720001     735000                  14999 2023-02-27 09:45:33.494  \n",
       "3    1110001  999999999              998889998 2023-02-27 09:45:33.494  \n",
       "4     825001     840000                  14999 2023-02-27 09:45:33.494  \n",
       "..       ...        ...                    ...                     ...  \n",
       "70    930001     945000                  14999 2023-02-27 09:45:33.494  \n",
       "71    750001     765000                  14999 2023-02-27 09:45:33.494  \n",
       "72    705001     720000                  14999 2023-02-27 09:45:33.494  \n",
       "73    870001     885000                  14999 2023-02-27 09:45:33.494  \n",
       "74    840001     855000                  14999 2023-02-27 09:45:33.494  \n",
       "\n",
       "[75 rows x 7 columns]"
      ]
     },
     "metadata": {},
     "output_type": "display_data"
    }
   ],
   "source": [
    "\n",
    "print('Tasks to segments')\n",
    "file_ingestion_df = sp_session.table('TASK_TO_SEGMENTIDS').filter(F.col('DATA_FILE') == F.lit(DATA_FILE)).to_pandas()\n",
    "display(file_ingestion_df)"
   ]
  },
  {
   "cell_type": "code",
   "execution_count": 27,
   "id": "cf8d3957",
   "metadata": {},
   "outputs": [
    {
     "name": "stdout",
     "output_type": "stream",
     "text": [
      "Tasks ,warehouses and state\n"
     ]
    },
    {
     "data": {
      "text/html": [
       "<div>\n",
       "<style scoped>\n",
       "    .dataframe tbody tr th:only-of-type {\n",
       "        vertical-align: middle;\n",
       "    }\n",
       "\n",
       "    .dataframe tbody tr th {\n",
       "        vertical-align: top;\n",
       "    }\n",
       "\n",
       "    .dataframe thead th {\n",
       "        text-align: right;\n",
       "    }\n",
       "</style>\n",
       "<table border=\"1\" class=\"dataframe\">\n",
       "  <thead>\n",
       "    <tr style=\"text-align: right;\">\n",
       "      <th></th>\n",
       "      <th>TASK_NAME</th>\n",
       "      <th>WAREHOUSE</th>\n",
       "      <th>STATE</th>\n",
       "    </tr>\n",
       "  </thead>\n",
       "  <tbody>\n",
       "    <tr>\n",
       "      <th>0</th>\n",
       "      <td>T_2023_02_01_KFHP_SC_COMMERCIAL_IN_NETWORK_RATES_1005001_1020000</td>\n",
       "      <td>INDSOL_PRICE_TRANS_TASK_0_WH</td>\n",
       "      <td>started</td>\n",
       "    </tr>\n",
       "    <tr>\n",
       "      <th>1</th>\n",
       "      <td>T_2023_02_01_KFHP_SC_COMMERCIAL_IN_NETWORK_RATES_75001_90000</td>\n",
       "      <td>INDSOL_PRICE_TRANS_TASK_2_WH</td>\n",
       "      <td>started</td>\n",
       "    </tr>\n",
       "    <tr>\n",
       "      <th>2</th>\n",
       "      <td>T_2023_02_01_KFHP_SC_COMMERCIAL_IN_NETWORK_RATES_825001_840000</td>\n",
       "      <td>INDSOL_PRICE_TRANS_TASK_1_WH</td>\n",
       "      <td>started</td>\n",
       "    </tr>\n",
       "    <tr>\n",
       "      <th>3</th>\n",
       "      <td>T_2023_02_01_KFHP_SC_COMMERCIAL_IN_NETWORK_RATES_855001_870000</td>\n",
       "      <td>INDSOL_PRICE_TRANS_TASK_9_WH</td>\n",
       "      <td>started</td>\n",
       "    </tr>\n",
       "    <tr>\n",
       "      <th>4</th>\n",
       "      <td>T_2023_02_01_KFHP_SC_COMMERCIAL_IN_NETWORK_RATES_870001_885000</td>\n",
       "      <td>INDSOL_PRICE_TRANS_TASK_2_WH</td>\n",
       "      <td>started</td>\n",
       "    </tr>\n",
       "    <tr>\n",
       "      <th>...</th>\n",
       "      <td>...</td>\n",
       "      <td>...</td>\n",
       "      <td>...</td>\n",
       "    </tr>\n",
       "    <tr>\n",
       "      <th>75</th>\n",
       "      <td>T_2023_02_01_KFHP_SC_COMMERCIAL_IN_NETWORK_RATES_585001_600000</td>\n",
       "      <td>INDSOL_PRICE_TRANS_TASK_2_WH</td>\n",
       "      <td>started</td>\n",
       "    </tr>\n",
       "    <tr>\n",
       "      <th>76</th>\n",
       "      <td>T_2023_02_01_KFHP_SC_COMMERCIAL_IN_NETWORK_RATES_615001_630000</td>\n",
       "      <td>INDSOL_PRICE_TRANS_TASK_2_WH</td>\n",
       "      <td>started</td>\n",
       "    </tr>\n",
       "    <tr>\n",
       "      <th>77</th>\n",
       "      <td>T_2023_02_01_KFHP_SC_COMMERCIAL_IN_NETWORK_RATES_720001_735000</td>\n",
       "      <td>INDSOL_PRICE_TRANS_TASK_0_WH</td>\n",
       "      <td>started</td>\n",
       "    </tr>\n",
       "    <tr>\n",
       "      <th>78</th>\n",
       "      <td>T_2023_02_01_KFHP_SC_COMMERCIAL_IN_NETWORK_RATES_765001_780000</td>\n",
       "      <td>INDSOL_PRICE_TRANS_TASK_4_WH</td>\n",
       "      <td>started</td>\n",
       "    </tr>\n",
       "    <tr>\n",
       "      <th>79</th>\n",
       "      <td>DAG_ROOT_2023_02_01_KFHP_SC_COMMERCIAL_IN_NETWORK_RATES</td>\n",
       "      <td>INDSOL_PRICE_TRANS_TASK_0_WH</td>\n",
       "      <td>suspended</td>\n",
       "    </tr>\n",
       "  </tbody>\n",
       "</table>\n",
       "<p>80 rows × 3 columns</p>\n",
       "</div>"
      ],
      "text/plain": [
       "                                                           TASK_NAME  \\\n",
       "0   T_2023_02_01_KFHP_SC_COMMERCIAL_IN_NETWORK_RATES_1005001_1020000   \n",
       "1       T_2023_02_01_KFHP_SC_COMMERCIAL_IN_NETWORK_RATES_75001_90000   \n",
       "2     T_2023_02_01_KFHP_SC_COMMERCIAL_IN_NETWORK_RATES_825001_840000   \n",
       "3     T_2023_02_01_KFHP_SC_COMMERCIAL_IN_NETWORK_RATES_855001_870000   \n",
       "4     T_2023_02_01_KFHP_SC_COMMERCIAL_IN_NETWORK_RATES_870001_885000   \n",
       "..                                                               ...   \n",
       "75    T_2023_02_01_KFHP_SC_COMMERCIAL_IN_NETWORK_RATES_585001_600000   \n",
       "76    T_2023_02_01_KFHP_SC_COMMERCIAL_IN_NETWORK_RATES_615001_630000   \n",
       "77    T_2023_02_01_KFHP_SC_COMMERCIAL_IN_NETWORK_RATES_720001_735000   \n",
       "78    T_2023_02_01_KFHP_SC_COMMERCIAL_IN_NETWORK_RATES_765001_780000   \n",
       "79           DAG_ROOT_2023_02_01_KFHP_SC_COMMERCIAL_IN_NETWORK_RATES   \n",
       "\n",
       "                       WAREHOUSE      STATE  \n",
       "0   INDSOL_PRICE_TRANS_TASK_0_WH    started  \n",
       "1   INDSOL_PRICE_TRANS_TASK_2_WH    started  \n",
       "2   INDSOL_PRICE_TRANS_TASK_1_WH    started  \n",
       "3   INDSOL_PRICE_TRANS_TASK_9_WH    started  \n",
       "4   INDSOL_PRICE_TRANS_TASK_2_WH    started  \n",
       "..                           ...        ...  \n",
       "75  INDSOL_PRICE_TRANS_TASK_2_WH    started  \n",
       "76  INDSOL_PRICE_TRANS_TASK_2_WH    started  \n",
       "77  INDSOL_PRICE_TRANS_TASK_0_WH    started  \n",
       "78  INDSOL_PRICE_TRANS_TASK_4_WH    started  \n",
       "79  INDSOL_PRICE_TRANS_TASK_0_WH  suspended  \n",
       "\n",
       "[80 rows x 3 columns]"
      ]
     },
     "metadata": {},
     "output_type": "display_data"
    }
   ],
   "source": [
    "\n",
    "print('Tasks ,warehouses and state')\n",
    "sp_session.sql(f''' SHOW TASKS IN  DATABASE {config['APP_DB']['database']}; ''').collect()\n",
    "stmt = f'''\n",
    "    select \"name\" as task_name\n",
    "        ,\"warehouse\" as warehouse\n",
    "        ,\"state\" as state\n",
    "    from table(result_scan(last_query_id()))\n",
    "    where \"name\" like '%{DATA_FILE_BASENAME_CLEANSED.upper()}%'\n",
    "       -- and state != 'suspended'\n",
    "    order by state;\n",
    "'''\n",
    "df = sp_session.sql(stmt).to_pandas()\n",
    "display(df)"
   ]
  },
  {
   "cell_type": "markdown",
   "id": "1d6ffbf6",
   "metadata": {},
   "source": [
    "--- \n",
    "### Closeout\n",
    "\n",
    "    With that we are finished this section of the demo setup"
   ]
  },
  {
   "cell_type": "code",
   "execution_count": 28,
   "id": "192cf880",
   "metadata": {},
   "outputs": [
    {
     "name": "stdout",
     "output_type": "stream",
     "text": [
      "Finished!!!\n"
     ]
    }
   ],
   "source": [
    "sp_session.close()\n",
    "print('Finished!!!')"
   ]
  }
 ],
 "metadata": {
  "kernelspec": {
   "display_name": "pysnowpark",
   "language": "python",
   "name": "python3"
  },
  "language_info": {
   "codemirror_mode": {
    "name": "ipython",
    "version": 3
   },
   "file_extension": ".py",
   "mimetype": "text/x-python",
   "name": "python",
   "nbconvert_exporter": "python",
   "pygments_lexer": "ipython3",
   "version": "3.8.15"
  },
  "vscode": {
   "interpreter": {
    "hash": "f66ab0cca93a35542579a5cebff8d4c56cda5b2ee20dfe6b405f4dd558333bf9"
   }
  }
 },
 "nbformat": 4,
 "nbformat_minor": 5
}
