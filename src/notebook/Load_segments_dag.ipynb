{
 "cells": [
  {
   "attachments": {},
   "cell_type": "markdown",
   "id": "e4022bce",
   "metadata": {},
   "source": [
    "# Load Demo with DAG\n",
    "\n",
    "In this we demonstrate loading of a sample data file [reduced_sample_data.json](../../data/reduced_sample_data.json) and showcase all the \n",
    "various resources that gets populated. We now are demonstrating using DAG\n",
    "\n",
    "#### Pre-requisite\n",
    "It is assumed that the setup steps are completed successfully. These are:\n",
    " - creating the database, schemas, stages\n",
    " - defining the external stage\n",
    " - defining the functions and stored procedures\n",
    " - defining the external tables and views\n",
    "\n",
    "If you had not done this, use the streamlit (./bin/run_app.sh) to create these as defined in the subpage 'Setup'"
   ]
  },
  {
   "cell_type": "code",
   "execution_count": null,
   "id": "f8f142c9",
   "metadata": {},
   "outputs": [],
   "source": [
    "# Initialization block\n",
    "from IPython.display import display, HTML, Image , Markdown\n",
    "from snowflake.snowpark.session import Session\n",
    "import snowflake.snowpark.types as T\n",
    "import snowflake.snowpark.functions as F\n",
    "import os ,configparser ,json ,logging\n",
    "\n",
    "# Import the commonly defined utility scripts using\n",
    "# dynamic path include\n",
    "import sys\n",
    "sys.path.append('../python/lutils')\n",
    "import sflk_base as L\n",
    "\n",
    "display(Markdown(\"### Initialization\"))\n",
    "logging.basicConfig(stream=sys.stdout, level=logging.ERROR)\n",
    "\n",
    "# Source various helper functions\n",
    "%run ./scripts/notebook_helpers.py\n",
    "\n",
    "# Define the project home directory, this is used for locating the config.ini file\n",
    "PROJECT_HOME_DIR = '../../'\n",
    "config = L.get_config(PROJECT_HOME_DIR)\n",
    "sp_session = L.connect_to_snowflake(PROJECT_HOME_DIR)\n",
    "\n",
    "if(sp_session == None):\n",
    "    raise Exception(f'Unable to connect to snowflake. Validate connection information ')\n",
    "\n",
    "sp_session.use_role(f'''{config['APP_DB']['role']}''')\n",
    "sp_session.use_schema(f'''{config['APP_DB']['database']}.{config['APP_DB']['schema']}''')\n",
    "sp_session.use_warehouse(f'''{config['SNOW_CONN']['warehouse']}''')\n",
    "\n",
    "df = sp_session.sql('select current_user() ,current_role() ,current_database() ,current_schema();').to_pandas()\n",
    "display(df)"
   ]
  },
  {
   "cell_type": "code",
   "execution_count": 88,
   "id": "90cd9156",
   "metadata": {},
   "outputs": [],
   "source": [
    "import pandas as pd\n",
    "import os\n",
    "from datetime import datetime\n",
    "from datetime import timedelta\n",
    "import time\n",
    "import re\n",
    "\n",
    "pd.set_option('display.max_colwidth', None)\n",
    "\n",
    "def get_basename_of_datafile(p_datafile:str) -> str:\n",
    "    base = os.path.basename(p_datafile)\n",
    "    fl_base = os.path.splitext(base)\n",
    "    return fl_base[0]\n",
    "\n",
    "def get_cleansed_file_basename(p_datafile):\n",
    "    fl_basename = get_basename_of_datafile(p_datafile)\n",
    "    # Replace all non alphanumeric characters with _\n",
    "    fl_name = re.sub('[^0-9a-zA-Z]+', '_', fl_basename)\n",
    "    return fl_name\n",
    "\n",
    "# INPUT_DATA_STAGE = config['APP_DB']['ext_stage']\n",
    "INPUT_DATA_STAGE = 'data_stg'\n",
    "DATA_STAGE_FOLDER = config['APP_DB']['folder_data']\n",
    "\n",
    "DATA_FILE = '2022_10_01_priority_health_HMO_in-network-rates.zip'\n",
    "# DATA_FILE = 'reduced_sample_data.json'\n",
    "DATA_FILE_BASENAME = get_basename_of_datafile(DATA_FILE)\n",
    "DATA_FILE_BASENAME_CLEANSED = get_cleansed_file_basename(DATA_FILE)\n",
    "\n",
    "TARGET_DATA_STAGE = config['APP_DB']['ext_stage']\n",
    "TARGET_FOLDER = config['APP_DB']['folder_parsed']"
   ]
  },
  {
   "cell_type": "code",
   "execution_count": 80,
   "id": "4f908941",
   "metadata": {},
   "outputs": [
    {
     "data": {
      "text/markdown": [
       "### Cleanup block"
      ],
      "text/plain": [
       "<IPython.core.display.Markdown object>"
      ]
     },
     "metadata": {},
     "output_type": "display_data"
    },
    {
     "name": "stdout",
     "output_type": "stream",
     "text": [
      " truncating tables ...\n",
      " cleaning up files in external stage under path data/2022_10_01_priority_health_HMO_in-network-rates/ ...\n"
     ]
    }
   ],
   "source": [
    "display(Markdown(\"### Cleanup block\"))\n",
    "# We will cleanup specific resources and artifacts from possible previous runs.\n",
    "\n",
    "stmts = [\n",
    "    f''' delete from segment_task_execution_status where data_file = '{DATA_FILE}'; '''\n",
    "    ,f''' delete from task_to_segmentids where data_file = '{DATA_FILE}'; '''\n",
    "    ,f''' delete from in_network_rates_file_header where data_file = '{DATA_FILE}'; '''\n",
    "    ,f''' delete from in_network_rates_segment_header where data_file = '{DATA_FILE}'; '''\n",
    "    ,f''' alter stage {INPUT_DATA_STAGE} refresh; '''\n",
    "]    \n",
    "    \n",
    "print(' truncating tables ...')\n",
    "for stmt in stmts:\n",
    "    sp_session.sql(stmt).collect()\n",
    "\n",
    "print(f''' cleaning up files in external stage under path {TARGET_FOLDER}/{DATA_FILE_BASENAME}/ ...''')\n",
    "\n",
    "stmt = f''' select relative_path from directory(@{TARGET_DATA_STAGE}) where relative_path like '%{DATA_STAGE_FOLDER}/{DATA_FILE_BASENAME}/%'; '''\n",
    "files = sp_session.sql(stmt).collect()\n",
    "for r in files:\n",
    "    stmt = f''' remove @{TARGET_DATA_STAGE}/{r['RELATIVE_PATH']}; '''\n",
    "    sp_session.sql(stmt).collect()"
   ]
  },
  {
   "attachments": {},
   "cell_type": "markdown",
   "id": "88e7dbf8",
   "metadata": {},
   "source": [
    "---\n",
    "## Data loading\n",
    "We will be loading the segments and file header using DAG. "
   ]
  },
  {
   "cell_type": "code",
   "execution_count": 86,
   "id": "f2ebc241",
   "metadata": {},
   "outputs": [
    {
     "name": "stdout",
     "output_type": "stream",
     "text": [
      " Status of execution\n",
      "{\n",
      "  \"data_file\": \"2022_10_01_priority_health_HMO_in-network-rates.zip\",\n",
      "  \"root_task\": \"DAG_ROOT_2022_10_01_priority_health_HMO_in_network_rates\",\n",
      "  \"status\": true,\n",
      "  \"task_matrix_shape\": [\n",
      "    5,\n",
      "    15\n",
      "  ],\n",
      "  \"term_task\": \"TERM_tsk_2022_10_01_priority_health_HMO_in_network_rates\"\n",
      "}\n"
     ]
    }
   ],
   "source": [
    "# we build out the DAG\n",
    "df = sp_session.call('in_network_rates_dagbuilder' ,f'{INPUT_DATA_STAGE}/{DATA_STAGE_FOLDER}' ,DATA_FILE \n",
    "    ,f\"@{TARGET_DATA_STAGE}/{TARGET_FOLDER}\" , 200 ,config['SNOW_CONN']['warehouse'])\n",
    "\n",
    "sp_session.sql(f''' alter stage {TARGET_DATA_STAGE} refresh; ''').collect()\n",
    "print(' Status of execution')\n",
    "print(df)"
   ]
  },
  {
   "attachments": {},
   "cell_type": "markdown",
   "id": "7b494c8a",
   "metadata": {},
   "source": [
    "The above operation results in defining the DAG in Snowflake like here. The task names are specific to the data file being parsed.\n",
    "![](../../doc/images/task_dags.png)"
   ]
  },
  {
   "cell_type": "code",
   "execution_count": 89,
   "id": "a701da57",
   "metadata": {},
   "outputs": [
    {
     "name": "stdout",
     "output_type": "stream",
     "text": [
      "Started at: 07:46:57\n",
      " alter warehouse DEMO_BUILD_WH set warehouse_size = MEDIUM; \n",
      " execute task DAG_ROOT_2022_10_01_priority_health_HMO_in_network_rates; \n",
      "Ended at: 07:46:58\n",
      "Elapsed: 0:00:01.117523\n"
     ]
    }
   ],
   "source": [
    "# Next we invoke the DAG\n",
    "\n",
    "start_time = time.time()\n",
    "print(f'Started at: {datetime.now().strftime(\"%H:%M:%S\")}')\n",
    "\n",
    "sql_stmts = [\n",
    "    f''' alter warehouse {config['SNOW_CONN']['warehouse']} set warehouse_size = MEDIUM; '''\n",
    "    # ,f''' truncate table segment_task_execution_status; '''\n",
    "    # ,f''' truncate table task_to_segmentids; '''\n",
    "    # ,f''' truncate table in_network_rates_file_header; '''\n",
    "    # ,f''' truncate table in_network_rates_segment_header; '''\n",
    "    ,f''' execute task DAG_ROOT_{DATA_FILE_BASENAME_CLEANSED}; '''\n",
    "]\n",
    "for stmt in sql_stmts:\n",
    "    print(stmt)\n",
    "    sp_session.sql(stmt).collect()\n",
    "\n",
    "end_time = time.time()\n",
    "print(f'Ended at: {datetime.now().strftime(\"%H:%M:%S\")}')\n",
    "\n",
    "elapsed_time = end_time - start_time\n",
    "elapsed = str(timedelta(seconds=elapsed_time))\n",
    "print(f'Elapsed: {elapsed}')"
   ]
  },
  {
   "attachments": {},
   "cell_type": "markdown",
   "id": "e7465540",
   "metadata": {},
   "source": [
    "---\n",
    "## Inspection (TODO)"
   ]
  },
  {
   "cell_type": "code",
   "execution_count": 101,
   "id": "69d88012",
   "metadata": {},
   "outputs": [
    {
     "name": "stdout",
     "output_type": "stream",
     "text": [
      "Current running tasks [5]...\n"
     ]
    },
    {
     "data": {
      "text/html": [
       "<div>\n",
       "<style scoped>\n",
       "    .dataframe tbody tr th:only-of-type {\n",
       "        vertical-align: middle;\n",
       "    }\n",
       "\n",
       "    .dataframe tbody tr th {\n",
       "        vertical-align: top;\n",
       "    }\n",
       "\n",
       "    .dataframe thead th {\n",
       "        text-align: right;\n",
       "    }\n",
       "</style>\n",
       "<table border=\"1\" class=\"dataframe\">\n",
       "  <thead>\n",
       "    <tr style=\"text-align: right;\">\n",
       "      <th></th>\n",
       "      <th>DATA_FILE</th>\n",
       "      <th>TASK_NAME</th>\n",
       "      <th>START_TIME</th>\n",
       "      <th>END_TIME</th>\n",
       "      <th>TASK_RET_STATUS</th>\n",
       "      <th>INSERTED_AT</th>\n",
       "      <th>BUCKET</th>\n",
       "      <th>ASSIGNED_TASK_NAME</th>\n",
       "      <th>FROM_IDX</th>\n",
       "      <th>TO_IDX</th>\n",
       "      <th>SEGMENTS_RECORD_COUNT</th>\n",
       "    </tr>\n",
       "  </thead>\n",
       "  <tbody>\n",
       "    <tr>\n",
       "      <th>0</th>\n",
       "      <td>2022_10_01_priority_health_HMO_in-network-rates.zip</td>\n",
       "      <td>INDSOL_CMSGOV_PRICING.PUBLIC.T_2022_10_01_PRIORITY_HEALTH_HMO_IN_NETWORK_RATES_201_400</td>\n",
       "      <td>2023-01-06 04:47:19.332</td>\n",
       "      <td>NaT</td>\n",
       "      <td>None</td>\n",
       "      <td>2023-01-06 04:47:19.332</td>\n",
       "      <td>1</td>\n",
       "      <td>T_2022_10_01_priority_health_HMO_in_network_rates_201_400</td>\n",
       "      <td>201</td>\n",
       "      <td>400</td>\n",
       "      <td>199</td>\n",
       "    </tr>\n",
       "    <tr>\n",
       "      <th>1</th>\n",
       "      <td>2022_10_01_priority_health_HMO_in-network-rates.zip</td>\n",
       "      <td>INDSOL_CMSGOV_PRICING.PUBLIC.T_2022_10_01_PRIORITY_HEALTH_HMO_IN_NETWORK_RATES_601_800</td>\n",
       "      <td>2023-01-06 04:47:10.698</td>\n",
       "      <td>NaT</td>\n",
       "      <td>None</td>\n",
       "      <td>2023-01-06 04:47:10.698</td>\n",
       "      <td>3</td>\n",
       "      <td>T_2022_10_01_priority_health_HMO_in_network_rates_601_800</td>\n",
       "      <td>601</td>\n",
       "      <td>800</td>\n",
       "      <td>199</td>\n",
       "    </tr>\n",
       "    <tr>\n",
       "      <th>2</th>\n",
       "      <td>2022_10_01_priority_health_HMO_in-network-rates.zip</td>\n",
       "      <td>INDSOL_CMSGOV_PRICING.PUBLIC.T_2022_10_01_PRIORITY_HEALTH_HMO_IN_NETWORK_RATES_801_1000</td>\n",
       "      <td>2023-01-06 04:47:10.680</td>\n",
       "      <td>NaT</td>\n",
       "      <td>None</td>\n",
       "      <td>2023-01-06 04:47:10.680</td>\n",
       "      <td>4</td>\n",
       "      <td>T_2022_10_01_priority_health_HMO_in_network_rates_801_1000</td>\n",
       "      <td>801</td>\n",
       "      <td>1000</td>\n",
       "      <td>199</td>\n",
       "    </tr>\n",
       "    <tr>\n",
       "      <th>3</th>\n",
       "      <td>2022_10_01_priority_health_HMO_in-network-rates.zip</td>\n",
       "      <td>INDSOL_CMSGOV_PRICING.PUBLIC.T_2022_10_01_PRIORITY_HEALTH_HMO_IN_NETWORK_RATES_401_600</td>\n",
       "      <td>2023-01-06 04:47:19.306</td>\n",
       "      <td>NaT</td>\n",
       "      <td>None</td>\n",
       "      <td>2023-01-06 04:47:19.306</td>\n",
       "      <td>2</td>\n",
       "      <td>T_2022_10_01_priority_health_HMO_in_network_rates_401_600</td>\n",
       "      <td>401</td>\n",
       "      <td>600</td>\n",
       "      <td>199</td>\n",
       "    </tr>\n",
       "    <tr>\n",
       "      <th>4</th>\n",
       "      <td>2022_10_01_priority_health_HMO_in-network-rates.zip</td>\n",
       "      <td>INDSOL_CMSGOV_PRICING.PUBLIC.T_2022_10_01_PRIORITY_HEALTH_HMO_IN_NETWORK_RATES_1001_1200</td>\n",
       "      <td>2023-01-06 05:00:18.927</td>\n",
       "      <td>NaT</td>\n",
       "      <td>None</td>\n",
       "      <td>2023-01-06 05:00:18.927</td>\n",
       "      <td>5</td>\n",
       "      <td>T_2022_10_01_priority_health_HMO_in_network_rates_1001_1200</td>\n",
       "      <td>1001</td>\n",
       "      <td>1200</td>\n",
       "      <td>199</td>\n",
       "    </tr>\n",
       "  </tbody>\n",
       "</table>\n",
       "</div>"
      ],
      "text/plain": [
       "                                             DATA_FILE  \\\n",
       "0  2022_10_01_priority_health_HMO_in-network-rates.zip   \n",
       "1  2022_10_01_priority_health_HMO_in-network-rates.zip   \n",
       "2  2022_10_01_priority_health_HMO_in-network-rates.zip   \n",
       "3  2022_10_01_priority_health_HMO_in-network-rates.zip   \n",
       "4  2022_10_01_priority_health_HMO_in-network-rates.zip   \n",
       "\n",
       "                                                                                  TASK_NAME  \\\n",
       "0    INDSOL_CMSGOV_PRICING.PUBLIC.T_2022_10_01_PRIORITY_HEALTH_HMO_IN_NETWORK_RATES_201_400   \n",
       "1    INDSOL_CMSGOV_PRICING.PUBLIC.T_2022_10_01_PRIORITY_HEALTH_HMO_IN_NETWORK_RATES_601_800   \n",
       "2   INDSOL_CMSGOV_PRICING.PUBLIC.T_2022_10_01_PRIORITY_HEALTH_HMO_IN_NETWORK_RATES_801_1000   \n",
       "3    INDSOL_CMSGOV_PRICING.PUBLIC.T_2022_10_01_PRIORITY_HEALTH_HMO_IN_NETWORK_RATES_401_600   \n",
       "4  INDSOL_CMSGOV_PRICING.PUBLIC.T_2022_10_01_PRIORITY_HEALTH_HMO_IN_NETWORK_RATES_1001_1200   \n",
       "\n",
       "               START_TIME END_TIME TASK_RET_STATUS             INSERTED_AT  \\\n",
       "0 2023-01-06 04:47:19.332      NaT            None 2023-01-06 04:47:19.332   \n",
       "1 2023-01-06 04:47:10.698      NaT            None 2023-01-06 04:47:10.698   \n",
       "2 2023-01-06 04:47:10.680      NaT            None 2023-01-06 04:47:10.680   \n",
       "3 2023-01-06 04:47:19.306      NaT            None 2023-01-06 04:47:19.306   \n",
       "4 2023-01-06 05:00:18.927      NaT            None 2023-01-06 05:00:18.927   \n",
       "\n",
       "  BUCKET                                           ASSIGNED_TASK_NAME  \\\n",
       "0      1    T_2022_10_01_priority_health_HMO_in_network_rates_201_400   \n",
       "1      3    T_2022_10_01_priority_health_HMO_in_network_rates_601_800   \n",
       "2      4   T_2022_10_01_priority_health_HMO_in_network_rates_801_1000   \n",
       "3      2    T_2022_10_01_priority_health_HMO_in_network_rates_401_600   \n",
       "4      5  T_2022_10_01_priority_health_HMO_in_network_rates_1001_1200   \n",
       "\n",
       "   FROM_IDX  TO_IDX  SEGMENTS_RECORD_COUNT  \n",
       "0       201     400                    199  \n",
       "1       601     800                    199  \n",
       "2       801    1000                    199  \n",
       "3       401     600                    199  \n",
       "4      1001    1200                    199  "
      ]
     },
     "metadata": {},
     "output_type": "display_data"
    },
    {
     "name": "stdout",
     "output_type": "stream",
     "text": [
      "Finished tasks [0] ...\n",
      "Finished sleeping ...\n"
     ]
    }
   ],
   "source": [
    "import time\n",
    "\n",
    "continue_sleeping = True\n",
    "\n",
    "while continue_sleeping == True: \n",
    "    time.sleep(2*60)\n",
    "\n",
    "    sql_stmt = f'''\n",
    "        select *\n",
    "        from current_segment_parsing_tasks_v\n",
    "        where l.data_file = '{DATA_FILE}'\n",
    "        ;\n",
    "    '''\n",
    "    df_running = sp_session.table('current_segment_parsing_tasks_v').to_pandas()\n",
    "    \n",
    "    len_running_count = len(df_running)\n",
    "    print(f'Current running tasks [{len_running_count}]...')\n",
    "    display(df_running)\n",
    "    \n",
    "    sql_stmt = f'''\n",
    "        select \n",
    "            count(l.*) as l_count\n",
    "            ,count(r.*) as r_count\n",
    "            ,l_count - r_count as row_count_diff\n",
    "            -- l.*\n",
    "        from segment_task_execution_status as l\n",
    "            full outer join segments_counts_for_datafile_v as r\n",
    "                on r.task_name = l.task_name\n",
    "        where not (l.task_name  like any ('DAG_%' ,'TERM_%' ,'%T_FH_%' ))\n",
    "            and JSON_EXTRACT_PATH_TEXT(l.task_ret_status ,'task_ignored_parsing') is null\n",
    "            and l.data_file = '{DATA_FILE}'\n",
    "    '''\n",
    "    df = sp_session.sql(sql_stmt).to_pandas()\n",
    "    row_count = df['ROW_COUNT_DIFF'][0]\n",
    "    finished_row_count = df['R_COUNT'][0]\n",
    "    print(f'Finished tasks [{row_count}] ...')\n",
    "    if row_count == 0:\n",
    "        print('Finished sleeping ...')\n",
    "        continue_sleeping = False\n",
    "        break\n",
    "\n",
    "    display(df)\n",
    "    print('\\n ------------------------------ ')"
   ]
  },
  {
   "cell_type": "code",
   "execution_count": 91,
   "id": "4a8fa5a6",
   "metadata": {},
   "outputs": [
    {
     "data": {
      "text/markdown": [
       "The table in_network_rates_file_header holds the file header elements"
      ],
      "text/plain": [
       "<IPython.core.display.Markdown object>"
      ]
     },
     "metadata": {},
     "output_type": "display_data"
    },
    {
     "data": {
      "text/html": [
       "<div>\n",
       "<style scoped>\n",
       "    .dataframe tbody tr th:only-of-type {\n",
       "        vertical-align: middle;\n",
       "    }\n",
       "\n",
       "    .dataframe tbody tr th {\n",
       "        vertical-align: top;\n",
       "    }\n",
       "\n",
       "    .dataframe thead th {\n",
       "        text-align: right;\n",
       "    }\n",
       "</style>\n",
       "<table border=\"1\" class=\"dataframe\">\n",
       "  <thead>\n",
       "    <tr style=\"text-align: right;\">\n",
       "      <th></th>\n",
       "      <th>DATA_FILE</th>\n",
       "      <th>HEADER</th>\n",
       "      <th>INSERTED_AT</th>\n",
       "    </tr>\n",
       "  </thead>\n",
       "  <tbody>\n",
       "    <tr>\n",
       "      <th>0</th>\n",
       "      <td>reduced_sample_data.json</td>\n",
       "      <td>{\\n  \"DATA_FILE\": \"reduced_sample_data.json\",\\n  \"last_updated_on\": \"2022-10-01\",\\n  \"reporting_entity_name\": \"Priority Health\",\\n  \"reporting_entity_type\": \"health insurance issuer\",\\n  \"total_segments\": 10,\\n  \"version\": \"http://json-schema.org/draft-07/schema#\"\\n}</td>\n",
       "      <td>2023-01-06 04:09:24.412</td>\n",
       "    </tr>\n",
       "  </tbody>\n",
       "</table>\n",
       "</div>"
      ],
      "text/plain": [
       "                  DATA_FILE  \\\n",
       "0  reduced_sample_data.json   \n",
       "\n",
       "                                                                                                                                                                                                                                                                        HEADER  \\\n",
       "0  {\\n  \"DATA_FILE\": \"reduced_sample_data.json\",\\n  \"last_updated_on\": \"2022-10-01\",\\n  \"reporting_entity_name\": \"Priority Health\",\\n  \"reporting_entity_type\": \"health insurance issuer\",\\n  \"total_segments\": 10,\\n  \"version\": \"http://json-schema.org/draft-07/schema#\"\\n}   \n",
       "\n",
       "              INSERTED_AT  \n",
       "0 2023-01-06 04:09:24.412  "
      ]
     },
     "metadata": {},
     "output_type": "display_data"
    }
   ],
   "source": [
    "display(Markdown(\"The table in_network_rates_file_header holds the file header elements\"))\n",
    "\n",
    "df = (sp_session.table('in_network_rates_file_header')\n",
    "        .filter(F.col('DATA_FILE') == F.lit(DATA_FILE))\n",
    "        .to_pandas())\n",
    "\n",
    "display(df)"
   ]
  },
  {
   "cell_type": "code",
   "execution_count": 92,
   "id": "664bef54",
   "metadata": {},
   "outputs": [
    {
     "name": "stdout",
     "output_type": "stream",
     "text": [
      " The HEADER has the following data \n"
     ]
    },
    {
     "data": {
      "text/plain": [
       "{'DATA_FILE': 'reduced_sample_data.json',\n",
       " 'last_updated_on': '2022-10-01',\n",
       " 'reporting_entity_name': 'Priority Health',\n",
       " 'reporting_entity_type': 'health insurance issuer',\n",
       " 'total_segments': 10,\n",
       " 'version': 'http://json-schema.org/draft-07/schema#'}"
      ]
     },
     "execution_count": 92,
     "metadata": {},
     "output_type": "execute_result"
    }
   ],
   "source": [
    "print(' The HEADER has the following data ')\n",
    "json.loads(df['HEADER'][0])"
   ]
  },
  {
   "cell_type": "code",
   "execution_count": 93,
   "id": "e3d38b3e",
   "metadata": {},
   "outputs": [
    {
     "data": {
      "text/markdown": [
       "The table in_network_rates_segment_header lists the various segments that were loaded"
      ],
      "text/plain": [
       "<IPython.core.display.Markdown object>"
      ]
     },
     "metadata": {},
     "output_type": "display_data"
    },
    {
     "data": {
      "text/html": [
       "<div>\n",
       "<style scoped>\n",
       "    .dataframe tbody tr th:only-of-type {\n",
       "        vertical-align: middle;\n",
       "    }\n",
       "\n",
       "    .dataframe tbody tr th {\n",
       "        vertical-align: top;\n",
       "    }\n",
       "\n",
       "    .dataframe thead th {\n",
       "        text-align: right;\n",
       "    }\n",
       "</style>\n",
       "<table border=\"1\" class=\"dataframe\">\n",
       "  <thead>\n",
       "    <tr style=\"text-align: right;\">\n",
       "      <th></th>\n",
       "      <th>DATA_FILE</th>\n",
       "      <th>SEGMENT_ID</th>\n",
       "      <th>NEGOTIATED_RATES_INFO</th>\n",
       "      <th>NEGOTIATED_RATES_COUNT</th>\n",
       "      <th>BUNDLED_CODES_COUNT</th>\n",
       "      <th>COVERED_SERVICES_COUNT</th>\n",
       "      <th>INSERTED_AT</th>\n",
       "    </tr>\n",
       "  </thead>\n",
       "  <tbody>\n",
       "    <tr>\n",
       "      <th>0</th>\n",
       "      <td>2022_10_01_priority_health_HMO_in-network-rates.zip</td>\n",
       "      <td>ffs::ms-drg::029::</td>\n",
       "      <td>{\\n  \"DATA_FILE\": \"2022_10_01_priority_health_HMO_in-network-rates.zip\",\\n  \"SEGMENT_ID\": \"ffs::ms-drg::029::\",\\n  \"SEQ_NO\": 201,\\n  \"billing_code\": \"029\",\\n  \"billing_code_type\": \"MS-DRG\",\\n  \"billing_code_type_version\": \"\",\\n  \"description\": \"TRAUM STUPOR&amp;COMA,COMA&lt;1HR,AGE&gt;17 W/O CC   \",\\n  \"name\": \"TRAUM STUPOR&amp;COMA,COMA&lt;1HR,AGE&gt;17 W/O CC\",\\n  \"negotiation_arrangement\": \"ffs\"\\n}</td>\n",
       "      <td>3</td>\n",
       "      <td>-1</td>\n",
       "      <td>-1</td>\n",
       "      <td>2023-01-06 04:48:23.483</td>\n",
       "    </tr>\n",
       "    <tr>\n",
       "      <th>1</th>\n",
       "      <td>reduced_sample_data.json</td>\n",
       "      <td>ffs::cpt::j9144::</td>\n",
       "      <td>{\\n  \"DATA_FILE\": \"reduced_sample_data.json\",\\n  \"SEGMENT_ID\": \"ffs::cpt::j9144::\",\\n  \"SEQ_NO\": 10,\\n  \"billing_code\": \"J9144\",\\n  \"billing_code_type\": \"CPT\",\\n  \"billing_code_type_version\": \"\",\\n  \"description\": \"Injection, daratumumab, 10 mg and hyaluronidase-fihj\",\\n  \"name\": \"Injection, daratumumab, 10 mg and hyaluronidase-fihj\",\\n  \"negotiation_arrangement\": \"ffs\"\\n}</td>\n",
       "      <td>573</td>\n",
       "      <td>-1</td>\n",
       "      <td>-1</td>\n",
       "      <td>2023-01-06 04:09:57.396</td>\n",
       "    </tr>\n",
       "    <tr>\n",
       "      <th>2</th>\n",
       "      <td>2022_10_01_priority_health_HMO_in-network-rates.zip</td>\n",
       "      <td>ffs::cpt::67042::</td>\n",
       "      <td>{\\n  \"DATA_FILE\": \"2022_10_01_priority_health_HMO_in-network-rates.zip\",\\n  \"SEGMENT_ID\": \"ffs::cpt::67042::\",\\n  \"SEQ_NO\": 18,\\n  \"billing_code\": \"67042\",\\n  \"billing_code_type\": \"CPT\",\\n  \"billing_code_type_version\": \"\",\\n  \"description\": \"Vitrectomy, Mechanical, Pars Plana Approach; with Removal of Internal Limiting Membrane of Retina\",\\n  \"name\": \"Vitrectomy, Mechanical, Pars Plana Approach; with Removal of Internal Limiting Membrane of Retina\",\\n  \"negotiation_arrangement\": \"ffs\"\\n}</td>\n",
       "      <td>11954</td>\n",
       "      <td>-1</td>\n",
       "      <td>-1</td>\n",
       "      <td>2023-01-06 04:48:44.685</td>\n",
       "    </tr>\n",
       "    <tr>\n",
       "      <th>3</th>\n",
       "      <td>reduced_sample_data.json</td>\n",
       "      <td>ffs::cpt::15004::</td>\n",
       "      <td>{\\n  \"DATA_FILE\": \"reduced_sample_data.json\",\\n  \"SEGMENT_ID\": \"ffs::cpt::15004::\",\\n  \"SEQ_NO\": 7,\\n  \"billing_code\": \"15004\",\\n  \"billing_code_type\": \"CPT\",\\n  \"billing_code_type_version\": \"\",\\n  \"description\": \"PREP SITE F/S/N/H/F/G/M/D GT 1ST 100 SQ CM/1PCT\",\\n  \"name\": \"PREP SITE F/S/N/H/F/G/M/D GT 1ST 100 SQ CM/1PCT\",\\n  \"negotiation_arrangement\": \"ffs\"\\n}</td>\n",
       "      <td>9227</td>\n",
       "      <td>-1</td>\n",
       "      <td>-1</td>\n",
       "      <td>2023-01-06 04:09:47.147</td>\n",
       "    </tr>\n",
       "    <tr>\n",
       "      <th>4</th>\n",
       "      <td>reduced_sample_data.json</td>\n",
       "      <td>ffs::cpt::76391::</td>\n",
       "      <td>{\\n  \"DATA_FILE\": \"reduced_sample_data.json\",\\n  \"SEGMENT_ID\": \"ffs::cpt::76391::\",\\n  \"SEQ_NO\": 5,\\n  \"billing_code\": \"76391\",\\n  \"billing_code_type\": \"CPT\",\\n  \"billing_code_type_version\": \"\",\\n  \"description\": \"Magnetic resonance (eg, vibration) elastography\",\\n  \"name\": \"Magnetic resonance (eg, vibration) elastography\",\\n  \"negotiation_arrangement\": \"ffs\"\\n}</td>\n",
       "      <td>1784</td>\n",
       "      <td>-1</td>\n",
       "      <td>-1</td>\n",
       "      <td>2023-01-06 04:09:40.527</td>\n",
       "    </tr>\n",
       "  </tbody>\n",
       "</table>\n",
       "</div>"
      ],
      "text/plain": [
       "                                             DATA_FILE          SEGMENT_ID  \\\n",
       "0  2022_10_01_priority_health_HMO_in-network-rates.zip  ffs::ms-drg::029::   \n",
       "1                             reduced_sample_data.json   ffs::cpt::j9144::   \n",
       "2  2022_10_01_priority_health_HMO_in-network-rates.zip   ffs::cpt::67042::   \n",
       "3                             reduced_sample_data.json   ffs::cpt::15004::   \n",
       "4                             reduced_sample_data.json   ffs::cpt::76391::   \n",
       "\n",
       "                                                                                                                                                                                                                                                                                                                                                                                                                                                                                          NEGOTIATED_RATES_INFO  \\\n",
       "0                                                                                                              {\\n  \"DATA_FILE\": \"2022_10_01_priority_health_HMO_in-network-rates.zip\",\\n  \"SEGMENT_ID\": \"ffs::ms-drg::029::\",\\n  \"SEQ_NO\": 201,\\n  \"billing_code\": \"029\",\\n  \"billing_code_type\": \"MS-DRG\",\\n  \"billing_code_type_version\": \"\",\\n  \"description\": \"TRAUM STUPOR&COMA,COMA<1HR,AGE>17 W/O CC   \",\\n  \"name\": \"TRAUM STUPOR&COMA,COMA<1HR,AGE>17 W/O CC\",\\n  \"negotiation_arrangement\": \"ffs\"\\n}   \n",
       "1                                                                                                                       {\\n  \"DATA_FILE\": \"reduced_sample_data.json\",\\n  \"SEGMENT_ID\": \"ffs::cpt::j9144::\",\\n  \"SEQ_NO\": 10,\\n  \"billing_code\": \"J9144\",\\n  \"billing_code_type\": \"CPT\",\\n  \"billing_code_type_version\": \"\",\\n  \"description\": \"Injection, daratumumab, 10 mg and hyaluronidase-fihj\",\\n  \"name\": \"Injection, daratumumab, 10 mg and hyaluronidase-fihj\",\\n  \"negotiation_arrangement\": \"ffs\"\\n}   \n",
       "2  {\\n  \"DATA_FILE\": \"2022_10_01_priority_health_HMO_in-network-rates.zip\",\\n  \"SEGMENT_ID\": \"ffs::cpt::67042::\",\\n  \"SEQ_NO\": 18,\\n  \"billing_code\": \"67042\",\\n  \"billing_code_type\": \"CPT\",\\n  \"billing_code_type_version\": \"\",\\n  \"description\": \"Vitrectomy, Mechanical, Pars Plana Approach; with Removal of Internal Limiting Membrane of Retina\",\\n  \"name\": \"Vitrectomy, Mechanical, Pars Plana Approach; with Removal of Internal Limiting Membrane of Retina\",\\n  \"negotiation_arrangement\": \"ffs\"\\n}   \n",
       "3                                                                                                                                  {\\n  \"DATA_FILE\": \"reduced_sample_data.json\",\\n  \"SEGMENT_ID\": \"ffs::cpt::15004::\",\\n  \"SEQ_NO\": 7,\\n  \"billing_code\": \"15004\",\\n  \"billing_code_type\": \"CPT\",\\n  \"billing_code_type_version\": \"\",\\n  \"description\": \"PREP SITE F/S/N/H/F/G/M/D GT 1ST 100 SQ CM/1PCT\",\\n  \"name\": \"PREP SITE F/S/N/H/F/G/M/D GT 1ST 100 SQ CM/1PCT\",\\n  \"negotiation_arrangement\": \"ffs\"\\n}   \n",
       "4                                                                                                                                  {\\n  \"DATA_FILE\": \"reduced_sample_data.json\",\\n  \"SEGMENT_ID\": \"ffs::cpt::76391::\",\\n  \"SEQ_NO\": 5,\\n  \"billing_code\": \"76391\",\\n  \"billing_code_type\": \"CPT\",\\n  \"billing_code_type_version\": \"\",\\n  \"description\": \"Magnetic resonance (eg, vibration) elastography\",\\n  \"name\": \"Magnetic resonance (eg, vibration) elastography\",\\n  \"negotiation_arrangement\": \"ffs\"\\n}   \n",
       "\n",
       "   NEGOTIATED_RATES_COUNT  BUNDLED_CODES_COUNT  COVERED_SERVICES_COUNT  \\\n",
       "0                       3                   -1                      -1   \n",
       "1                     573                   -1                      -1   \n",
       "2                   11954                   -1                      -1   \n",
       "3                    9227                   -1                      -1   \n",
       "4                    1784                   -1                      -1   \n",
       "\n",
       "              INSERTED_AT  \n",
       "0 2023-01-06 04:48:23.483  \n",
       "1 2023-01-06 04:09:57.396  \n",
       "2 2023-01-06 04:48:44.685  \n",
       "3 2023-01-06 04:09:47.147  \n",
       "4 2023-01-06 04:09:40.527  "
      ]
     },
     "metadata": {},
     "output_type": "display_data"
    }
   ],
   "source": [
    "display(Markdown(\"The table in_network_rates_segment_header lists the various segments that were loaded\"))\n",
    "\n",
    "df = (sp_session.table('in_network_rates_segment_header')\n",
    "        .filter(F.col('DATA_FILE') == F.lit(DATA_FILE))\n",
    "        .sample(n=5)\n",
    "        .to_pandas())\n",
    "\n",
    "display(df)"
   ]
  },
  {
   "cell_type": "code",
   "execution_count": 94,
   "id": "2bdcc96f",
   "metadata": {},
   "outputs": [
    {
     "name": "stdout",
     "output_type": "stream",
     "text": [
      " The NEGOTIATED_RATES_INFO has the following data \n"
     ]
    },
    {
     "data": {
      "text/plain": [
       "{'DATA_FILE': '2022_10_01_priority_health_HMO_in-network-rates.zip',\n",
       " 'SEGMENT_ID': 'ffs::ms-drg::029::',\n",
       " 'SEQ_NO': 201,\n",
       " 'billing_code': '029',\n",
       " 'billing_code_type': 'MS-DRG',\n",
       " 'billing_code_type_version': '',\n",
       " 'description': 'TRAUM STUPOR&COMA,COMA<1HR,AGE>17 W/O CC   ',\n",
       " 'name': 'TRAUM STUPOR&COMA,COMA<1HR,AGE>17 W/O CC',\n",
       " 'negotiation_arrangement': 'ffs'}"
      ]
     },
     "execution_count": 94,
     "metadata": {},
     "output_type": "execute_result"
    }
   ],
   "source": [
    "print(' The NEGOTIATED_RATES_INFO has the following data ')\n",
    "json.loads(df['NEGOTIATED_RATES_INFO'][0])"
   ]
  },
  {
   "cell_type": "code",
   "execution_count": 95,
   "id": "269ae7b7",
   "metadata": {},
   "outputs": [
    {
     "name": "stdout",
     "output_type": "stream",
     "text": [
      " \n",
      "The parsed data are stored as parquet files in the external stage at: @ext_data_stg/raw_parsed. The directory structure follows the format:\n",
      "\n",
      "<ext stage>/<folder_parsed>/<data file basename (ex: reduced_sample_data)/<segment_id>/<segment type (negotiated_rates)>/data_<seq_no>_<chunk_no>.parquet.gz\n",
      "\n",
      "Description:\n",
      "- ext stage : external stage name\n",
      "- folder_parsed : configured value of APP_DB.folder_parsed in config.ini\n",
      "- data file basename : the data file basename, without the file extension\n",
      "- segment_id : a unique identifier for the segment, this is a composite key of <negotiation_arrangement>::<billing_code_type>::<billing_code>::<billing_code_type_version>\n",
      "- segment type : indicates the segment children type, this could be either of negotiated_rates/bundled_codes/covered_services\n",
      "- The file which will contain the record, stored in parquet file.\n",
      "\n"
     ]
    },
    {
     "data": {
      "text/html": [
       "<div>\n",
       "<style scoped>\n",
       "    .dataframe tbody tr th:only-of-type {\n",
       "        vertical-align: middle;\n",
       "    }\n",
       "\n",
       "    .dataframe tbody tr th {\n",
       "        vertical-align: top;\n",
       "    }\n",
       "\n",
       "    .dataframe thead th {\n",
       "        text-align: right;\n",
       "    }\n",
       "</style>\n",
       "<table border=\"1\" class=\"dataframe\">\n",
       "  <thead>\n",
       "    <tr style=\"text-align: right;\">\n",
       "      <th></th>\n",
       "      <th>RELATIVE_PATH</th>\n",
       "    </tr>\n",
       "  </thead>\n",
       "  <tbody>\n",
       "    <tr>\n",
       "      <th>0</th>\n",
       "      <td>raw_parsed/reduced_sample_data/ffs::cpt::15004::/negotiated_rates/data_7_0.parquet.gz</td>\n",
       "    </tr>\n",
       "    <tr>\n",
       "      <th>1</th>\n",
       "      <td>raw_parsed/reduced_sample_data/ffs::cpt::15004::/negotiated_rates/data_7_1.parquet.gz</td>\n",
       "    </tr>\n",
       "    <tr>\n",
       "      <th>2</th>\n",
       "      <td>raw_parsed/reduced_sample_data/ffs::cpt::33235::/negotiated_rates/data_8_0.parquet.gz</td>\n",
       "    </tr>\n",
       "    <tr>\n",
       "      <th>3</th>\n",
       "      <td>raw_parsed/reduced_sample_data/ffs::cpt::33235::/negotiated_rates/data_8_1.parquet.gz</td>\n",
       "    </tr>\n",
       "    <tr>\n",
       "      <th>4</th>\n",
       "      <td>raw_parsed/reduced_sample_data/ffs::cpt::62322::/negotiated_rates/data_1_0.parquet.gz</td>\n",
       "    </tr>\n",
       "  </tbody>\n",
       "</table>\n",
       "</div>"
      ],
      "text/plain": [
       "                                                                           RELATIVE_PATH\n",
       "0  raw_parsed/reduced_sample_data/ffs::cpt::15004::/negotiated_rates/data_7_0.parquet.gz\n",
       "1  raw_parsed/reduced_sample_data/ffs::cpt::15004::/negotiated_rates/data_7_1.parquet.gz\n",
       "2  raw_parsed/reduced_sample_data/ffs::cpt::33235::/negotiated_rates/data_8_0.parquet.gz\n",
       "3  raw_parsed/reduced_sample_data/ffs::cpt::33235::/negotiated_rates/data_8_1.parquet.gz\n",
       "4  raw_parsed/reduced_sample_data/ffs::cpt::62322::/negotiated_rates/data_1_0.parquet.gz"
      ]
     },
     "metadata": {},
     "output_type": "display_data"
    }
   ],
   "source": [
    "para = f''' \n",
    "The parsed data are stored as parquet files in the external stage at: @{TARGET_DATA_STAGE}/{TARGET_FOLDER}. The directory structure follows the format:\n",
    "\n",
    "<ext stage>/<folder_parsed>/<data file basename (ex: reduced_sample_data)/<segment_id>/<segment type (negotiated_rates)>/data_<seq_no>_<chunk_no>.parquet.gz\n",
    "\n",
    "Description:\n",
    "- ext stage : external stage name\n",
    "- folder_parsed : configured value of APP_DB.folder_parsed in config.ini\n",
    "- data file basename : the data file basename, without the file extension\n",
    "- segment_id : a unique identifier for the segment, this is a composite key of <negotiation_arrangement>::<billing_code_type>::<billing_code>::<billing_code_type_version>\n",
    "- segment type : indicates the segment children type, this could be either of negotiated_rates/bundled_codes/covered_services\n",
    "- The file which will contain the record, stored in parquet file.\n",
    "'''\n",
    "print(para)\n",
    "\n",
    "stmt = f''' select relative_path from directory(@{TARGET_DATA_STAGE}) where relative_path like '%{TARGET_FOLDER}/{DATA_FILE_BASENAME}%' limit 5; '''\n",
    "df = sp_session.sql(stmt).to_pandas()\n",
    "display(df)"
   ]
  },
  {
   "cell_type": "code",
   "execution_count": 96,
   "id": "f014bb17",
   "metadata": {},
   "outputs": [
    {
     "name": "stdout",
     "output_type": "stream",
     "text": [
      " \n",
      "The parquet file can be queried inside Snowflake via external table: ext_negotiated_arrangments_staged. Each of the folder structure is partitioned to seperate columns , which can help with pruning to specific segments.\n",
      "The value contains the negotiated_rates and other children elements stored in JSON format\n",
      "\n"
     ]
    },
    {
     "data": {
      "text/html": [
       "<div>\n",
       "<style scoped>\n",
       "    .dataframe tbody tr th:only-of-type {\n",
       "        vertical-align: middle;\n",
       "    }\n",
       "\n",
       "    .dataframe tbody tr th {\n",
       "        vertical-align: top;\n",
       "    }\n",
       "\n",
       "    .dataframe thead th {\n",
       "        text-align: right;\n",
       "    }\n",
       "</style>\n",
       "<table border=\"1\" class=\"dataframe\">\n",
       "  <thead>\n",
       "    <tr style=\"text-align: right;\">\n",
       "      <th></th>\n",
       "      <th>VALUE</th>\n",
       "      <th>P_DATA_FL</th>\n",
       "      <th>P_SEGMENT_ID</th>\n",
       "      <th>P_NEGOTIATION_ARRANGEMENT</th>\n",
       "      <th>P_BILLING_CODE_TYPE</th>\n",
       "      <th>P_BILLING_CODE</th>\n",
       "      <th>P_BILLING_CODE_TYPE_VERSION</th>\n",
       "      <th>P_SEGMENT_TYPE</th>\n",
       "    </tr>\n",
       "  </thead>\n",
       "  <tbody>\n",
       "    <tr>\n",
       "      <th>0</th>\n",
       "      <td>{\\n  \"CHUNK_NO\": 1,\\n...</td>\n",
       "      <td>reduced_sample_data</td>\n",
       "      <td>ffs::cpt::33235::</td>\n",
       "      <td>ffs</td>\n",
       "      <td>cpt</td>\n",
       "      <td>33235</td>\n",
       "      <td></td>\n",
       "      <td>negotiated_rates</td>\n",
       "    </tr>\n",
       "    <tr>\n",
       "      <th>1</th>\n",
       "      <td>{\\n  \"CHUNK_NO\": 0,\\n...</td>\n",
       "      <td>reduced_sample_data</td>\n",
       "      <td>ffs::cpt::a4614::</td>\n",
       "      <td>ffs</td>\n",
       "      <td>cpt</td>\n",
       "      <td>a4614</td>\n",
       "      <td></td>\n",
       "      <td>negotiated_rates</td>\n",
       "    </tr>\n",
       "    <tr>\n",
       "      <th>2</th>\n",
       "      <td>{\\n  \"CHUNK_NO\": 1,\\n...</td>\n",
       "      <td>reduced_sample_data</td>\n",
       "      <td>ffs::cpt::92583::</td>\n",
       "      <td>ffs</td>\n",
       "      <td>cpt</td>\n",
       "      <td>92583</td>\n",
       "      <td></td>\n",
       "      <td>negotiated_rates</td>\n",
       "    </tr>\n",
       "    <tr>\n",
       "      <th>3</th>\n",
       "      <td>{\\n  \"CHUNK_NO\": 0,\\n...</td>\n",
       "      <td>reduced_sample_data</td>\n",
       "      <td>ffs::cpt::92583::</td>\n",
       "      <td>ffs</td>\n",
       "      <td>cpt</td>\n",
       "      <td>92583</td>\n",
       "      <td></td>\n",
       "      <td>negotiated_rates</td>\n",
       "    </tr>\n",
       "    <tr>\n",
       "      <th>4</th>\n",
       "      <td>{\\n  \"CHUNK_NO\": 0,\\n...</td>\n",
       "      <td>reduced_sample_data</td>\n",
       "      <td>ffs::cpt::33235::</td>\n",
       "      <td>ffs</td>\n",
       "      <td>cpt</td>\n",
       "      <td>33235</td>\n",
       "      <td></td>\n",
       "      <td>negotiated_rates</td>\n",
       "    </tr>\n",
       "  </tbody>\n",
       "</table>\n",
       "</div>"
      ],
      "text/plain": [
       "                      VALUE            P_DATA_FL       P_SEGMENT_ID  \\\n",
       "0  {\\n  \"CHUNK_NO\": 1,\\n...  reduced_sample_data  ffs::cpt::33235::   \n",
       "1  {\\n  \"CHUNK_NO\": 0,\\n...  reduced_sample_data  ffs::cpt::a4614::   \n",
       "2  {\\n  \"CHUNK_NO\": 1,\\n...  reduced_sample_data  ffs::cpt::92583::   \n",
       "3  {\\n  \"CHUNK_NO\": 0,\\n...  reduced_sample_data  ffs::cpt::92583::   \n",
       "4  {\\n  \"CHUNK_NO\": 0,\\n...  reduced_sample_data  ffs::cpt::33235::   \n",
       "\n",
       "  P_NEGOTIATION_ARRANGEMENT P_BILLING_CODE_TYPE P_BILLING_CODE  \\\n",
       "0                       ffs                 cpt          33235   \n",
       "1                       ffs                 cpt          a4614   \n",
       "2                       ffs                 cpt          92583   \n",
       "3                       ffs                 cpt          92583   \n",
       "4                       ffs                 cpt          33235   \n",
       "\n",
       "  P_BILLING_CODE_TYPE_VERSION    P_SEGMENT_TYPE  \n",
       "0                              negotiated_rates  \n",
       "1                              negotiated_rates  \n",
       "2                              negotiated_rates  \n",
       "3                              negotiated_rates  \n",
       "4                              negotiated_rates  "
      ]
     },
     "metadata": {},
     "output_type": "display_data"
    }
   ],
   "source": [
    "para = f''' \n",
    "The parquet file can be queried inside Snowflake via external table: ext_negotiated_arrangments_staged. Each of the folder structure is partitioned to seperate columns , which can help with pruning to specific segments.\n",
    "The value contains the negotiated_rates and other children elements stored in JSON format\n",
    "'''\n",
    "print(para)\n",
    "\n",
    "pd.set_option('display.max_colwidth', 25)\n",
    "df = (sp_session.table('ext_negotiated_arrangments_staged')\n",
    "        .filter(F.col('DATA_FILE') == F.lit(DATA_FILE))\n",
    "        .sample(n=5)\n",
    "        .to_pandas())\n",
    "\n",
    "display(df)\n"
   ]
  },
  {
   "cell_type": "code",
   "execution_count": 97,
   "id": "522943b4",
   "metadata": {},
   "outputs": [
    {
     "name": "stdout",
     "output_type": "stream",
     "text": [
      " a sample view of one of the records\n",
      "{'CHUNK_NO': 1, 'DATA_FILE': 'reduced_sample_data.json', 'NEGOTIATED_RATES': [{'negotiated_prices': [{'billing_class': 'professional', 'expiration_date': '9999-12-31', 'negotiated_rate': 975.15, 'negotiated_type': 'fee schedule', 'service_code': ['11', '22']}, {'billing_class': 'professional', 'expiration_date': '9999-12-31', 'negotiated_rate': 3259.44, 'negotiated_type': 'fee schedule', 'service_code': ['11', '22']}], 'provider_groups': [{'npi': [1609821081], 'tin': {'type': 'ein', 'value': '382800065'}}]}, {'negotiated_prices': [{'billing_class': 'professional', 'expiration_date': '9999-12-31', 'negotiated_rate': 975.15, 'negotiated_type': 'fee schedule', 'service_code': ['11', '22']}, {'billing_class': 'professional', 'expiration_date': '9999-12-31', 'negotiated_rate': 3259.44, 'negotiated_type': 'fee schedule', 'service_code': ['11', '22']}], 'provider_groups': [{'npi': [1427430842], 'tin': {'type': 'ein', 'value': '382800065'}}]}, {'negotiated_prices': [{'billing_class': 'professional', 'expiration_date': '9999-12-31', 'negotiated_rate': 975.15, 'negotiated_type': 'fee schedule', 'service_code': ['11', '22']}, {'billing_class': 'professional', 'expiration_date': '9999-12-31', 'negotiated_rate': 3259.44, 'negotiated_type': 'fee schedule', 'service_code': ['11', '22']}], 'provider_groups': [{'npi': [1174724793], 'tin': {'type': 'ein', 'value': '382800065'}}]}, {'negotiated_prices': [{'billing_class': 'professional', 'expiration_date': '9999-12-31', 'negotiated_rate': 975.15, 'negotiated_type': 'fee schedule', 'service_code': ['11', '22']}, {'billing_class': 'professional', 'expiration_date': '9999-12-31', 'negotiated_rate': 3259.44, 'negotiated_type': 'fee schedule', 'service_code': ['11', '22']}], 'provider_groups': [{'npi': [1447453840], 'tin': {'type': 'ein', 'value': '382800065'}}]}, {'negotiated_prices': [{'billing_class': 'professional', 'expiration_date': '9999-12-31', 'negotiated_rate': 975.15, 'negotiated_type': 'fee schedule', 'service_code': ['11', '22']}, {'billing_class': 'professional', 'expiration_date': '9999-12-31', 'negotiated_rate': 3259.44, 'negotiated_type': 'fee schedule', 'service_code': ['11', '22']}], 'provider_groups': [{'npi': [1871955468], 'tin': {'type': 'ein', 'value': '380593405'}}]}, {'negotiated_prices': [{'billing_class': 'professional', 'expiration_date': '9999-12-31', 'negotiated_rate': 975.15, 'negotiated_type': 'fee schedule', 'service_code': ['11', '22']}, {'billing_class': 'professional', 'expiration_date': '9999-12-31', 'negotiated_rate': 3259.44, 'negotiated_type': 'fee schedule', 'service_code': ['11', '22']}], 'provider_groups': [{'npi': [1083064133], 'tin': {'type': 'ein', 'value': '380593405'}}]}, {'negotiated_prices': [{'billing_class': 'professional', 'expiration_date': '9999-12-31', 'negotiated_rate': 975.15, 'negotiated_type': 'fee schedule', 'service_code': ['11', '22']}, {'billing_class': 'professional', 'expiration_date': '9999-12-31', 'negotiated_rate': 3259.44, 'negotiated_type': 'fee schedule', 'service_code': ['11', '22']}], 'provider_groups': [{'npi': [1144608704], 'tin': {'type': 'ein', 'value': '473970886'}}]}, {'negotiated_prices': [{'billing_class': 'professional', 'expiration_date': '9999-12-31', 'negotiated_rate': 975.15, 'negotiated_type': 'fee schedule', 'service_code': ['11', '22']}, {'billing_class': 'professional', 'expiration_date': '9999-12-31', 'negotiated_rate': 3259.44, 'negotiated_type': 'fee schedule', 'service_code': ['11', '22']}], 'provider_groups': [{'npi': [1073976767], 'tin': {'type': 'ein', 'value': '380593405'}}]}, {'negotiated_prices': [{'billing_class': 'professional', 'expiration_date': '9999-12-31', 'negotiated_rate': 975.15, 'negotiated_type': 'fee schedule', 'service_code': ['11', '22']}, {'billing_class': 'professional', 'expiration_date': '9999-12-31', 'negotiated_rate': 3259.44, 'negotiated_type': 'fee schedule', 'service_code': ['11', '22']}], 'provider_groups': [{'npi': [1487001582], 'tin': {'type': 'ein', 'value': '380593405'}}]}, {'negotiated_prices': [{'billing_class': 'professional', 'expiration_date': '9999-12-31', 'negotiated_rate': 975.15, 'negotiated_type': 'fee schedule', 'service_code': ['11', '22']}, {'billing_class': 'professional', 'expiration_date': '9999-12-31', 'negotiated_rate': 3259.44, 'negotiated_type': 'fee schedule', 'service_code': ['11', '22']}], 'provider_groups': [{'npi': [1124548227], 'tin': {'type': 'ein', 'value': '380593405'}}]}, {'negotiated_prices': [{'billing_class': 'professional', 'expiration_date': '9999-12-31', 'negotiated_rate': 975.15, 'negotiated_type': 'fee schedule', 'service_code': ['11', '22']}, {'billing_class': 'professional', 'expiration_date': '9999-12-31', 'negotiated_rate': 3259.44, 'negotiated_type': 'fee schedule', 'service_code': ['11', '22']}], 'provider_groups': [{'npi': [1164871620], 'tin': {'type': 'ein', 'value': '380593405'}}]}, {'negotiated_prices': [{'billing_class': 'professional', 'expiration_date': '9999-12-31', 'negotiated_rate': 975.15, 'negotiated_type': 'fee schedule', 'service_code': ['11', '22']}, {'billing_class': 'professional', 'expiration_date': '9999-12-31', 'negotiated_rate': 3259.44, 'negotiated_type': 'fee schedule', 'service_code': ['11', '22']}], 'provider_groups': [{'npi': [1902258270], 'tin': {'type': 'ein', 'value': '381358164'}}]}, {'negotiated_prices': [{'billing_class': 'professional', 'expiration_date': '9999-12-31', 'negotiated_rate': 975.15, 'negotiated_type': 'fee schedule', 'service_code': ['11', '22']}, {'billing_class': 'professional', 'expiration_date': '9999-12-31', 'negotiated_rate': 3259.44, 'negotiated_type': 'fee schedule', 'service_code': ['11', '22']}], 'provider_groups': [{'npi': [1023173937], 'tin': {'type': 'ein', 'value': '381274536'}}]}, {'negotiated_prices': [{'billing_class': 'professional', 'expiration_date': '9999-12-31', 'negotiated_rate': 975.15, 'negotiated_type': 'fee schedule', 'service_code': ['11', '22']}, {'billing_class': 'professional', 'expiration_date': '9999-12-31', 'negotiated_rate': 3259.44, 'negotiated_type': 'fee schedule', 'service_code': ['11', '22']}], 'provider_groups': [{'npi': [1437520210], 'tin': {'type': 'ein', 'value': '474318183'}}]}, {'negotiated_prices': [{'billing_class': 'professional', 'expiration_date': '9999-12-31', 'negotiated_rate': 975.15, 'negotiated_type': 'fee schedule', 'service_code': ['11', '22']}, {'billing_class': 'professional', 'expiration_date': '9999-12-31', 'negotiated_rate': 3259.44, 'negotiated_type': 'fee schedule', 'service_code': ['11', '22']}], 'provider_groups': [{'npi': [1851051163], 'tin': {'type': 'ein', 'value': '381360562'}}]}, {'negotiated_prices': [{'billing_class': 'professional', 'expiration_date': '9999-12-31', 'negotiated_rate': 975.15, 'negotiated_type': 'fee schedule', 'service_code': ['11', '22']}, {'billing_class': 'professional', 'expiration_date': '9999-12-31', 'negotiated_rate': 3259.44, 'negotiated_type': 'fee schedule', 'service_code': ['11', '22']}], 'provider_groups': [{'npi': [1053475533], 'tin': {'type': 'ein', 'value': '381274536'}}]}, {'negotiated_prices': [{'billing_class': 'professional', 'expiration_date': '9999-12-31', 'negotiated_rate': 975.15, 'negotiated_type': 'fee schedule', 'service_code': ['11', '22']}, {'billing_class': 'professional', 'expiration_date': '9999-12-31', 'negotiated_rate': 3259.44, 'negotiated_type': 'fee schedule', 'service_code': ['11', '22']}], 'provider_groups': [{'npi': [1154770212], 'tin': {'type': 'ein', 'value': '380593405'}}]}, {'negotiated_prices': [{'billing_class': 'professional', 'expiration_date': '9999-12-31', 'negotiated_rate': 975.15, 'negotiated_type': 'fee schedule', 'service_code': ['11', '22']}, {'billing_class': 'professional', 'expiration_date': '9999-12-31', 'negotiated_rate': 3259.44, 'negotiated_type': 'fee schedule', 'service_code': ['11', '22']}], 'provider_groups': [{'npi': [1598139511], 'tin': {'type': 'ein', 'value': '475449401'}}]}, {'negotiated_prices': [{'billing_class': 'professional', 'expiration_date': '9999-12-31', 'negotiated_rate': 975.15, 'negotiated_type': 'fee schedule', 'service_code': ['11', '22']}, {'billing_class': 'professional', 'expiration_date': '9999-12-31', 'negotiated_rate': 3259.44, 'negotiated_type': 'fee schedule', 'service_code': ['11', '22']}], 'provider_groups': [{'npi': [1033451497], 'tin': {'type': 'ein', 'value': '381358164'}}]}, {'negotiated_prices': [{'billing_class': 'professional', 'expiration_date': '9999-12-31', 'negotiated_rate': 975.15, 'negotiated_type': 'fee schedule', 'service_code': ['11', '22']}, {'billing_class': 'professional', 'expiration_date': '9999-12-31', 'negotiated_rate': 3259.44, 'negotiated_type': 'fee schedule', 'service_code': ['11', '22']}], 'provider_groups': [{'npi': [1336892694], 'tin': {'type': 'ein', 'value': '383587715'}}]}, {'negotiated_prices': [{'billing_class': 'professional', 'expiration_date': '9999-12-31', 'negotiated_rate': 975.15, 'negotiated_type': 'fee schedule', 'service_code': ['11', '22']}, {'billing_class': 'professional', 'expiration_date': '9999-12-31', 'negotiated_rate': 3259.44, 'negotiated_type': 'fee schedule', 'service_code': ['11', '22']}], 'provider_groups': [{'npi': [1255005666], 'tin': {'type': 'ein', 'value': '381358164'}}]}, {'negotiated_prices': [{'billing_class': 'professional', 'expiration_date': '9999-12-31', 'negotiated_rate': 975.15, 'negotiated_type': 'fee schedule', 'service_code': ['11', '22']}, {'billing_class': 'professional', 'expiration_date': '9999-12-31', 'negotiated_rate': 3259.44, 'negotiated_type': 'fee schedule', 'service_code': ['11', '22']}], 'provider_groups': [{'npi': [1336892694], 'tin': {'type': 'ein', 'value': '381362830'}}]}, {'negotiated_prices': [{'billing_class': 'professional', 'expiration_date': '9999-12-31', 'negotiated_rate': 975.15, 'negotiated_type': 'fee schedule', 'service_code': ['11', '22']}, {'billing_class': 'professional', 'expiration_date': '9999-12-31', 'negotiated_rate': 3259.44, 'negotiated_type': 'fee schedule', 'service_code': ['11', '22']}], 'provider_groups': [{'npi': [1114187119], 'tin': {'type': 'ein', 'value': '272491974'}}]}, {'negotiated_prices': [{'billing_class': 'professional', 'expiration_date': '9999-12-31', 'negotiated_rate': 975.15, 'negotiated_type': 'fee schedule', 'service_code': ['11', '22']}, {'billing_class': 'professional', 'expiration_date': '9999-12-31', 'negotiated_rate': 3259.44, 'negotiated_type': 'fee schedule', 'service_code': ['11', '22']}], 'provider_groups': [{'npi': [1043673320], 'tin': {'type': 'ein', 'value': '383956015'}}]}, {'negotiated_prices': [{'billing_class': 'professional', 'expiration_date': '9999-12-31', 'negotiated_rate': 975.15, 'negotiated_type': 'fee schedule', 'service_code': ['11', '22']}, {'billing_class': 'professional', 'expiration_date': '9999-12-31', 'negotiated_rate': 3259.44, 'negotiated_type': 'fee schedule', 'service_code': ['11', '22']}], 'provider_groups': [{'npi': [1194178178], 'tin': {'type': 'ein', 'value': '381358164'}}]}, {'negotiated_prices': [{'billing_class': 'professional', 'expiration_date': '9999-12-31', 'negotiated_rate': 975.15, 'negotiated_type': 'fee schedule', 'service_code': ['11', '22']}, {'billing_class': 'professional', 'expiration_date': '9999-12-31', 'negotiated_rate': 3259.44, 'negotiated_type': 'fee schedule', 'service_code': ['11', '22']}], 'provider_groups': [{'npi': [1578125548], 'tin': {'type': 'ein', 'value': '381358164'}}]}, {'negotiated_prices': [{'billing_class': 'professional', 'expiration_date': '9999-12-31', 'negotiated_rate': 975.15, 'negotiated_type': 'fee schedule', 'service_code': ['11', '22']}, {'billing_class': 'professional', 'expiration_date': '9999-12-31', 'negotiated_rate': 3259.44, 'negotiated_type': 'fee schedule', 'service_code': ['11', '22']}], 'provider_groups': [{'npi': [1174051395], 'tin': {'type': 'ein', 'value': '380593405'}}]}, {'negotiated_prices': [{'billing_class': 'professional', 'expiration_date': '9999-12-31', 'negotiated_rate': 975.15, 'negotiated_type': 'fee schedule', 'service_code': ['11', '22']}, {'billing_class': 'professional', 'expiration_date': '9999-12-31', 'negotiated_rate': 3259.44, 'negotiated_type': 'fee schedule', 'service_code': ['11', '22']}], 'provider_groups': [{'npi': [1497160717], 'tin': {'type': 'ein', 'value': '522283535'}}]}, {'negotiated_prices': [{'billing_class': 'professional', 'expiration_date': '9999-12-31', 'negotiated_rate': 975.15, 'negotiated_type': 'fee schedule', 'service_code': ['11', '22']}, {'billing_class': 'professional', 'expiration_date': '9999-12-31', 'negotiated_rate': 3259.44, 'negotiated_type': 'fee schedule', 'service_code': ['11', '22']}], 'provider_groups': [{'npi': [1245695584], 'tin': {'type': 'ein', 'value': '383372828'}}]}], 'SEGMENT_ID': 'ffs::cpt::33235::', 'SEQ_NO': 8, 'billing_code': '33235', 'billing_code_type': 'CPT', 'billing_code_type_version': '', 'description': 'Removal of Perm Pacemaker; and Trnsvenous Electrodes, Dual Lead System', 'name': 'Removal of Perm Pacemaker; and Trnsvenous Electrodes, Dual Lead System', 'negotiation_arrangement': 'ffs'}\n"
     ]
    }
   ],
   "source": [
    "print(' a sample view of one of the records')\n",
    "j = json.loads(df['VALUE'][0])\n",
    "print(j)"
   ]
  },
  {
   "cell_type": "code",
   "execution_count": 98,
   "id": "f8769a89",
   "metadata": {},
   "outputs": [
    {
     "data": {
      "text/markdown": [
       "The table segment_task_execution_status contains the audit of execution for the above stored procedures"
      ],
      "text/plain": [
       "<IPython.core.display.Markdown object>"
      ]
     },
     "metadata": {},
     "output_type": "display_data"
    },
    {
     "data": {
      "text/html": [
       "<div>\n",
       "<style scoped>\n",
       "    .dataframe tbody tr th:only-of-type {\n",
       "        vertical-align: middle;\n",
       "    }\n",
       "\n",
       "    .dataframe tbody tr th {\n",
       "        vertical-align: top;\n",
       "    }\n",
       "\n",
       "    .dataframe thead th {\n",
       "        text-align: right;\n",
       "    }\n",
       "</style>\n",
       "<table border=\"1\" class=\"dataframe\">\n",
       "  <thead>\n",
       "    <tr style=\"text-align: right;\">\n",
       "      <th></th>\n",
       "      <th>DATA_FILE</th>\n",
       "      <th>TASK_NAME</th>\n",
       "      <th>START_TIME</th>\n",
       "      <th>END_TIME</th>\n",
       "      <th>TASK_RET_STATUS</th>\n",
       "      <th>INSERTED_AT</th>\n",
       "    </tr>\n",
       "  </thead>\n",
       "  <tbody>\n",
       "    <tr>\n",
       "      <th>0</th>\n",
       "      <td>reduced_sample_data.json</td>\n",
       "      <td>INDSOL_CMSGOV_PRICING.PUBLIC.T_REDUCED_SAMPLE_DATA_201_400</td>\n",
       "      <td>2023-01-06 04:09:22.706</td>\n",
       "      <td>2023-01-06 04:09:26.582</td>\n",
       "      <td>{\"data_file\": \"reduced_sample_data.json\", \"start_rec_num\": 201, \"end_rec_num\": 400, \"Parsing_error\": \"\", \"last_seg_no\": 10, \"EOF_Reached\": True, \"task_ignored_parsing\": False, \"elapsed\": \"=&gt; 0:00:02.662760 \"}</td>\n",
       "      <td>2023-01-06 04:09:22.706</td>\n",
       "    </tr>\n",
       "    <tr>\n",
       "      <th>1</th>\n",
       "      <td>reduced_sample_data.json</td>\n",
       "      <td>INDSOL_CMSGOV_PRICING.PUBLIC.T_REDUCED_SAMPLE_DATA_2201_2400</td>\n",
       "      <td>2023-01-06 04:09:46.363</td>\n",
       "      <td>2023-01-06 04:09:47.241</td>\n",
       "      <td>{\"data_file\": \"reduced_sample_data.json\", \"start_rec_num\": 2201, \"end_rec_num\": 2400, \"task_ignored_parsing\": True, \"task_parsing_ignore_message\": \"The segment range is greater than the total segments -2 in the file, hence ignore further parsing\", \"elapsed\": \"=&gt; 0:00:00.372729 \"}</td>\n",
       "      <td>2023-01-06 04:09:46.363</td>\n",
       "    </tr>\n",
       "    <tr>\n",
       "      <th>2</th>\n",
       "      <td>reduced_sample_data.json</td>\n",
       "      <td>INDSOL_CMSGOV_PRICING.PUBLIC.T_REDUCED_SAMPLE_DATA_13601_13800</td>\n",
       "      <td>2023-01-06 04:12:10.514</td>\n",
       "      <td>2023-01-06 04:12:12.550</td>\n",
       "      <td>{\"data_file\": \"reduced_sample_data.json\", \"start_rec_num\": 13601, \"end_rec_num\": 13800, \"task_ignored_parsing\": True, \"task_parsing_ignore_message\": \"The segment range is greater than the total segments -2 in the file, hence ignore further parsing\", \"elapsed\": \"=&gt; 0:00:00.404196 \"}</td>\n",
       "      <td>2023-01-06 04:12:10.514</td>\n",
       "    </tr>\n",
       "    <tr>\n",
       "      <th>3</th>\n",
       "      <td>reduced_sample_data.json</td>\n",
       "      <td>INDSOL_CMSGOV_PRICING.PUBLIC.T_REDUCED_SAMPLE_DATA_9601_9800</td>\n",
       "      <td>2023-01-06 04:11:22.449</td>\n",
       "      <td>2023-01-06 04:11:23.598</td>\n",
       "      <td>{\"data_file\": \"reduced_sample_data.json\", \"start_rec_num\": 9601, \"end_rec_num\": 9800, \"task_ignored_parsing\": True, \"task_parsing_ignore_message\": \"The segment range is greater than the total segments -2 in the file, hence ignore further parsing\", \"elapsed\": \"=&gt; 0:00:00.504701 \"}</td>\n",
       "      <td>2023-01-06 04:11:22.449</td>\n",
       "    </tr>\n",
       "    <tr>\n",
       "      <th>4</th>\n",
       "      <td>reduced_sample_data.json</td>\n",
       "      <td>INDSOL_CMSGOV_PRICING.PUBLIC.T_REDUCED_SAMPLE_DATA_8001_8200</td>\n",
       "      <td>2023-01-06 04:11:34.416</td>\n",
       "      <td>2023-01-06 04:11:36.343</td>\n",
       "      <td>{\"data_file\": \"reduced_sample_data.json\", \"start_rec_num\": 8001, \"end_rec_num\": 8200, \"task_ignored_parsing\": True, \"task_parsing_ignore_message\": \"The segment range is greater than the total segments -2 in the file, hence ignore further parsing\", \"elapsed\": \"=&gt; 0:00:00.337956 \"}</td>\n",
       "      <td>2023-01-06 04:11:34.416</td>\n",
       "    </tr>\n",
       "  </tbody>\n",
       "</table>\n",
       "</div>"
      ],
      "text/plain": [
       "                  DATA_FILE  \\\n",
       "0  reduced_sample_data.json   \n",
       "1  reduced_sample_data.json   \n",
       "2  reduced_sample_data.json   \n",
       "3  reduced_sample_data.json   \n",
       "4  reduced_sample_data.json   \n",
       "\n",
       "                                                        TASK_NAME  \\\n",
       "0      INDSOL_CMSGOV_PRICING.PUBLIC.T_REDUCED_SAMPLE_DATA_201_400   \n",
       "1    INDSOL_CMSGOV_PRICING.PUBLIC.T_REDUCED_SAMPLE_DATA_2201_2400   \n",
       "2  INDSOL_CMSGOV_PRICING.PUBLIC.T_REDUCED_SAMPLE_DATA_13601_13800   \n",
       "3    INDSOL_CMSGOV_PRICING.PUBLIC.T_REDUCED_SAMPLE_DATA_9601_9800   \n",
       "4    INDSOL_CMSGOV_PRICING.PUBLIC.T_REDUCED_SAMPLE_DATA_8001_8200   \n",
       "\n",
       "               START_TIME                END_TIME  \\\n",
       "0 2023-01-06 04:09:22.706 2023-01-06 04:09:26.582   \n",
       "1 2023-01-06 04:09:46.363 2023-01-06 04:09:47.241   \n",
       "2 2023-01-06 04:12:10.514 2023-01-06 04:12:12.550   \n",
       "3 2023-01-06 04:11:22.449 2023-01-06 04:11:23.598   \n",
       "4 2023-01-06 04:11:34.416 2023-01-06 04:11:36.343   \n",
       "\n",
       "                                                                                                                                                                                                                                                                              TASK_RET_STATUS  \\\n",
       "0                                                                            {\"data_file\": \"reduced_sample_data.json\", \"start_rec_num\": 201, \"end_rec_num\": 400, \"Parsing_error\": \"\", \"last_seg_no\": 10, \"EOF_Reached\": True, \"task_ignored_parsing\": False, \"elapsed\": \"=> 0:00:02.662760 \"}   \n",
       "1    {\"data_file\": \"reduced_sample_data.json\", \"start_rec_num\": 2201, \"end_rec_num\": 2400, \"task_ignored_parsing\": True, \"task_parsing_ignore_message\": \"The segment range is greater than the total segments -2 in the file, hence ignore further parsing\", \"elapsed\": \"=> 0:00:00.372729 \"}   \n",
       "2  {\"data_file\": \"reduced_sample_data.json\", \"start_rec_num\": 13601, \"end_rec_num\": 13800, \"task_ignored_parsing\": True, \"task_parsing_ignore_message\": \"The segment range is greater than the total segments -2 in the file, hence ignore further parsing\", \"elapsed\": \"=> 0:00:00.404196 \"}   \n",
       "3    {\"data_file\": \"reduced_sample_data.json\", \"start_rec_num\": 9601, \"end_rec_num\": 9800, \"task_ignored_parsing\": True, \"task_parsing_ignore_message\": \"The segment range is greater than the total segments -2 in the file, hence ignore further parsing\", \"elapsed\": \"=> 0:00:00.504701 \"}   \n",
       "4    {\"data_file\": \"reduced_sample_data.json\", \"start_rec_num\": 8001, \"end_rec_num\": 8200, \"task_ignored_parsing\": True, \"task_parsing_ignore_message\": \"The segment range is greater than the total segments -2 in the file, hence ignore further parsing\", \"elapsed\": \"=> 0:00:00.337956 \"}   \n",
       "\n",
       "              INSERTED_AT  \n",
       "0 2023-01-06 04:09:22.706  \n",
       "1 2023-01-06 04:09:46.363  \n",
       "2 2023-01-06 04:12:10.514  \n",
       "3 2023-01-06 04:11:22.449  \n",
       "4 2023-01-06 04:11:34.416  "
      ]
     },
     "metadata": {},
     "output_type": "display_data"
    }
   ],
   "source": [
    "display(Markdown(\"The table segment_task_execution_status contains the audit of execution for the above stored procedures\"))\n",
    "\n",
    "pd.set_option('display.max_colwidth', None)\n",
    "df = (sp_session.table('segment_task_execution_status')\n",
    "        .filter(F.col('DATA_FILE') == F.lit(DATA_FILE))\n",
    "        .sample(n=5)\n",
    "        .to_pandas())\n",
    "\n",
    "display(df)"
   ]
  },
  {
   "cell_type": "code",
   "execution_count": 99,
   "id": "8d9bf2a1",
   "metadata": {},
   "outputs": [
    {
     "data": {
      "text/markdown": [
       "The view segments_counts_for_datafile_v, based of table segment_task_execution_status, will help to identify the number of negotiated_arrangement segments for a specific data file. This view is populated once all the segments in a specific data files are parsed out"
      ],
      "text/plain": [
       "<IPython.core.display.Markdown object>"
      ]
     },
     "metadata": {},
     "output_type": "display_data"
    },
    {
     "data": {
      "text/html": [
       "<div>\n",
       "<style scoped>\n",
       "    .dataframe tbody tr th:only-of-type {\n",
       "        vertical-align: middle;\n",
       "    }\n",
       "\n",
       "    .dataframe tbody tr th {\n",
       "        vertical-align: top;\n",
       "    }\n",
       "\n",
       "    .dataframe thead th {\n",
       "        text-align: right;\n",
       "    }\n",
       "</style>\n",
       "<table border=\"1\" class=\"dataframe\">\n",
       "  <thead>\n",
       "    <tr style=\"text-align: right;\">\n",
       "      <th></th>\n",
       "      <th>DATA_FILE</th>\n",
       "      <th>TASK_NAME</th>\n",
       "      <th>START_REC_NUM</th>\n",
       "      <th>END_REC_NUM</th>\n",
       "      <th>TOTAL_NO_OF_SEGMENTS</th>\n",
       "      <th>ELAPSED</th>\n",
       "      <th>PARSING_ERROR</th>\n",
       "      <th>EOF_REACHED</th>\n",
       "    </tr>\n",
       "  </thead>\n",
       "  <tbody>\n",
       "    <tr>\n",
       "      <th>0</th>\n",
       "      <td>reduced_sample_data.json</td>\n",
       "      <td>INDSOL_CMSGOV_PRICING.PUBLIC.T_REDUCED_SAMPLE_DATA_0_200</td>\n",
       "      <td>0</td>\n",
       "      <td>200</td>\n",
       "      <td>10</td>\n",
       "      <td>0</td>\n",
       "      <td></td>\n",
       "      <td>true</td>\n",
       "    </tr>\n",
       "    <tr>\n",
       "      <th>1</th>\n",
       "      <td>reduced_sample_data.json</td>\n",
       "      <td>INDSOL_CMSGOV_PRICING.PUBLIC.T_REDUCED_SAMPLE_DATA_201_400</td>\n",
       "      <td>201</td>\n",
       "      <td>400</td>\n",
       "      <td>10</td>\n",
       "      <td>0</td>\n",
       "      <td></td>\n",
       "      <td>true</td>\n",
       "    </tr>\n",
       "    <tr>\n",
       "      <th>2</th>\n",
       "      <td>reduced_sample_data.json</td>\n",
       "      <td>INDSOL_CMSGOV_PRICING.PUBLIC.T_REDUCED_SAMPLE_DATA_601_800</td>\n",
       "      <td>601</td>\n",
       "      <td>800</td>\n",
       "      <td>10</td>\n",
       "      <td>0</td>\n",
       "      <td></td>\n",
       "      <td>true</td>\n",
       "    </tr>\n",
       "    <tr>\n",
       "      <th>3</th>\n",
       "      <td>reduced_sample_data.json</td>\n",
       "      <td>INDSOL_CMSGOV_PRICING.PUBLIC.T_REDUCED_SAMPLE_DATA_801_1000</td>\n",
       "      <td>801</td>\n",
       "      <td>1000</td>\n",
       "      <td>10</td>\n",
       "      <td>0</td>\n",
       "      <td></td>\n",
       "      <td>true</td>\n",
       "    </tr>\n",
       "  </tbody>\n",
       "</table>\n",
       "</div>"
      ],
      "text/plain": [
       "                  DATA_FILE  \\\n",
       "0  reduced_sample_data.json   \n",
       "1  reduced_sample_data.json   \n",
       "2  reduced_sample_data.json   \n",
       "3  reduced_sample_data.json   \n",
       "\n",
       "                                                     TASK_NAME  START_REC_NUM  \\\n",
       "0     INDSOL_CMSGOV_PRICING.PUBLIC.T_REDUCED_SAMPLE_DATA_0_200              0   \n",
       "1   INDSOL_CMSGOV_PRICING.PUBLIC.T_REDUCED_SAMPLE_DATA_201_400            201   \n",
       "2   INDSOL_CMSGOV_PRICING.PUBLIC.T_REDUCED_SAMPLE_DATA_601_800            601   \n",
       "3  INDSOL_CMSGOV_PRICING.PUBLIC.T_REDUCED_SAMPLE_DATA_801_1000            801   \n",
       "\n",
       "   END_REC_NUM  TOTAL_NO_OF_SEGMENTS  ELAPSED PARSING_ERROR EOF_REACHED  \n",
       "0          200                    10        0                      true  \n",
       "1          400                    10        0                      true  \n",
       "2          800                    10        0                      true  \n",
       "3         1000                    10        0                      true  "
      ]
     },
     "metadata": {},
     "output_type": "display_data"
    }
   ],
   "source": [
    "display(Markdown(\"The view segments_counts_for_datafile_v, based of table segment_task_execution_status, will help to identify the number of negotiated_arrangement segments for a specific data file. This view is populated once all the segments in a specific data files are parsed out\"))\n",
    "\n",
    "df = (sp_session.table('segments_counts_for_datafile_v')\n",
    "        .filter(F.col('DATA_FILE') == F.lit(DATA_FILE))\n",
    "        .sample(n=5)\n",
    "        .to_pandas())\n",
    "\n",
    "display(df)"
   ]
  },
  {
   "cell_type": "markdown",
   "id": "1d6ffbf6",
   "metadata": {},
   "source": [
    "--- \n",
    "### Closeout\n",
    "\n",
    "    With that we are finished this section of the demo setup"
   ]
  },
  {
   "cell_type": "code",
   "execution_count": 100,
   "id": "192cf880",
   "metadata": {},
   "outputs": [
    {
     "name": "stdout",
     "output_type": "stream",
     "text": [
      "Finished!!!\n"
     ]
    }
   ],
   "source": [
    "# sp_session.close()\n",
    "print('Finished!!!')"
   ]
  }
 ],
 "metadata": {
  "kernelspec": {
   "display_name": "pysnowpark",
   "language": "python",
   "name": "python3"
  },
  "language_info": {
   "codemirror_mode": {
    "name": "ipython",
    "version": 3
   },
   "file_extension": ".py",
   "mimetype": "text/x-python",
   "name": "python",
   "nbconvert_exporter": "python",
   "pygments_lexer": "ipython3",
   "version": "3.8.15"
  },
  "vscode": {
   "interpreter": {
    "hash": "f66ab0cca93a35542579a5cebff8d4c56cda5b2ee20dfe6b405f4dd558333bf9"
   }
  }
 },
 "nbformat": 4,
 "nbformat_minor": 5
}
