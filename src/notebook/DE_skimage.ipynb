{
 "cells": [
  {
   "cell_type": "markdown",
   "id": "e4022bce",
   "metadata": {},
   "source": [
    "# Data / Feature Engineering\n",
    "\n",
    "In this notebook, we acheive the following feature engineering efforts:\n",
    "    - use image processing library to parse the image into matrices\n",
    "    - we reshape the matrice \n",
    "    - store the matrice into table "
   ]
  },
  {
   "cell_type": "code",
   "execution_count": 3,
   "id": "4f152540",
   "metadata": {},
   "outputs": [
    {
     "data": {
      "text/markdown": [
       "### Initialization"
      ],
      "text/plain": [
       "<IPython.core.display.Markdown object>"
      ]
     },
     "metadata": {},
     "output_type": "display_data"
    },
    {
     "data": {
      "text/html": [
       "<div>\n",
       "<style scoped>\n",
       "    .dataframe tbody tr th:only-of-type {\n",
       "        vertical-align: middle;\n",
       "    }\n",
       "\n",
       "    .dataframe tbody tr th {\n",
       "        vertical-align: top;\n",
       "    }\n",
       "\n",
       "    .dataframe thead th {\n",
       "        text-align: right;\n",
       "    }\n",
       "</style>\n",
       "<table border=\"1\" class=\"dataframe\">\n",
       "  <thead>\n",
       "    <tr style=\"text-align: right;\">\n",
       "      <th></th>\n",
       "      <th>CURRENT_USER()</th>\n",
       "      <th>CURRENT_ROLE()</th>\n",
       "      <th>CURRENT_DATABASE()</th>\n",
       "      <th>CURRENT_SCHEMA()</th>\n",
       "    </tr>\n",
       "  </thead>\n",
       "  <tbody>\n",
       "    <tr>\n",
       "      <th>0</th>\n",
       "      <td>VSEKAR</td>\n",
       "      <td>PUBLIC</td>\n",
       "      <td>INDSOL_DICOM_DB</td>\n",
       "      <td>PUBLIC</td>\n",
       "    </tr>\n",
       "  </tbody>\n",
       "</table>\n",
       "</div>"
      ],
      "text/plain": [
       "  CURRENT_USER() CURRENT_ROLE() CURRENT_DATABASE() CURRENT_SCHEMA()\n",
       "0         VSEKAR         PUBLIC    INDSOL_DICOM_DB           PUBLIC"
      ]
     },
     "metadata": {},
     "output_type": "display_data"
    }
   ],
   "source": [
    "from IPython.display import display, HTML, Image , Markdown\n",
    "from snowflake.snowpark.session import Session\n",
    "import snowflake.snowpark.types as T\n",
    "import snowflake.snowpark.functions as F\n",
    "import os ,configparser ,json ,logging\n",
    "\n",
    "# Import the commonly defined utility scripts using\n",
    "# dynamic path include\n",
    "import sys\n",
    "sys.path.append('../python/lutils')\n",
    "import sflk_base as L\n",
    "\n",
    "display(Markdown(\"### Initialization\"))\n",
    "logging.basicConfig(stream=sys.stdout, level=logging.ERROR)\n",
    "\n",
    "# Source various helper functions\n",
    "%run ./scripts/notebook_helpers.py\n",
    "\n",
    "# Define the project home directory, this is used for locating the config.ini file\n",
    "PROJECT_HOME_DIR = '../../'\n",
    "config = L.get_config(PROJECT_HOME_DIR)\n",
    "sp_session = L.connect_to_snowflake(PROJECT_HOME_DIR)\n",
    "\n",
    "if(sp_session == None):\n",
    "    raise Exception(f'Unable to connect to snowflake. Validate connection information ')\n",
    "\n",
    "sp_session.use_role(f'''{config['APP_DB']['role']}''')\n",
    "sp_session.use_schema(f'''{config['APP_DB']['database']}.{config['APP_DB']['schema']}''')\n",
    "sp_session.use_warehouse(f'''{config['APP_DB']['snow_opt_wh']}''')\n",
    "\n",
    "df = sp_session.sql('select current_user() ,current_role() ,current_database() ,current_schema();').to_pandas()\n",
    "display(df)"
   ]
  },
  {
   "cell_type": "code",
   "execution_count": 18,
   "id": "cad8d416",
   "metadata": {},
   "outputs": [],
   "source": [
    "stmts = [\n",
    "   f'''\n",
    "    PUT file://{PROJECT_HOME_DIR}/data/train/PNEUMONIA/person374_bacteria_1710.jpeg @data_stg \n",
    "    auto_compress = false\n",
    "    overwrite = true;\n",
    "    '''\n",
    "    ,f''' alter stage data_stg refresh; '''\n",
    "    ,f'''\n",
    "    PUT file://../python/skimage_parser_fn.py @lib_stg/scripts \n",
    "    auto_compress = false\n",
    "    overwrite = true;\n",
    "    '''\n",
    "    ,f'''\n",
    "    create or replace function skimage_parser_fn(image_fl varchar)\n",
    "     returns variant\n",
    "     language python\n",
    "     runtime_version = '3.8'\n",
    "     packages = ('snowflake-snowpark-python','numpy', 'pandas', 'scikit-learn' ,'scikit-image')\n",
    "     imports = ('@lib_stg/scripts/skimage_parser_fn.py')\n",
    "     handler = 'skimage_parser_fn.main'\n",
    "     ;\n",
    "    '''\n",
    "]    \n",
    "    \n",
    "for stmt in stmts:\n",
    "    sp_session.sql(stmt).collect()"
   ]
  },
  {
   "cell_type": "code",
   "execution_count": 19,
   "id": "04035c25",
   "metadata": {},
   "outputs": [
    {
     "data": {
      "text/html": [
       "<div>\n",
       "<style scoped>\n",
       "    .dataframe tbody tr th:only-of-type {\n",
       "        vertical-align: middle;\n",
       "    }\n",
       "\n",
       "    .dataframe tbody tr th {\n",
       "        vertical-align: top;\n",
       "    }\n",
       "\n",
       "    .dataframe thead th {\n",
       "        text-align: right;\n",
       "    }\n",
       "</style>\n",
       "<table border=\"1\" class=\"dataframe\">\n",
       "  <thead>\n",
       "    <tr style=\"text-align: right;\">\n",
       "      <th></th>\n",
       "      <th>RELATIVE_PATH</th>\n",
       "      <th>FULL_IMAGE_PATH</th>\n",
       "      <th>PARSED_IMAGE_INFO</th>\n",
       "    </tr>\n",
       "  </thead>\n",
       "  <tbody>\n",
       "    <tr>\n",
       "      <th>0</th>\n",
       "      <td>person374_bacteria_1710.jpeg</td>\n",
       "      <td>@data_stg/person374_bacteria_1710.jpeg</td>\n",
       "      <td>{\\n  \"image_array\": \"[54, 30, 26, 24, 26, 29, ...</td>\n",
       "    </tr>\n",
       "  </tbody>\n",
       "</table>\n",
       "</div>"
      ],
      "text/plain": [
       "                  RELATIVE_PATH                         FULL_IMAGE_PATH  \\\n",
       "0  person374_bacteria_1710.jpeg  @data_stg/person374_bacteria_1710.jpeg   \n",
       "\n",
       "                                   PARSED_IMAGE_INFO  \n",
       "0  {\\n  \"image_array\": \"[54, 30, 26, 24, 26, 29, ...  "
      ]
     },
     "metadata": {},
     "output_type": "display_data"
    }
   ],
   "source": [
    "df = sp_session.sql('''\n",
    "    select \n",
    "    relative_path\n",
    "    ,concat('@data_stg/',relative_path) as full_image_path\n",
    "    ,skimage_parser_fn(full_image_path) as parsed_image_info\n",
    "from directory(@data_stg)\n",
    ";\n",
    "''').to_pandas()\n",
    "display(df)"
   ]
  },
  {
   "cell_type": "code",
   "execution_count": 8,
   "id": "71d5358d",
   "metadata": {},
   "outputs": [
    {
     "data": {
      "text/plain": [
       "[Row(SKIMAGE_PARSER='{\\n  \"elapsed\": \"=> 0:00:03.012706 \",\\n  \"status\": true\\n}')]"
      ]
     },
     "execution_count": 8,
     "metadata": {},
     "output_type": "execute_result"
    }
   ],
   "source": [
    "sp_session.sql('''\n",
    "    call skimage_parser('@data_stg/person374_bacteria_1710.jpeg');\n",
    "''').collect()"
   ]
  },
  {
   "cell_type": "code",
   "execution_count": null,
   "id": "7c045d3d",
   "metadata": {},
   "outputs": [],
   "source": [
    "sp_session.sql('''\n",
    "    select *\n",
    "    from image_parsed_raw\n",
    "    where image_filepath like '%person374_bacteria_1710.jpeg%';\n",
    "''').collect()"
   ]
  },
  {
   "cell_type": "code",
   "execution_count": 9,
   "id": "e0f6fc18",
   "metadata": {},
   "outputs": [],
   "source": [
    "import pandas as pd\n",
    "\n",
    "list_1 = images_to_pddf('../../data/train')\n",
    "list_2 = images_to_pddf('../../data/test')\n",
    "list_3 = images_to_pddf('../../data/val')\n",
    "\n",
    "images_parsed_list = list_1 + list_2 + list_3"
   ]
  },
  {
   "cell_type": "code",
   "execution_count": 12,
   "id": "546b747c",
   "metadata": {},
   "outputs": [],
   "source": [
    "# The parsed images are then stored in a table\n",
    "\n",
    "images_parsed_pddf = pd.DataFrame(images_parsed_list\n",
    "    , columns =['image_filepath', 'class_label','class_num','status','parsing_exception'\n",
    "        ,'image_array' ,'image_array_shape_0' ,'image_array_shape_1' \n",
    "        ,'normalized_image_array' ,'resized_feature'])\n",
    "\n",
    "images_parsed_pddf.columns = map(lambda x: str(x).upper(), images_parsed_pddf.columns)\n",
    "\n",
    "tbl_schema = StructType([\n",
    "    StructField('IMAGE_FILEPATH', StringType())\n",
    "    ,StructField('CLASS_LABEL', StringType())\n",
    "    ,StructField('CLASS_NUM', IntegerType())\n",
    "    ,StructField('STATUS', BooleanType())\n",
    "    ,StructField('PARSING_EXCEPTION', StringType())\n",
    "    ,StructField('IMAGE_ARRAY', VariantType())\n",
    "    ,StructField('IMAGE_ARRAY_SHAPE_0', IntegerType())\n",
    "    ,StructField('IMAGE_ARRAY_SHAPE_1', IntegerType())\n",
    "    ,StructField('NORMALIZED_IMAGE_ARRAY', VariantType())\n",
    "    ,StructField('RESIZED_FEATURE', VariantType())\n",
    "])\n",
    "\n",
    "img_table = f'''{config['APP_DB']['database']}.public.images_parsed'''\n",
    "\n",
    "df = sp_session.create_dataframe(images_parsed_pddf\n",
    "    , schema=tbl_schema)\n",
    "df.write.save_as_table(img_table, mode=\"overwrite\" ,table_type='transient')"
   ]
  },
  {
   "cell_type": "code",
   "execution_count": 4,
   "id": "52a1cc26",
   "metadata": {},
   "outputs": [
    {
     "data": {
      "text/html": [
       "<div>\n",
       "<style scoped>\n",
       "    .dataframe tbody tr th:only-of-type {\n",
       "        vertical-align: middle;\n",
       "    }\n",
       "\n",
       "    .dataframe tbody tr th {\n",
       "        vertical-align: top;\n",
       "    }\n",
       "\n",
       "    .dataframe thead th {\n",
       "        text-align: right;\n",
       "    }\n",
       "</style>\n",
       "<table border=\"1\" class=\"dataframe\">\n",
       "  <thead>\n",
       "    <tr style=\"text-align: right;\">\n",
       "      <th></th>\n",
       "      <th>IMAGE_FILEPATH</th>\n",
       "      <th>CLASS_LABEL</th>\n",
       "      <th>CLASS_NUM</th>\n",
       "      <th>STATUS</th>\n",
       "      <th>PARSING_EXCEPTION</th>\n",
       "      <th>IMAGE_ARRAY</th>\n",
       "      <th>IMAGE_ARRAY_SHAPE_0</th>\n",
       "      <th>IMAGE_ARRAY_SHAPE_1</th>\n",
       "      <th>NORMALIZED_IMAGE_ARRAY</th>\n",
       "      <th>RESIZED_FEATURE</th>\n",
       "    </tr>\n",
       "  </thead>\n",
       "  <tbody>\n",
       "    <tr>\n",
       "      <th>0</th>\n",
       "      <td>../../data/val/PNEUMONIA/person354_bacteria_16...</td>\n",
       "      <td>PNEUMONIA</td>\n",
       "      <td>0</td>\n",
       "      <td>True</td>\n",
       "      <td></td>\n",
       "      <td>[\\n  217,\\n  217,\\n  210,\\n  204,\\n  204,\\n  2...</td>\n",
       "      <td>150</td>\n",
       "      <td>150</td>\n",
       "      <td>[\\n  8.509803921568627e-01,\\n  8.5098039215686...</td>\n",
       "      <td>[\\n  8.509803921568627e-01,\\n  8.5098039215686...</td>\n",
       "    </tr>\n",
       "    <tr>\n",
       "      <th>1</th>\n",
       "      <td>../../data/val/PNEUMONIA/person1880_bacteria_4...</td>\n",
       "      <td>PNEUMONIA</td>\n",
       "      <td>0</td>\n",
       "      <td>True</td>\n",
       "      <td></td>\n",
       "      <td>[\\n  0,\\n  0,\\n  0,\\n  1,\\n  3,\\n  10,\\n  23,\\...</td>\n",
       "      <td>150</td>\n",
       "      <td>150</td>\n",
       "      <td>[\\n  0.000000000000000e+00,\\n  0.0000000000000...</td>\n",
       "      <td>[\\n  0.000000000000000e+00,\\n  0.0000000000000...</td>\n",
       "    </tr>\n",
       "    <tr>\n",
       "      <th>2</th>\n",
       "      <td>../../data/val/PNEUMONIA/person324_virus_658.jpeg</td>\n",
       "      <td>PNEUMONIA</td>\n",
       "      <td>0</td>\n",
       "      <td>True</td>\n",
       "      <td></td>\n",
       "      <td>[\\n  3,\\n  8,\\n  11,\\n  23,\\n  33,\\n  38,\\n  2...</td>\n",
       "      <td>150</td>\n",
       "      <td>150</td>\n",
       "      <td>[\\n  1.176470588235294e-02,\\n  3.1372549019607...</td>\n",
       "      <td>[\\n  1.176470588235294e-02,\\n  3.1372549019607...</td>\n",
       "    </tr>\n",
       "    <tr>\n",
       "      <th>3</th>\n",
       "      <td>../../data/val/PNEUMONIA/person1817_bacteria_4...</td>\n",
       "      <td>PNEUMONIA</td>\n",
       "      <td>0</td>\n",
       "      <td>True</td>\n",
       "      <td></td>\n",
       "      <td>[\\n  0,\\n  0,\\n  3,\\n  6,\\n  10,\\n  13,\\n  24,...</td>\n",
       "      <td>150</td>\n",
       "      <td>150</td>\n",
       "      <td>[\\n  0.000000000000000e+00,\\n  0.0000000000000...</td>\n",
       "      <td>[\\n  0.000000000000000e+00,\\n  0.0000000000000...</td>\n",
       "    </tr>\n",
       "    <tr>\n",
       "      <th>4</th>\n",
       "      <td>../../data/val/PNEUMONIA/person319_bacteria_14...</td>\n",
       "      <td>PNEUMONIA</td>\n",
       "      <td>0</td>\n",
       "      <td>True</td>\n",
       "      <td></td>\n",
       "      <td>[\\n  56,\\n  51,\\n  63,\\n  45,\\n  53,\\n  54,\\n ...</td>\n",
       "      <td>150</td>\n",
       "      <td>150</td>\n",
       "      <td>[\\n  2.196078431372549e-01,\\n  2.0000000000000...</td>\n",
       "      <td>[\\n  2.196078431372549e-01,\\n  2.0000000000000...</td>\n",
       "    </tr>\n",
       "  </tbody>\n",
       "</table>\n",
       "</div>"
      ],
      "text/plain": [
       "                                      IMAGE_FILEPATH CLASS_LABEL  CLASS_NUM  \\\n",
       "0  ../../data/val/PNEUMONIA/person354_bacteria_16...   PNEUMONIA          0   \n",
       "1  ../../data/val/PNEUMONIA/person1880_bacteria_4...   PNEUMONIA          0   \n",
       "2  ../../data/val/PNEUMONIA/person324_virus_658.jpeg   PNEUMONIA          0   \n",
       "3  ../../data/val/PNEUMONIA/person1817_bacteria_4...   PNEUMONIA          0   \n",
       "4  ../../data/val/PNEUMONIA/person319_bacteria_14...   PNEUMONIA          0   \n",
       "\n",
       "   STATUS PARSING_EXCEPTION  \\\n",
       "0    True                     \n",
       "1    True                     \n",
       "2    True                     \n",
       "3    True                     \n",
       "4    True                     \n",
       "\n",
       "                                         IMAGE_ARRAY  IMAGE_ARRAY_SHAPE_0  \\\n",
       "0  [\\n  217,\\n  217,\\n  210,\\n  204,\\n  204,\\n  2...                  150   \n",
       "1  [\\n  0,\\n  0,\\n  0,\\n  1,\\n  3,\\n  10,\\n  23,\\...                  150   \n",
       "2  [\\n  3,\\n  8,\\n  11,\\n  23,\\n  33,\\n  38,\\n  2...                  150   \n",
       "3  [\\n  0,\\n  0,\\n  3,\\n  6,\\n  10,\\n  13,\\n  24,...                  150   \n",
       "4  [\\n  56,\\n  51,\\n  63,\\n  45,\\n  53,\\n  54,\\n ...                  150   \n",
       "\n",
       "   IMAGE_ARRAY_SHAPE_1                             NORMALIZED_IMAGE_ARRAY  \\\n",
       "0                  150  [\\n  8.509803921568627e-01,\\n  8.5098039215686...   \n",
       "1                  150  [\\n  0.000000000000000e+00,\\n  0.0000000000000...   \n",
       "2                  150  [\\n  1.176470588235294e-02,\\n  3.1372549019607...   \n",
       "3                  150  [\\n  0.000000000000000e+00,\\n  0.0000000000000...   \n",
       "4                  150  [\\n  2.196078431372549e-01,\\n  2.0000000000000...   \n",
       "\n",
       "                                     RESIZED_FEATURE  \n",
       "0  [\\n  8.509803921568627e-01,\\n  8.5098039215686...  \n",
       "1  [\\n  0.000000000000000e+00,\\n  0.0000000000000...  \n",
       "2  [\\n  1.176470588235294e-02,\\n  3.1372549019607...  \n",
       "3  [\\n  0.000000000000000e+00,\\n  0.0000000000000...  \n",
       "4  [\\n  2.196078431372549e-01,\\n  2.0000000000000...  "
      ]
     },
     "metadata": {},
     "output_type": "display_data"
    }
   ],
   "source": [
    "img_table = f'''{config['APP_DB']['database']}.public.images_parsed'''\n",
    "\n",
    "df = sp_session.table(img_table).limit(5).to_pandas()\n",
    "display(df)"
   ]
  },
  {
   "cell_type": "markdown",
   "id": "1d6ffbf6",
   "metadata": {},
   "source": [
    "--- \n",
    "### Closeout\n",
    "\n",
    "    With that we are finished this section of the demo setup"
   ]
  },
  {
   "cell_type": "code",
   "execution_count": null,
   "id": "192cf880",
   "metadata": {},
   "outputs": [
    {
     "name": "stdout",
     "output_type": "stream",
     "text": [
      "Finished!!!\n"
     ]
    }
   ],
   "source": [
    "sp_session.close()\n",
    "print('Finished!!!')"
   ]
  }
 ],
 "metadata": {
  "kernelspec": {
   "display_name": "pysnowpark",
   "language": "python",
   "name": "python3"
  },
  "language_info": {
   "codemirror_mode": {
    "name": "ipython",
    "version": 3
   },
   "file_extension": ".py",
   "mimetype": "text/x-python",
   "name": "python",
   "nbconvert_exporter": "python",
   "pygments_lexer": "ipython3",
   "version": "3.8.15 (default, Nov 24 2022, 09:04:07) \n[Clang 14.0.6 ]"
  },
  "vscode": {
   "interpreter": {
    "hash": "f66ab0cca93a35542579a5cebff8d4c56cda5b2ee20dfe6b405f4dd558333bf9"
   }
  }
 },
 "nbformat": 4,
 "nbformat_minor": 5
}
