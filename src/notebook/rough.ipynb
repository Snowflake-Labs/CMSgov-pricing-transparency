{
 "cells": [
  {
   "attachments": {},
   "cell_type": "markdown",
   "id": "e4022bce",
   "metadata": {},
   "source": [
    "# Rough"
   ]
  },
  {
   "cell_type": "code",
   "execution_count": 2,
   "id": "f8f142c9",
   "metadata": {},
   "outputs": [
    {
     "data": {
      "text/markdown": [
       "### Initialization"
      ],
      "text/plain": [
       "<IPython.core.display.Markdown object>"
      ]
     },
     "metadata": {},
     "output_type": "display_data"
    },
    {
     "data": {
      "text/html": [
       "<div>\n",
       "<style scoped>\n",
       "    .dataframe tbody tr th:only-of-type {\n",
       "        vertical-align: middle;\n",
       "    }\n",
       "\n",
       "    .dataframe tbody tr th {\n",
       "        vertical-align: top;\n",
       "    }\n",
       "\n",
       "    .dataframe thead th {\n",
       "        text-align: right;\n",
       "    }\n",
       "</style>\n",
       "<table border=\"1\" class=\"dataframe\">\n",
       "  <thead>\n",
       "    <tr style=\"text-align: right;\">\n",
       "      <th></th>\n",
       "      <th>CURRENT_USER()</th>\n",
       "      <th>CURRENT_ROLE()</th>\n",
       "      <th>CURRENT_DATABASE()</th>\n",
       "      <th>CURRENT_SCHEMA()</th>\n",
       "    </tr>\n",
       "  </thead>\n",
       "  <tbody>\n",
       "    <tr>\n",
       "      <th>0</th>\n",
       "      <td>VSEKAR</td>\n",
       "      <td>PUBLIC</td>\n",
       "      <td>INDSOL_CMSGOV_PRICING</td>\n",
       "      <td>PUBLIC</td>\n",
       "    </tr>\n",
       "  </tbody>\n",
       "</table>\n",
       "</div>"
      ],
      "text/plain": [
       "  CURRENT_USER() CURRENT_ROLE()     CURRENT_DATABASE() CURRENT_SCHEMA()\n",
       "0         VSEKAR         PUBLIC  INDSOL_CMSGOV_PRICING           PUBLIC"
      ]
     },
     "metadata": {},
     "output_type": "display_data"
    }
   ],
   "source": [
    "# Initialization block\n",
    "from IPython.display import display, HTML, Image , Markdown\n",
    "from snowflake.snowpark.session import Session\n",
    "import snowflake.snowpark.types as T\n",
    "import snowflake.snowpark.functions as F\n",
    "import os ,configparser ,json ,logging\n",
    "\n",
    "# Import the commonly defined utility scripts using\n",
    "# dynamic path include\n",
    "import sys\n",
    "sys.path.append('../python/lutils')\n",
    "import sflk_base as L\n",
    "\n",
    "display(Markdown(\"### Initialization\"))\n",
    "logging.basicConfig(stream=sys.stdout, level=logging.ERROR)\n",
    "\n",
    "# Source various helper functions\n",
    "%run ./scripts/notebook_helpers.py\n",
    "\n",
    "# Define the project home directory, this is used for locating the config.ini file\n",
    "PROJECT_HOME_DIR = '../../'\n",
    "config = L.get_config(PROJECT_HOME_DIR)\n",
    "sp_session = L.connect_to_snowflake(PROJECT_HOME_DIR)\n",
    "\n",
    "if(sp_session == None):\n",
    "    raise Exception(f'Unable to connect to snowflake. Validate connection information ')\n",
    "\n",
    "sp_session.use_role(f'''{config['APP_DB']['role']}''')\n",
    "sp_session.use_schema(f'''{config['APP_DB']['database']}.{config['APP_DB']['schema']}''')\n",
    "sp_session.use_warehouse(f'''{config['SNOW_CONN']['warehouse']}''')\n",
    "\n",
    "df = sp_session.sql('select current_user() ,current_role() ,current_database() ,current_schema();').to_pandas()\n",
    "display(df)"
   ]
  },
  {
   "cell_type": "code",
   "execution_count": 3,
   "id": "c2909705",
   "metadata": {},
   "outputs": [],
   "source": [
    "import pandas as pd\n",
    "import os ,re\n",
    "\n",
    "pd.set_option('display.max_colwidth', None)\n",
    "\n",
    "def get_basename_of_datafile(p_datafile:str) -> str:\n",
    "    base = os.path.basename(p_datafile)\n",
    "    fl_base = os.path.splitext(base)\n",
    "    return fl_base[0]\n",
    "\n",
    "def get_cleansed_file_basename(p_datafile):\n",
    "    fl_basename = get_basename_of_datafile(p_datafile)\n",
    "    # Replace all non alphanumeric characters with _\n",
    "    fl_name = re.sub('[^0-9a-zA-Z]+', '_', fl_basename)\n",
    "    return fl_name\n",
    "\n",
    "# INPUT_DATA_STAGE = config['APP_DB']['ext_stage']\n",
    "INPUT_DATA_STAGE = 'data_stg'\n",
    "DATA_STAGE_FOLDER = config['APP_DB']['folder_data']\n",
    "\n",
    "DATA_FILE = '2022_10_01_priority_health_HMO_in-network-rates.zip'\n",
    "DATA_FILE = 'reduced_sample_data.json'\n",
    "\n",
    "DATA_FILE_BASENAME = get_basename_of_datafile(DATA_FILE)\n",
    "DATA_FILE_BASENAME_CLEANSED = get_cleansed_file_basename(DATA_FILE)\n",
    "\n",
    "TARGET_DATA_STAGE = config['APP_DB']['ext_stage']\n",
    "TARGET_FOLDER = config['APP_DB']['folder_parsed']"
   ]
  },
  {
   "cell_type": "code",
   "execution_count": 9,
   "id": "4f908941",
   "metadata": {},
   "outputs": [
    {
     "name": "stdout",
     "output_type": "stream",
     "text": [
      "reduced_sample_data.json\n",
      "2022_10_01_priority_health_HMO_in-network-rates.zip\n"
     ]
    }
   ],
   "source": [
    "df = sp_session.table('in_network_rates_file_header').select('data_file' ,'INSERTED_AT').sort(F.col('INSERTED_AT'), ascending=False).distinct()\n",
    "for r in df.to_local_iterator():\n",
    "    print(r['DATA_FILE'])"
   ]
  },
  {
   "cell_type": "code",
   "execution_count": null,
   "id": "f8769a89",
   "metadata": {},
   "outputs": [],
   "source": [
    "display(Markdown(\"The table segment_task_execution_status contains the audit of execution for the above stored procedures\"))\n",
    "\n",
    "df = (sp_session.table('segment_task_execution_status')\n",
    "        .filter(F.col('DATA_FILE') == F.lit(DATA_FILE))\n",
    "        .sample(n=5)\n",
    "        .to_pandas())\n",
    "\n",
    "display(df)"
   ]
  },
  {
   "cell_type": "markdown",
   "id": "1d6ffbf6",
   "metadata": {},
   "source": [
    "--- \n",
    "### Closeout\n",
    "\n",
    "    With that we are finished this section of the demo setup"
   ]
  },
  {
   "cell_type": "code",
   "execution_count": null,
   "id": "192cf880",
   "metadata": {},
   "outputs": [],
   "source": [
    "sp_session.close()\n",
    "print('Finished!!!')"
   ]
  }
 ],
 "metadata": {
  "kernelspec": {
   "display_name": "pysnowpark",
   "language": "python",
   "name": "python3"
  },
  "language_info": {
   "codemirror_mode": {
    "name": "ipython",
    "version": 3
   },
   "file_extension": ".py",
   "mimetype": "text/x-python",
   "name": "python",
   "nbconvert_exporter": "python",
   "pygments_lexer": "ipython3",
   "version": "3.8.15"
  },
  "vscode": {
   "interpreter": {
    "hash": "f66ab0cca93a35542579a5cebff8d4c56cda5b2ee20dfe6b405f4dd558333bf9"
   }
  }
 },
 "nbformat": 4,
 "nbformat_minor": 5
}
