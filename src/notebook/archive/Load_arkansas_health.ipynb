{
 "cells": [
  {
   "attachments": {},
   "cell_type": "markdown",
   "id": "e4022bce",
   "metadata": {},
   "source": [
    "# Load Demo with DAG for ARKANSAS Health"
   ]
  },
  {
   "cell_type": "code",
   "execution_count": 18,
   "id": "f8f142c9",
   "metadata": {},
   "outputs": [
    {
     "data": {
      "text/markdown": [
       "### Initialization"
      ],
      "text/plain": [
       "<IPython.core.display.Markdown object>"
      ]
     },
     "metadata": {},
     "output_type": "display_data"
    },
    {
     "data": {
      "text/html": [
       "<div>\n",
       "<style scoped>\n",
       "    .dataframe tbody tr th:only-of-type {\n",
       "        vertical-align: middle;\n",
       "    }\n",
       "\n",
       "    .dataframe tbody tr th {\n",
       "        vertical-align: top;\n",
       "    }\n",
       "\n",
       "    .dataframe thead th {\n",
       "        text-align: right;\n",
       "    }\n",
       "</style>\n",
       "<table border=\"1\" class=\"dataframe\">\n",
       "  <thead>\n",
       "    <tr style=\"text-align: right;\">\n",
       "      <th></th>\n",
       "      <th>CURRENT_USER()</th>\n",
       "      <th>CURRENT_ROLE()</th>\n",
       "      <th>CURRENT_DATABASE()</th>\n",
       "      <th>CURRENT_SCHEMA()</th>\n",
       "    </tr>\n",
       "  </thead>\n",
       "  <tbody>\n",
       "    <tr>\n",
       "      <th>0</th>\n",
       "      <td>SOLNDEMOUSR</td>\n",
       "      <td>PUBLIC</td>\n",
       "      <td>INDSOL_CMSGOV_PRICING</td>\n",
       "      <td>PUBLIC</td>\n",
       "    </tr>\n",
       "  </tbody>\n",
       "</table>\n",
       "</div>"
      ],
      "text/plain": [
       "  CURRENT_USER() CURRENT_ROLE()     CURRENT_DATABASE() CURRENT_SCHEMA()\n",
       "0    SOLNDEMOUSR         PUBLIC  INDSOL_CMSGOV_PRICING           PUBLIC"
      ]
     },
     "metadata": {},
     "output_type": "display_data"
    }
   ],
   "source": [
    "# Initialization block\n",
    "from IPython.display import display, HTML, Image , Markdown\n",
    "from snowflake.snowpark.session import Session\n",
    "import snowflake.snowpark.types as T\n",
    "import snowflake.snowpark.functions as F\n",
    "import os ,configparser ,json ,logging\n",
    "\n",
    "# Import the commonly defined utility scripts using\n",
    "# dynamic path include\n",
    "import sys\n",
    "sys.path.append('../python/lutils')\n",
    "import sflk_base as L\n",
    "\n",
    "display(Markdown(\"### Initialization\"))\n",
    "logging.basicConfig(stream=sys.stdout, level=logging.ERROR)\n",
    "\n",
    "# Source various helper functions\n",
    "%run ./scripts/notebook_helpers.py\n",
    "\n",
    "# Define the project home directory, this is used for locating the config.ini file\n",
    "PROJECT_HOME_DIR = '../../'\n",
    "config = L.get_config(PROJECT_HOME_DIR)\n",
    "sp_session = L.connect_to_snowflake(PROJECT_HOME_DIR)\n",
    "\n",
    "if(sp_session == None):\n",
    "    raise Exception(f'Unable to connect to snowflake. Validate connection information ')\n",
    "\n",
    "sp_session.use_role(f'''{config['APP_DB']['role']}''')\n",
    "sp_session.use_schema(f'''{config['APP_DB']['database']}.{config['APP_DB']['schema']}''')\n",
    "sp_session.use_warehouse(f'''{config['SNOW_CONN']['warehouse']}''')\n",
    "\n",
    "df = sp_session.sql('select current_user() ,current_role() ,current_database() ,current_schema();').to_pandas()\n",
    "display(df)"
   ]
  },
  {
   "cell_type": "code",
   "execution_count": 19,
   "id": "e4061228",
   "metadata": {},
   "outputs": [],
   "source": [
    "\n",
    "# Create warehouses for parallelism\n",
    "# whs = []\n",
    "# sp_session.sql('use role accountadmin;').collect()\n",
    "# for idx in range(11):\n",
    "#     wh_name = f'INDSOL_PRICE_TRANS_TASK_{idx}_WH'\n",
    "#     sql_stmt = f'''\n",
    "#         create or replace warehouse {wh_name} with\n",
    "#             WAREHOUSE_SIZE = 'MEDIUM'\n",
    "#             AUTO_RESUME = TRUE\n",
    "#             AUTO_SUSPEND = 300\n",
    "#             COMMENT = 'warehouse created as part of pricing transperancy industry solution usecase.'\n",
    "#         ;\n",
    "#     '''\n",
    "#     sp_session.sql(sql_stmt).collect()\n",
    "#     sp_session.sql(f'grant ALL PRIVILEGES on warehouse {wh_name} to role public;').collect()\n",
    "#     whs.append(wh_name)\n",
    "# print(','.join(whs))\n",
    "# sp_session.use_role(f'''{config['APP_DB']['role']}''')"
   ]
  },
  {
   "cell_type": "code",
   "execution_count": 20,
   "id": "90cd9156",
   "metadata": {},
   "outputs": [],
   "source": [
    "# Parameter initialization\n",
    "\n",
    "import pandas as pd\n",
    "import os\n",
    "from datetime import datetime\n",
    "from datetime import timedelta\n",
    "import time\n",
    "import re\n",
    "\n",
    "pd.set_option('display.max_colwidth', None)\n",
    "\n",
    "def get_basename_of_datafile(p_datafile:str) -> str:\n",
    "    base = os.path.basename(p_datafile)\n",
    "    fl_base = os.path.splitext(base)\n",
    "    return fl_base[0]\n",
    "\n",
    "def get_cleansed_file_basename(p_datafile):\n",
    "    fl_basename = get_basename_of_datafile(p_datafile)\n",
    "    # Replace all non alphanumeric characters with _\n",
    "    fl_name = re.sub('[^0-9a-zA-Z]+', '_', fl_basename)\n",
    "    return fl_name\n",
    "\n",
    "INPUT_DATA_STAGE = config['APP_DB']['ext_stage']\n",
    "# INPUT_DATA_STAGE = 'data_stg'\n",
    "DATA_STAGE_FOLDER = config['APP_DB']['folder_data']\n",
    "\n",
    "# DATA_FILE = '2022_10_01_priority_health_HMO_in-network-rates.zip'\n",
    "# DATA_FILE = 'reduced_sample_data.json'\n",
    "# DATA_FILE = '2022-12-01_cigna-health-life-insurance-company_national-ppo_in-network-rates.json.gz'\n",
    "# DATA_FILE = '2023-01-01_UMR--Inc-_Third-Party-Administrator_ARKANSAS-HEART-HOSPITAL_HAHH_in-network-rates.json.gz'\n",
    "DATA_FILE = '2023-02-01_KFHP_SC-COMMERCIAL_in-network-rates.zip'\n",
    "\n",
    "DATA_FILE_BASENAME = get_basename_of_datafile(DATA_FILE)\n",
    "DATA_FILE_BASENAME_CLEANSED = get_cleansed_file_basename(DATA_FILE)\n",
    "\n",
    "TARGET_DATA_STAGE = config['APP_DB']['ext_stage']\n",
    "TARGET_FOLDER = config['APP_DB']['folder_parsed']\n",
    "\n",
    "SEGMENTS_PER_TASK = 15000\n",
    "\n",
    "warehouses = config['SNOW_CONN']['warehouse']\n",
    "warehouses = 'INDSOL_PRICE_TRANS_TASK_0_WH,INDSOL_PRICE_TRANS_TASK_1_WH,INDSOL_PRICE_TRANS_TASK_2_WH,INDSOL_PRICE_TRANS_TASK_3_WH,INDSOL_PRICE_TRANS_TASK_4_WH,INDSOL_PRICE_TRANS_TASK_5_WH,INDSOL_PRICE_TRANS_TASK_6_WH,INDSOL_PRICE_TRANS_TASK_7_WH,INDSOL_PRICE_TRANS_TASK_8_WH,INDSOL_PRICE_TRANS_TASK_9_WH,INDSOL_PRICE_TRANS_TASK_10_WH'\n",
    "\n",
    "# XSMALL | SMALL | MEDIUM | LARGE | XLARGE | XXLARGE | XXXLARGE | X4LARGE | X5LARGE | X6LARGE\n",
    "warehouse_size = 'XXLARGE'\n"
   ]
  },
  {
   "cell_type": "code",
   "execution_count": 21,
   "id": "4f908941",
   "metadata": {},
   "outputs": [
    {
     "data": {
      "text/markdown": [
       "### Cleanup block"
      ],
      "text/plain": [
       "<IPython.core.display.Markdown object>"
      ]
     },
     "metadata": {},
     "output_type": "display_data"
    },
    {
     "name": "stdout",
     "output_type": "stream",
     "text": [
      " truncating tables ...\n",
      " cleaning up files in external stage under path raw_parsed_v3/2023-02-01_KFHP_SC-COMMERCIAL_in-network-rates/ ...\n"
     ]
    }
   ],
   "source": [
    "\n",
    "display(Markdown(\"### Cleanup block\"))\n",
    "# We will cleanup specific resources and artifacts from possible previous runs.\n",
    "\n",
    "stmts = [\n",
    "    f''' delete from segment_task_execution_status where data_file = '{DATA_FILE}'; '''\n",
    "    ,f''' delete from task_to_segmentids where data_file = '{DATA_FILE}'; '''\n",
    "    ,f''' delete from in_network_rates_file_header where data_file = '{DATA_FILE}'; '''\n",
    "    ,f''' delete from in_network_rates_segment_header where data_file = '{DATA_FILE}'; '''\n",
    "    ,f''' alter stage {INPUT_DATA_STAGE} refresh; '''\n",
    "]    \n",
    "    \n",
    "print(' truncating tables ...')\n",
    "for stmt in stmts:\n",
    "    sp_session.sql(stmt).collect()\n",
    "\n",
    "print(f''' cleaning up files in external stage under path {TARGET_FOLDER}/{DATA_FILE_BASENAME}/ ...''')\n",
    "\n",
    "stmt = f''' select relative_path from directory(@{TARGET_DATA_STAGE}) where relative_path like '%{DATA_STAGE_FOLDER}/{DATA_FILE_BASENAME}/%'; '''\n",
    "files = sp_session.sql(stmt).collect()\n",
    "for r in files:\n",
    "    stmt = f''' remove @{TARGET_DATA_STAGE}/{r['RELATIVE_PATH']}; '''\n",
    "    sp_session.sql(stmt).collect()"
   ]
  },
  {
   "cell_type": "code",
   "execution_count": 22,
   "id": "e2e44efb",
   "metadata": {},
   "outputs": [
    {
     "name": "stdout",
     "output_type": "stream",
     "text": [
      "Cleaning dags for datafile: 2023_02_01_KFHP_SC_COMMERCIAL_in_network_rates\n"
     ]
    }
   ],
   "source": [
    "# Cautious enablement, used during development for testing\n",
    "print(f'Cleaning dags for datafile: {DATA_FILE_BASENAME_CLEANSED}')\n",
    "sp_session.call('delete_dag_for_datafile',DATA_FILE_BASENAME_CLEANSED ,False);"
   ]
  },
  {
   "cell_type": "code",
   "execution_count": 23,
   "id": "d89f1e89",
   "metadata": {},
   "outputs": [
    {
     "name": "stdout",
     "output_type": "stream",
     "text": [
      "No of warehouses: 11\n"
     ]
    }
   ],
   "source": [
    "# reset the warehouse size to desired\n",
    "\n",
    "print(f'''No of warehouses: {len(warehouses.split(','))}''')\n",
    "for wh in warehouses.split(','):\n",
    "    sp_session.sql(f''' alter warehouse {wh} set max_concurrency_level = 8; ''').collect()\n",
    "    sp_session.sql(f''' alter warehouse {wh} set warehouse_size = {warehouse_size}; ''').collect()\n"
   ]
  },
  {
   "attachments": {},
   "cell_type": "markdown",
   "id": "88e7dbf8",
   "metadata": {},
   "source": [
    "---\n",
    "## Data loading\n",
    "We will be loading the segments and file header using DAG. "
   ]
  },
  {
   "cell_type": "code",
   "execution_count": 24,
   "id": "f2ebc241",
   "metadata": {},
   "outputs": [
    {
     "name": "stdout",
     "output_type": "stream",
     "text": [
      " Status of execution\n",
      "{\n",
      "  \"data_file\": \"2023-02-01_KFHP_SC-COMMERCIAL_in-network-rates.zip\",\n",
      "  \"root_task\": \"DAG_ROOT_2023_02_01_KFHP_SC_COMMERCIAL_in_network_rates\",\n",
      "  \"status\": true,\n",
      "  \"task_matrix_shape\": [\n",
      "    10,\n",
      "    8\n",
      "  ],\n",
      "  \"term_task\": \"TERM_tsk_2023_02_01_KFHP_SC_COMMERCIAL_in_network_rates\"\n",
      "}\n"
     ]
    }
   ],
   "source": [
    "# we build out the DAG\n",
    "df = sp_session.call('in_network_rates_dagbuilder_matrix' ,f'{INPUT_DATA_STAGE}/{DATA_STAGE_FOLDER}' ,DATA_FILE \n",
    "    ,f\"@{TARGET_DATA_STAGE}/{TARGET_FOLDER}\" ,SEGMENTS_PER_TASK ,warehouses ,10 ,8)\n",
    "\n",
    "sp_session.sql(f''' alter stage {TARGET_DATA_STAGE} refresh; ''').collect()\n",
    "print(' Status of execution')\n",
    "print(df)"
   ]
  },
  {
   "attachments": {},
   "cell_type": "markdown",
   "id": "7b494c8a",
   "metadata": {},
   "source": [
    "The above operation results in defining the DAG in Snowflake like here. The task names are specific to the data file being parsed.\n",
    "![](../../doc/soln_images/task_dags.png)"
   ]
  },
  {
   "cell_type": "code",
   "execution_count": 25,
   "id": "a701da57",
   "metadata": {},
   "outputs": [
    {
     "name": "stdout",
     "output_type": "stream",
     "text": [
      "Started at: 12:48:44\n",
      " execute task DAG_ROOT_2023_02_01_KFHP_SC_COMMERCIAL_in_network_rates; \n",
      "Ended at: 12:48:44\n",
      "Elapsed: 0:00:00.938872\n"
     ]
    }
   ],
   "source": [
    "# Next we invoke the DAG\n",
    "\n",
    "start_time = time.time()\n",
    "print(f'Started at: {datetime.now().strftime(\"%H:%M:%S\")}')\n",
    "\n",
    "sql_stmts = [\n",
    "    f''' execute task DAG_ROOT_{DATA_FILE_BASENAME_CLEANSED}; '''\n",
    "]\n",
    "for stmt in sql_stmts:\n",
    "    print(stmt)\n",
    "    sp_session.sql(stmt).collect()\n",
    "\n",
    "end_time = time.time()\n",
    "print(f'Ended at: {datetime.now().strftime(\"%H:%M:%S\")}')\n",
    "\n",
    "elapsed_time = end_time - start_time\n",
    "elapsed = str(timedelta(seconds=elapsed_time))\n",
    "print(f'Elapsed: {elapsed}')"
   ]
  },
  {
   "attachments": {},
   "cell_type": "markdown",
   "id": "e7465540",
   "metadata": {},
   "source": [
    "---\n",
    "## Inspection"
   ]
  },
  {
   "cell_type": "code",
   "execution_count": 26,
   "id": "266e8c8e",
   "metadata": {},
   "outputs": [
    {
     "name": "stdout",
     "output_type": "stream",
     "text": [
      "Tasks to segments\n"
     ]
    },
    {
     "data": {
      "text/html": [
       "<div>\n",
       "<style scoped>\n",
       "    .dataframe tbody tr th:only-of-type {\n",
       "        vertical-align: middle;\n",
       "    }\n",
       "\n",
       "    .dataframe tbody tr th {\n",
       "        vertical-align: top;\n",
       "    }\n",
       "\n",
       "    .dataframe thead th {\n",
       "        text-align: right;\n",
       "    }\n",
       "</style>\n",
       "<table border=\"1\" class=\"dataframe\">\n",
       "  <thead>\n",
       "    <tr style=\"text-align: right;\">\n",
       "      <th></th>\n",
       "      <th>BUCKET</th>\n",
       "      <th>DATA_FILE</th>\n",
       "      <th>ASSIGNED_TASK_NAME</th>\n",
       "      <th>FROM_IDX</th>\n",
       "      <th>TO_IDX</th>\n",
       "      <th>SEGMENTS_RECORD_COUNT</th>\n",
       "      <th>INSERTED_AT</th>\n",
       "    </tr>\n",
       "  </thead>\n",
       "  <tbody>\n",
       "    <tr>\n",
       "      <th>0</th>\n",
       "      <td>41</td>\n",
       "      <td>2023-02-01_KFHP_SC-COMMERCIAL_in-network-rates.zip</td>\n",
       "      <td>T_2023_02_01_KFHP_SC_COMMERCIAL_in_network_rates_615001_630000</td>\n",
       "      <td>615001</td>\n",
       "      <td>630000</td>\n",
       "      <td>14999</td>\n",
       "      <td>2023-02-27 09:45:33.494</td>\n",
       "    </tr>\n",
       "    <tr>\n",
       "      <th>1</th>\n",
       "      <td>8</td>\n",
       "      <td>2023-02-01_KFHP_SC-COMMERCIAL_in-network-rates.zip</td>\n",
       "      <td>T_2023_02_01_KFHP_SC_COMMERCIAL_in_network_rates_120001_135000</td>\n",
       "      <td>120001</td>\n",
       "      <td>135000</td>\n",
       "      <td>14999</td>\n",
       "      <td>2023-02-27 09:45:33.494</td>\n",
       "    </tr>\n",
       "    <tr>\n",
       "      <th>2</th>\n",
       "      <td>48</td>\n",
       "      <td>2023-02-01_KFHP_SC-COMMERCIAL_in-network-rates.zip</td>\n",
       "      <td>T_2023_02_01_KFHP_SC_COMMERCIAL_in_network_rates_720001_735000</td>\n",
       "      <td>720001</td>\n",
       "      <td>735000</td>\n",
       "      <td>14999</td>\n",
       "      <td>2023-02-27 09:45:33.494</td>\n",
       "    </tr>\n",
       "    <tr>\n",
       "      <th>3</th>\n",
       "      <td>74</td>\n",
       "      <td>2023-02-01_KFHP_SC-COMMERCIAL_in-network-rates.zip</td>\n",
       "      <td>T_2023_02_01_KFHP_SC_COMMERCIAL_in_network_rates_1110001_999999999</td>\n",
       "      <td>1110001</td>\n",
       "      <td>999999999</td>\n",
       "      <td>998889998</td>\n",
       "      <td>2023-02-27 09:45:33.494</td>\n",
       "    </tr>\n",
       "    <tr>\n",
       "      <th>4</th>\n",
       "      <td>55</td>\n",
       "      <td>2023-02-01_KFHP_SC-COMMERCIAL_in-network-rates.zip</td>\n",
       "      <td>T_2023_02_01_KFHP_SC_COMMERCIAL_in_network_rates_825001_840000</td>\n",
       "      <td>825001</td>\n",
       "      <td>840000</td>\n",
       "      <td>14999</td>\n",
       "      <td>2023-02-27 09:45:33.494</td>\n",
       "    </tr>\n",
       "    <tr>\n",
       "      <th>...</th>\n",
       "      <td>...</td>\n",
       "      <td>...</td>\n",
       "      <td>...</td>\n",
       "      <td>...</td>\n",
       "      <td>...</td>\n",
       "      <td>...</td>\n",
       "      <td>...</td>\n",
       "    </tr>\n",
       "    <tr>\n",
       "      <th>70</th>\n",
       "      <td>62</td>\n",
       "      <td>2023-02-01_KFHP_SC-COMMERCIAL_in-network-rates.zip</td>\n",
       "      <td>T_2023_02_01_KFHP_SC_COMMERCIAL_in_network_rates_930001_945000</td>\n",
       "      <td>930001</td>\n",
       "      <td>945000</td>\n",
       "      <td>14999</td>\n",
       "      <td>2023-02-27 09:45:33.494</td>\n",
       "    </tr>\n",
       "    <tr>\n",
       "      <th>71</th>\n",
       "      <td>50</td>\n",
       "      <td>2023-02-01_KFHP_SC-COMMERCIAL_in-network-rates.zip</td>\n",
       "      <td>T_2023_02_01_KFHP_SC_COMMERCIAL_in_network_rates_750001_765000</td>\n",
       "      <td>750001</td>\n",
       "      <td>765000</td>\n",
       "      <td>14999</td>\n",
       "      <td>2023-02-27 09:45:33.494</td>\n",
       "    </tr>\n",
       "    <tr>\n",
       "      <th>72</th>\n",
       "      <td>47</td>\n",
       "      <td>2023-02-01_KFHP_SC-COMMERCIAL_in-network-rates.zip</td>\n",
       "      <td>T_2023_02_01_KFHP_SC_COMMERCIAL_in_network_rates_705001_720000</td>\n",
       "      <td>705001</td>\n",
       "      <td>720000</td>\n",
       "      <td>14999</td>\n",
       "      <td>2023-02-27 09:45:33.494</td>\n",
       "    </tr>\n",
       "    <tr>\n",
       "      <th>73</th>\n",
       "      <td>58</td>\n",
       "      <td>2023-02-01_KFHP_SC-COMMERCIAL_in-network-rates.zip</td>\n",
       "      <td>T_2023_02_01_KFHP_SC_COMMERCIAL_in_network_rates_870001_885000</td>\n",
       "      <td>870001</td>\n",
       "      <td>885000</td>\n",
       "      <td>14999</td>\n",
       "      <td>2023-02-27 09:45:33.494</td>\n",
       "    </tr>\n",
       "    <tr>\n",
       "      <th>74</th>\n",
       "      <td>56</td>\n",
       "      <td>2023-02-01_KFHP_SC-COMMERCIAL_in-network-rates.zip</td>\n",
       "      <td>T_2023_02_01_KFHP_SC_COMMERCIAL_in_network_rates_840001_855000</td>\n",
       "      <td>840001</td>\n",
       "      <td>855000</td>\n",
       "      <td>14999</td>\n",
       "      <td>2023-02-27 09:45:33.494</td>\n",
       "    </tr>\n",
       "  </tbody>\n",
       "</table>\n",
       "<p>75 rows × 7 columns</p>\n",
       "</div>"
      ],
      "text/plain": [
       "   BUCKET                                           DATA_FILE  \\\n",
       "0      41  2023-02-01_KFHP_SC-COMMERCIAL_in-network-rates.zip   \n",
       "1       8  2023-02-01_KFHP_SC-COMMERCIAL_in-network-rates.zip   \n",
       "2      48  2023-02-01_KFHP_SC-COMMERCIAL_in-network-rates.zip   \n",
       "3      74  2023-02-01_KFHP_SC-COMMERCIAL_in-network-rates.zip   \n",
       "4      55  2023-02-01_KFHP_SC-COMMERCIAL_in-network-rates.zip   \n",
       "..    ...                                                 ...   \n",
       "70     62  2023-02-01_KFHP_SC-COMMERCIAL_in-network-rates.zip   \n",
       "71     50  2023-02-01_KFHP_SC-COMMERCIAL_in-network-rates.zip   \n",
       "72     47  2023-02-01_KFHP_SC-COMMERCIAL_in-network-rates.zip   \n",
       "73     58  2023-02-01_KFHP_SC-COMMERCIAL_in-network-rates.zip   \n",
       "74     56  2023-02-01_KFHP_SC-COMMERCIAL_in-network-rates.zip   \n",
       "\n",
       "                                                    ASSIGNED_TASK_NAME  \\\n",
       "0       T_2023_02_01_KFHP_SC_COMMERCIAL_in_network_rates_615001_630000   \n",
       "1       T_2023_02_01_KFHP_SC_COMMERCIAL_in_network_rates_120001_135000   \n",
       "2       T_2023_02_01_KFHP_SC_COMMERCIAL_in_network_rates_720001_735000   \n",
       "3   T_2023_02_01_KFHP_SC_COMMERCIAL_in_network_rates_1110001_999999999   \n",
       "4       T_2023_02_01_KFHP_SC_COMMERCIAL_in_network_rates_825001_840000   \n",
       "..                                                                 ...   \n",
       "70      T_2023_02_01_KFHP_SC_COMMERCIAL_in_network_rates_930001_945000   \n",
       "71      T_2023_02_01_KFHP_SC_COMMERCIAL_in_network_rates_750001_765000   \n",
       "72      T_2023_02_01_KFHP_SC_COMMERCIAL_in_network_rates_705001_720000   \n",
       "73      T_2023_02_01_KFHP_SC_COMMERCIAL_in_network_rates_870001_885000   \n",
       "74      T_2023_02_01_KFHP_SC_COMMERCIAL_in_network_rates_840001_855000   \n",
       "\n",
       "    FROM_IDX     TO_IDX  SEGMENTS_RECORD_COUNT             INSERTED_AT  \n",
       "0     615001     630000                  14999 2023-02-27 09:45:33.494  \n",
       "1     120001     135000                  14999 2023-02-27 09:45:33.494  \n",
       "2     720001     735000                  14999 2023-02-27 09:45:33.494  \n",
       "3    1110001  999999999              998889998 2023-02-27 09:45:33.494  \n",
       "4     825001     840000                  14999 2023-02-27 09:45:33.494  \n",
       "..       ...        ...                    ...                     ...  \n",
       "70    930001     945000                  14999 2023-02-27 09:45:33.494  \n",
       "71    750001     765000                  14999 2023-02-27 09:45:33.494  \n",
       "72    705001     720000                  14999 2023-02-27 09:45:33.494  \n",
       "73    870001     885000                  14999 2023-02-27 09:45:33.494  \n",
       "74    840001     855000                  14999 2023-02-27 09:45:33.494  \n",
       "\n",
       "[75 rows x 7 columns]"
      ]
     },
     "metadata": {},
     "output_type": "display_data"
    }
   ],
   "source": [
    "\n",
    "print('Tasks to segments')\n",
    "file_ingestion_df = sp_session.table('TASK_TO_SEGMENTIDS').filter(F.col('DATA_FILE') == F.lit(DATA_FILE)).to_pandas()\n",
    "display(file_ingestion_df)"
   ]
  },
  {
   "cell_type": "code",
   "execution_count": 27,
   "id": "cf8d3957",
   "metadata": {},
   "outputs": [
    {
     "name": "stdout",
     "output_type": "stream",
     "text": [
      "Tasks ,warehouses and state\n"
     ]
    },
    {
     "data": {
      "text/html": [
       "<div>\n",
       "<style scoped>\n",
       "    .dataframe tbody tr th:only-of-type {\n",
       "        vertical-align: middle;\n",
       "    }\n",
       "\n",
       "    .dataframe tbody tr th {\n",
       "        vertical-align: top;\n",
       "    }\n",
       "\n",
       "    .dataframe thead th {\n",
       "        text-align: right;\n",
       "    }\n",
       "</style>\n",
       "<table border=\"1\" class=\"dataframe\">\n",
       "  <thead>\n",
       "    <tr style=\"text-align: right;\">\n",
       "      <th></th>\n",
       "      <th>TASK_NAME</th>\n",
       "      <th>WAREHOUSE</th>\n",
       "      <th>STATE</th>\n",
       "    </tr>\n",
       "  </thead>\n",
       "  <tbody>\n",
       "    <tr>\n",
       "      <th>0</th>\n",
       "      <td>T_2023_02_01_KFHP_SC_COMMERCIAL_IN_NETWORK_RATES_1005001_1020000</td>\n",
       "      <td>INDSOL_PRICE_TRANS_TASK_0_WH</td>\n",
       "      <td>started</td>\n",
       "    </tr>\n",
       "    <tr>\n",
       "      <th>1</th>\n",
       "      <td>T_2023_02_01_KFHP_SC_COMMERCIAL_IN_NETWORK_RATES_75001_90000</td>\n",
       "      <td>INDSOL_PRICE_TRANS_TASK_2_WH</td>\n",
       "      <td>started</td>\n",
       "    </tr>\n",
       "    <tr>\n",
       "      <th>2</th>\n",
       "      <td>T_2023_02_01_KFHP_SC_COMMERCIAL_IN_NETWORK_RATES_825001_840000</td>\n",
       "      <td>INDSOL_PRICE_TRANS_TASK_1_WH</td>\n",
       "      <td>started</td>\n",
       "    </tr>\n",
       "    <tr>\n",
       "      <th>3</th>\n",
       "      <td>T_2023_02_01_KFHP_SC_COMMERCIAL_IN_NETWORK_RATES_855001_870000</td>\n",
       "      <td>INDSOL_PRICE_TRANS_TASK_9_WH</td>\n",
       "      <td>started</td>\n",
       "    </tr>\n",
       "    <tr>\n",
       "      <th>4</th>\n",
       "      <td>T_2023_02_01_KFHP_SC_COMMERCIAL_IN_NETWORK_RATES_870001_885000</td>\n",
       "      <td>INDSOL_PRICE_TRANS_TASK_2_WH</td>\n",
       "      <td>started</td>\n",
       "    </tr>\n",
       "    <tr>\n",
       "      <th>...</th>\n",
       "      <td>...</td>\n",
       "      <td>...</td>\n",
       "      <td>...</td>\n",
       "    </tr>\n",
       "    <tr>\n",
       "      <th>75</th>\n",
       "      <td>T_2023_02_01_KFHP_SC_COMMERCIAL_IN_NETWORK_RATES_585001_600000</td>\n",
       "      <td>INDSOL_PRICE_TRANS_TASK_2_WH</td>\n",
       "      <td>started</td>\n",
       "    </tr>\n",
       "    <tr>\n",
       "      <th>76</th>\n",
       "      <td>T_2023_02_01_KFHP_SC_COMMERCIAL_IN_NETWORK_RATES_615001_630000</td>\n",
       "      <td>INDSOL_PRICE_TRANS_TASK_2_WH</td>\n",
       "      <td>started</td>\n",
       "    </tr>\n",
       "    <tr>\n",
       "      <th>77</th>\n",
       "      <td>T_2023_02_01_KFHP_SC_COMMERCIAL_IN_NETWORK_RATES_720001_735000</td>\n",
       "      <td>INDSOL_PRICE_TRANS_TASK_0_WH</td>\n",
       "      <td>started</td>\n",
       "    </tr>\n",
       "    <tr>\n",
       "      <th>78</th>\n",
       "      <td>T_2023_02_01_KFHP_SC_COMMERCIAL_IN_NETWORK_RATES_765001_780000</td>\n",
       "      <td>INDSOL_PRICE_TRANS_TASK_4_WH</td>\n",
       "      <td>started</td>\n",
       "    </tr>\n",
       "    <tr>\n",
       "      <th>79</th>\n",
       "      <td>DAG_ROOT_2023_02_01_KFHP_SC_COMMERCIAL_IN_NETWORK_RATES</td>\n",
       "      <td>INDSOL_PRICE_TRANS_TASK_0_WH</td>\n",
       "      <td>suspended</td>\n",
       "    </tr>\n",
       "  </tbody>\n",
       "</table>\n",
       "<p>80 rows × 3 columns</p>\n",
       "</div>"
      ],
      "text/plain": [
       "                                                           TASK_NAME  \\\n",
       "0   T_2023_02_01_KFHP_SC_COMMERCIAL_IN_NETWORK_RATES_1005001_1020000   \n",
       "1       T_2023_02_01_KFHP_SC_COMMERCIAL_IN_NETWORK_RATES_75001_90000   \n",
       "2     T_2023_02_01_KFHP_SC_COMMERCIAL_IN_NETWORK_RATES_825001_840000   \n",
       "3     T_2023_02_01_KFHP_SC_COMMERCIAL_IN_NETWORK_RATES_855001_870000   \n",
       "4     T_2023_02_01_KFHP_SC_COMMERCIAL_IN_NETWORK_RATES_870001_885000   \n",
       "..                                                               ...   \n",
       "75    T_2023_02_01_KFHP_SC_COMMERCIAL_IN_NETWORK_RATES_585001_600000   \n",
       "76    T_2023_02_01_KFHP_SC_COMMERCIAL_IN_NETWORK_RATES_615001_630000   \n",
       "77    T_2023_02_01_KFHP_SC_COMMERCIAL_IN_NETWORK_RATES_720001_735000   \n",
       "78    T_2023_02_01_KFHP_SC_COMMERCIAL_IN_NETWORK_RATES_765001_780000   \n",
       "79           DAG_ROOT_2023_02_01_KFHP_SC_COMMERCIAL_IN_NETWORK_RATES   \n",
       "\n",
       "                       WAREHOUSE      STATE  \n",
       "0   INDSOL_PRICE_TRANS_TASK_0_WH    started  \n",
       "1   INDSOL_PRICE_TRANS_TASK_2_WH    started  \n",
       "2   INDSOL_PRICE_TRANS_TASK_1_WH    started  \n",
       "3   INDSOL_PRICE_TRANS_TASK_9_WH    started  \n",
       "4   INDSOL_PRICE_TRANS_TASK_2_WH    started  \n",
       "..                           ...        ...  \n",
       "75  INDSOL_PRICE_TRANS_TASK_2_WH    started  \n",
       "76  INDSOL_PRICE_TRANS_TASK_2_WH    started  \n",
       "77  INDSOL_PRICE_TRANS_TASK_0_WH    started  \n",
       "78  INDSOL_PRICE_TRANS_TASK_4_WH    started  \n",
       "79  INDSOL_PRICE_TRANS_TASK_0_WH  suspended  \n",
       "\n",
       "[80 rows x 3 columns]"
      ]
     },
     "metadata": {},
     "output_type": "display_data"
    }
   ],
   "source": [
    "\n",
    "print('Tasks ,warehouses and state')\n",
    "sp_session.sql(f''' SHOW TASKS IN  DATABASE {config['APP_DB']['database']}; ''').collect()\n",
    "stmt = f'''\n",
    "    select \"name\" as task_name\n",
    "        ,\"warehouse\" as warehouse\n",
    "        ,\"state\" as state\n",
    "    from table(result_scan(last_query_id()))\n",
    "    where \"name\" like '%{DATA_FILE_BASENAME_CLEANSED.upper()}%'\n",
    "       -- and state != 'suspended'\n",
    "    order by state;\n",
    "'''\n",
    "df = sp_session.sql(stmt).to_pandas()\n",
    "display(df)"
   ]
  },
  {
   "cell_type": "markdown",
   "id": "1d6ffbf6",
   "metadata": {},
   "source": [
    "--- \n",
    "### Closeout\n",
    "\n",
    "    With that we are finished this section of the demo setup"
   ]
  },
  {
   "cell_type": "code",
   "execution_count": 28,
   "id": "192cf880",
   "metadata": {},
   "outputs": [
    {
     "name": "stdout",
     "output_type": "stream",
     "text": [
      "Finished!!!\n"
     ]
    }
   ],
   "source": [
    "sp_session.close()\n",
    "print('Finished!!!')"
   ]
  }
 ],
 "metadata": {
  "kernelspec": {
   "display_name": "pysnowpark",
   "language": "python",
   "name": "python3"
  },
  "language_info": {
   "codemirror_mode": {
    "name": "ipython",
    "version": 3
   },
   "file_extension": ".py",
   "mimetype": "text/x-python",
   "name": "python",
   "nbconvert_exporter": "python",
   "pygments_lexer": "ipython3",
   "version": "3.8.15"
  },
  "vscode": {
   "interpreter": {
    "hash": "f66ab0cca93a35542579a5cebff8d4c56cda5b2ee20dfe6b405f4dd558333bf9"
   }
  }
 },
 "nbformat": 4,
 "nbformat_minor": 5
}
