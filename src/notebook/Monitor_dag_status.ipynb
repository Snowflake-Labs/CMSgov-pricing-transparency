{
 "cells": [
  {
   "attachments": {},
   "cell_type": "markdown",
   "id": "e4022bce",
   "metadata": {},
   "source": [
    "# DAG monitoring\n",
    "\n",
    "This notebook is used for monitoring a specific DAG file processing."
   ]
  },
  {
   "cell_type": "code",
   "execution_count": 1,
   "id": "f8f142c9",
   "metadata": {},
   "outputs": [
    {
     "data": {
      "text/markdown": [
       "### Initialization"
      ],
      "text/plain": [
       "<IPython.core.display.Markdown object>"
      ]
     },
     "metadata": {},
     "output_type": "display_data"
    },
    {
     "data": {
      "text/html": [
       "<div>\n",
       "<style scoped>\n",
       "    .dataframe tbody tr th:only-of-type {\n",
       "        vertical-align: middle;\n",
       "    }\n",
       "\n",
       "    .dataframe tbody tr th {\n",
       "        vertical-align: top;\n",
       "    }\n",
       "\n",
       "    .dataframe thead th {\n",
       "        text-align: right;\n",
       "    }\n",
       "</style>\n",
       "<table border=\"1\" class=\"dataframe\">\n",
       "  <thead>\n",
       "    <tr style=\"text-align: right;\">\n",
       "      <th></th>\n",
       "      <th>CURRENT_USER()</th>\n",
       "      <th>CURRENT_ROLE()</th>\n",
       "      <th>CURRENT_DATABASE()</th>\n",
       "      <th>CURRENT_SCHEMA()</th>\n",
       "    </tr>\n",
       "  </thead>\n",
       "  <tbody>\n",
       "    <tr>\n",
       "      <th>0</th>\n",
       "      <td>SOLNDEMOUSR</td>\n",
       "      <td>PUBLIC</td>\n",
       "      <td>INDSOL_CMSGOV_PRICING</td>\n",
       "      <td>PUBLIC</td>\n",
       "    </tr>\n",
       "  </tbody>\n",
       "</table>\n",
       "</div>"
      ],
      "text/plain": [
       "  CURRENT_USER() CURRENT_ROLE()     CURRENT_DATABASE() CURRENT_SCHEMA()\n",
       "0    SOLNDEMOUSR         PUBLIC  INDSOL_CMSGOV_PRICING           PUBLIC"
      ]
     },
     "metadata": {},
     "output_type": "display_data"
    }
   ],
   "source": [
    "# Initialization block\n",
    "from IPython.display import display, HTML, Image , Markdown\n",
    "from snowflake.snowpark.session import Session\n",
    "import snowflake.snowpark.types as T\n",
    "import snowflake.snowpark.functions as F\n",
    "import os ,configparser ,json ,logging\n",
    "\n",
    "# Import the commonly defined utility scripts using\n",
    "# dynamic path include\n",
    "import sys\n",
    "sys.path.append('../python/lutils')\n",
    "import sflk_base as L\n",
    "\n",
    "display(Markdown(\"### Initialization\"))\n",
    "logging.basicConfig(stream=sys.stdout, level=logging.ERROR)\n",
    "\n",
    "# Source various helper functions\n",
    "%run ./scripts/notebook_helpers.py\n",
    "\n",
    "# Define the project home directory, this is used for locating the config.ini file\n",
    "PROJECT_HOME_DIR = '../../'\n",
    "config = L.get_config(PROJECT_HOME_DIR)\n",
    "sp_session = L.connect_to_snowflake(PROJECT_HOME_DIR)\n",
    "\n",
    "if(sp_session == None):\n",
    "    raise Exception(f'Unable to connect to snowflake. Validate connection information ')\n",
    "\n",
    "sp_session.use_role(f'''{config['APP_DB']['role']}''')\n",
    "sp_session.use_schema(f'''{config['APP_DB']['database']}.{config['APP_DB']['schema']}''')\n",
    "sp_session.use_warehouse(f'''{config['SNOW_CONN']['warehouse']}''')\n",
    "\n",
    "df = sp_session.sql('select current_user() ,current_role() ,current_database() ,current_schema();').to_pandas()\n",
    "display(df)"
   ]
  },
  {
   "cell_type": "code",
   "execution_count": 2,
   "id": "90cd9156",
   "metadata": {},
   "outputs": [
    {
     "name": "stdout",
     "output_type": "stream",
     "text": [
      "Input DataFile: @data_stg/data/2022_10_01_priority_health_HMO_in-network-rates.zip\n",
      "Target: @ext_data_stg/raw_parsed\n"
     ]
    }
   ],
   "source": [
    "# variable/parameter initialization\n",
    "\n",
    "import pandas as pd\n",
    "import os\n",
    "from datetime import datetime\n",
    "from datetime import timedelta\n",
    "import time ,math\n",
    "import re\n",
    "\n",
    "pd.set_option('display.max_colwidth', None)\n",
    "\n",
    "def get_basename_of_datafile(p_datafile:str) -> str:\n",
    "    base = os.path.basename(p_datafile)\n",
    "    fl_base = os.path.splitext(base)\n",
    "    return fl_base[0]\n",
    "\n",
    "def get_cleansed_file_basename(p_datafile):\n",
    "    fl_basename = get_basename_of_datafile(p_datafile)\n",
    "    # Replace all non alphanumeric characters with _\n",
    "    fl_name = re.sub('[^0-9a-zA-Z]+', '_', fl_basename)\n",
    "    return fl_name\n",
    "\n",
    "# INPUT_DATA_STAGE = config['APP_DB']['ext_stage']\n",
    "INPUT_DATA_STAGE = 'data_stg'\n",
    "DATA_STAGE_FOLDER = config['APP_DB']['folder_data']\n",
    "\n",
    "DATA_FILE = '2022_10_01_priority_health_HMO_in-network-rates.zip'\n",
    "# DATA_FILE = 'reduced_sample_data.json'\n",
    "# DATA_FILE = '2022-12-01_cigna-health-life-insurance-company_national-ppo_in-network-rates.json.gz'\n",
    "\n",
    "DATA_FILE_BASENAME = get_basename_of_datafile(DATA_FILE)\n",
    "DATA_FILE_BASENAME_CLEANSED = get_cleansed_file_basename(DATA_FILE)\n",
    "\n",
    "TARGET_DATA_STAGE = config['APP_DB']['ext_stage']\n",
    "TARGET_FOLDER = config['APP_DB']['folder_parsed']\n",
    "\n",
    "\n",
    "print(f'Input DataFile: @{INPUT_DATA_STAGE}/{DATA_STAGE_FOLDER}/{DATA_FILE}')\n",
    "print(f'Target: @{TARGET_DATA_STAGE}/{TARGET_FOLDER}')"
   ]
  },
  {
   "attachments": {},
   "cell_type": "markdown",
   "id": "aa766356",
   "metadata": {},
   "source": [
    "---\n",
    "## Inspection"
   ]
  },
  {
   "cell_type": "code",
   "execution_count": 11,
   "id": "9c44037a",
   "metadata": {},
   "outputs": [
    {
     "name": "stdout",
     "output_type": "stream",
     "text": [
      "List of tasks running currently ...\n"
     ]
    },
    {
     "data": {
      "text/html": [
       "<div>\n",
       "<style scoped>\n",
       "    .dataframe tbody tr th:only-of-type {\n",
       "        vertical-align: middle;\n",
       "    }\n",
       "\n",
       "    .dataframe tbody tr th {\n",
       "        vertical-align: top;\n",
       "    }\n",
       "\n",
       "    .dataframe thead th {\n",
       "        text-align: right;\n",
       "    }\n",
       "</style>\n",
       "<table border=\"1\" class=\"dataframe\">\n",
       "  <thead>\n",
       "    <tr style=\"text-align: right;\">\n",
       "      <th></th>\n",
       "      <th>START_TIME</th>\n",
       "      <th>BUCKET</th>\n",
       "      <th>FROM_IDX</th>\n",
       "      <th>TO_IDX</th>\n",
       "      <th>SEGMENTS_RECORD_COUNT</th>\n",
       "      <th>ELAPSED_MINUTES</th>\n",
       "    </tr>\n",
       "  </thead>\n",
       "  <tbody>\n",
       "    <tr>\n",
       "      <th>0</th>\n",
       "      <td>2023-01-10 08:48:34.820</td>\n",
       "      <td>3</td>\n",
       "      <td>3001</td>\n",
       "      <td>4000</td>\n",
       "      <td>999</td>\n",
       "      <td>12</td>\n",
       "    </tr>\n",
       "    <tr>\n",
       "      <th>1</th>\n",
       "      <td>2023-01-10 08:48:34.724</td>\n",
       "      <td>4</td>\n",
       "      <td>4001</td>\n",
       "      <td>5000</td>\n",
       "      <td>999</td>\n",
       "      <td>12</td>\n",
       "    </tr>\n",
       "    <tr>\n",
       "      <th>2</th>\n",
       "      <td>2023-01-10 08:54:59.174</td>\n",
       "      <td>5</td>\n",
       "      <td>5001</td>\n",
       "      <td>6000</td>\n",
       "      <td>999</td>\n",
       "      <td>6</td>\n",
       "    </tr>\n",
       "    <tr>\n",
       "      <th>3</th>\n",
       "      <td>2023-01-10 08:56:55.396</td>\n",
       "      <td>6</td>\n",
       "      <td>6001</td>\n",
       "      <td>7000</td>\n",
       "      <td>999</td>\n",
       "      <td>4</td>\n",
       "    </tr>\n",
       "    <tr>\n",
       "      <th>4</th>\n",
       "      <td>2023-01-10 08:59:22.865</td>\n",
       "      <td>7</td>\n",
       "      <td>7001</td>\n",
       "      <td>8000</td>\n",
       "      <td>999</td>\n",
       "      <td>1</td>\n",
       "    </tr>\n",
       "  </tbody>\n",
       "</table>\n",
       "</div>"
      ],
      "text/plain": [
       "               START_TIME BUCKET  FROM_IDX  TO_IDX  SEGMENTS_RECORD_COUNT  \\\n",
       "0 2023-01-10 08:48:34.820      3      3001    4000                    999   \n",
       "1 2023-01-10 08:48:34.724      4      4001    5000                    999   \n",
       "2 2023-01-10 08:54:59.174      5      5001    6000                    999   \n",
       "3 2023-01-10 08:56:55.396      6      6001    7000                    999   \n",
       "4 2023-01-10 08:59:22.865      7      7001    8000                    999   \n",
       "\n",
       "   ELAPSED_MINUTES  \n",
       "0               12  \n",
       "1               12  \n",
       "2                6  \n",
       "3                4  \n",
       "4                1  "
      ]
     },
     "metadata": {},
     "output_type": "display_data"
    }
   ],
   "source": [
    "\n",
    "print('List of tasks running currently ...')\n",
    "df_running = sp_session.table('current_segment_parsing_tasks_v').to_pandas()\n",
    "\n",
    "sql_stmt = f'''\n",
    "select \n",
    "    * exclude(task_name ,assigned_task_name)\n",
    "    ,timestampdiff('minute' ,start_time ,current_timestamp()) as elapsed_minutes\n",
    "from current_segment_parsing_tasks_v\n",
    "order by bucket\n",
    "'''\n",
    "df_running = sp_session.sql(sql_stmt).to_pandas()\n",
    "display(df_running)\n"
   ]
  },
  {
   "cell_type": "code",
   "execution_count": 4,
   "id": "b98bdfa1",
   "metadata": {},
   "outputs": [
    {
     "name": "stdout",
     "output_type": "stream",
     "text": [
      "Tasks ,warehouses and state\n"
     ]
    },
    {
     "data": {
      "text/html": [
       "<div>\n",
       "<style scoped>\n",
       "    .dataframe tbody tr th:only-of-type {\n",
       "        vertical-align: middle;\n",
       "    }\n",
       "\n",
       "    .dataframe tbody tr th {\n",
       "        vertical-align: top;\n",
       "    }\n",
       "\n",
       "    .dataframe thead th {\n",
       "        text-align: right;\n",
       "    }\n",
       "</style>\n",
       "<table border=\"1\" class=\"dataframe\">\n",
       "  <thead>\n",
       "    <tr style=\"text-align: right;\">\n",
       "      <th></th>\n",
       "      <th>TASK_NAME</th>\n",
       "      <th>WAREHOUSE</th>\n",
       "      <th>STATE</th>\n",
       "    </tr>\n",
       "  </thead>\n",
       "  <tbody>\n",
       "    <tr>\n",
       "      <th>0</th>\n",
       "      <td>T_2022_10_01_PRIORITY_HEALTH_HMO_IN_NETWORK_RATES_17001_18000</td>\n",
       "      <td>DEMO_BUILD_WH</td>\n",
       "      <td>started</td>\n",
       "    </tr>\n",
       "    <tr>\n",
       "      <th>1</th>\n",
       "      <td>T_2022_10_01_PRIORITY_HEALTH_HMO_IN_NETWORK_RATES_0_1000</td>\n",
       "      <td>DEMO_BUILD_WH</td>\n",
       "      <td>started</td>\n",
       "    </tr>\n",
       "    <tr>\n",
       "      <th>2</th>\n",
       "      <td>T_2022_10_01_PRIORITY_HEALTH_HMO_IN_NETWORK_RATES_10001_11000</td>\n",
       "      <td>DEMO_BUILD_WH</td>\n",
       "      <td>started</td>\n",
       "    </tr>\n",
       "    <tr>\n",
       "      <th>3</th>\n",
       "      <td>T_2022_10_01_PRIORITY_HEALTH_HMO_IN_NETWORK_RATES_1001_2000</td>\n",
       "      <td>DEMO_BUILD_WH</td>\n",
       "      <td>started</td>\n",
       "    </tr>\n",
       "    <tr>\n",
       "      <th>4</th>\n",
       "      <td>T_2022_10_01_PRIORITY_HEALTH_HMO_IN_NETWORK_RATES_11001_12000</td>\n",
       "      <td>DEMO_BUILD_WH</td>\n",
       "      <td>started</td>\n",
       "    </tr>\n",
       "    <tr>\n",
       "      <th>...</th>\n",
       "      <td>...</td>\n",
       "      <td>...</td>\n",
       "      <td>...</td>\n",
       "    </tr>\n",
       "    <tr>\n",
       "      <th>74</th>\n",
       "      <td>T_2022_10_01_PRIORITY_HEALTH_HMO_IN_NETWORK_RATES_8001_9000</td>\n",
       "      <td>DEMO_BUILD_WH</td>\n",
       "      <td>started</td>\n",
       "    </tr>\n",
       "    <tr>\n",
       "      <th>75</th>\n",
       "      <td>T_2022_10_01_PRIORITY_HEALTH_HMO_IN_NETWORK_RATES_9001_10000</td>\n",
       "      <td>DEMO_BUILD_WH</td>\n",
       "      <td>started</td>\n",
       "    </tr>\n",
       "    <tr>\n",
       "      <th>76</th>\n",
       "      <td>T_FH_2022_10_01_PRIORITY_HEALTH_HMO_IN_NETWORK_RATES</td>\n",
       "      <td>DEMO_BUILD_WH</td>\n",
       "      <td>started</td>\n",
       "    </tr>\n",
       "    <tr>\n",
       "      <th>77</th>\n",
       "      <td>T_SEGH_2022_10_01_PRIORITY_HEALTH_HMO_IN_NETWORK_RATES</td>\n",
       "      <td>DEMO_BUILD_WH</td>\n",
       "      <td>started</td>\n",
       "    </tr>\n",
       "    <tr>\n",
       "      <th>78</th>\n",
       "      <td>DAG_ROOT_2022_10_01_PRIORITY_HEALTH_HMO_IN_NETWORK_RATES</td>\n",
       "      <td>DEMO_BUILD_WH</td>\n",
       "      <td>suspended</td>\n",
       "    </tr>\n",
       "  </tbody>\n",
       "</table>\n",
       "<p>79 rows × 3 columns</p>\n",
       "</div>"
      ],
      "text/plain": [
       "                                                        TASK_NAME  \\\n",
       "0   T_2022_10_01_PRIORITY_HEALTH_HMO_IN_NETWORK_RATES_17001_18000   \n",
       "1        T_2022_10_01_PRIORITY_HEALTH_HMO_IN_NETWORK_RATES_0_1000   \n",
       "2   T_2022_10_01_PRIORITY_HEALTH_HMO_IN_NETWORK_RATES_10001_11000   \n",
       "3     T_2022_10_01_PRIORITY_HEALTH_HMO_IN_NETWORK_RATES_1001_2000   \n",
       "4   T_2022_10_01_PRIORITY_HEALTH_HMO_IN_NETWORK_RATES_11001_12000   \n",
       "..                                                            ...   \n",
       "74    T_2022_10_01_PRIORITY_HEALTH_HMO_IN_NETWORK_RATES_8001_9000   \n",
       "75   T_2022_10_01_PRIORITY_HEALTH_HMO_IN_NETWORK_RATES_9001_10000   \n",
       "76           T_FH_2022_10_01_PRIORITY_HEALTH_HMO_IN_NETWORK_RATES   \n",
       "77         T_SEGH_2022_10_01_PRIORITY_HEALTH_HMO_IN_NETWORK_RATES   \n",
       "78       DAG_ROOT_2022_10_01_PRIORITY_HEALTH_HMO_IN_NETWORK_RATES   \n",
       "\n",
       "        WAREHOUSE      STATE  \n",
       "0   DEMO_BUILD_WH    started  \n",
       "1   DEMO_BUILD_WH    started  \n",
       "2   DEMO_BUILD_WH    started  \n",
       "3   DEMO_BUILD_WH    started  \n",
       "4   DEMO_BUILD_WH    started  \n",
       "..            ...        ...  \n",
       "74  DEMO_BUILD_WH    started  \n",
       "75  DEMO_BUILD_WH    started  \n",
       "76  DEMO_BUILD_WH    started  \n",
       "77  DEMO_BUILD_WH    started  \n",
       "78  DEMO_BUILD_WH  suspended  \n",
       "\n",
       "[79 rows x 3 columns]"
      ]
     },
     "metadata": {},
     "output_type": "display_data"
    }
   ],
   "source": [
    "\n",
    "print('Tasks ,warehouses and state')\n",
    "sp_session.sql(f''' SHOW TASKS IN  DATABASE {config['APP_DB']['database']}; ''').collect()\n",
    "stmt = f'''\n",
    "    select \"name\" as task_name\n",
    "        ,\"warehouse\" as warehouse\n",
    "        ,\"state\" as state\n",
    "    from table(result_scan(last_query_id()))\n",
    "    where \"name\" like '%{DATA_FILE_BASENAME_CLEANSED.upper()}%'\n",
    "    order by state;\n",
    "'''\n",
    "\n",
    "# stmt = f'''\n",
    "#     select *\n",
    "#     from table(result_scan(last_query_id()))\n",
    "#     where \"name\" like '%{DATA_FILE_BASENAME_CLEANSED.upper()}%'\n",
    "#     and \"state\" not in ('suspended' ,'started')\n",
    "#     ;\n",
    "# '''\n",
    "\n",
    "# -- and state \n",
    "df = sp_session.sql(stmt).to_pandas()\n",
    "display(df)\n"
   ]
  },
  {
   "cell_type": "code",
   "execution_count": 5,
   "id": "5868a00b",
   "metadata": {},
   "outputs": [
    {
     "name": "stdout",
     "output_type": "stream",
     "text": [
      "Tasks that had executed ...\n",
      "No of tasks completed: 0\n",
      "sample 5 rows\n"
     ]
    },
    {
     "data": {
      "text/html": [
       "<div>\n",
       "<style scoped>\n",
       "    .dataframe tbody tr th:only-of-type {\n",
       "        vertical-align: middle;\n",
       "    }\n",
       "\n",
       "    .dataframe tbody tr th {\n",
       "        vertical-align: top;\n",
       "    }\n",
       "\n",
       "    .dataframe thead th {\n",
       "        text-align: right;\n",
       "    }\n",
       "</style>\n",
       "<table border=\"1\" class=\"dataframe\">\n",
       "  <thead>\n",
       "    <tr style=\"text-align: right;\">\n",
       "      <th></th>\n",
       "      <th>TASK_NAME_SHORTENED</th>\n",
       "      <th>STORED_SEGMENT_COUNT</th>\n",
       "      <th>ELAPSED_MINUTES</th>\n",
       "    </tr>\n",
       "  </thead>\n",
       "  <tbody>\n",
       "  </tbody>\n",
       "</table>\n",
       "</div>"
      ],
      "text/plain": [
       "Empty DataFrame\n",
       "Columns: [TASK_NAME_SHORTENED, STORED_SEGMENT_COUNT, ELAPSED_MINUTES]\n",
       "Index: []"
      ]
     },
     "metadata": {},
     "output_type": "display_data"
    }
   ],
   "source": [
    "\n",
    "print('Tasks that had executed ...')\n",
    "sql_stmt = f'''\n",
    "select \n",
    "    split_part(task_name ,'.' ,3) as task_name_shortened\n",
    "    ,* exclude(data_file ,task_name ,inserted_at ,start_time ,end_time ,task_ret_status)\n",
    "    ,task_ret_status:stored_segment_count::int as stored_segment_count\n",
    "    ,timestampdiff('minute' ,start_time ,end_time) as elapsed_minutes\n",
    "from segment_task_execution_status\n",
    "where \n",
    "    data_file = '{DATA_FILE}'\n",
    "    and task_ret_status is not null\n",
    "'''\n",
    "executed_tasks_df = sp_session.sql(sql_stmt).to_pandas()\n",
    "\n",
    "total_segment_count_stored ,avg_load_time = (0,0)\n",
    "\n",
    "total_rows = len(executed_tasks_df)\n",
    "print(f'No of tasks completed: {total_rows}')\n",
    "\n",
    "if(total_rows > 0):\n",
    "    total_segment_count_stored = executed_tasks_df[['STORED_SEGMENT_COUNT']].sum()[0]\n",
    "    print(f'Total segment counts stored so far: {total_segment_count_stored}')\n",
    "\n",
    "    avg_load_time = executed_tasks_df['ELAPSED_MINUTES'].mean()\n",
    "    avg_load_time = math.ceil(avg_load_time)\n",
    "    print(f'Average load time per task: {avg_load_time} minutes')\n",
    "\n",
    "print('sample 5 rows')\n",
    "display(executed_tasks_df[0:5])\n"
   ]
  },
  {
   "cell_type": "code",
   "execution_count": 6,
   "id": "266e8c8e",
   "metadata": {},
   "outputs": [
    {
     "name": "stdout",
     "output_type": "stream",
     "text": [
      "File ingestion statuses\n"
     ]
    },
    {
     "data": {
      "text/html": [
       "<div>\n",
       "<style scoped>\n",
       "    .dataframe tbody tr th:only-of-type {\n",
       "        vertical-align: middle;\n",
       "    }\n",
       "\n",
       "    .dataframe tbody tr th {\n",
       "        vertical-align: top;\n",
       "    }\n",
       "\n",
       "    .dataframe thead th {\n",
       "        text-align: right;\n",
       "    }\n",
       "</style>\n",
       "<table border=\"1\" class=\"dataframe\">\n",
       "  <thead>\n",
       "    <tr style=\"text-align: right;\">\n",
       "      <th></th>\n",
       "      <th>START_TIME</th>\n",
       "      <th>END_TIME</th>\n",
       "      <th>ELAPSED_MINUTES</th>\n",
       "      <th>ELAPSED_HOURS</th>\n",
       "    </tr>\n",
       "  </thead>\n",
       "  <tbody>\n",
       "    <tr>\n",
       "      <th>0</th>\n",
       "      <td>2023-01-10 08:48:21.230</td>\n",
       "      <td>2023-01-10 08:48:34.887000-08:00</td>\n",
       "      <td>0</td>\n",
       "      <td>0</td>\n",
       "    </tr>\n",
       "  </tbody>\n",
       "</table>\n",
       "</div>"
      ],
      "text/plain": [
       "               START_TIME                         END_TIME  ELAPSED_MINUTES  \\\n",
       "0 2023-01-10 08:48:21.230 2023-01-10 08:48:34.887000-08:00                0   \n",
       "\n",
       "   ELAPSED_HOURS  \n",
       "0              0  "
      ]
     },
     "metadata": {},
     "output_type": "display_data"
    }
   ],
   "source": [
    "\n",
    "print('File ingestion statuses')\n",
    "file_ingestion_df = (sp_session.table('file_ingestion_elapsed_v')\n",
    "    .filter(F.col('DATA_FILE') == F.lit(DATA_FILE))\n",
    "    .select_expr(\n",
    "        \"* exclude(data_file)\"\n",
    "        ,\"timestampdiff('hour' ,start_time ,end_time) as elapsed_hours\"\n",
    "    )\n",
    "    .to_pandas())\n",
    "display(file_ingestion_df)"
   ]
  },
  {
   "cell_type": "code",
   "execution_count": 7,
   "id": "d7d21fc9",
   "metadata": {},
   "outputs": [
    {
     "name": "stdout",
     "output_type": "stream",
     "text": [
      "File header\n",
      "-------------------------------------------------------\n",
      "|\"HEADER\"  |\"INSERTED_AT\"  |\"TOTAL_SEGMENTS_IN_FILE\"  |\n",
      "-------------------------------------------------------\n",
      "|          |               |                          |\n",
      "-------------------------------------------------------\n",
      "\n"
     ]
    }
   ],
   "source": [
    "\n",
    "print('File header')\n",
    "df = (\n",
    "    sp_session.table('in_network_rates_file_header')\n",
    "    .filter(F.col('DATA_FILE') == F.lit(DATA_FILE))\n",
    "    .select_expr(\n",
    "        # \"* exclude(header ,inserted_at ,data_file_basename ,cleansed_data_file_basename ,data_file)\"\n",
    "        \"header ,inserted_at\"\n",
    "        ,\"header:total_segments::int as total_segments_in_file\"\n",
    "        )\n",
    "    # .to_pandas()\n",
    ")\n",
    "# display(df)\n",
    "df.show()"
   ]
  },
  {
   "cell_type": "code",
   "execution_count": 8,
   "id": "982edb06",
   "metadata": {},
   "outputs": [
    {
     "name": "stdout",
     "output_type": "stream",
     "text": [
      "New files loaded in stage:\n",
      "Files count: 0\n"
     ]
    }
   ],
   "source": [
    "\n",
    "print('New files loaded in stage:')\n",
    "df = sp_session.sql('alter stage ext_data_stg refresh;').collect()\n",
    "sp_session.sql('alter external table ext_negotiated_arrangments_staged refresh;').collect()\n",
    "cnt = len(df)\n",
    "print(f'Files count: {cnt}')"
   ]
  },
  {
   "cell_type": "markdown",
   "id": "1d6ffbf6",
   "metadata": {},
   "source": [
    "--- \n",
    "### Closeout\n",
    "\n",
    "    With that we are finished this section of the demo setup"
   ]
  },
  {
   "cell_type": "code",
   "execution_count": 9,
   "id": "192cf880",
   "metadata": {},
   "outputs": [
    {
     "name": "stdout",
     "output_type": "stream",
     "text": [
      "Finished!!!\n"
     ]
    }
   ],
   "source": [
    "# sp_session.close()\n",
    "print('Finished!!!')"
   ]
  },
  {
   "cell_type": "code",
   "execution_count": 10,
   "id": "32aefc27",
   "metadata": {},
   "outputs": [],
   "source": [
    "# sp_session.call('delete_dag_for_datafile',DATA_FILE_BASENAME_CLEANSED ,False);"
   ]
  }
 ],
 "metadata": {
  "kernelspec": {
   "display_name": "pysnowpark",
   "language": "python",
   "name": "python3"
  },
  "language_info": {
   "codemirror_mode": {
    "name": "ipython",
    "version": 3
   },
   "file_extension": ".py",
   "mimetype": "text/x-python",
   "name": "python",
   "nbconvert_exporter": "python",
   "pygments_lexer": "ipython3",
   "version": "3.8.15 (default, Nov 24 2022, 09:04:07) \n[Clang 14.0.6 ]"
  },
  "vscode": {
   "interpreter": {
    "hash": "f66ab0cca93a35542579a5cebff8d4c56cda5b2ee20dfe6b405f4dd558333bf9"
   }
  }
 },
 "nbformat": 4,
 "nbformat_minor": 5
}
